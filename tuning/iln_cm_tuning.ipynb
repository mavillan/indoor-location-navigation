{
 "cells": [
  {
   "cell_type": "code",
   "execution_count": 1,
   "metadata": {
    "colab": {
     "base_uri": "https://localhost:8080/"
    },
    "id": "sqY3C6Rcx7eu",
    "outputId": "bf4eb384-a983-44bc-9dea-a0b2f8ee63ff"
   },
   "outputs": [],
   "source": [
    "#from google.colab import drive\n",
    "#from google.colab import files\n",
    "#drive.mount('/content/drive', force_remount=True)"
   ]
  },
  {
   "cell_type": "code",
   "execution_count": 2,
   "metadata": {
    "id": "mjmPj_B6yBjU"
   },
   "outputs": [],
   "source": [
    "#!pip install --upgrade kaggle > /dev/null 2>&1\n",
    "#!pip install optuna  > /dev/null 2>&1"
   ]
  },
  {
   "cell_type": "code",
   "execution_count": 3,
   "metadata": {
    "id": "UcDh7hZVyJdO"
   },
   "outputs": [],
   "source": [
    "# move kaggle.json into the folder where the API expects to find it\n",
    "#!mkdir -p ~/.kaggle/ && cp /content/drive/MyDrive/kaggle/kaggle.json ~/.kaggle/ && chmod 600 ~/.kaggle/kaggle.json"
   ]
  },
  {
   "cell_type": "markdown",
   "metadata": {
    "id": "DqJ91QRjyL7w"
   },
   "source": [
    "***"
   ]
  },
  {
   "cell_type": "code",
   "execution_count": 4,
   "metadata": {
    "id": "WZ09uR6fyKrK"
   },
   "outputs": [],
   "source": [
    "from glob import glob\n",
    "import numpy as np\n",
    "import pandas as pd\n",
    "import scipy.interpolate\n",
    "import scipy.sparse\n",
    "from tqdm import tqdm\n",
    "from joblib import Parallel,delayed\n",
    "import yaml\n",
    "\n",
    "import optuna\n",
    "#optuna.logging.set_verbosity(optuna.logging.ERROR)"
   ]
  },
  {
   "cell_type": "markdown",
   "metadata": {
    "id": "yhWl_DXKyeCF"
   },
   "source": [
    "***"
   ]
  },
  {
   "cell_type": "code",
   "execution_count": 5,
   "metadata": {
    "id": "ctfYH62uyPyk"
   },
   "outputs": [],
   "source": [
    "def mean_position_error(labels, preds):\n",
    "    x_label = labels.x.values\n",
    "    y_label = labels.y.values\n",
    "    x_pred = preds.x.values\n",
    "    y_pred = preds.y.values\n",
    "    return np.mean(np.sqrt((x_label-x_pred)**2 + (y_label-y_pred)**2))\n",
    "\n",
    "def correct_path(wp_preds, delta_preds, lambda1=0.1, lambda2=0.5, lambda3=2):\n",
    "\n",
    "    T_ref  = wp_preds['timestamp'].values\n",
    "    xy_preds = wp_preds[['x', 'y']].values\n",
    "    delta_preds = delta_preds.loc[:,[\"timestamp\",\"dx\",\"dy\"]].values\n",
    "\n",
    "    if T_ref[-1] > delta_preds[-1, 0]:\n",
    "        delta_preds = [np.array([[0, 0, 0]]), delta_preds, np.array([[T_ref[-1], 0, 0]])]\n",
    "    else:\n",
    "        delta_preds = [np.array([[0, 0, 0]]), delta_preds]\n",
    "    delta_preds = np.concatenate(delta_preds)\n",
    "    \n",
    "    T_rel = delta_preds[:, 0]\n",
    "    delta_xy_preds = np.diff(scipy.interpolate.interp1d(T_rel, np.cumsum(delta_preds[:, 1:3], axis=0), axis=0)(T_ref), axis=0)\n",
    "\n",
    "    N = xy_preds.shape[0]\n",
    "    delta_t = np.diff(T_ref)\n",
    "        \n",
    "    alpha = lambda1 * np.ones(N)\n",
    "    beta  = (1-lambda1) * np.ones(N-1) / (1 + lambda2 * delta_t * 1e-3)**lambda3\n",
    "    \n",
    "    A = scipy.sparse.spdiags(alpha, [0], N, N)\n",
    "    B = scipy.sparse.spdiags( beta, [0], N-1, N-1)\n",
    "    D = scipy.sparse.spdiags(np.stack([-np.ones(N), np.ones(N)]), [0, 1], N-1, N)\n",
    "\n",
    "    Q = A + (D.T @ B @ D)\n",
    "    c = (A @ xy_preds) + (D.T @ (B @ delta_xy_preds))\n",
    "    xy_corr = scipy.sparse.linalg.spsolve(Q, c)\n",
    "\n",
    "    return pd.DataFrame({\n",
    "        'site' : wp_preds['site'],\n",
    "        'path' : wp_preds['path'],\n",
    "        'timestamp' : wp_preds['timestamp'],\n",
    "        'x' : xy_corr[:, 0],\n",
    "        'y' : xy_corr[:, 1],\n",
    "    })"
   ]
  },
  {
   "cell_type": "markdown",
   "metadata": {
    "id": "QJW8fHZczmNg"
   },
   "source": [
    "***"
   ]
  },
  {
   "cell_type": "code",
   "execution_count": 6,
   "metadata": {
    "colab": {
     "base_uri": "https://localhost:8080/"
    },
    "id": "Sr6IBx_Zzqwj",
    "outputId": "05856001-c19a-44db-b2ef-d81b53f781db"
   },
   "outputs": [
    {
     "name": "stdout",
     "output_type": "stream",
     "text": [
      "Downloading iln-imu-preds.zip to /Users/mavillan/Repositories/kg/indoor-location-navigation/tuning\n",
      "100%|███████████████████████████████████████▉| 471M/471M [01:02<00:00, 9.94MB/s]\n",
      "100%|████████████████████████████████████████| 471M/471M [01:02<00:00, 7.95MB/s]\n"
     ]
    }
   ],
   "source": [
    "!kaggle datasets download -d mavillan/iln-imu-preds --force --unzip"
   ]
  },
  {
   "cell_type": "code",
   "execution_count": 7,
   "metadata": {},
   "outputs": [
    {
     "name": "stdout",
     "output_type": "stream",
     "text": [
      "Downloading iln-dnn-dset1.zip to /Users/mavillan/Repositories/kg/indoor-location-navigation/tuning\n",
      "100%|███████████████████████████████████████▉| 152M/152M [00:18<00:00, 11.6MB/s]\n",
      "100%|████████████████████████████████████████| 152M/152M [00:19<00:00, 8.40MB/s]\n"
     ]
    }
   ],
   "source": [
    "!kaggle datasets download -d mavillan/iln-dnn-dset1 --force --unzip"
   ]
  },
  {
   "cell_type": "code",
   "execution_count": 14,
   "metadata": {
    "id": "5g4Yh4Oj0P43"
   },
   "outputs": [],
   "source": [
    "input_path = \"./dnn-ds1-30f-5lt\"\n",
    "\n",
    "delta_preds = pd.read_csv(\"./delta_preds.csv\")\n",
    "\n",
    "predictions = (\n",
    "    pd.read_csv(f\"{input_path}/oof_preds.csv\")\n",
    "    .loc[:,[\"site\",\"path\",\"timestamp\",\"oof_x_agg\",\"oof_y_agg\"]]\n",
    "    .rename({\"oof_x_agg\":\"x\", \"oof_y_agg\":\"y\"}, axis=1)\n",
    "    .drop_duplicates()\n",
    "    .reset_index(drop=True)\n",
    ")\n",
    "\n",
    "labels = (\n",
    "    pd.read_csv(f\"{input_path}/oof_preds.csv\")\n",
    "    .loc[:,[\"site\",\"path\",\"timestamp\",\"x\",\"y\"]]\n",
    "    .drop_duplicates()\n",
    "    .reset_index(drop=True)\n",
    ")"
   ]
  },
  {
   "cell_type": "code",
   "execution_count": 15,
   "metadata": {
    "id": "nvnr-QLX1Oq7"
   },
   "outputs": [],
   "source": [
    "predictions = predictions.sort_values([\"site\",\"path\",\"timestamp\"], ignore_index=True)\n",
    "labels = labels.sort_values([\"site\",\"path\",\"timestamp\"], ignore_index=True)\n",
    "delta_preds = delta_preds.sort_values([\"site\",\"path\",\"timestamp\"], ignore_index=True)"
   ]
  },
  {
   "cell_type": "code",
   "execution_count": 16,
   "metadata": {
    "id": "eqynDZZh1SAB"
   },
   "outputs": [],
   "source": [
    "target_sites = predictions.site.unique().tolist()"
   ]
  },
  {
   "cell_type": "markdown",
   "metadata": {
    "id": "F_8BCUJn1gwh"
   },
   "source": [
    "***\n",
    "## optimization of parameters: by site"
   ]
  },
  {
   "cell_type": "code",
   "execution_count": 22,
   "metadata": {
    "id": "mMBTC-3R1UPb"
   },
   "outputs": [],
   "source": [
    "class MinimizeContainer():\n",
    "    \n",
    "    def __init__(self, preds, deltas, labels):\n",
    "        self.pred_inputs = preds\n",
    "        self.delta_inputs = deltas\n",
    "        self.labels = labels\n",
    "        self.site = labels[\"site\"].unique()[0]\n",
    "        \n",
    "    def objective(self, trial):\n",
    "        lambda1 = trial.suggest_uniform(\"lambda1\", 0, 1)\n",
    "        lambda2 = trial.suggest_uniform(\"lambda2\", 0, 1)\n",
    "        lambda3 = trial.suggest_uniform(\"lambda3\", 0.5, 2)\n",
    "\n",
    "        inputs = zip(self.pred_inputs,self.delta_inputs)\n",
    "        corrected = [correct_path(wp, delta, lambda1, lambda2, lambda3) \n",
    "                     for wp,delta in inputs]\n",
    "        corrected = pd.concat(corrected, ignore_index=True)\n",
    "        return mean_position_error(self.labels, corrected)\n",
    "\n",
    "    def correct(self, lambda1, lambda2, lambda3):\n",
    "        inputs = zip(self.pred_inputs,self.delta_inputs)\n",
    "        corrected = [correct_path(wp, delta, lambda1, lambda2, lambda3) \n",
    "                     for wp,delta in inputs]\n",
    "        corrected = pd.concat(corrected, ignore_index=True)\n",
    "        return corrected      \n",
    "    \n",
    "def minimize(container, n_trials=200):\n",
    "    study = optuna.create_study(direction='minimize')\n",
    "    study.optimize(container.objective, n_trials=n_trials, timeout=14400, n_jobs=2)\n",
    "    return (container.site, study.best_value, study.best_params)"
   ]
  },
  {
   "cell_type": "code",
   "execution_count": 23,
   "metadata": {
    "id": "tV5I9H0F1tzp"
   },
   "outputs": [],
   "source": [
    "all_containers = list()\n",
    "\n",
    "for i,site in enumerate(target_sites):\n",
    "    paths = labels.query(\"site==@site\").path.unique()\n",
    "    pred_inputs = [predictions.query(\"site==@site & path==@path\") for path in paths]\n",
    "    delta_inputs = [delta_preds.query(\"site==@site & path==@path\") for path in paths]\n",
    "    mc = MinimizeContainer(pred_inputs, delta_inputs, labels.query(\"site==@site\"))\n",
    "    all_containers.append(mc)\n",
    "    "
   ]
  },
  {
   "cell_type": "code",
   "execution_count": 24,
   "metadata": {
    "colab": {
     "base_uri": "https://localhost:8080/"
    },
    "id": "HRdIAIw72KAo",
    "outputId": "1b29ce1e-fcdf-45f2-9751-de79278f9dfd"
   },
   "outputs": [
    {
     "name": "stderr",
     "output_type": "stream",
     "text": [
      "100%|██████████| 24/24 [00:00<00:00, 31457.28it/s]\n"
     ]
    },
    {
     "name": "stdout",
     "output_type": "stream",
     "text": [
      "CPU times: user 29.2 s, sys: 2.18 s, total: 31.4 s\n",
      "Wall time: 56min 14s\n"
     ]
    }
   ],
   "source": [
    "%%time\n",
    "with Parallel(n_jobs=-1) as parallel:\n",
    "    delayed_minimize = delayed(minimize)\n",
    "    all_results = parallel(delayed_minimize(mc, n_trials=500) for mc in tqdm(all_containers))"
   ]
  },
  {
   "cell_type": "code",
   "execution_count": 25,
   "metadata": {
    "colab": {
     "base_uri": "https://localhost:8080/"
    },
    "id": "8UmOto6JRMTJ",
    "outputId": "d046abd7-7e99-4fd1-d805-01239eed14b2"
   },
   "outputs": [
    {
     "data": {
      "text/plain": [
       "6.538272938333347"
      ]
     },
     "execution_count": 25,
     "metadata": {
      "tags": []
     },
     "output_type": "execute_result"
    }
   ],
   "source": [
    "# calculate original cv\n",
    "mean_position_error(labels, predictions)"
   ]
  },
  {
   "cell_type": "code",
   "execution_count": 32,
   "metadata": {
    "id": "K_I9FA-0Y2Sc"
   },
   "outputs": [],
   "source": [
    "all_corrected = list()\n",
    "for container,result in zip(all_containers,all_results):\n",
    "    best_params = result[-1]\n",
    "    corrected = container.correct(**best_params)\n",
    "    all_corrected.append(corrected)\n",
    "\n",
    "corrected = pd.concat(all_corrected, ignore_index=True)"
   ]
  },
  {
   "cell_type": "code",
   "execution_count": 34,
   "metadata": {
    "colab": {
     "base_uri": "https://localhost:8080/"
    },
    "id": "qzIDDh2MamMT",
    "outputId": "6e61ef41-3423-4ce6-d70d-a53bfa6db8d7"
   },
   "outputs": [
    {
     "data": {
      "text/plain": [
       "5.745694250291014"
      ]
     },
     "execution_count": 34,
     "metadata": {
      "tags": []
     },
     "output_type": "execute_result"
    }
   ],
   "source": [
    "mean_position_error(labels, corrected)"
   ]
  },
  {
   "cell_type": "code",
   "execution_count": 35,
   "metadata": {
    "id": "c_dIzr3F_0EY"
   },
   "outputs": [],
   "source": [
    "all_results_dict = {site:{\"error\":error,\"params\":params} for site,error,params in all_results}\n",
    "output_path = \"/content/drive/MyDrive/kaggle/indoor-location-navigation/output\"\n",
    "\n",
    "with open(f'{output_path}/cm_params_by_site.yml', 'w') as file:\n",
    "    yaml.dump(all_results_dict, file, default_flow_style=False)\n",
    "    file.close()"
   ]
  },
  {
   "cell_type": "markdown",
   "metadata": {
    "id": "RauEZTRM4AS2"
   },
   "source": [
    "***\n",
    "## optimization of parameters: jointly"
   ]
  },
  {
   "cell_type": "code",
   "execution_count": 17,
   "metadata": {
    "id": "1ZI_iqZ7Toj2"
   },
   "outputs": [],
   "source": [
    "pred_inputs = list()\n",
    "delta_inputs = list()\n",
    "for i,row in labels.loc[:,[\"site\",\"path\"]].drop_duplicates().iterrows():\n",
    "    pred_inputs.append(predictions.query(\"site==@row.site & path==@row.path\"))\n",
    "    delta_inputs.append(delta_preds.query(\"site==@row.site & path==@row.path\"))"
   ]
  },
  {
   "cell_type": "code",
   "execution_count": 29,
   "metadata": {
    "id": "vnl7tKvcVajp"
   },
   "outputs": [],
   "source": [
    "def objective(trial):\n",
    "    lambda1 = trial.suggest_uniform(\"lambda1\", 0, 1)\n",
    "    lambda2 = trial.suggest_uniform(\"lambda2\", 0, 1)\n",
    "    lambda3 = trial.suggest_uniform(\"lambda3\", 0.5, 2)\n",
    "    \n",
    "    inputs = zip(pred_inputs, delta_inputs)\n",
    "    with Parallel(n_jobs=6) as parallel:\n",
    "        delayed_correct = delayed(correct_path)\n",
    "        corrected = parallel(\n",
    "            delayed_correct(wp, delta, lambda1, lambda2, lambda3)\n",
    "            for wp,delta in inputs\n",
    "        )\n",
    "    corrected = pd.concat(corrected, ignore_index=True)\n",
    "    return mean_position_error(labels, corrected)"
   ]
  },
  {
   "cell_type": "code",
   "execution_count": 30,
   "metadata": {
    "id": "OilwxvuWArFQ"
   },
   "outputs": [
    {
     "name": "stderr",
     "output_type": "stream",
     "text": [
      "\u001b[32m[I 2021-04-24 22:47:19,075]\u001b[0m A new study created in memory with name: no-name-ae4a005b-df6d-42d4-a8c3-0014030f0d74\u001b[0m\n",
      "\u001b[32m[I 2021-04-24 22:47:31,047]\u001b[0m Trial 0 finished with value: 6.533790140944781 and parameters: {'lambda1': 0.955320379469696, 'lambda2': 0.7744599384329123, 'lambda3': 1.6172806337162975}. Best is trial 0 with value: 6.533790140944781.\u001b[0m\n",
      "\u001b[32m[I 2021-04-24 22:47:42,852]\u001b[0m Trial 1 finished with value: 5.867921207581177 and parameters: {'lambda1': 0.1027762835176832, 'lambda2': 0.763637437155999, 'lambda3': 0.890558007941622}. Best is trial 1 with value: 5.867921207581177.\u001b[0m\n",
      "\u001b[32m[I 2021-04-24 22:47:55,529]\u001b[0m Trial 2 finished with value: 5.868170314974273 and parameters: {'lambda1': 0.2984411173134581, 'lambda2': 0.0664939468300364, 'lambda3': 0.877665590858783}. Best is trial 1 with value: 5.867921207581177.\u001b[0m\n",
      "\u001b[32m[I 2021-04-24 22:48:07,661]\u001b[0m Trial 3 finished with value: 6.011297365480481 and parameters: {'lambda1': 0.00984333285281902, 'lambda2': 0.17235694775039556, 'lambda3': 1.9225693785952722}. Best is trial 1 with value: 5.867921207581177.\u001b[0m\n",
      "\u001b[32m[I 2021-04-24 22:48:19,611]\u001b[0m Trial 4 finished with value: 5.872191209902789 and parameters: {'lambda1': 0.10137858070249905, 'lambda2': 0.9508590865555928, 'lambda3': 0.8320881046040096}. Best is trial 1 with value: 5.867921207581177.\u001b[0m\n",
      "\u001b[32m[I 2021-04-24 22:48:32,185]\u001b[0m Trial 5 finished with value: 6.509460185169839 and parameters: {'lambda1': 0.5309357788792631, 'lambda2': 0.984509318986947, 'lambda3': 1.9704411505077177}. Best is trial 1 with value: 5.867921207581177.\u001b[0m\n",
      "\u001b[32m[I 2021-04-24 22:48:44,445]\u001b[0m Trial 6 finished with value: 6.471134653052816 and parameters: {'lambda1': 0.9115242307147691, 'lambda2': 0.12970349008561965, 'lambda3': 1.4025865296538056}. Best is trial 1 with value: 5.867921207581177.\u001b[0m\n",
      "\u001b[32m[I 2021-04-24 22:48:57,533]\u001b[0m Trial 7 finished with value: 6.471516424587799 and parameters: {'lambda1': 0.48922701831030513, 'lambda2': 0.6087939405039899, 'lambda3': 1.9796207055914667}. Best is trial 1 with value: 5.867921207581177.\u001b[0m\n",
      "\u001b[32m[I 2021-04-24 22:49:10,034]\u001b[0m Trial 8 finished with value: 5.9115996669500515 and parameters: {'lambda1': 0.030598710275316132, 'lambda2': 0.3415974844305544, 'lambda3': 0.6916060596911489}. Best is trial 1 with value: 5.867921207581177.\u001b[0m\n",
      "\u001b[32m[I 2021-04-24 22:49:22,606]\u001b[0m Trial 9 finished with value: 6.233824431691268 and parameters: {'lambda1': 0.47963247982558044, 'lambda2': 0.4760202391064481, 'lambda3': 0.946056991203736}. Best is trial 1 with value: 5.867921207581177.\u001b[0m\n",
      "\u001b[32m[I 2021-04-24 22:49:34,752]\u001b[0m Trial 10 finished with value: 6.178016315212332 and parameters: {'lambda1': 0.25343346926771715, 'lambda2': 0.7405583438012074, 'lambda3': 1.1387555846962254}. Best is trial 1 with value: 5.867921207581177.\u001b[0m\n",
      "\u001b[32m[I 2021-04-24 22:49:47,064]\u001b[0m Trial 11 finished with value: 5.819645676730391 and parameters: {'lambda1': 0.27422488195944367, 'lambda2': 0.009647330075536309, 'lambda3': 0.6288072089177166}. Best is trial 11 with value: 5.819645676730391.\u001b[0m\n",
      "\u001b[32m[I 2021-04-24 22:49:59,222]\u001b[0m Trial 12 finished with value: 5.926242460053757 and parameters: {'lambda1': 0.24535161479063905, 'lambda2': 0.8184484759239865, 'lambda3': 0.5076478425880809}. Best is trial 11 with value: 5.819645676730391.\u001b[0m\n",
      "\u001b[32m[I 2021-04-24 22:50:12,076]\u001b[0m Trial 13 finished with value: 6.02774580942312 and parameters: {'lambda1': 0.35217554513518673, 'lambda2': 0.5373144997951868, 'lambda3': 0.6097336065440395}. Best is trial 11 with value: 5.819645676730391.\u001b[0m\n",
      "\u001b[32m[I 2021-04-24 22:50:24,321]\u001b[0m Trial 14 finished with value: 5.8527325367647025 and parameters: {'lambda1': 0.12378190495911903, 'lambda2': 0.3214784539487687, 'lambda3': 1.1144611818852053}. Best is trial 11 with value: 5.819645676730391.\u001b[0m\n",
      "\u001b[32m[I 2021-04-24 22:50:36,740]\u001b[0m Trial 15 finished with value: 6.35118752067492 and parameters: {'lambda1': 0.6680592543752477, 'lambda2': 0.27841787275300206, 'lambda3': 1.2027563492632833}. Best is trial 11 with value: 5.819645676730391.\u001b[0m\n",
      "\u001b[32m[I 2021-04-24 22:50:48,882]\u001b[0m Trial 16 finished with value: 5.792784712820713 and parameters: {'lambda1': 0.162839381768666, 'lambda2': 0.015618596589818904, 'lambda3': 1.6554678452203304}. Best is trial 16 with value: 5.792784712820713.\u001b[0m\n",
      "\u001b[32m[I 2021-04-24 22:51:01,548]\u001b[0m Trial 17 finished with value: 5.87449212733023 and parameters: {'lambda1': 0.37984919382558885, 'lambda2': 0.0015606496430338995, 'lambda3': 1.7090881256669361}. Best is trial 16 with value: 5.792784712820713.\u001b[0m\n",
      "\u001b[32m[I 2021-04-24 22:51:13,956]\u001b[0m Trial 18 finished with value: 6.118604412733089 and parameters: {'lambda1': 0.6530530015176451, 'lambda2': 0.01650718237643903, 'lambda3': 1.5168853238450715}. Best is trial 16 with value: 5.792784712820713.\u001b[0m\n",
      "\u001b[32m[I 2021-04-24 22:51:26,234]\u001b[0m Trial 19 finished with value: 6.007048140754739 and parameters: {'lambda1': 0.1933958462199945, 'lambda2': 0.19994211696815944, 'lambda3': 1.7849753036070373}. Best is trial 16 with value: 5.792784712820713.\u001b[0m\n",
      "\u001b[32m[I 2021-04-24 22:51:38,790]\u001b[0m Trial 20 finished with value: 5.798833751131902 and parameters: {'lambda1': 0.1520691740850433, 'lambda2': 0.07048025614476341, 'lambda3': 1.3933439737253854}. Best is trial 16 with value: 5.792784712820713.\u001b[0m\n",
      "\u001b[32m[I 2021-04-24 22:51:51,190]\u001b[0m Trial 21 finished with value: 5.798434864880945 and parameters: {'lambda1': 0.17051018111360144, 'lambda2': 0.0015572009670985851, 'lambda3': 1.3666478368363202}. Best is trial 16 with value: 5.792784712820713.\u001b[0m\n",
      "\u001b[32m[I 2021-04-24 22:52:03,835]\u001b[0m Trial 22 finished with value: 5.814407836153542 and parameters: {'lambda1': 0.16042606326332656, 'lambda2': 0.09082060675941457, 'lambda3': 1.3992717815984277}. Best is trial 16 with value: 5.792784712820713.\u001b[0m\n",
      "\u001b[32m[I 2021-04-24 22:52:16,365]\u001b[0m Trial 23 finished with value: 5.9797776439860755 and parameters: {'lambda1': 0.01515956836749685, 'lambda2': 0.2108985682299844, 'lambda3': 1.3596218849870414}. Best is trial 16 with value: 5.792784712820713.\u001b[0m\n",
      "\u001b[32m[I 2021-04-24 22:52:29,329]\u001b[0m Trial 24 finished with value: 6.8747266646216465 and parameters: {'lambda1': 0.0018091037370756846, 'lambda2': 0.014654522235486522, 'lambda3': 1.5482604611067754}. Best is trial 16 with value: 5.792784712820713.\u001b[0m\n",
      "\u001b[32m[I 2021-04-24 22:52:41,958]\u001b[0m Trial 25 finished with value: 6.326102868527969 and parameters: {'lambda1': 0.36131394448723153, 'lambda2': 0.3951125152502746, 'lambda3': 1.7711595289129782}. Best is trial 16 with value: 5.792784712820713.\u001b[0m\n",
      "\u001b[32m[I 2021-04-24 22:52:54,548]\u001b[0m Trial 26 finished with value: 5.789483020858969 and parameters: {'lambda1': 0.08330470913245473, 'lambda2': 0.10107149949277618, 'lambda3': 1.3468714902296302}. Best is trial 26 with value: 5.789483020858969.\u001b[0m\n",
      "\u001b[32m[I 2021-04-24 22:53:07,015]\u001b[0m Trial 27 finished with value: 5.789084853126704 and parameters: {'lambda1': 0.06808705748674929, 'lambda2': 0.24797856929461706, 'lambda3': 1.283453859404706}. Best is trial 27 with value: 5.789084853126704.\u001b[0m\n",
      "\u001b[32m[I 2021-04-24 22:53:20,242]\u001b[0m Trial 28 finished with value: 5.78537335084638 and parameters: {'lambda1': 0.05883412987387876, 'lambda2': 0.23023317923009468, 'lambda3': 1.2465126002083975}. Best is trial 28 with value: 5.78537335084638.\u001b[0m\n",
      "\u001b[32m[I 2021-04-24 22:53:32,344]\u001b[0m Trial 29 finished with value: 5.785061168827783 and parameters: {'lambda1': 0.06635841809236666, 'lambda2': 0.2661048342642613, 'lambda3': 1.0247020301239516}. Best is trial 29 with value: 5.785061168827783.\u001b[0m\n",
      "\u001b[32m[I 2021-04-24 22:53:44,602]\u001b[0m Trial 30 finished with value: 5.7977505453012705 and parameters: {'lambda1': 0.06882622539809574, 'lambda2': 0.4449275273665456, 'lambda3': 1.0412687421229783}. Best is trial 29 with value: 5.785061168827783.\u001b[0m\n",
      "\u001b[32m[I 2021-04-24 22:53:58,057]\u001b[0m Trial 31 finished with value: 5.785679635622595 and parameters: {'lambda1': 0.060857269554317694, 'lambda2': 0.25623961428692865, 'lambda3': 1.258995453163141}. Best is trial 29 with value: 5.785061168827783.\u001b[0m\n",
      "\u001b[32m[I 2021-04-24 22:54:10,363]\u001b[0m Trial 32 finished with value: 6.274187297260079 and parameters: {'lambda1': 0.005317851827421283, 'lambda2': 0.2768084543393712, 'lambda3': 1.207687033144845}. Best is trial 29 with value: 5.785061168827783.\u001b[0m\n",
      "\u001b[32m[I 2021-04-24 22:54:22,611]\u001b[0m Trial 33 finished with value: 5.7850700642511725 and parameters: {'lambda1': 0.06993993370370444, 'lambda2': 0.24653126888421875, 'lambda3': 1.0329982638829784}. Best is trial 29 with value: 5.785061168827783.\u001b[0m\n",
      "\u001b[32m[I 2021-04-24 22:54:35,336]\u001b[0m Trial 34 finished with value: 6.534889848988949 and parameters: {'lambda1': 0.9938722496153873, 'lambda2': 0.357078474690001, 'lambda3': 1.0020573371200099}. Best is trial 29 with value: 5.785061168827783.\u001b[0m\n",
      "\u001b[32m[I 2021-04-24 22:54:48,244]\u001b[0m Trial 35 finished with value: 5.837693125299426 and parameters: {'lambda1': 0.21116217525352887, 'lambda2': 0.1534262712226243, 'lambda3': 0.8001907714293386}. Best is trial 29 with value: 5.785061168827783.\u001b[0m\n",
      "\u001b[32m[I 2021-04-24 22:55:00,842]\u001b[0m Trial 36 finished with value: 5.784496503720018 and parameters: {'lambda1': 0.050189962213144285, 'lambda2': 0.42165640749872485, 'lambda3': 1.0869403199011642}. Best is trial 36 with value: 5.784496503720018.\u001b[0m\n",
      "\u001b[32m[I 2021-04-24 22:55:13,535]\u001b[0m Trial 37 finished with value: 5.876645151139847 and parameters: {'lambda1': 0.09818054099413782, 'lambda2': 0.5741344500483971, 'lambda3': 1.0727553933757483}. Best is trial 36 with value: 5.784496503720018.\u001b[0m\n",
      "\u001b[32m[I 2021-04-24 22:55:26,105]\u001b[0m Trial 38 finished with value: 6.481904318510697 and parameters: {'lambda1': 0.9012241237001877, 'lambda2': 0.39056250546563687, 'lambda3': 0.9396883193288708}. Best is trial 36 with value: 5.784496503720018.\u001b[0m\n",
      "\u001b[32m[I 2021-04-24 22:55:39,067]\u001b[0m Trial 39 finished with value: 6.243010769872111 and parameters: {'lambda1': 0.007547300783592836, 'lambda2': 0.4220034021438414, 'lambda3': 0.7862739502239691}. Best is trial 36 with value: 5.784496503720018.\u001b[0m\n",
      "\u001b[32m[I 2021-04-24 22:55:51,509]\u001b[0m Trial 40 finished with value: 5.806345115453223 and parameters: {'lambda1': 0.11518553516143198, 'lambda2': 0.3144109252429078, 'lambda3': 0.8780246639969327}. Best is trial 36 with value: 5.784496503720018.\u001b[0m\n",
      "\u001b[32m[I 2021-04-24 22:56:04,628]\u001b[0m Trial 41 finished with value: 5.7947946673625745 and parameters: {'lambda1': 0.04638721538849493, 'lambda2': 0.22761593171002137, 'lambda3': 1.248770872335331}. Best is trial 36 with value: 5.784496503720018.\u001b[0m\n",
      "\u001b[32m[I 2021-04-24 22:56:17,760]\u001b[0m Trial 42 finished with value: 5.799842427842044 and parameters: {'lambda1': 0.056473772996466956, 'lambda2': 0.17687731212534114, 'lambda3': 1.1492266101581086}. Best is trial 36 with value: 5.784496503720018.\u001b[0m\n",
      "\u001b[32m[I 2021-04-24 22:56:30,918]\u001b[0m Trial 43 finished with value: 5.928060551639551 and parameters: {'lambda1': 0.2139339851518023, 'lambda2': 0.29528478324878743, 'lambda3': 0.9951470565027225}. Best is trial 36 with value: 5.784496503720018.\u001b[0m\n",
      "\u001b[32m[I 2021-04-24 22:56:43,997]\u001b[0m Trial 44 finished with value: 5.868035661128255 and parameters: {'lambda1': 0.10519016431219322, 'lambda2': 0.49089448308581074, 'lambda3': 1.0744218805145802}. Best is trial 36 with value: 5.784496503720018.\u001b[0m\n",
      "\u001b[32m[I 2021-04-24 22:56:57,080]\u001b[0m Trial 45 finished with value: 6.148348890790129 and parameters: {'lambda1': 0.3149292276593113, 'lambda2': 0.3671919480830336, 'lambda3': 1.2718603224826575}. Best is trial 36 with value: 5.784496503720018.\u001b[0m\n",
      "\u001b[32m[I 2021-04-24 22:57:10,258]\u001b[0m Trial 46 finished with value: 5.837122433510294 and parameters: {'lambda1': 0.03457411524152603, 'lambda2': 0.6305812257353454, 'lambda3': 1.4855078727869644}. Best is trial 36 with value: 5.784496503720018.\u001b[0m\n",
      "\u001b[32m[I 2021-04-24 22:57:23,067]\u001b[0m Trial 47 finished with value: 5.795986940773016 and parameters: {'lambda1': 0.12074304371255656, 'lambda2': 0.13899167369280657, 'lambda3': 1.177375657960806}. Best is trial 36 with value: 5.784496503720018.\u001b[0m\n",
      "\u001b[32m[I 2021-04-24 22:57:36,149]\u001b[0m Trial 48 finished with value: 6.104492077804733 and parameters: {'lambda1': 0.42549589089770373, 'lambda2': 0.2633236648223202, 'lambda3': 0.9332492670206459}. Best is trial 36 with value: 5.784496503720018.\u001b[0m\n",
      "\u001b[32m[I 2021-04-24 22:57:49,402]\u001b[0m Trial 49 finished with value: 6.068904585413751 and parameters: {'lambda1': 0.24559167679185628, 'lambda2': 0.45223613029581167, 'lambda3': 1.1229172764967426}. Best is trial 36 with value: 5.784496503720018.\u001b[0m\n",
      "\u001b[32m[I 2021-04-24 22:58:02,173]\u001b[0m Trial 50 finished with value: 6.007027111799617 and parameters: {'lambda1': 0.2905546289133413, 'lambda2': 0.1844758853915614, 'lambda3': 1.3005656058331425}. Best is trial 36 with value: 5.784496503720018.\u001b[0m\n",
      "\u001b[32m[I 2021-04-24 22:58:16,321]\u001b[0m Trial 51 finished with value: 5.78594989812807 and parameters: {'lambda1': 0.055869334071084124, 'lambda2': 0.23542879428748215, 'lambda3': 1.2423558256125127}. Best is trial 36 with value: 5.784496503720018.\u001b[0m\n",
      "\u001b[32m[I 2021-04-24 22:58:30,246]\u001b[0m Trial 52 finished with value: 6.6924412153801685 and parameters: {'lambda1': 0.0014231403273915894, 'lambda2': 0.3252667077935863, 'lambda3': 0.9854222989023083}. Best is trial 36 with value: 5.784496503720018.\u001b[0m\n",
      "\u001b[32m[I 2021-04-24 22:58:44,016]\u001b[0m Trial 53 finished with value: 5.892787063016391 and parameters: {'lambda1': 0.13570583086737065, 'lambda2': 0.23683246179150944, 'lambda3': 1.4589510695626093}. Best is trial 36 with value: 5.784496503720018.\u001b[0m\n",
      "\u001b[32m[I 2021-04-24 22:58:58,857]\u001b[0m Trial 54 finished with value: 5.881662564772722 and parameters: {'lambda1': 0.03987792386565836, 'lambda2': 0.11225826635206182, 'lambda3': 1.206521821186617}. Best is trial 36 with value: 5.784496503720018.\u001b[0m\n",
      "\u001b[32m[I 2021-04-24 22:59:12,898]\u001b[0m Trial 55 finished with value: 5.836513026715865 and parameters: {'lambda1': 0.0788105497244438, 'lambda2': 0.5222112564102275, 'lambda3': 1.1037459251276165}. Best is trial 36 with value: 5.784496503720018.\u001b[0m\n",
      "\u001b[32m[I 2021-04-24 22:59:26,542]\u001b[0m Trial 56 finished with value: 5.917589826149336 and parameters: {'lambda1': 0.19642185828423026, 'lambda2': 0.29443984368023884, 'lambda3': 1.0391913765619434}. Best is trial 36 with value: 5.784496503720018.\u001b[0m\n",
      "\u001b[32m[I 2021-04-24 22:59:40,605]\u001b[0m Trial 57 finished with value: 6.318143682984684 and parameters: {'lambda1': 0.6484423686804022, 'lambda2': 0.22215655712782947, 'lambda3': 1.2409826750812047}. Best is trial 36 with value: 5.784496503720018.\u001b[0m\n",
      "\u001b[32m[I 2021-04-24 22:59:53,695]\u001b[0m Trial 58 finished with value: 5.836898691305533 and parameters: {'lambda1': 0.1476263825455719, 'lambda2': 0.15949711861088026, 'lambda3': 1.3118314580223003}. Best is trial 36 with value: 5.784496503720018.\u001b[0m\n",
      "\u001b[32m[I 2021-04-24 23:00:07,690]\u001b[0m Trial 59 finished with value: 6.978112098882483 and parameters: {'lambda1': 0.00035285084578383363, 'lambda2': 0.3440177481250386, 'lambda3': 0.8394579086477764}. Best is trial 36 with value: 5.784496503720018.\u001b[0m\n",
      "\u001b[32m[I 2021-04-24 23:00:21,437]\u001b[0m Trial 60 finished with value: 5.960721813599246 and parameters: {'lambda1': 0.1715745999291024, 'lambda2': 0.39558025321561574, 'lambda3': 1.1576505877871899}. Best is trial 36 with value: 5.784496503720018.\u001b[0m\n",
      "\u001b[32m[I 2021-04-24 23:00:35,328]\u001b[0m Trial 61 finished with value: 5.789576680862168 and parameters: {'lambda1': 0.06804591285476386, 'lambda2': 0.24696336742154973, 'lambda3': 1.2973255924815195}. Best is trial 36 with value: 5.784496503720018.\u001b[0m\n",
      "\u001b[32m[I 2021-04-24 23:00:49,161]\u001b[0m Trial 62 finished with value: 5.79327987963282 and parameters: {'lambda1': 0.044013496216137225, 'lambda2': 0.20381832274632652, 'lambda3': 1.4347958286026792}. Best is trial 36 with value: 5.784496503720018.\u001b[0m\n",
      "\u001b[32m[I 2021-04-24 23:01:02,997]\u001b[0m Trial 63 finished with value: 5.81525084523497 and parameters: {'lambda1': 0.09949119547402141, 'lambda2': 0.25440239225085604, 'lambda3': 1.2226496666295321}. Best is trial 36 with value: 5.784496503720018.\u001b[0m\n",
      "\u001b[32m[I 2021-04-24 23:01:17,316]\u001b[0m Trial 64 finished with value: 5.803773389800999 and parameters: {'lambda1': 0.07101030512259757, 'lambda2': 0.2921329337701411, 'lambda3': 1.328965608522398}. Best is trial 36 with value: 5.784496503720018.\u001b[0m\n",
      "\u001b[32m[I 2021-04-24 23:01:31,157]\u001b[0m Trial 65 finished with value: 5.9749661123304305 and parameters: {'lambda1': 0.027571936857341085, 'lambda2': 0.12844900135258802, 'lambda3': 1.049072998449321}. Best is trial 36 with value: 5.784496503720018.\u001b[0m\n",
      "\u001b[32m[I 2021-04-24 23:01:44,922]\u001b[0m Trial 66 finished with value: 5.814774993180965 and parameters: {'lambda1': 0.13020728703369344, 'lambda2': 0.19363759656399038, 'lambda3': 1.1114596498677227}. Best is trial 36 with value: 5.784496503720018.\u001b[0m\n",
      "\u001b[32m[I 2021-04-24 23:01:59,221]\u001b[0m Trial 67 finished with value: 5.8289241765461846 and parameters: {'lambda1': 0.2241150545800055, 'lambda2': 0.05652364367575016, 'lambda3': 1.2565932069177206}. Best is trial 36 with value: 5.784496503720018.\u001b[0m\n",
      "\u001b[32m[I 2021-04-24 23:02:13,337]\u001b[0m Trial 68 finished with value: 5.950818204182257 and parameters: {'lambda1': 0.18219232406136004, 'lambda2': 0.3266843083609343, 'lambda3': 1.1869467955894695}. Best is trial 36 with value: 5.784496503720018.\u001b[0m\n",
      "\u001b[32m[I 2021-04-24 23:02:27,564]\u001b[0m Trial 69 finished with value: 5.785368139924759 and parameters: {'lambda1': 0.08281641142755539, 'lambda2': 0.2646569073227403, 'lambda3': 0.9223746848622572}. Best is trial 36 with value: 5.784496503720018.\u001b[0m\n",
      "\u001b[32m[I 2021-04-24 23:02:42,172]\u001b[0m Trial 70 finished with value: 6.2689890904441254 and parameters: {'lambda1': 0.5579852917877466, 'lambda2': 0.4281837578440233, 'lambda3': 0.9164940275019946}. Best is trial 36 with value: 5.784496503720018.\u001b[0m\n",
      "\u001b[32m[I 2021-04-24 23:02:56,227]\u001b[0m Trial 71 finished with value: 5.793452891662652 and parameters: {'lambda1': 0.0955154089096321, 'lambda2': 0.27123573997553296, 'lambda3': 0.9823900677692702}. Best is trial 36 with value: 5.784496503720018.\u001b[0m\n",
      "\u001b[32m[I 2021-04-24 23:03:11,018]\u001b[0m Trial 72 finished with value: 5.791868236315891 and parameters: {'lambda1': 0.06640657626927761, 'lambda2': 0.37323245617120887, 'lambda3': 0.7037463930937837}. Best is trial 36 with value: 5.784496503720018.\u001b[0m\n",
      "\u001b[32m[I 2021-04-24 23:03:25,082]\u001b[0m Trial 73 finished with value: 5.8881981028339885 and parameters: {'lambda1': 0.029174328930775817, 'lambda2': 0.2307683619955829, 'lambda3': 1.0232786378288772}. Best is trial 36 with value: 5.784496503720018.\u001b[0m\n",
      "\u001b[32m[I 2021-04-24 23:03:39,462]\u001b[0m Trial 74 finished with value: 5.868553332500543 and parameters: {'lambda1': 0.14501419997102455, 'lambda2': 0.3102244739009521, 'lambda3': 1.0737456349640373}. Best is trial 36 with value: 5.784496503720018.\u001b[0m\n",
      "\u001b[32m[I 2021-04-24 23:03:53,925]\u001b[0m Trial 75 finished with value: 6.446689785790181 and parameters: {'lambda1': 0.8130192513759034, 'lambda2': 0.2542695643298426, 'lambda3': 1.374730952765275}. Best is trial 36 with value: 5.784496503720018.\u001b[0m\n",
      "\u001b[32m[I 2021-04-24 23:04:08,697]\u001b[0m Trial 76 finished with value: 7.062565766503037 and parameters: {'lambda1': 0.0002240644554434637, 'lambda2': 0.18423894599979457, 'lambda3': 0.8462573557492791}. Best is trial 36 with value: 5.784496503720018.\u001b[0m\n",
      "\u001b[32m[I 2021-04-24 23:04:22,498]\u001b[0m Trial 77 finished with value: 5.794367574165112 and parameters: {'lambda1': 0.09058261968436312, 'lambda2': 0.15969727404779527, 'lambda3': 0.7489590111194112}. Best is trial 36 with value: 5.784496503720018.\u001b[0m\n",
      "\u001b[32m[I 2021-04-24 23:04:37,204]\u001b[0m Trial 78 finished with value: 5.789002164849716 and parameters: {'lambda1': 0.11701069198621458, 'lambda2': 0.07033870066112127, 'lambda3': 1.1501531535656695}. Best is trial 36 with value: 5.784496503720018.\u001b[0m\n",
      "\u001b[32m[I 2021-04-24 23:04:51,349]\u001b[0m Trial 79 finished with value: 5.792021906469135 and parameters: {'lambda1': 0.12146048236724022, 'lambda2': 0.049520583387190203, 'lambda3': 1.166044584677677}. Best is trial 36 with value: 5.784496503720018.\u001b[0m\n",
      "\u001b[32m[I 2021-04-24 23:05:05,897]\u001b[0m Trial 80 finished with value: 5.864396707936584 and parameters: {'lambda1': 0.051982759943644555, 'lambda2': 0.10666128931762686, 'lambda3': 0.9595752001964064}. Best is trial 36 with value: 5.784496503720018.\u001b[0m\n",
      "\u001b[32m[I 2021-04-24 23:05:20,405]\u001b[0m Trial 81 finished with value: 5.788353816452515 and parameters: {'lambda1': 0.02586730628326822, 'lambda2': 0.7003744526196725, 'lambda3': 1.280042617170338}. Best is trial 36 with value: 5.784496503720018.\u001b[0m\n",
      "\u001b[32m[I 2021-04-24 23:05:34,641]\u001b[0m Trial 82 finished with value: 5.90886101129857 and parameters: {'lambda1': 0.013486639691256852, 'lambda2': 0.7801667877950064, 'lambda3': 0.8948363074919163}. Best is trial 36 with value: 5.784496503720018.\u001b[0m\n",
      "\u001b[32m[I 2021-04-24 23:05:49,390]\u001b[0m Trial 83 finished with value: 5.929128293641866 and parameters: {'lambda1': 0.10881112158586419, 'lambda2': 0.6620858669958622, 'lambda3': 1.102476573862394}. Best is trial 36 with value: 5.784496503720018.\u001b[0m\n",
      "\u001b[32m[I 2021-04-24 23:06:04,261]\u001b[0m Trial 84 finished with value: 5.802290264056125 and parameters: {'lambda1': 0.02906888864421161, 'lambda2': 0.868257888148816, 'lambda3': 1.2285965862858834}. Best is trial 36 with value: 5.784496503720018.\u001b[0m\n",
      "\u001b[32m[I 2021-04-24 23:06:18,226]\u001b[0m Trial 85 finished with value: 6.068303977861205 and parameters: {'lambda1': 0.15976299148308246, 'lambda2': 0.8961536972668414, 'lambda3': 1.077488429356055}. Best is trial 36 with value: 5.784496503720018.\u001b[0m\n",
      "\u001b[32m[I 2021-04-24 23:06:32,975]\u001b[0m Trial 86 finished with value: 5.876770414359458 and parameters: {'lambda1': 0.07885477537202168, 'lambda2': 0.46575310689863647, 'lambda3': 1.3378431579394536}. Best is trial 36 with value: 5.784496503720018.\u001b[0m\n",
      "\u001b[32m[I 2021-04-24 23:06:47,673]\u001b[0m Trial 87 finished with value: 5.821920124410443 and parameters: {'lambda1': 0.05273377136544661, 'lambda2': 0.706466962892073, 'lambda3': 1.1248115403102683}. Best is trial 36 with value: 5.784496503720018.\u001b[0m\n",
      "\u001b[32m[I 2021-04-24 23:07:02,259]\u001b[0m Trial 88 finished with value: 5.991592692675951 and parameters: {'lambda1': 0.13022949595338668, 'lambda2': 0.5427627470922961, 'lambda3': 1.2715351103516537}. Best is trial 36 with value: 5.784496503720018.\u001b[0m\n",
      "\u001b[32m[I 2021-04-24 23:07:17,498]\u001b[0m Trial 89 finished with value: 6.638525805636201 and parameters: {'lambda1': 0.0012899536723805227, 'lambda2': 0.34463619571337356, 'lambda3': 1.1876276560175174}. Best is trial 36 with value: 5.784496503720018.\u001b[0m\n",
      "\u001b[32m[I 2021-04-24 23:07:31,736]\u001b[0m Trial 90 finished with value: 5.800511895634666 and parameters: {'lambda1': 0.09086678225511721, 'lambda2': 0.08318681263837316, 'lambda3': 1.0116213836861054}. Best is trial 36 with value: 5.784496503720018.\u001b[0m\n",
      "\u001b[32m[I 2021-04-24 23:07:46,574]\u001b[0m Trial 91 finished with value: 5.789330446562918 and parameters: {'lambda1': 0.0528574542585687, 'lambda2': 0.2825465784066621, 'lambda3': 1.4097744163658983}. Best is trial 36 with value: 5.784496503720018.\u001b[0m\n",
      "\u001b[32m[I 2021-04-24 23:08:01,655]\u001b[0m Trial 92 finished with value: 5.785337896235895 and parameters: {'lambda1': 0.07574358989407223, 'lambda2': 0.2074089831152968, 'lambda3': 1.1501199414614556}. Best is trial 36 with value: 5.784496503720018.\u001b[0m\n",
      "\u001b[32m[I 2021-04-24 23:08:17,051]\u001b[0m Trial 93 finished with value: 5.976149449187388 and parameters: {'lambda1': 0.023990941816368967, 'lambda2': 0.14351727050976043, 'lambda3': 1.1526676924289192}. Best is trial 36 with value: 5.784496503720018.\u001b[0m\n",
      "\u001b[32m[I 2021-04-24 23:08:32,338]\u001b[0m Trial 94 finished with value: 5.793477678964386 and parameters: {'lambda1': 0.1098368375286628, 'lambda2': 0.2120003372662434, 'lambda3': 0.970354008225237}. Best is trial 36 with value: 5.784496503720018.\u001b[0m\n",
      "\u001b[32m[I 2021-04-24 23:08:47,534]\u001b[0m Trial 95 finished with value: 5.788400723183667 and parameters: {'lambda1': 0.08220136112971749, 'lambda2': 0.22588136515387913, 'lambda3': 1.1452905856706357}. Best is trial 36 with value: 5.784496503720018.\u001b[0m\n",
      "\u001b[32m[I 2021-04-24 23:09:01,883]\u001b[0m Trial 96 finished with value: 5.785088323484375 and parameters: {'lambda1': 0.07701587259299823, 'lambda2': 0.2240601570930703, 'lambda3': 1.0496404331182076}. Best is trial 36 with value: 5.784496503720018.\u001b[0m\n",
      "\u001b[32m[I 2021-04-24 23:09:16,624]\u001b[0m Trial 97 finished with value: 5.8267587998452655 and parameters: {'lambda1': 0.04203998593014218, 'lambda2': 0.17493196705893352, 'lambda3': 1.2138357810075884}. Best is trial 36 with value: 5.784496503720018.\u001b[0m\n",
      "\u001b[32m[I 2021-04-24 23:09:31,746]\u001b[0m Trial 98 finished with value: 5.863289934583992 and parameters: {'lambda1': 0.1479887594433827, 'lambda2': 0.30297020209576686, 'lambda3': 1.0411200628814758}. Best is trial 36 with value: 5.784496503720018.\u001b[0m\n",
      "\u001b[32m[I 2021-04-24 23:09:46,225]\u001b[0m Trial 99 finished with value: 5.852832461877649 and parameters: {'lambda1': 0.19301881212225463, 'lambda2': 0.20691551460491248, 'lambda3': 0.899415532111716}. Best is trial 36 with value: 5.784496503720018.\u001b[0m\n",
      "\u001b[32m[I 2021-04-24 23:10:00,488]\u001b[0m Trial 100 finished with value: 6.0563419965939 and parameters: {'lambda1': 0.0132372746620441, 'lambda2': 0.26174235883784625, 'lambda3': 1.0641915308786927}. Best is trial 36 with value: 5.784496503720018.\u001b[0m\n",
      "\u001b[32m[I 2021-04-24 23:10:16,279]\u001b[0m Trial 101 finished with value: 5.7849625789313635 and parameters: {'lambda1': 0.0716626285245191, 'lambda2': 0.23246401171686257, 'lambda3': 1.1051663723291616}. Best is trial 36 with value: 5.784496503720018.\u001b[0m\n",
      "\u001b[32m[I 2021-04-24 23:10:30,423]\u001b[0m Trial 102 finished with value: 5.788078374561272 and parameters: {'lambda1': 0.06923603608992342, 'lambda2': 0.2367604980621239, 'lambda3': 0.9491379241013586}. Best is trial 36 with value: 5.784496503720018.\u001b[0m\n",
      "\u001b[32m[I 2021-04-24 23:10:45,141]\u001b[0m Trial 103 finished with value: 5.790329108684846 and parameters: {'lambda1': 0.06617835594621035, 'lambda2': 0.2765163563172923, 'lambda3': 0.8582229904279983}. Best is trial 36 with value: 5.784496503720018.\u001b[0m\n",
      "\u001b[32m[I 2021-04-24 23:11:01,829]\u001b[0m Trial 104 finished with value: 5.785695843853005 and parameters: {'lambda1': 0.08808430542878797, 'lambda2': 0.20078222171857688, 'lambda3': 1.008577142054447}. Best is trial 36 with value: 5.784496503720018.\u001b[0m\n",
      "\u001b[32m[I 2021-04-24 23:11:18,824]\u001b[0m Trial 105 finished with value: 5.787486904176089 and parameters: {'lambda1': 0.09670033200475392, 'lambda2': 0.19815724573492152, 'lambda3': 1.0073698297689886}. Best is trial 36 with value: 5.784496503720018.\u001b[0m\n",
      "\u001b[32m[I 2021-04-24 23:11:33,186]\u001b[0m Trial 106 finished with value: 5.822130473879985 and parameters: {'lambda1': 0.16644275323938773, 'lambda2': 0.17473439951103817, 'lambda3': 0.9298234741571577}. Best is trial 36 with value: 5.784496503720018.\u001b[0m\n",
      "\u001b[32m[I 2021-04-24 23:11:48,472]\u001b[0m Trial 107 finished with value: 5.862477313936936 and parameters: {'lambda1': 0.13372331692515327, 'lambda2': 0.3233893903248083, 'lambda3': 1.0925811295713843}. Best is trial 36 with value: 5.784496503720018.\u001b[0m\n",
      "\u001b[32m[I 2021-04-24 23:12:03,396]\u001b[0m Trial 108 finished with value: 5.833288072373326 and parameters: {'lambda1': 0.05387550115945133, 'lambda2': 0.13271271020939263, 'lambda3': 1.0404775501809616}. Best is trial 36 with value: 5.784496503720018.\u001b[0m\n",
      "\u001b[32m[I 2021-04-24 23:12:19,489]\u001b[0m Trial 109 finished with value: 5.789300924426909 and parameters: {'lambda1': 0.08910389809493674, 'lambda2': 0.21393583912818392, 'lambda3': 1.1162855281109687}. Best is trial 36 with value: 5.784496503720018.\u001b[0m\n",
      "\u001b[32m[I 2021-04-24 23:12:35,357]\u001b[0m Trial 110 finished with value: 5.792598203487018 and parameters: {'lambda1': 0.1151426471537855, 'lambda2': 0.24787823836452375, 'lambda3': 0.813015613153496}. Best is trial 36 with value: 5.784496503720018.\u001b[0m\n",
      "\u001b[32m[I 2021-04-24 23:12:49,748]\u001b[0m Trial 111 finished with value: 5.787142935838525 and parameters: {'lambda1': 0.09508415721249783, 'lambda2': 0.20093747554522615, 'lambda3': 1.0058496146323974}. Best is trial 36 with value: 5.784496503720018.\u001b[0m\n",
      "\u001b[32m[I 2021-04-24 23:13:05,118]\u001b[0m Trial 112 finished with value: 5.869965614556983 and parameters: {'lambda1': 0.04008742128700966, 'lambda2': 0.15950949510862428, 'lambda3': 1.0134179658530387}. Best is trial 36 with value: 5.784496503720018.\u001b[0m\n",
      "\u001b[32m[I 2021-04-24 23:13:20,566]\u001b[0m Trial 113 finished with value: 5.785194770030872 and parameters: {'lambda1': 0.08129683022381234, 'lambda2': 0.23757499559415518, 'lambda3': 0.9726923275711764}. Best is trial 36 with value: 5.784496503720018.\u001b[0m\n",
      "\u001b[32m[I 2021-04-24 23:13:35,329]\u001b[0m Trial 114 finished with value: 5.784848161128104 and parameters: {'lambda1': 0.07502785280199908, 'lambda2': 0.26592111600135404, 'lambda3': 0.9686380378120719}. Best is trial 36 with value: 5.784496503720018.\u001b[0m\n",
      "\u001b[32m[I 2021-04-24 23:13:50,392]\u001b[0m Trial 115 finished with value: 5.828893759141051 and parameters: {'lambda1': 0.13703769853156095, 'lambda2': 0.27616535465744557, 'lambda3': 0.9592466830060737}. Best is trial 36 with value: 5.784496503720018.\u001b[0m\n",
      "\u001b[32m[I 2021-04-24 23:14:04,782]\u001b[0m Trial 116 finished with value: 5.7849621237320346 and parameters: {'lambda1': 0.07854126451282711, 'lambda2': 0.3001381742308391, 'lambda3': 0.8821137472369394}. Best is trial 36 with value: 5.784496503720018.\u001b[0m\n",
      "\u001b[32m[I 2021-04-24 23:14:19,487]\u001b[0m Trial 117 finished with value: 5.7841979094987614 and parameters: {'lambda1': 0.061203952392116866, 'lambda2': 0.3593826682362379, 'lambda3': 0.9708025874784538}. Best is trial 117 with value: 5.7841979094987614.\u001b[0m\n",
      "\u001b[32m[I 2021-04-24 23:14:33,961]\u001b[0m Trial 118 finished with value: 5.980555712340369 and parameters: {'lambda1': 0.016507047056766803, 'lambda2': 0.36746403169519926, 'lambda3': 0.917161375501366}. Best is trial 117 with value: 5.7841979094987614.\u001b[0m\n",
      "\u001b[32m[I 2021-04-24 23:14:49,494]\u001b[0m Trial 119 finished with value: 5.785896979984389 and parameters: {'lambda1': 0.0720351963465107, 'lambda2': 0.4134932037640005, 'lambda3': 0.8763573708807091}. Best is trial 117 with value: 5.7841979094987614.\u001b[0m\n",
      "\u001b[32m[I 2021-04-24 23:15:03,845]\u001b[0m Trial 120 finished with value: 6.848162655172302 and parameters: {'lambda1': 0.0007294956171755018, 'lambda2': 0.3003365830788842, 'lambda3': 0.9752963946591308}. Best is trial 117 with value: 5.7841979094987614.\u001b[0m\n",
      "\u001b[32m[I 2021-04-24 23:15:17,320]\u001b[0m Trial 121 finished with value: 5.865785414689833 and parameters: {'lambda1': 0.04008474914886373, 'lambda2': 0.26009169660124226, 'lambda3': 0.7654099236177855}. Best is trial 117 with value: 5.7841979094987614.\u001b[0m\n",
      "\u001b[32m[I 2021-04-24 23:15:30,385]\u001b[0m Trial 122 finished with value: 5.837681794352182 and parameters: {'lambda1': 0.11827423629273182, 'lambda2': 0.32347799850951375, 'lambda3': 1.066576073772979}. Best is trial 117 with value: 5.7841979094987614.\u001b[0m\n",
      "\u001b[32m[I 2021-04-24 23:15:43,767]\u001b[0m Trial 123 finished with value: 5.784315456288662 and parameters: {'lambda1': 0.06510527919753757, 'lambda2': 0.3925935422513877, 'lambda3': 0.8712306367046528}. Best is trial 117 with value: 5.7841979094987614.\u001b[0m\n",
      "\u001b[32m[I 2021-04-24 23:15:57,871]\u001b[0m Trial 124 finished with value: 5.785851452709583 and parameters: {'lambda1': 0.07354427739397568, 'lambda2': 0.3952127916144283, 'lambda3': 0.8777717416643149}. Best is trial 117 with value: 5.7841979094987614.\u001b[0m\n",
      "\u001b[32m[I 2021-04-24 23:16:12,184]\u001b[0m Trial 125 finished with value: 5.842992026573118 and parameters: {'lambda1': 0.15594494391534908, 'lambda2': 0.34599720389722466, 'lambda3': 0.8135517187262409}. Best is trial 117 with value: 5.7841979094987614.\u001b[0m\n",
      "\u001b[32m[I 2021-04-24 23:16:27,007]\u001b[0m Trial 126 finished with value: 5.80848663702735 and parameters: {'lambda1': 0.10512802784480986, 'lambda2': 0.3716399732608325, 'lambda3': 0.8972290182254092}. Best is trial 117 with value: 5.7841979094987614.\u001b[0m\n",
      "\u001b[32m[I 2021-04-24 23:16:41,957]\u001b[0m Trial 127 finished with value: 5.783857657308182 and parameters: {'lambda1': 0.05196797189831442, 'lambda2': 0.43992199030644735, 'lambda3': 0.9867090009780857}. Best is trial 127 with value: 5.783857657308182.\u001b[0m\n",
      "\u001b[32m[I 2021-04-24 23:16:56,546]\u001b[0m Trial 128 finished with value: 5.8465465772296845 and parameters: {'lambda1': 0.02651436873659989, 'lambda2': 0.440909419217861, 'lambda3': 0.932213951218099}. Best is trial 127 with value: 5.783857657308182.\u001b[0m\n",
      "\u001b[32m[I 2021-04-24 23:17:12,658]\u001b[0m Trial 129 finished with value: 5.784320785446982 and parameters: {'lambda1': 0.05341553583604092, 'lambda2': 0.4054203674743204, 'lambda3': 0.9739290485792527}. Best is trial 127 with value: 5.783857657308182.\u001b[0m\n",
      "\u001b[32m[I 2021-04-24 23:17:26,748]\u001b[0m Trial 130 finished with value: 5.786018098057293 and parameters: {'lambda1': 0.05269913121346466, 'lambda2': 0.4727258157223624, 'lambda3': 1.0447400365663562}. Best is trial 127 with value: 5.783857657308182.\u001b[0m\n",
      "\u001b[32m[I 2021-04-24 23:17:39,878]\u001b[0m Trial 131 finished with value: 5.8030490545122335 and parameters: {'lambda1': 0.08469598377204171, 'lambda2': 0.4080192019826496, 'lambda3': 0.9794177842807458}. Best is trial 127 with value: 5.783857657308182.\u001b[0m\n",
      "\u001b[32m[I 2021-04-24 23:17:52,793]\u001b[0m Trial 132 finished with value: 5.801669148362451 and parameters: {'lambda1': 0.033969858029546926, 'lambda2': 0.49065794528108525, 'lambda3': 0.953396794228388}. Best is trial 127 with value: 5.783857657308182.\u001b[0m\n",
      "\u001b[32m[I 2021-04-24 23:18:06,514]\u001b[0m Trial 133 finished with value: 5.784248868920874 and parameters: {'lambda1': 0.06266183740649449, 'lambda2': 0.437802725531722, 'lambda3': 0.844110360727178}. Best is trial 127 with value: 5.783857657308182.\u001b[0m\n",
      "\u001b[32m[I 2021-04-24 23:18:20,464]\u001b[0m Trial 134 finished with value: 5.789088146187215 and parameters: {'lambda1': 0.05752010329540898, 'lambda2': 0.4492203248655876, 'lambda3': 0.7683144947802258}. Best is trial 127 with value: 5.783857657308182.\u001b[0m\n",
      "\u001b[32m[I 2021-04-24 23:18:34,647]\u001b[0m Trial 135 finished with value: 6.605406974127422 and parameters: {'lambda1': 0.0020053413274957257, 'lambda2': 0.42975409164493944, 'lambda3': 0.8546034995449281}. Best is trial 127 with value: 5.783857657308182.\u001b[0m\n",
      "\u001b[32m[I 2021-04-24 23:18:48,642]\u001b[0m Trial 136 finished with value: 5.84651136208625 and parameters: {'lambda1': 0.10846531168003057, 'lambda2': 0.38389104790097883, 'lambda3': 1.0893957793355293}. Best is trial 127 with value: 5.783857657308182.\u001b[0m\n",
      "\u001b[32m[I 2021-04-24 23:19:02,620]\u001b[0m Trial 137 finished with value: 5.791291093594931 and parameters: {'lambda1': 0.0681570910722695, 'lambda2': 0.34452226131305125, 'lambda3': 0.7231109629666349}. Best is trial 127 with value: 5.783857657308182.\u001b[0m\n",
      "\u001b[32m[I 2021-04-24 23:19:17,116]\u001b[0m Trial 138 finished with value: 5.810823498482269 and parameters: {'lambda1': 0.028881909843075246, 'lambda2': 0.5070897025160579, 'lambda3': 0.9826592720513083}. Best is trial 127 with value: 5.783857657308182.\u001b[0m\n",
      "\u001b[32m[I 2021-04-24 23:19:29,916]\u001b[0m Trial 139 finished with value: 5.835296635594443 and parameters: {'lambda1': 0.13403287803943684, 'lambda2': 0.4139746158935909, 'lambda3': 0.8237505740906161}. Best is trial 127 with value: 5.783857657308182.\u001b[0m\n",
      "\u001b[32m[I 2021-04-24 23:19:42,845]\u001b[0m Trial 140 finished with value: 5.827432859394215 and parameters: {'lambda1': 0.04514929637915564, 'lambda2': 0.4662597261875207, 'lambda3': 0.6370139306526971}. Best is trial 127 with value: 5.783857657308182.\u001b[0m\n",
      "\u001b[32m[I 2021-04-24 23:19:58,382]\u001b[0m Trial 141 finished with value: 5.7867676365603415 and parameters: {'lambda1': 0.08525757017361008, 'lambda2': 0.2895376731003605, 'lambda3': 0.9179375325290051}. Best is trial 127 with value: 5.783857657308182.\u001b[0m\n",
      "\u001b[32m[I 2021-04-24 23:20:12,054]\u001b[0m Trial 142 finished with value: 5.8160866974877194 and parameters: {'lambda1': 0.1077024921223611, 'lambda2': 0.36312377381563393, 'lambda3': 0.9458585866840199}. Best is trial 127 with value: 5.783857657308182.\u001b[0m\n",
      "\u001b[32m[I 2021-04-24 23:20:25,136]\u001b[0m Trial 143 finished with value: 5.975402849088994 and parameters: {'lambda1': 0.013801243297766788, 'lambda2': 0.3916242235016216, 'lambda3': 1.0305549353823455}. Best is trial 127 with value: 5.783857657308182.\u001b[0m\n",
      "\u001b[32m[I 2021-04-24 23:20:37,907]\u001b[0m Trial 144 finished with value: 5.785163764976159 and parameters: {'lambda1': 0.06756232149321657, 'lambda2': 0.32136690327645523, 'lambda3': 0.8938641762593476}. Best is trial 127 with value: 5.783857657308182.\u001b[0m\n",
      "\u001b[32m[I 2021-04-24 23:20:50,894]\u001b[0m Trial 145 finished with value: 5.785911751242662 and parameters: {'lambda1': 0.07066246626784606, 'lambda2': 0.3078453757334772, 'lambda3': 0.8541777146294447}. Best is trial 127 with value: 5.783857657308182.\u001b[0m\n",
      "\u001b[32m[I 2021-04-24 23:21:06,057]\u001b[0m Trial 146 finished with value: 5.799076159639951 and parameters: {'lambda1': 0.04920139789189622, 'lambda2': 0.3332362705607283, 'lambda3': 0.8980672407215026}. Best is trial 127 with value: 5.783857657308182.\u001b[0m\n",
      "\u001b[32m[I 2021-04-24 23:21:21,536]\u001b[0m Trial 147 finished with value: 5.859704871157913 and parameters: {'lambda1': 0.12231876271542108, 'lambda2': 0.4346308146459946, 'lambda3': 0.991971861962703}. Best is trial 127 with value: 5.783857657308182.\u001b[0m\n",
      "\u001b[32m[I 2021-04-24 23:21:34,859]\u001b[0m Trial 148 finished with value: 6.875667504026744 and parameters: {'lambda1': 0.0004942634422677589, 'lambda2': 0.3591525510285352, 'lambda3': 1.0497387895346277}. Best is trial 127 with value: 5.783857657308182.\u001b[0m\n",
      "\u001b[32m[I 2021-04-24 23:21:47,799]\u001b[0m Trial 149 finished with value: 5.7859906451615055 and parameters: {'lambda1': 0.09475259623562826, 'lambda2': 0.24293083649988972, 'lambda3': 0.7942310814880988}. Best is trial 127 with value: 5.783857657308182.\u001b[0m\n",
      "\u001b[32m[I 2021-04-24 23:22:01,410]\u001b[0m Trial 150 finished with value: 5.788422152654368 and parameters: {'lambda1': 0.05666341119381392, 'lambda2': 0.40243498541752754, 'lambda3': 1.1218005980835521}. Best is trial 127 with value: 5.783857657308182.\u001b[0m\n",
      "\u001b[32m[I 2021-04-24 23:22:16,646]\u001b[0m Trial 151 finished with value: 5.785881121423682 and parameters: {'lambda1': 0.08132363872841913, 'lambda2': 0.28388343799715826, 'lambda3': 0.9420397822895926}. Best is trial 127 with value: 5.783857657308182.\u001b[0m\n",
      "\u001b[32m[I 2021-04-24 23:22:30,901]\u001b[0m Trial 152 finished with value: 5.885417597688291 and parameters: {'lambda1': 0.030196175959942, 'lambda2': 0.2681901739760285, 'lambda3': 0.9161428741596066}. Best is trial 127 with value: 5.783857657308182.\u001b[0m\n",
      "\u001b[32m[I 2021-04-24 23:22:44,000]\u001b[0m Trial 153 finished with value: 5.788640471232313 and parameters: {'lambda1': 0.07519492070438277, 'lambda2': 0.23401596768933697, 'lambda3': 0.8661570642627485}. Best is trial 127 with value: 5.783857657308182.\u001b[0m\n",
      "\u001b[32m[I 2021-04-24 23:22:59,500]\u001b[0m Trial 154 finished with value: 5.794020748961093 and parameters: {'lambda1': 0.05915794734009625, 'lambda2': 0.2231404152550378, 'lambda3': 1.0231395674052164}. Best is trial 127 with value: 5.783857657308182.\u001b[0m\n",
      "\u001b[32m[I 2021-04-24 23:23:14,597]\u001b[0m Trial 155 finished with value: 5.806602988173295 and parameters: {'lambda1': 0.10444249175955359, 'lambda2': 0.3135618581203278, 'lambda3': 0.9722335757549757}. Best is trial 127 with value: 5.783857657308182.\u001b[0m\n",
      "\u001b[32m[I 2021-04-24 23:23:28,160]\u001b[0m Trial 156 finished with value: 5.834166714367621 and parameters: {'lambda1': 0.03930081194668947, 'lambda2': 0.29634182557594796, 'lambda3': 0.8890341886125366}. Best is trial 127 with value: 5.783857657308182.\u001b[0m\n",
      "\u001b[32m[I 2021-04-24 23:23:41,866]\u001b[0m Trial 157 finished with value: 5.84637066919571 and parameters: {'lambda1': 0.1431267156039603, 'lambda2': 0.2507321976805549, 'lambda3': 1.0903215400908866}. Best is trial 127 with value: 5.783857657308182.\u001b[0m\n",
      "\u001b[32m[I 2021-04-24 23:23:56,005]\u001b[0m Trial 158 finished with value: 5.942143265198609 and parameters: {'lambda1': 0.020968864826801756, 'lambda2': 0.37631073066521303, 'lambda3': 0.840335726690212}. Best is trial 127 with value: 5.783857657308182.\u001b[0m\n",
      "\u001b[32m[I 2021-04-24 23:24:08,544]\u001b[0m Trial 159 finished with value: 5.788669506475003 and parameters: {'lambda1': 0.08637918235689532, 'lambda2': 0.2654316503588014, 'lambda3': 1.0040893877889117}. Best is trial 127 with value: 5.783857657308182.\u001b[0m\n",
      "\u001b[32m[I 2021-04-24 23:24:21,382]\u001b[0m Trial 160 finished with value: 5.823096736771552 and parameters: {'lambda1': 0.1215357491250332, 'lambda2': 0.3400702380890761, 'lambda3': 0.9234206780273865}. Best is trial 127 with value: 5.783857657308182.\u001b[0m\n",
      "\u001b[32m[I 2021-04-24 23:24:34,446]\u001b[0m Trial 161 finished with value: 5.804983337135147 and parameters: {'lambda1': 0.056633750156236826, 'lambda2': 0.21189347543409456, 'lambda3': 0.9574004688452844}. Best is trial 127 with value: 5.783857657308182.\u001b[0m\n",
      "\u001b[32m[I 2021-04-24 23:24:50,005]\u001b[0m Trial 162 finished with value: 5.785067749273361 and parameters: {'lambda1': 0.07178839165943902, 'lambda2': 0.2290777724150835, 'lambda3': 1.0684986653627258}. Best is trial 127 with value: 5.783857657308182.\u001b[0m\n",
      "\u001b[32m[I 2021-04-24 23:25:06,047]\u001b[0m Trial 163 finished with value: 5.789635051512979 and parameters: {'lambda1': 0.07029690501156055, 'lambda2': 0.18090149335234462, 'lambda3': 1.0682954188987857}. Best is trial 127 with value: 5.783857657308182.\u001b[0m\n",
      "\u001b[32m[I 2021-04-24 23:25:21,324]\u001b[0m Trial 164 finished with value: 5.832115677173851 and parameters: {'lambda1': 0.09706222041973131, 'lambda2': 0.4200057623405412, 'lambda3': 1.051287222417175}. Best is trial 127 with value: 5.783857657308182.\u001b[0m\n",
      "\u001b[32m[I 2021-04-24 23:25:37,095]\u001b[0m Trial 165 finished with value: 5.785004813045188 and parameters: {'lambda1': 0.07635304541994602, 'lambda2': 0.2403017790010421, 'lambda3': 1.024166359508609}. Best is trial 127 with value: 5.783857657308182.\u001b[0m\n",
      "\u001b[32m[I 2021-04-24 23:25:53,572]\u001b[0m Trial 166 finished with value: 5.828210569981412 and parameters: {'lambda1': 0.04159294830026623, 'lambda2': 0.22714591011142468, 'lambda3': 1.0265699880860155}. Best is trial 127 with value: 5.783857657308182.\u001b[0m\n",
      "\u001b[32m[I 2021-04-24 23:26:08,124]\u001b[0m Trial 167 finished with value: 5.984276940615369 and parameters: {'lambda1': 0.015092451790462223, 'lambda2': 0.28064905689171277, 'lambda3': 1.132679107842245}. Best is trial 127 with value: 5.783857657308182.\u001b[0m\n",
      "\u001b[32m[I 2021-04-24 23:26:21,548]\u001b[0m Trial 168 finished with value: 5.784824584632423 and parameters: {'lambda1': 0.06909172526509866, 'lambda2': 0.24916292834387427, 'lambda3': 1.0954091900569027}. Best is trial 127 with value: 5.783857657308182.\u001b[0m\n",
      "\u001b[32m[I 2021-04-24 23:26:36,614]\u001b[0m Trial 169 finished with value: 5.786546951676467 and parameters: {'lambda1': 0.06018510711221044, 'lambda2': 0.4503331189506874, 'lambda3': 0.9885996030017354}. Best is trial 127 with value: 5.783857657308182.\u001b[0m\n",
      "\u001b[32m[I 2021-04-24 23:26:49,915]\u001b[0m Trial 170 finished with value: 5.804052903457949 and parameters: {'lambda1': 0.10523374181428365, 'lambda2': 0.2451919953028434, 'lambda3': 1.081486863646787}. Best is trial 127 with value: 5.783857657308182.\u001b[0m\n",
      "\u001b[32m[I 2021-04-24 23:27:03,081]\u001b[0m Trial 171 finished with value: 5.785110373278464 and parameters: {'lambda1': 0.07382774617717401, 'lambda2': 0.2128054999965237, 'lambda3': 1.116021366454788}. Best is trial 127 with value: 5.783857657308182.\u001b[0m\n",
      "\u001b[32m[I 2021-04-24 23:27:19,340]\u001b[0m Trial 172 finished with value: 5.826614319722885 and parameters: {'lambda1': 0.03659410675593107, 'lambda2': 0.24859350795360763, 'lambda3': 1.1051427329252632}. Best is trial 127 with value: 5.783857657308182.\u001b[0m\n",
      "\u001b[32m[I 2021-04-24 23:27:32,154]\u001b[0m Trial 173 finished with value: 5.785332958059301 and parameters: {'lambda1': 0.08095093670772265, 'lambda2': 0.22385324976802629, 'lambda3': 1.0309327902764192}. Best is trial 127 with value: 5.783857657308182.\u001b[0m\n",
      "\u001b[32m[I 2021-04-24 23:27:45,451]\u001b[0m Trial 174 finished with value: 5.8202874300750445 and parameters: {'lambda1': 0.05126162082511205, 'lambda2': 0.18641196988130346, 'lambda3': 0.9936850468341423}. Best is trial 127 with value: 5.783857657308182.\u001b[0m\n",
      "\u001b[32m[I 2021-04-24 23:28:01,561]\u001b[0m Trial 175 finished with value: 6.152190412017682 and parameters: {'lambda1': 0.4140349397510775, 'lambda2': 0.31450454708591447, 'lambda3': 1.059738857506173}. Best is trial 127 with value: 5.783857657308182.\u001b[0m\n",
      "\u001b[32m[I 2021-04-24 23:28:18,077]\u001b[0m Trial 176 finished with value: 5.961032211203755 and parameters: {'lambda1': 0.09462942586014864, 'lambda2': 0.2884576218974752, 'lambda3': 1.9308671432866662}. Best is trial 127 with value: 5.783857657308182.\u001b[0m\n",
      "\u001b[32m[I 2021-04-24 23:28:33,180]\u001b[0m Trial 177 finished with value: 5.811724062761197 and parameters: {'lambda1': 0.1254904394456564, 'lambda2': 0.25262725304952904, 'lambda3': 0.9579049768483593}. Best is trial 127 with value: 5.783857657308182.\u001b[0m\n",
      "\u001b[32m[I 2021-04-24 23:28:47,231]\u001b[0m Trial 178 finished with value: 5.784790801497377 and parameters: {'lambda1': 0.06759842404709879, 'lambda2': 0.2693666603716694, 'lambda3': 1.085064006011715}. Best is trial 127 with value: 5.783857657308182.\u001b[0m\n",
      "\u001b[32m[I 2021-04-24 23:29:01,559]\u001b[0m Trial 179 finished with value: 7.041235587794709 and parameters: {'lambda1': 0.00016573268779046524, 'lambda2': 0.27554074661701633, 'lambda3': 1.0907977026154687}. Best is trial 127 with value: 5.783857657308182.\u001b[0m\n",
      "\u001b[32m[I 2021-04-24 23:29:18,581]\u001b[0m Trial 180 finished with value: 5.797499893388061 and parameters: {'lambda1': 0.06466053079127124, 'lambda2': 0.3828285403974363, 'lambda3': 1.166359326026049}. Best is trial 127 with value: 5.783857657308182.\u001b[0m\n",
      "\u001b[32m[I 2021-04-24 23:29:35,315]\u001b[0m Trial 181 finished with value: 5.835746551379288 and parameters: {'lambda1': 0.038013347926012964, 'lambda2': 0.22902752391320166, 'lambda3': 1.0589312873151275}. Best is trial 127 with value: 5.783857657308182.\u001b[0m\n",
      "\u001b[32m[I 2021-04-24 23:29:50,022]\u001b[0m Trial 182 finished with value: 5.785131524403686 and parameters: {'lambda1': 0.07508285630952272, 'lambda2': 0.2635121653627038, 'lambda3': 1.0207672559183825}. Best is trial 127 with value: 5.783857657308182.\u001b[0m\n",
      "\u001b[32m[I 2021-04-24 23:30:04,237]\u001b[0m Trial 183 finished with value: 5.786249576209302 and parameters: {'lambda1': 0.06301602477388912, 'lambda2': 0.26473661685613814, 'lambda3': 1.0195191537288997}. Best is trial 127 with value: 5.783857657308182.\u001b[0m\n",
      "\u001b[32m[I 2021-04-24 23:30:18,736]\u001b[0m Trial 184 finished with value: 5.903131228555645 and parameters: {'lambda1': 0.019179363605554132, 'lambda2': 0.3234117574158679, 'lambda3': 1.122543853136774}. Best is trial 127 with value: 5.783857657308182.\u001b[0m\n",
      "\u001b[32m[I 2021-04-24 23:30:32,968]\u001b[0m Trial 185 finished with value: 5.815502393397872 and parameters: {'lambda1': 0.1045755305605727, 'lambda2': 0.29456691933786494, 'lambda3': 1.082245791864266}. Best is trial 127 with value: 5.783857657308182.\u001b[0m\n",
      "\u001b[32m[I 2021-04-24 23:30:46,583]\u001b[0m Trial 186 finished with value: 5.785829121512536 and parameters: {'lambda1': 0.07829222866674404, 'lambda2': 0.19852492572676617, 'lambda3': 1.0294121518753447}. Best is trial 127 with value: 5.783857657308182.\u001b[0m\n",
      "\u001b[32m[I 2021-04-24 23:31:00,716]\u001b[0m Trial 187 finished with value: 5.78411572488753 and parameters: {'lambda1': 0.0464638030929272, 'lambda2': 0.40849962532081036, 'lambda3': 1.1065354887370842}. Best is trial 127 with value: 5.783857657308182.\u001b[0m\n",
      "\u001b[32m[I 2021-04-24 23:31:14,597]\u001b[0m Trial 188 finished with value: 5.787659621825673 and parameters: {'lambda1': 0.03973869818563861, 'lambda2': 0.3992313450370319, 'lambda3': 1.109423612463207}. Best is trial 127 with value: 5.783857657308182.\u001b[0m\n",
      "\u001b[32m[I 2021-04-24 23:31:28,849]\u001b[0m Trial 189 finished with value: 6.435952230987681 and parameters: {'lambda1': 0.7848932223381107, 'lambda2': 0.4255775342425562, 'lambda3': 1.0641723008554957}. Best is trial 127 with value: 5.783857657308182.\u001b[0m\n",
      "\u001b[32m[I 2021-04-24 23:31:41,994]\u001b[0m Trial 190 finished with value: 5.797010909383292 and parameters: {'lambda1': 0.02658562306863614, 'lambda2': 0.4627917268332511, 'lambda3': 1.19164598231996}. Best is trial 127 with value: 5.783857657308182.\u001b[0m\n",
      "\u001b[32m[I 2021-04-24 23:31:54,876]\u001b[0m Trial 191 finished with value: 5.785923622573797 and parameters: {'lambda1': 0.055869172375881807, 'lambda2': 0.3589023278070471, 'lambda3': 1.1423247023436143}. Best is trial 127 with value: 5.783857657308182.\u001b[0m\n",
      "\u001b[32m[I 2021-04-24 23:32:10,072]\u001b[0m Trial 192 finished with value: 5.815303633273535 and parameters: {'lambda1': 0.08675725304254572, 'lambda2': 0.44038537640614467, 'lambda3': 1.0121244182109161}. Best is trial 127 with value: 5.783857657308182.\u001b[0m\n",
      "\u001b[32m[I 2021-04-24 23:32:24,530]\u001b[0m Trial 193 finished with value: 5.788612130890509 and parameters: {'lambda1': 0.06272920440028448, 'lambda2': 0.4099632953038326, 'lambda3': 1.0422604947113134}. Best is trial 127 with value: 5.783857657308182.\u001b[0m\n",
      "\u001b[32m[I 2021-04-24 23:32:38,319]\u001b[0m Trial 194 finished with value: 5.823667962056495 and parameters: {'lambda1': 0.10658143595063295, 'lambda2': 0.3066761449814496, 'lambda3': 1.1014732769001947}. Best is trial 127 with value: 5.783857657308182.\u001b[0m\n",
      "\u001b[32m[I 2021-04-24 23:32:51,489]\u001b[0m Trial 195 finished with value: 5.7849249179059115 and parameters: {'lambda1': 0.07400604376116537, 'lambda2': 0.2533114209455224, 'lambda3': 0.9883096697064419}. Best is trial 127 with value: 5.783857657308182.\u001b[0m\n",
      "\u001b[32m[I 2021-04-24 23:33:04,491]\u001b[0m Trial 196 finished with value: 5.836823086700958 and parameters: {'lambda1': 0.042466491014235844, 'lambda2': 0.21580223274398522, 'lambda3': 0.9760932468153091}. Best is trial 127 with value: 5.783857657308182.\u001b[0m\n",
      "\u001b[32m[I 2021-04-24 23:33:18,537]\u001b[0m Trial 197 finished with value: 5.790153637591144 and parameters: {'lambda1': 0.0896566401853115, 'lambda2': 0.2651126066999831, 'lambda3': 0.9998787109223612}. Best is trial 127 with value: 5.783857657308182.\u001b[0m\n",
      "\u001b[32m[I 2021-04-24 23:33:32,325]\u001b[0m Trial 198 finished with value: 5.88636418191466 and parameters: {'lambda1': 0.12225950761104487, 'lambda2': 0.4854879927351358, 'lambda3': 1.0438503217161823}. Best is trial 127 with value: 5.783857657308182.\u001b[0m\n",
      "\u001b[32m[I 2021-04-24 23:33:45,750]\u001b[0m Trial 199 finished with value: 6.0049713106492995 and parameters: {'lambda1': 0.016794112286890296, 'lambda2': 0.23807526157001635, 'lambda3': 1.0719957128994386}. Best is trial 127 with value: 5.783857657308182.\u001b[0m\n",
      "\u001b[32m[I 2021-04-24 23:33:59,381]\u001b[0m Trial 200 finished with value: 5.788586746199302 and parameters: {'lambda1': 0.07585670851157537, 'lambda2': 0.24883053100531818, 'lambda3': 1.1687507983127416}. Best is trial 127 with value: 5.783857657308182.\u001b[0m\n",
      "\u001b[32m[I 2021-04-24 23:34:14,040]\u001b[0m Trial 201 finished with value: 5.790581370643382 and parameters: {'lambda1': 0.0629622039109721, 'lambda2': 0.27510376862609054, 'lambda3': 0.8991170761572658}. Best is trial 127 with value: 5.783857657308182.\u001b[0m\n",
      "\u001b[32m[I 2021-04-24 23:34:27,444]\u001b[0m Trial 202 finished with value: 5.797806578446736 and parameters: {'lambda1': 0.04666435107173855, 'lambda2': 0.3425019107027637, 'lambda3': 0.9386644733498082}. Best is trial 127 with value: 5.783857657308182.\u001b[0m\n",
      "\u001b[32m[I 2021-04-24 23:34:41,538]\u001b[0m Trial 203 finished with value: 5.800931381149751 and parameters: {'lambda1': 0.08236112649950453, 'lambda2': 0.38536605097812504, 'lambda3': 1.0114989997703063}. Best is trial 127 with value: 5.783857657308182.\u001b[0m\n",
      "\u001b[32m[I 2021-04-24 23:34:55,330]\u001b[0m Trial 204 finished with value: 5.8037068150109 and parameters: {'lambda1': 0.05546103688518968, 'lambda2': 0.26133237082301497, 'lambda3': 0.8741600089289226}. Best is trial 127 with value: 5.783857657308182.\u001b[0m\n",
      "\u001b[32m[I 2021-04-24 23:35:09,635]\u001b[0m Trial 205 finished with value: 5.792596924776456 and parameters: {'lambda1': 0.10608766079612891, 'lambda2': 0.21821928138162783, 'lambda3': 0.9774202032246626}. Best is trial 127 with value: 5.783857657308182.\u001b[0m\n",
      "\u001b[32m[I 2021-04-24 23:35:25,505]\u001b[0m Trial 206 finished with value: 5.788846095078757 and parameters: {'lambda1': 0.07144254127983837, 'lambda2': 0.29214130311741254, 'lambda3': 1.1302176995330293}. Best is trial 127 with value: 5.783857657308182.\u001b[0m\n",
      "\u001b[32m[I 2021-04-24 23:35:40,114]\u001b[0m Trial 207 finished with value: 5.813156514898587 and parameters: {'lambda1': 0.028093282190021652, 'lambda2': 0.4186744290066845, 'lambda3': 1.0893031952497514}. Best is trial 127 with value: 5.783857657308182.\u001b[0m\n",
      "\u001b[32m[I 2021-04-24 23:35:55,693]\u001b[0m Trial 208 finished with value: 5.79246523920318 and parameters: {'lambda1': 0.09590571910886611, 'lambda2': 0.233737896344232, 'lambda3': 1.047776585841189}. Best is trial 127 with value: 5.783857657308182.\u001b[0m\n",
      "\u001b[32m[I 2021-04-24 23:36:11,384]\u001b[0m Trial 209 finished with value: 5.845217556630831 and parameters: {'lambda1': 0.0442499713637746, 'lambda2': 0.19483369652655821, 'lambda3': 0.9361784561866425}. Best is trial 127 with value: 5.783857657308182.\u001b[0m\n",
      "\u001b[32m[I 2021-04-24 23:36:24,771]\u001b[0m Trial 210 finished with value: 5.788166855687939 and parameters: {'lambda1': 0.07103340174574238, 'lambda2': 0.2775418908224976, 'lambda3': 0.8398295131274498}. Best is trial 127 with value: 5.783857657308182.\u001b[0m\n",
      "\u001b[32m[I 2021-04-24 23:36:39,470]\u001b[0m Trial 211 finished with value: 5.785682455254124 and parameters: {'lambda1': 0.08144600429226297, 'lambda2': 0.25194529479191, 'lambda3': 0.9918147153269601}. Best is trial 127 with value: 5.783857657308182.\u001b[0m\n",
      "\u001b[32m[I 2021-04-24 23:36:53,185]\u001b[0m Trial 212 finished with value: 5.787514316119481 and parameters: {'lambda1': 0.09235499603060575, 'lambda2': 0.23505307738467737, 'lambda3': 0.9669273418184073}. Best is trial 127 with value: 5.783857657308182.\u001b[0m\n",
      "\u001b[32m[I 2021-04-24 23:37:08,085]\u001b[0m Trial 213 finished with value: 5.80429411443927 and parameters: {'lambda1': 0.053803482788833096, 'lambda2': 0.21113851686445215, 'lambda3': 1.021115905752357}. Best is trial 127 with value: 5.783857657308182.\u001b[0m\n",
      "\u001b[32m[I 2021-04-24 23:37:22,646]\u001b[0m Trial 214 finished with value: 5.7875783097734805 and parameters: {'lambda1': 0.07033434226733268, 'lambda2': 0.25234415994423315, 'lambda3': 0.9116353884893699}. Best is trial 127 with value: 5.783857657308182.\u001b[0m\n",
      "\u001b[32m[I 2021-04-24 23:37:37,479]\u001b[0m Trial 215 finished with value: 5.853525890475006 and parameters: {'lambda1': 0.0315462332289459, 'lambda2': 0.3047377922171238, 'lambda3': 0.9574647258783882}. Best is trial 127 with value: 5.783857657308182.\u001b[0m\n",
      "\u001b[32m[I 2021-04-24 23:37:50,988]\u001b[0m Trial 216 finished with value: 5.8124991738815845 and parameters: {'lambda1': 0.10949077332306778, 'lambda2': 0.2702289462322923, 'lambda3': 1.06526032868931}. Best is trial 127 with value: 5.783857657308182.\u001b[0m\n",
      "\u001b[32m[I 2021-04-24 23:38:04,611]\u001b[0m Trial 217 finished with value: 6.216321421351502 and parameters: {'lambda1': 0.5379672068862049, 'lambda2': 0.22701310568728203, 'lambda3': 1.1088957543516247}. Best is trial 127 with value: 5.783857657308182.\u001b[0m\n",
      "\u001b[32m[I 2021-04-24 23:38:19,450]\u001b[0m Trial 218 finished with value: 5.80990947600907 and parameters: {'lambda1': 0.05889604493045732, 'lambda2': 0.1700756864402453, 'lambda3': 0.9966448984970289}. Best is trial 127 with value: 5.783857657308182.\u001b[0m\n",
      "\u001b[32m[I 2021-04-24 23:38:33,724]\u001b[0m Trial 219 finished with value: 5.8002370539742225 and parameters: {'lambda1': 0.0823609799471955, 'lambda2': 0.35657939205644446, 'lambda3': 1.0464045389717729}. Best is trial 127 with value: 5.783857657308182.\u001b[0m\n",
      "\u001b[32m[I 2021-04-24 23:38:49,096]\u001b[0m Trial 220 finished with value: 6.696099983832202 and parameters: {'lambda1': 0.0013962153512712266, 'lambda2': 0.3962375049376122, 'lambda3': 0.8905254463597354}. Best is trial 127 with value: 5.783857657308182.\u001b[0m\n",
      "\u001b[32m[I 2021-04-24 23:39:02,929]\u001b[0m Trial 221 finished with value: 5.785319463063804 and parameters: {'lambda1': 0.08165433519223318, 'lambda2': 0.21885732187999213, 'lambda3': 1.0266024721900446}. Best is trial 127 with value: 5.783857657308182.\u001b[0m\n",
      "\u001b[32m[I 2021-04-24 23:39:16,996]\u001b[0m Trial 222 finished with value: 5.820852449083887 and parameters: {'lambda1': 0.042754788999668905, 'lambda2': 0.23927138831657752, 'lambda3': 1.0218059998222275}. Best is trial 127 with value: 5.783857657308182.\u001b[0m\n",
      "\u001b[32m[I 2021-04-24 23:39:30,339]\u001b[0m Trial 223 finished with value: 5.786250975804231 and parameters: {'lambda1': 0.09471848766159319, 'lambda2': 0.19567008694189678, 'lambda3': 0.9700232941331537}. Best is trial 127 with value: 5.783857657308182.\u001b[0m\n",
      "\u001b[32m[I 2021-04-24 23:39:43,623]\u001b[0m Trial 224 finished with value: 5.785627571007226 and parameters: {'lambda1': 0.07083201870795262, 'lambda2': 0.2144042851263993, 'lambda3': 1.0833419756328284}. Best is trial 127 with value: 5.783857657308182.\u001b[0m\n",
      "\u001b[32m[I 2021-04-24 23:39:57,505]\u001b[0m Trial 225 finished with value: 5.864540261230783 and parameters: {'lambda1': 0.12393491847470348, 'lambda2': 0.4374505938511176, 'lambda3': 0.9997781842235661}. Best is trial 127 with value: 5.783857657308182.\u001b[0m\n",
      "\u001b[32m[I 2021-04-24 23:40:13,392]\u001b[0m Trial 226 finished with value: 5.7899170094587795 and parameters: {'lambda1': 0.058894756518661204, 'lambda2': 0.24385305847233335, 'lambda3': 1.0429923899847988}. Best is trial 127 with value: 5.783857657308182.\u001b[0m\n",
      "\u001b[32m[I 2021-04-24 23:40:27,820]\u001b[0m Trial 227 finished with value: 5.787664080127899 and parameters: {'lambda1': 0.08757719112799765, 'lambda2': 0.2823703737453459, 'lambda3': 0.9309689724016807}. Best is trial 127 with value: 5.783857657308182.\u001b[0m\n",
      "\u001b[32m[I 2021-04-24 23:40:42,830]\u001b[0m Trial 228 finished with value: 5.835288889699751 and parameters: {'lambda1': 0.0461371450187233, 'lambda2': 0.2604806709601586, 'lambda3': 0.8038872948141041}. Best is trial 127 with value: 5.783857657308182.\u001b[0m\n",
      "\u001b[32m[I 2021-04-24 23:40:58,487]\u001b[0m Trial 229 finished with value: 5.89282272070381 and parameters: {'lambda1': 0.020948910465971277, 'lambda2': 0.3251662824037176, 'lambda3': 1.0870519371686234}. Best is trial 127 with value: 5.783857657308182.\u001b[0m\n",
      "\u001b[32m[I 2021-04-24 23:41:12,969]\u001b[0m Trial 230 finished with value: 5.800849868014513 and parameters: {'lambda1': 0.0720390393139502, 'lambda2': 0.37500468907531126, 'lambda3': 1.1290210160970096}. Best is trial 127 with value: 5.783857657308182.\u001b[0m\n",
      "\u001b[32m[I 2021-04-24 23:41:27,718]\u001b[0m Trial 231 finished with value: 5.785710602347958 and parameters: {'lambda1': 0.08452749808245612, 'lambda2': 0.21717877664043714, 'lambda3': 1.0284462000617418}. Best is trial 127 with value: 5.783857657308182.\u001b[0m\n",
      "\u001b[32m[I 2021-04-24 23:41:41,660]\u001b[0m Trial 232 finished with value: 5.795155006756222 and parameters: {'lambda1': 0.10337703875311796, 'lambda2': 0.2280158374280825, 'lambda3': 1.0270113698512577}. Best is trial 127 with value: 5.783857657308182.\u001b[0m\n",
      "\u001b[32m[I 2021-04-24 23:41:55,634]\u001b[0m Trial 233 finished with value: 5.78488359719235 and parameters: {'lambda1': 0.06953674976576237, 'lambda2': 0.24470253618868248, 'lambda3': 1.0672676025127836}. Best is trial 127 with value: 5.783857657308182.\u001b[0m\n",
      "\u001b[32m[I 2021-04-24 23:42:08,963]\u001b[0m Trial 234 finished with value: 5.790500085719199 and parameters: {'lambda1': 0.054617721766031795, 'lambda2': 0.2557232909893423, 'lambda3': 1.0726215519829414}. Best is trial 127 with value: 5.783857657308182.\u001b[0m\n",
      "\u001b[32m[I 2021-04-24 23:42:21,839]\u001b[0m Trial 235 finished with value: 5.786334834521413 and parameters: {'lambda1': 0.07210056315880953, 'lambda2': 0.29151265481310573, 'lambda3': 1.0616483145062745}. Best is trial 127 with value: 5.783857657308182.\u001b[0m\n",
      "\u001b[32m[I 2021-04-24 23:42:35,672]\u001b[0m Trial 236 finished with value: 5.859437723284369 and parameters: {'lambda1': 0.03916146737072093, 'lambda2': 0.19265029160480834, 'lambda3': 0.9855077690456104}. Best is trial 127 with value: 5.783857657308182.\u001b[0m\n",
      "\u001b[32m[I 2021-04-24 23:42:48,778]\u001b[0m Trial 237 finished with value: 5.800948337498974 and parameters: {'lambda1': 0.09960517937958815, 'lambda2': 0.24651054888063434, 'lambda3': 1.0987884636068879}. Best is trial 127 with value: 5.783857657308182.\u001b[0m\n",
      "\u001b[32m[I 2021-04-24 23:43:01,802]\u001b[0m Trial 238 finished with value: 5.78590895300085 and parameters: {'lambda1': 0.06769497663154683, 'lambda2': 0.2719294667006948, 'lambda3': 0.953327726986283}. Best is trial 127 with value: 5.783857657308182.\u001b[0m\n",
      "\u001b[32m[I 2021-04-24 23:43:14,771]\u001b[0m Trial 239 finished with value: 5.783847699267865 and parameters: {'lambda1': 0.05090801151422013, 'lambda2': 0.44958726365438223, 'lambda3': 1.0061716331190684}. Best is trial 239 with value: 5.783847699267865.\u001b[0m\n",
      "\u001b[32m[I 2021-04-24 23:43:27,893]\u001b[0m Trial 240 finished with value: 5.828367851712049 and parameters: {'lambda1': 0.03208212112890171, 'lambda2': 0.4565507079012224, 'lambda3': 0.8684888515013073}. Best is trial 239 with value: 5.783847699267865.\u001b[0m\n",
      "\u001b[32m[I 2021-04-24 23:43:41,135]\u001b[0m Trial 241 finished with value: 5.783967201312344 and parameters: {'lambda1': 0.05352862125306077, 'lambda2': 0.42294091344151813, 'lambda3': 1.0080239853341975}. Best is trial 239 with value: 5.783847699267865.\u001b[0m\n",
      "\u001b[32m[I 2021-04-24 23:43:54,470]\u001b[0m Trial 242 finished with value: 5.783992788062746 and parameters: {'lambda1': 0.05452156044791424, 'lambda2': 0.42410133459911087, 'lambda3': 0.9973954681639033}. Best is trial 239 with value: 5.783847699267865.\u001b[0m\n",
      "\u001b[32m[I 2021-04-24 23:44:10,970]\u001b[0m Trial 243 finished with value: 5.784115841420364 and parameters: {'lambda1': 0.05033168186833749, 'lambda2': 0.42778547904592407, 'lambda3': 0.997217436367687}. Best is trial 239 with value: 5.783847699267865.\u001b[0m\n",
      "\u001b[32m[I 2021-04-24 23:44:25,163]\u001b[0m Trial 244 finished with value: 5.7852052980192905 and parameters: {'lambda1': 0.047285042535349125, 'lambda2': 0.424834987530933, 'lambda3': 0.9999583256331759}. Best is trial 239 with value: 5.783847699267865.\u001b[0m\n",
      "\u001b[32m[I 2021-04-24 23:44:39,164]\u001b[0m Trial 245 finished with value: 5.792329204823387 and parameters: {'lambda1': 0.035754941623444454, 'lambda2': 0.445196218385428, 'lambda3': 1.053881660984829}. Best is trial 239 with value: 5.783847699267865.\u001b[0m\n",
      "\u001b[32m[I 2021-04-24 23:44:53,109]\u001b[0m Trial 246 finished with value: 5.830870969529947 and parameters: {'lambda1': 0.02466748994963343, 'lambda2': 0.47876559810533376, 'lambda3': 1.0097278068132096}. Best is trial 239 with value: 5.783847699267865.\u001b[0m\n",
      "\u001b[32m[I 2021-04-24 23:45:07,456]\u001b[0m Trial 247 finished with value: 5.785406027412748 and parameters: {'lambda1': 0.048929219883194715, 'lambda2': 0.4096034782073345, 'lambda3': 0.9897355416953189}. Best is trial 239 with value: 5.783847699267865.\u001b[0m\n",
      "\u001b[32m[I 2021-04-24 23:45:20,764]\u001b[0m Trial 248 finished with value: 5.786664011565712 and parameters: {'lambda1': 0.058243147277578705, 'lambda2': 0.4300685282636933, 'lambda3': 1.0362293867354184}. Best is trial 239 with value: 5.783847699267865.\u001b[0m\n",
      "\u001b[32m[I 2021-04-24 23:45:34,070]\u001b[0m Trial 249 finished with value: 5.997243449447498 and parameters: {'lambda1': 0.009857122991686174, 'lambda2': 0.5128246481756725, 'lambda3': 1.058099845336048}. Best is trial 239 with value: 5.783847699267865.\u001b[0m\n",
      "\u001b[32m[I 2021-04-24 23:45:47,490]\u001b[0m Trial 250 finished with value: 5.795523375420809 and parameters: {'lambda1': 0.05870029438412052, 'lambda2': 0.45404074813553646, 'lambda3': 1.1192924918280012}. Best is trial 239 with value: 5.783847699267865.\u001b[0m\n",
      "\u001b[32m[I 2021-04-24 23:46:00,645]\u001b[0m Trial 251 finished with value: 5.832344534368569 and parameters: {'lambda1': 0.02905363176234834, 'lambda2': 0.40577098166852793, 'lambda3': 0.9742997093157738}. Best is trial 239 with value: 5.783847699267865.\u001b[0m\n",
      "\u001b[32m[I 2021-04-24 23:46:13,763]\u001b[0m Trial 252 finished with value: 6.122492577443137 and parameters: {'lambda1': 0.3233207613410537, 'lambda2': 0.4172969064815255, 'lambda3': 1.0803089993450257}. Best is trial 239 with value: 5.783847699267865.\u001b[0m\n",
      "\u001b[32m[I 2021-04-24 23:46:26,895]\u001b[0m Trial 253 finished with value: 5.790742399640291 and parameters: {'lambda1': 0.06497326786605528, 'lambda2': 0.4399583495418702, 'lambda3': 1.0122829182406445}. Best is trial 239 with value: 5.783847699267865.\u001b[0m\n",
      "\u001b[32m[I 2021-04-24 23:46:40,224]\u001b[0m Trial 254 finished with value: 5.7940208949808865 and parameters: {'lambda1': 0.04490059859633964, 'lambda2': 0.38675468198430096, 'lambda3': 0.9455293084453747}. Best is trial 239 with value: 5.783847699267865.\u001b[0m\n",
      "\u001b[32m[I 2021-04-24 23:46:53,489]\u001b[0m Trial 255 finished with value: 5.85418372991827 and parameters: {'lambda1': 0.0894342322248248, 'lambda2': 0.4693231095080855, 'lambda3': 1.1547760428230556}. Best is trial 239 with value: 5.783847699267865.\u001b[0m\n",
      "\u001b[32m[I 2021-04-24 23:47:07,418]\u001b[0m Trial 256 finished with value: 6.111406804742935 and parameters: {'lambda1': 0.007260138555502858, 'lambda2': 0.4248590895035229, 'lambda3': 1.1002776859218435}. Best is trial 239 with value: 5.783847699267865.\u001b[0m\n",
      "\u001b[32m[I 2021-04-24 23:47:20,371]\u001b[0m Trial 257 finished with value: 5.800400109312355 and parameters: {'lambda1': 0.07696786912883324, 'lambda2': 0.3953839661340301, 'lambda3': 1.0452523202601098}. Best is trial 239 with value: 5.783847699267865.\u001b[0m\n",
      "\u001b[32m[I 2021-04-24 23:47:33,611]\u001b[0m Trial 258 finished with value: 5.783820084690951 and parameters: {'lambda1': 0.05049750523650212, 'lambda2': 0.4504816429326678, 'lambda3': 0.9977840336064052}. Best is trial 258 with value: 5.783820084690951.\u001b[0m\n",
      "\u001b[32m[I 2021-04-24 23:47:48,324]\u001b[0m Trial 259 finished with value: 5.9082215229782795 and parameters: {'lambda1': 0.017689033031795837, 'lambda2': 0.4566412552263667, 'lambda3': 0.9720431294387821}. Best is trial 258 with value: 5.783820084690951.\u001b[0m\n",
      "\u001b[32m[I 2021-04-24 23:48:03,311]\u001b[0m Trial 260 finished with value: 5.783874634511268 and parameters: {'lambda1': 0.05248238801205388, 'lambda2': 0.4351842178459423, 'lambda3': 0.9972491763284582}. Best is trial 258 with value: 5.783820084690951.\u001b[0m\n",
      "\u001b[32m[I 2021-04-24 23:48:16,918]\u001b[0m Trial 261 finished with value: 5.785729396207008 and parameters: {'lambda1': 0.042300959696176255, 'lambda2': 0.48464139018735003, 'lambda3': 0.9924823943409788}. Best is trial 258 with value: 5.783820084690951.\u001b[0m\n",
      "\u001b[32m[I 2021-04-24 23:48:30,177]\u001b[0m Trial 262 finished with value: 5.784486584354572 and parameters: {'lambda1': 0.051423518224207904, 'lambda2': 0.44155463511427684, 'lambda3': 0.9453770594414826}. Best is trial 258 with value: 5.783820084690951.\u001b[0m\n",
      "\u001b[32m[I 2021-04-24 23:48:43,161]\u001b[0m Trial 263 finished with value: 5.847380944310014 and parameters: {'lambda1': 0.0267397859523148, 'lambda2': 0.41866430019161893, 'lambda3': 0.9479758325317389}. Best is trial 258 with value: 5.783820084690951.\u001b[0m\n",
      "\u001b[32m[I 2021-04-24 23:48:56,632]\u001b[0m Trial 264 finished with value: 5.785748091834878 and parameters: {'lambda1': 0.05139953959598053, 'lambda2': 0.4349409920132862, 'lambda3': 0.9154416337784468}. Best is trial 258 with value: 5.783820084690951.\u001b[0m\n",
      "\u001b[32m[I 2021-04-24 23:49:10,725]\u001b[0m Trial 265 finished with value: 6.071144194755011 and parameters: {'lambda1': 0.009606570912362958, 'lambda2': 0.46239668113937354, 'lambda3': 0.9581832195464065}. Best is trial 258 with value: 5.783820084690951.\u001b[0m\n",
      "\u001b[32m[I 2021-04-24 23:49:23,856]\u001b[0m Trial 266 finished with value: 5.800993037895492 and parameters: {'lambda1': 0.03778345650928591, 'lambda2': 0.44994850296091865, 'lambda3': 0.9287867084353134}. Best is trial 258 with value: 5.783820084690951.\u001b[0m\n",
      "\u001b[32m[I 2021-04-24 23:49:37,393]\u001b[0m Trial 267 finished with value: 5.783963650611848 and parameters: {'lambda1': 0.05462179610673448, 'lambda2': 0.4079412419422046, 'lambda3': 0.99245910738298}. Best is trial 258 with value: 5.783820084690951.\u001b[0m\n",
      "\u001b[32m[I 2021-04-24 23:49:51,561]\u001b[0m Trial 268 finished with value: 5.784224183827681 and parameters: {'lambda1': 0.05330429049180096, 'lambda2': 0.40530743798863655, 'lambda3': 0.9815920803434741}. Best is trial 258 with value: 5.783820084690951.\u001b[0m\n",
      "\u001b[32m[I 2021-04-24 23:50:06,965]\u001b[0m Trial 269 finished with value: 5.885740370946357 and parameters: {'lambda1': 0.021544858325490038, 'lambda2': 0.4012660087153191, 'lambda3': 0.9740978130932373}. Best is trial 258 with value: 5.783820084690951.\u001b[0m\n",
      "\u001b[32m[I 2021-04-24 23:50:20,705]\u001b[0m Trial 270 finished with value: 5.78566482901364 and parameters: {'lambda1': 0.04976277029809459, 'lambda2': 0.4288971375600364, 'lambda3': 0.9464725155031596}. Best is trial 258 with value: 5.783820084690951.\u001b[0m\n",
      "\u001b[32m[I 2021-04-24 23:50:36,603]\u001b[0m Trial 271 finished with value: 6.611086010605449 and parameters: {'lambda1': 0.0016382904883224525, 'lambda2': 0.4083547099527185, 'lambda3': 0.9990017034633147}. Best is trial 258 with value: 5.783820084690951.\u001b[0m\n",
      "\u001b[32m[I 2021-04-24 23:50:50,960]\u001b[0m Trial 272 finished with value: 5.785360325784453 and parameters: {'lambda1': 0.057913549107464816, 'lambda2': 0.37986767262543514, 'lambda3': 0.9105518380338204}. Best is trial 258 with value: 5.783820084690951.\u001b[0m\n",
      "\u001b[32m[I 2021-04-24 23:51:05,855]\u001b[0m Trial 273 finished with value: 5.810613511020235 and parameters: {'lambda1': 0.03257699140826648, 'lambda2': 0.4426152960881227, 'lambda3': 0.9709584804894821}. Best is trial 258 with value: 5.783820084690951.\u001b[0m\n",
      "\u001b[32m[I 2021-04-24 23:51:19,091]\u001b[0m Trial 274 finished with value: 5.785375662428638 and parameters: {'lambda1': 0.054203108305096365, 'lambda2': 0.4704867295706689, 'lambda3': 1.0135337954626644}. Best is trial 258 with value: 5.783820084690951.\u001b[0m\n",
      "\u001b[32m[I 2021-04-24 23:51:32,786]\u001b[0m Trial 275 finished with value: 5.820544724552239 and parameters: {'lambda1': 0.03287791104949499, 'lambda2': 0.41134405560670745, 'lambda3': 0.9413080357040569}. Best is trial 258 with value: 5.783820084690951.\u001b[0m\n",
      "\u001b[32m[I 2021-04-24 23:51:48,992]\u001b[0m Trial 276 finished with value: 6.647430422505206 and parameters: {'lambda1': 0.0012420031193730724, 'lambda2': 0.4903582735998958, 'lambda3': 0.9944947584498341}. Best is trial 258 with value: 5.783820084690951.\u001b[0m\n",
      "\u001b[32m[I 2021-04-24 23:52:05,557]\u001b[0m Trial 277 finished with value: 5.797927540138528 and parameters: {'lambda1': 0.09853016723440283, 'lambda2': 0.3847493011174584, 'lambda3': 0.8383338322456724}. Best is trial 258 with value: 5.783820084690951.\u001b[0m\n",
      "\u001b[32m[I 2021-04-24 23:52:20,573]\u001b[0m Trial 278 finished with value: 5.784837731745161 and parameters: {'lambda1': 0.059049507483750256, 'lambda2': 0.43462967209327086, 'lambda3': 0.9743653972737227}. Best is trial 258 with value: 5.783820084690951.\u001b[0m\n",
      "\u001b[32m[I 2021-04-24 23:52:34,062]\u001b[0m Trial 279 finished with value: 5.784320088482561 and parameters: {'lambda1': 0.06167970951183327, 'lambda2': 0.4314797841732443, 'lambda3': 0.9207732298005593}. Best is trial 258 with value: 5.783820084690951.\u001b[0m\n",
      "\u001b[32m[I 2021-04-24 23:52:47,980]\u001b[0m Trial 280 finished with value: 5.785436587977436 and parameters: {'lambda1': 0.05329097236732386, 'lambda2': 0.438402712141081, 'lambda3': 0.8953241319856157}. Best is trial 258 with value: 5.783820084690951.\u001b[0m\n",
      "\u001b[32m[I 2021-04-24 23:53:02,010]\u001b[0m Trial 281 finished with value: 5.885804553530226 and parameters: {'lambda1': 0.02406087630972666, 'lambda2': 0.424507902634836, 'lambda3': 0.8683834224013346}. Best is trial 258 with value: 5.783820084690951.\u001b[0m\n",
      "\u001b[32m[I 2021-04-24 23:53:16,001]\u001b[0m Trial 282 finished with value: 5.7920751480304835 and parameters: {'lambda1': 0.041378238260728256, 'lambda2': 0.4537989793475367, 'lambda3': 0.9453779093219605}. Best is trial 258 with value: 5.783820084690951.\u001b[0m\n",
      "\u001b[32m[I 2021-04-24 23:53:29,603]\u001b[0m Trial 283 finished with value: 5.78403310966297 and parameters: {'lambda1': 0.06006762012053654, 'lambda2': 0.41349086257168843, 'lambda3': 0.9205927852957841}. Best is trial 258 with value: 5.783820084690951.\u001b[0m\n",
      "\u001b[32m[I 2021-04-24 23:53:44,318]\u001b[0m Trial 284 finished with value: 5.784100320899493 and parameters: {'lambda1': 0.061503425002696906, 'lambda2': 0.40188347410856473, 'lambda3': 0.9145318559917366}. Best is trial 258 with value: 5.783820084690951.\u001b[0m\n",
      "\u001b[32m[I 2021-04-24 23:54:00,757]\u001b[0m Trial 285 finished with value: 6.330002471897462 and parameters: {'lambda1': 0.6106014120416978, 'lambda2': 0.5408973949306316, 'lambda3': 0.9103928521190052}. Best is trial 258 with value: 5.783820084690951.\u001b[0m\n",
      "\u001b[32m[I 2021-04-24 23:54:16,078]\u001b[0m Trial 286 finished with value: 5.972841491814469 and parameters: {'lambda1': 0.015623915612160102, 'lambda2': 0.4050896034075573, 'lambda3': 0.9309986741840705}. Best is trial 258 with value: 5.783820084690951.\u001b[0m\n",
      "\u001b[32m[I 2021-04-24 23:54:30,832]\u001b[0m Trial 287 finished with value: 5.784154332335101 and parameters: {'lambda1': 0.06033852801180934, 'lambda2': 0.39319333179367305, 'lambda3': 0.9252901011832007}. Best is trial 258 with value: 5.783820084690951.\u001b[0m\n",
      "\u001b[32m[I 2021-04-24 23:54:45,627]\u001b[0m Trial 288 finished with value: 5.802965192589239 and parameters: {'lambda1': 0.040929014222149264, 'lambda2': 0.39349692514452095, 'lambda3': 0.9215797912930416}. Best is trial 258 with value: 5.783820084690951.\u001b[0m\n",
      "\u001b[32m[I 2021-04-24 23:55:00,669]\u001b[0m Trial 289 finished with value: 5.787206452949873 and parameters: {'lambda1': 0.056738080211173075, 'lambda2': 0.37380379083963056, 'lambda3': 0.8882367548049561}. Best is trial 258 with value: 5.783820084690951.\u001b[0m\n",
      "\u001b[32m[I 2021-04-24 23:55:13,589]\u001b[0m Trial 290 finished with value: 7.047846606036346 and parameters: {'lambda1': 0.0001321068717947682, 'lambda2': 0.4273038949991689, 'lambda3': 0.96495376162015}. Best is trial 258 with value: 5.783820084690951.\u001b[0m\n",
      "\u001b[32m[I 2021-04-24 23:55:26,965]\u001b[0m Trial 291 finished with value: 5.889028595857367 and parameters: {'lambda1': 0.02298463444996117, 'lambda2': 0.39514052876172473, 'lambda3': 0.9233550348366238}. Best is trial 258 with value: 5.783820084690951.\u001b[0m\n",
      "\u001b[32m[I 2021-04-24 23:55:41,249]\u001b[0m Trial 292 finished with value: 5.7846684503514 and parameters: {'lambda1': 0.05963702437110603, 'lambda2': 0.43811136744411916, 'lambda3': 0.9571935812103542}. Best is trial 258 with value: 5.783820084690951.\u001b[0m\n",
      "\u001b[32m[I 2021-04-24 23:55:53,906]\u001b[0m Trial 293 finished with value: 5.7887536896652225 and parameters: {'lambda1': 0.04245919470635552, 'lambda2': 0.467480466683715, 'lambda3': 0.9552608568115093}. Best is trial 258 with value: 5.783820084690951.\u001b[0m\n",
      "\u001b[32m[I 2021-04-24 23:56:08,417]\u001b[0m Trial 294 finished with value: 5.7842460103434465 and parameters: {'lambda1': 0.0573479290886516, 'lambda2': 0.4180885366671583, 'lambda3': 0.9146400385532928}. Best is trial 258 with value: 5.783820084690951.\u001b[0m\n",
      "\u001b[32m[I 2021-04-24 23:56:23,651]\u001b[0m Trial 295 finished with value: 5.903374795444666 and parameters: {'lambda1': 0.022346625460012644, 'lambda2': 0.41621425340356305, 'lambda3': 0.8704551630858158}. Best is trial 258 with value: 5.783820084690951.\u001b[0m\n",
      "\u001b[32m[I 2021-04-24 23:56:38,040]\u001b[0m Trial 296 finished with value: 5.783956762878039 and parameters: {'lambda1': 0.059099894509522605, 'lambda2': 0.44348382151976457, 'lambda3': 0.9054962379589747}. Best is trial 258 with value: 5.783820084690951.\u001b[0m\n",
      "\u001b[32m[I 2021-04-24 23:56:53,354]\u001b[0m Trial 297 finished with value: 5.816677265197479 and parameters: {'lambda1': 0.037480261238778706, 'lambda2': 0.44572152523000264, 'lambda3': 0.8348652991509945}. Best is trial 258 with value: 5.783820084690951.\u001b[0m\n",
      "\u001b[32m[I 2021-04-24 23:57:09,252]\u001b[0m Trial 298 finished with value: 5.7908633836955845 and parameters: {'lambda1': 0.053287002259193764, 'lambda2': 0.36518310536905774, 'lambda3': 0.8857624261121727}. Best is trial 258 with value: 5.783820084690951.\u001b[0m\n",
      "\u001b[32m[I 2021-04-24 23:57:24,452]\u001b[0m Trial 299 finished with value: 5.797621884095354 and parameters: {'lambda1': 0.09414132453072802, 'lambda2': 0.4037434290334547, 'lambda3': 0.8511518453773329}. Best is trial 258 with value: 5.783820084690951.\u001b[0m\n",
      "\u001b[32m[I 2021-04-24 23:57:39,902]\u001b[0m Trial 300 finished with value: 6.610162805390679 and parameters: {'lambda1': 0.001653078598794426, 'lambda2': 0.48990653390090183, 'lambda3': 0.9090306178767641}. Best is trial 258 with value: 5.783820084690951.\u001b[0m\n",
      "\u001b[32m[I 2021-04-24 23:57:54,759]\u001b[0m Trial 301 finished with value: 6.208687013892883 and parameters: {'lambda1': 0.4758165394502377, 'lambda2': 0.42449721996270917, 'lambda3': 0.924249047061837}. Best is trial 258 with value: 5.783820084690951.\u001b[0m\n",
      "\u001b[32m[I 2021-04-24 23:58:09,575]\u001b[0m Trial 302 finished with value: 5.784117621546964 and parameters: {'lambda1': 0.06140488681426187, 'lambda2': 0.44912836804773715, 'lambda3': 0.8915212804704824}. Best is trial 258 with value: 5.783820084690951.\u001b[0m\n",
      "\u001b[32m[I 2021-04-24 23:58:24,743]\u001b[0m Trial 303 finished with value: 5.825051215006516 and parameters: {'lambda1': 0.03205613348343608, 'lambda2': 0.45464113502104725, 'lambda3': 0.8873915862963259}. Best is trial 258 with value: 5.783820084690951.\u001b[0m\n",
      "\u001b[32m[I 2021-04-24 23:58:39,548]\u001b[0m Trial 304 finished with value: 5.786560859036513 and parameters: {'lambda1': 0.05748846662851736, 'lambda2': 0.43689673269436696, 'lambda3': 0.8221187861219094}. Best is trial 258 with value: 5.783820084690951.\u001b[0m\n",
      "\u001b[32m[I 2021-04-24 23:58:54,351]\u001b[0m Trial 305 finished with value: 5.964936337203344 and parameters: {'lambda1': 0.016110870312368547, 'lambda2': 0.4735826721271498, 'lambda3': 0.8592191367079689}. Best is trial 258 with value: 5.783820084690951.\u001b[0m\n",
      "\u001b[32m[I 2021-04-24 23:59:13,776]\u001b[0m Trial 306 finished with value: 5.795807417630713 and parameters: {'lambda1': 0.08452769768420793, 'lambda2': 0.40850581675874986, 'lambda3': 0.9118283168415535}. Best is trial 258 with value: 5.783820084690951.\u001b[0m\n",
      "\u001b[32m[I 2021-04-24 23:59:27,978]\u001b[0m Trial 307 finished with value: 5.785032815480711 and parameters: {'lambda1': 0.04458654075539476, 'lambda2': 0.5168844230807538, 'lambda3': 0.9421750350651978}. Best is trial 258 with value: 5.783820084690951.\u001b[0m\n",
      "\u001b[32m[I 2021-04-24 23:59:46,060]\u001b[0m Trial 308 finished with value: 5.784316737527561 and parameters: {'lambda1': 0.06378538697533626, 'lambda2': 0.38049699010391536, 'lambda3': 0.8961711094473662}. Best is trial 258 with value: 5.783820084690951.\u001b[0m\n",
      "\u001b[32m[I 2021-04-25 00:00:00,688]\u001b[0m Trial 309 finished with value: 5.787819381921486 and parameters: {'lambda1': 0.11048168198205237, 'lambda2': 0.37832909574353213, 'lambda3': 0.5009177570170049}. Best is trial 258 with value: 5.783820084690951.\u001b[0m\n",
      "\u001b[32m[I 2021-04-25 00:00:20,979]\u001b[0m Trial 310 finished with value: 5.838710141597829 and parameters: {'lambda1': 0.03196928707854845, 'lambda2': 0.3951477796407992, 'lambda3': 0.8870309577987673}. Best is trial 258 with value: 5.783820084690951.\u001b[0m\n",
      "\u001b[32m[I 2021-04-25 00:00:38,255]\u001b[0m Trial 311 finished with value: 5.784035692951508 and parameters: {'lambda1': 0.059566309397017805, 'lambda2': 0.4193387080127355, 'lambda3': 0.9118983997698453}. Best is trial 258 with value: 5.783820084690951.\u001b[0m\n",
      "\u001b[32m[I 2021-04-25 00:00:52,960]\u001b[0m Trial 312 finished with value: 6.76827269827457 and parameters: {'lambda1': 0.001050532912418703, 'lambda2': 0.3649916323654015, 'lambda3': 0.9038717576645813}. Best is trial 258 with value: 5.783820084690951.\u001b[0m\n",
      "\u001b[32m[I 2021-04-25 00:01:09,849]\u001b[0m Trial 313 finished with value: 5.796556456051402 and parameters: {'lambda1': 0.08968507926638619, 'lambda2': 0.41815703289603834, 'lambda3': 0.8629743535564929}. Best is trial 258 with value: 5.783820084690951.\u001b[0m\n",
      "\u001b[32m[I 2021-04-25 00:01:25,614]\u001b[0m Trial 314 finished with value: 5.798526111990976 and parameters: {'lambda1': 0.043624359989949194, 'lambda2': 0.3864832251565945, 'lambda3': 0.9216800059182796}. Best is trial 258 with value: 5.783820084690951.\u001b[0m\n",
      "\u001b[32m[I 2021-04-25 00:01:42,168]\u001b[0m Trial 315 finished with value: 5.786657307721792 and parameters: {'lambda1': 0.06701690682680982, 'lambda2': 0.35505560869203245, 'lambda3': 0.8056483658419685}. Best is trial 258 with value: 5.783820084690951.\u001b[0m\n",
      "\u001b[32m[I 2021-04-25 00:01:58,422]\u001b[0m Trial 316 finished with value: 5.859646235383288 and parameters: {'lambda1': 0.025340402734705114, 'lambda2': 0.45626078368265593, 'lambda3': 0.8945984840693832}. Best is trial 258 with value: 5.783820084690951.\u001b[0m\n",
      "\u001b[32m[I 2021-04-25 00:02:14,774]\u001b[0m Trial 317 finished with value: 5.78878053284162 and parameters: {'lambda1': 0.054043444149918046, 'lambda2': 0.4133438264696428, 'lambda3': 0.8486512370184061}. Best is trial 258 with value: 5.783820084690951.\u001b[0m\n",
      "\u001b[32m[I 2021-04-25 00:02:29,874]\u001b[0m Trial 318 finished with value: 5.79748824496027 and parameters: {'lambda1': 0.08631993226351042, 'lambda2': 0.3914592020462644, 'lambda3': 0.9333122513778767}. Best is trial 258 with value: 5.783820084690951.\u001b[0m\n",
      "\u001b[32m[I 2021-04-25 00:02:44,513]\u001b[0m Trial 319 finished with value: 6.032324998886193 and parameters: {'lambda1': 0.015210664876550865, 'lambda2': 0.4230382541125232, 'lambda3': 0.7769357996958052}. Best is trial 258 with value: 5.783820084690951.\u001b[0m\n",
      "\u001b[32m[I 2021-04-25 00:03:00,243]\u001b[0m Trial 320 finished with value: 5.7901277055041085 and parameters: {'lambda1': 0.07132102805542678, 'lambda2': 0.5003096158909225, 'lambda3': 0.8796182062202048}. Best is trial 258 with value: 5.783820084690951.\u001b[0m\n",
      "\u001b[32m[I 2021-04-25 00:03:15,305]\u001b[0m Trial 321 finished with value: 5.795301032667756 and parameters: {'lambda1': 0.03996282056134193, 'lambda2': 0.45068972577323824, 'lambda3': 0.9389649877593659}. Best is trial 258 with value: 5.783820084690951.\u001b[0m\n",
      "\u001b[32m[I 2021-04-25 00:03:31,943]\u001b[0m Trial 322 finished with value: 5.813048551939488 and parameters: {'lambda1': 0.10739559463989855, 'lambda2': 0.3750089012651644, 'lambda3': 0.910410629733003}. Best is trial 258 with value: 5.783820084690951.\u001b[0m\n",
      "\u001b[32m[I 2021-04-25 00:03:48,272]\u001b[0m Trial 323 finished with value: 5.785302995309524 and parameters: {'lambda1': 0.05861020521561684, 'lambda2': 0.4698283174215765, 'lambda3': 0.9588578204832826}. Best is trial 258 with value: 5.783820084690951.\u001b[0m\n",
      "\u001b[32m[I 2021-04-25 00:04:02,833]\u001b[0m Trial 324 finished with value: 5.791692203287054 and parameters: {'lambda1': 0.08858214509037936, 'lambda2': 0.3976736559313434, 'lambda3': 0.8357889708299509}. Best is trial 258 with value: 5.783820084690951.\u001b[0m\n",
      "\u001b[32m[I 2021-04-25 00:04:17,560]\u001b[0m Trial 325 finished with value: 6.534095288184198 and parameters: {'lambda1': 0.9800538313470003, 'lambda2': 0.43897676826426574, 'lambda3': 1.5846744975566034}. Best is trial 258 with value: 5.783820084690951.\u001b[0m\n",
      "\u001b[32m[I 2021-04-25 00:04:33,292]\u001b[0m Trial 326 finished with value: 5.80846967878694 and parameters: {'lambda1': 0.040351181218005676, 'lambda2': 0.41120875860872247, 'lambda3': 0.870225154350802}. Best is trial 258 with value: 5.783820084690951.\u001b[0m\n",
      "\u001b[32m[I 2021-04-25 00:04:46,531]\u001b[0m Trial 327 finished with value: 6.791272063617901 and parameters: {'lambda1': 0.0007596293614908559, 'lambda2': 0.4203355144612158, 'lambda3': 0.9799625343910349}. Best is trial 258 with value: 5.783820084690951.\u001b[0m\n",
      "\u001b[32m[I 2021-04-25 00:05:00,506]\u001b[0m Trial 328 finished with value: 5.784506771315863 and parameters: {'lambda1': 0.06682619662052457, 'lambda2': 0.3651134022473937, 'lambda3': 0.9356256280121679}. Best is trial 258 with value: 5.783820084690951.\u001b[0m\n",
      "\u001b[32m[I 2021-04-25 00:05:15,704]\u001b[0m Trial 329 finished with value: 5.879032160285732 and parameters: {'lambda1': 0.0227655370626639, 'lambda2': 0.4463729073047697, 'lambda3': 0.9069902914442272}. Best is trial 258 with value: 5.783820084690951.\u001b[0m\n",
      "\u001b[32m[I 2021-04-25 00:05:30,365]\u001b[0m Trial 330 finished with value: 5.783871561542527 and parameters: {'lambda1': 0.05144499592396384, 'lambda2': 0.47806270179793675, 'lambda3': 0.9827710654351292}. Best is trial 258 with value: 5.783820084690951.\u001b[0m\n",
      "\u001b[32m[I 2021-04-25 00:05:45,249]\u001b[0m Trial 331 finished with value: 5.813042807662252 and parameters: {'lambda1': 0.08388586787727176, 'lambda2': 0.4795173798438109, 'lambda3': 0.9799436648698105}. Best is trial 258 with value: 5.783820084690951.\u001b[0m\n",
      "\u001b[32m[I 2021-04-25 00:05:58,334]\u001b[0m Trial 332 finished with value: 5.783998508669094 and parameters: {'lambda1': 0.05034272420430611, 'lambda2': 0.4656016343497982, 'lambda3': 0.9556162379347244}. Best is trial 258 with value: 5.783820084690951.\u001b[0m\n",
      "\u001b[32m[I 2021-04-25 00:06:11,906]\u001b[0m Trial 333 finished with value: 6.413657934004507 and parameters: {'lambda1': 0.7484739282893859, 'lambda2': 0.4961488528657018, 'lambda3': 0.9646586242766105}. Best is trial 258 with value: 5.783820084690951.\u001b[0m\n",
      "\u001b[32m[I 2021-04-25 00:06:25,237]\u001b[0m Trial 334 finished with value: 5.787597247691141 and parameters: {'lambda1': 0.06690578277630915, 'lambda2': 0.46840657333598446, 'lambda3': 0.9151278022590392}. Best is trial 258 with value: 5.783820084690951.\u001b[0m\n",
      "\u001b[32m[I 2021-04-25 00:06:40,787]\u001b[0m Trial 335 finished with value: 5.816100769788757 and parameters: {'lambda1': 0.032604201658479465, 'lambda2': 0.39588768493746934, 'lambda3': 0.9934194286300454}. Best is trial 258 with value: 5.783820084690951.\u001b[0m\n",
      "\u001b[32m[I 2021-04-25 00:06:55,358]\u001b[0m Trial 336 finished with value: 5.82242087388262 and parameters: {'lambda1': 0.10860762132999363, 'lambda2': 0.4622265111591922, 'lambda3': 0.8675585960881079}. Best is trial 258 with value: 5.783820084690951.\u001b[0m\n",
      "\u001b[32m[I 2021-04-25 00:07:10,977]\u001b[0m Trial 337 finished with value: 5.78592903146668 and parameters: {'lambda1': 0.04871554259364916, 'lambda2': 0.43266934687187886, 'lambda3': 0.9503843248698418}. Best is trial 258 with value: 5.783820084690951.\u001b[0m\n",
      "\u001b[32m[I 2021-04-25 00:07:26,996]\u001b[0m Trial 338 finished with value: 5.954250260840685 and parameters: {'lambda1': 0.01600835248265537, 'lambda2': 0.3818190349096335, 'lambda3': 0.9964854274226096}. Best is trial 258 with value: 5.783820084690951.\u001b[0m\n",
      "\u001b[32m[I 2021-04-25 00:07:41,267]\u001b[0m Trial 339 finished with value: 5.805924702950234 and parameters: {'lambda1': 0.08798848914184995, 'lambda2': 0.4779048703593235, 'lambda3': 0.8995640676797451}. Best is trial 258 with value: 5.783820084690951.\u001b[0m\n",
      "\u001b[32m[I 2021-04-25 00:07:55,174]\u001b[0m Trial 340 finished with value: 6.47432522169401 and parameters: {'lambda1': 0.8857251683775045, 'lambda2': 0.4096935607622183, 'lambda3': 0.9334200712744812}. Best is trial 258 with value: 5.783820084690951.\u001b[0m\n",
      "\u001b[32m[I 2021-04-25 00:08:12,417]\u001b[0m Trial 341 finished with value: 5.787783079848837 and parameters: {'lambda1': 0.06458668856861724, 'lambda2': 0.3490536021212611, 'lambda3': 0.8148866521332789}. Best is trial 258 with value: 5.783820084690951.\u001b[0m\n",
      "\u001b[32m[I 2021-04-25 00:08:26,855]\u001b[0m Trial 342 finished with value: 5.824070707006454 and parameters: {'lambda1': 0.030023808722128245, 'lambda2': 0.4292874630381859, 'lambda3': 0.9649484882970472}. Best is trial 258 with value: 5.783820084690951.\u001b[0m\n",
      "\u001b[32m[I 2021-04-25 00:08:41,912]\u001b[0m Trial 343 finished with value: 6.0341758256031515 and parameters: {'lambda1': 0.2660179215612004, 'lambda2': 0.525573378110306, 'lambda3': 0.8804731989082695}. Best is trial 258 with value: 5.783820084690951.\u001b[0m\n",
      "\u001b[32m[I 2021-04-25 00:08:56,373]\u001b[0m Trial 344 finished with value: 5.87600777098887 and parameters: {'lambda1': 0.1279185147956833, 'lambda2': 0.45029157977389794, 'lambda3': 1.0088841302757436}. Best is trial 258 with value: 5.783820084690951.\u001b[0m\n",
      "\u001b[32m[I 2021-04-25 00:09:12,113]\u001b[0m Trial 345 finished with value: 5.7843055283224825 and parameters: {'lambda1': 0.04858879327977764, 'lambda2': 0.5020187294728262, 'lambda3': 0.9244543818943282}. Best is trial 258 with value: 5.783820084690951.\u001b[0m\n",
      "\u001b[32m[I 2021-04-25 00:09:28,268]\u001b[0m Trial 346 finished with value: 5.796346840189411 and parameters: {'lambda1': 0.07544568198474791, 'lambda2': 0.5011391075627741, 'lambda3': 0.907965760480073}. Best is trial 258 with value: 5.783820084690951.\u001b[0m\n",
      "\u001b[32m[I 2021-04-25 00:09:43,040]\u001b[0m Trial 347 finished with value: 5.792442829890724 and parameters: {'lambda1': 0.04482192833809795, 'lambda2': 0.47756794456753804, 'lambda3': 0.864499484475501}. Best is trial 258 with value: 5.783820084690951.\u001b[0m\n",
      "\u001b[32m[I 2021-04-25 00:09:57,521]\u001b[0m Trial 348 finished with value: 5.813482503093238 and parameters: {'lambda1': 0.09963457646988821, 'lambda2': 0.5084606591046836, 'lambda3': 0.8361320834453456}. Best is trial 258 with value: 5.783820084690951.\u001b[0m\n",
      "\u001b[32m[I 2021-04-25 00:10:12,922]\u001b[0m Trial 349 finished with value: 5.902308209093297 and parameters: {'lambda1': 0.019192456648104463, 'lambda2': 0.45974430719180415, 'lambda3': 0.9322488643079085}. Best is trial 258 with value: 5.783820084690951.\u001b[0m\n",
      "\u001b[32m[I 2021-04-25 00:10:28,905]\u001b[0m Trial 350 finished with value: 5.78428695557676 and parameters: {'lambda1': 0.05961005371250076, 'lambda2': 0.48752530223810425, 'lambda3': 0.8947609222620714}. Best is trial 258 with value: 5.783820084690951.\u001b[0m\n",
      "\u001b[32m[I 2021-04-25 00:10:43,888]\u001b[0m Trial 351 finished with value: 6.237144854707062 and parameters: {'lambda1': 0.0014353660238330262, 'lambda2': 0.49664839758370427, 'lambda3': 1.775100156653174}. Best is trial 258 with value: 5.783820084690951.\u001b[0m\n",
      "\u001b[32m[I 2021-04-25 00:10:59,173]\u001b[0m Trial 352 finished with value: 5.798352505101255 and parameters: {'lambda1': 0.04023190560981782, 'lambda2': 0.4776609019450397, 'lambda3': 0.8803889261936426}. Best is trial 258 with value: 5.783820084690951.\u001b[0m\n",
      "\u001b[32m[I 2021-04-25 00:11:14,572]\u001b[0m Trial 353 finished with value: 5.812058616458377 and parameters: {'lambda1': 0.07543784541268761, 'lambda2': 0.5785727543905919, 'lambda3': 0.9578193104946532}. Best is trial 258 with value: 5.783820084690951.\u001b[0m\n",
      "\u001b[32m[I 2021-04-25 00:11:29,544]\u001b[0m Trial 354 finished with value: 5.783703531534962 and parameters: {'lambda1': 0.05284068670110105, 'lambda2': 0.5421454596009836, 'lambda3': 0.9017703733256573}. Best is trial 354 with value: 5.783703531534962.\u001b[0m\n",
      "\u001b[32m[I 2021-04-25 00:11:43,879]\u001b[0m Trial 355 finished with value: 5.807953347288091 and parameters: {'lambda1': 0.033148296474037324, 'lambda2': 0.5795113708480202, 'lambda3': 0.8541238554851005}. Best is trial 354 with value: 5.783703531534962.\u001b[0m\n",
      "\u001b[32m[I 2021-04-25 00:11:58,541]\u001b[0m Trial 356 finished with value: 5.7862936502361615 and parameters: {'lambda1': 0.05115940517352852, 'lambda2': 0.5549834258744029, 'lambda3': 0.9948919727332537}. Best is trial 354 with value: 5.783703531534962.\u001b[0m\n",
      "\u001b[32m[I 2021-04-25 00:12:13,654]\u001b[0m Trial 357 finished with value: 6.005263465586515 and parameters: {'lambda1': 0.011257939281127408, 'lambda2': 0.5304890619686291, 'lambda3': 0.9402363713335684}. Best is trial 354 with value: 5.783703531534962.\u001b[0m\n",
      "\u001b[32m[I 2021-04-25 00:12:28,467]\u001b[0m Trial 358 finished with value: 5.815196410398924 and parameters: {'lambda1': 0.07831269812380592, 'lambda2': 0.5466405495461453, 'lambda3': 0.9776438228480745}. Best is trial 354 with value: 5.783703531534962.\u001b[0m\n",
      "\u001b[32m[I 2021-04-25 00:12:44,014]\u001b[0m Trial 359 finished with value: 5.801028418543438 and parameters: {'lambda1': 0.09372549226970783, 'lambda2': 0.5094950175420602, 'lambda3': 0.7898767101166808}. Best is trial 354 with value: 5.783703531534962.\u001b[0m\n",
      "\u001b[32m[I 2021-04-25 00:12:59,300]\u001b[0m Trial 360 finished with value: 5.7865386795904215 and parameters: {'lambda1': 0.04726313334225761, 'lambda2': 0.48531286915708505, 'lambda3': 0.9025096366110206}. Best is trial 354 with value: 5.783703531534962.\u001b[0m\n",
      "\u001b[32m[I 2021-04-25 00:13:12,707]\u001b[0m Trial 361 finished with value: 5.807260784727725 and parameters: {'lambda1': 0.030757253877837988, 'lambda2': 0.4570570966226461, 'lambda3': 1.0161409817922868}. Best is trial 354 with value: 5.783703531534962.\u001b[0m\n",
      "\u001b[32m[I 2021-04-25 00:13:26,128]\u001b[0m Trial 362 finished with value: 5.840201191318668 and parameters: {'lambda1': 0.1158370447845358, 'lambda2': 0.44376135806235817, 'lambda3': 0.9323253366381042}. Best is trial 354 with value: 5.783703531534962.\u001b[0m\n",
      "\u001b[32m[I 2021-04-25 00:13:41,458]\u001b[0m Trial 363 finished with value: 5.789201190593736 and parameters: {'lambda1': 0.05799066740822298, 'lambda2': 0.558843567373658, 'lambda3': 0.9569849868661959}. Best is trial 354 with value: 5.783703531534962.\u001b[0m\n",
      "\u001b[32m[I 2021-04-25 00:13:56,768]\u001b[0m Trial 364 finished with value: 6.050927390587996 and parameters: {'lambda1': 0.0028811599282378766, 'lambda2': 0.5138920949823965, 'lambda3': 1.7057125673806088}. Best is trial 354 with value: 5.783703531534962.\u001b[0m\n",
      "\u001b[32m[I 2021-04-25 00:14:11,707]\u001b[0m Trial 365 finished with value: 5.794350844645438 and parameters: {'lambda1': 0.0882573513719412, 'lambda2': 0.41544238844270076, 'lambda3': 0.8539729629546133}. Best is trial 354 with value: 5.783703531534962.\u001b[0m\n",
      "\u001b[32m[I 2021-04-25 00:14:26,428]\u001b[0m Trial 366 finished with value: 5.792878567053792 and parameters: {'lambda1': 0.02448046840446854, 'lambda2': 0.9944463778553255, 'lambda3': 0.9007545469373724}. Best is trial 354 with value: 5.783703531534962.\u001b[0m\n",
      "\u001b[32m[I 2021-04-25 00:14:43,670]\u001b[0m Trial 367 finished with value: 5.784213335584287 and parameters: {'lambda1': 0.06349406636033098, 'lambda2': 0.46157268711160065, 'lambda3': 0.8200955182727219}. Best is trial 354 with value: 5.783703531534962.\u001b[0m\n",
      "\u001b[32m[I 2021-04-25 00:15:01,258]\u001b[0m Trial 368 finished with value: 5.783910566965123 and parameters: {'lambda1': 0.045941184824765655, 'lambda2': 0.48897899306729936, 'lambda3': 0.9947222278186592}. Best is trial 354 with value: 5.783703531534962.\u001b[0m\n",
      "\u001b[32m[I 2021-04-25 00:15:20,390]\u001b[0m Trial 369 finished with value: 5.785232224345267 and parameters: {'lambda1': 0.07187765178782361, 'lambda2': 0.46450603189776174, 'lambda3': 0.8057713944111434}. Best is trial 354 with value: 5.783703531534962.\u001b[0m\n",
      "\u001b[32m[I 2021-04-25 00:15:37,008]\u001b[0m Trial 370 finished with value: 5.794246908503111 and parameters: {'lambda1': 0.035217728146388225, 'lambda2': 0.4724166104165342, 'lambda3': 1.0116002523836805}. Best is trial 354 with value: 5.783703531534962.\u001b[0m\n",
      "\u001b[32m[I 2021-04-25 00:15:51,495]\u001b[0m Trial 371 finished with value: 5.785574377992158 and parameters: {'lambda1': 0.05901138828234542, 'lambda2': 0.44296970206444714, 'lambda3': 0.9880863428837032}. Best is trial 354 with value: 5.783703531534962.\u001b[0m\n",
      "\u001b[32m[I 2021-04-25 00:16:07,193]\u001b[0m Trial 372 finished with value: 5.967754751339225 and parameters: {'lambda1': 0.01856863635895848, 'lambda2': 0.4885694321613825, 'lambda3': 0.7468856320569884}. Best is trial 354 with value: 5.783703531534962.\u001b[0m\n",
      "\u001b[32m[I 2021-04-25 00:16:20,974]\u001b[0m Trial 373 finished with value: 5.830075373735962 and parameters: {'lambda1': 0.09923604713957396, 'lambda2': 0.4604403581391779, 'lambda3': 0.9775311376432606}. Best is trial 354 with value: 5.783703531534962.\u001b[0m\n",
      "\u001b[32m[I 2021-04-25 00:16:34,425]\u001b[0m Trial 374 finished with value: 5.805229225127509 and parameters: {'lambda1': 0.07889735683013917, 'lambda2': 0.4343082552861859, 'lambda3': 1.018245273399374}. Best is trial 354 with value: 5.783703531534962.\u001b[0m\n",
      "\u001b[32m[I 2021-04-25 00:16:47,899]\u001b[0m Trial 375 finished with value: 5.799224028180088 and parameters: {'lambda1': 0.03835542253354261, 'lambda2': 0.42300856383721713, 'lambda3': 0.9633109908447539}. Best is trial 354 with value: 5.783703531534962.\u001b[0m\n",
      "\u001b[32m[I 2021-04-25 00:17:01,328]\u001b[0m Trial 376 finished with value: 5.790089777453788 and parameters: {'lambda1': 0.05770772105466165, 'lambda2': 0.5240586480666282, 'lambda3': 1.0002509071125512}. Best is trial 354 with value: 5.783703531534962.\u001b[0m\n",
      "\u001b[32m[I 2021-04-25 00:17:14,812]\u001b[0m Trial 377 finished with value: 5.925397164647737 and parameters: {'lambda1': 0.01723804313947768, 'lambda2': 0.6012348636365145, 'lambda3': 0.8204640621549204}. Best is trial 354 with value: 5.783703531534962.\u001b[0m\n",
      "\u001b[32m[I 2021-04-25 00:17:28,187]\u001b[0m Trial 378 finished with value: 6.01213445034107 and parameters: {'lambda1': 0.07779363278467533, 'lambda2': 0.44901528484515313, 'lambda3': 1.8275857759794647}. Best is trial 354 with value: 5.783703531534962.\u001b[0m\n",
      "\u001b[32m[I 2021-04-25 00:17:41,921]\u001b[0m Trial 379 finished with value: 5.783756580266862 and parameters: {'lambda1': 0.04649233566699354, 'lambda2': 0.48510824364571775, 'lambda3': 1.0250298560169193}. Best is trial 354 with value: 5.783703531534962.\u001b[0m\n",
      "\u001b[32m[I 2021-04-25 00:17:55,510]\u001b[0m Trial 380 finished with value: 6.739868337824656 and parameters: {'lambda1': 0.0009068666255536428, 'lambda2': 0.414437780979978, 'lambda3': 1.0288213047397385}. Best is trial 354 with value: 5.783703531534962.\u001b[0m\n",
      "\u001b[32m[I 2021-04-25 00:18:09,452]\u001b[0m Trial 381 finished with value: 5.791055745751212 and parameters: {'lambda1': 0.03713657866465616, 'lambda2': 0.45917347843466694, 'lambda3': 1.0255734169639092}. Best is trial 354 with value: 5.783703531534962.\u001b[0m\n",
      "\u001b[32m[I 2021-04-25 00:18:23,799]\u001b[0m Trial 382 finished with value: 5.788225528627735 and parameters: {'lambda1': 0.04585579662697262, 'lambda2': 0.40130310340881015, 'lambda3': 0.9883279777986961}. Best is trial 354 with value: 5.783703531534962.\u001b[0m\n",
      "\u001b[32m[I 2021-04-25 00:18:37,585]\u001b[0m Trial 383 finished with value: 5.817706649352676 and parameters: {'lambda1': 0.09624579732386263, 'lambda2': 0.43024303541097614, 'lambda3': 0.9621696709247861}. Best is trial 354 with value: 5.783703531534962.\u001b[0m\n",
      "\u001b[32m[I 2021-04-25 00:18:50,798]\u001b[0m Trial 384 finished with value: 5.808001545681464 and parameters: {'lambda1': 0.028782171140950063, 'lambda2': 0.47735798864069956, 'lambda3': 1.0333425978585893}. Best is trial 354 with value: 5.783703531534962.\u001b[0m\n",
      "\u001b[32m[I 2021-04-25 00:19:06,251]\u001b[0m Trial 385 finished with value: 5.793500353310763 and parameters: {'lambda1': 0.07034263093547415, 'lambda2': 0.43365218673736267, 'lambda3': 0.9956837440968529}. Best is trial 354 with value: 5.783703531534962.\u001b[0m\n",
      "\u001b[32m[I 2021-04-25 00:19:20,863]\u001b[0m Trial 386 finished with value: 6.542297159917846 and parameters: {'lambda1': 0.0022655829816483827, 'lambda2': 0.4046177498118094, 'lambda3': 0.9566643720007886}. Best is trial 354 with value: 5.783703531534962.\u001b[0m\n",
      "\u001b[32m[I 2021-04-25 00:19:35,453]\u001b[0m Trial 387 finished with value: 5.784008598961677 and parameters: {'lambda1': 0.048611671250263194, 'lambda2': 0.45075451121893223, 'lambda3': 0.9976382237978146}. Best is trial 354 with value: 5.783703531534962.\u001b[0m\n",
      "\u001b[32m[I 2021-04-25 00:19:50,439]\u001b[0m Trial 388 finished with value: 5.876493163819973 and parameters: {'lambda1': 0.018593602276217758, 'lambda2': 0.45892915051368677, 'lambda3': 1.0390852134508717}. Best is trial 354 with value: 5.783703531534962.\u001b[0m\n",
      "\u001b[32m[I 2021-04-25 00:20:06,555]\u001b[0m Trial 389 finished with value: 5.783804333869669 and parameters: {'lambda1': 0.048118815347606585, 'lambda2': 0.4933430646294604, 'lambda3': 1.007990794896482}. Best is trial 354 with value: 5.783703531534962.\u001b[0m\n",
      "\u001b[32m[I 2021-04-25 00:20:23,069]\u001b[0m Trial 390 finished with value: 5.78626889123936 and parameters: {'lambda1': 0.03894051104750748, 'lambda2': 0.5044155285189531, 'lambda3': 1.0154446400679733}. Best is trial 354 with value: 5.783703531534962.\u001b[0m\n",
      "\u001b[32m[I 2021-04-25 00:20:38,564]\u001b[0m Trial 391 finished with value: 5.7838381191547805 and parameters: {'lambda1': 0.04735023246293798, 'lambda2': 0.47756153262912504, 'lambda3': 0.9947984650886716}. Best is trial 354 with value: 5.783703531534962.\u001b[0m\n",
      "\u001b[32m[I 2021-04-25 00:20:53,617]\u001b[0m Trial 392 finished with value: 5.867654859728693 and parameters: {'lambda1': 0.017376005774488765, 'lambda2': 0.5368426560180556, 'lambda3': 1.0321954407307745}. Best is trial 354 with value: 5.783703531534962.\u001b[0m\n",
      "\u001b[32m[I 2021-04-25 00:21:08,320]\u001b[0m Trial 393 finished with value: 5.790001852749174 and parameters: {'lambda1': 0.037486487502730655, 'lambda2': 0.49499238037964843, 'lambda3': 0.9929672930431916}. Best is trial 354 with value: 5.783703531534962.\u001b[0m\n",
      "\u001b[32m[I 2021-04-25 00:21:24,076]\u001b[0m Trial 394 finished with value: 5.820852235629621 and parameters: {'lambda1': 0.08243485736612244, 'lambda2': 0.4704715483669293, 'lambda3': 1.0481788492633943}. Best is trial 354 with value: 5.783703531534962.\u001b[0m\n",
      "\u001b[32m[I 2021-04-25 00:21:39,109]\u001b[0m Trial 395 finished with value: 5.783957686650185 and parameters: {'lambda1': 0.05016770299905847, 'lambda2': 0.4918824657758689, 'lambda3': 0.9943524277562188}. Best is trial 354 with value: 5.783703531534962.\u001b[0m\n",
      "\u001b[32m[I 2021-04-25 00:21:52,975]\u001b[0m Trial 396 finished with value: 6.411120191003429 and parameters: {'lambda1': 0.002903081802316708, 'lambda2': 0.487766955613644, 'lambda3': 0.9965905115601612}. Best is trial 354 with value: 5.783703531534962.\u001b[0m\n",
      "\u001b[32m[I 2021-04-25 00:22:06,743]\u001b[0m Trial 397 finished with value: 5.824691873212912 and parameters: {'lambda1': 0.024546678513895553, 'lambda2': 0.5085344219606085, 'lambda3': 1.0118618811787703}. Best is trial 354 with value: 5.783703531534962.\u001b[0m\n",
      "\u001b[32m[I 2021-04-25 00:22:21,650]\u001b[0m Trial 398 finished with value: 5.784005853039728 and parameters: {'lambda1': 0.04244847204488928, 'lambda2': 0.48842655311741723, 'lambda3': 1.046090636357505}. Best is trial 354 with value: 5.783703531534962.\u001b[0m\n",
      "\u001b[32m[I 2021-04-25 00:22:37,095]\u001b[0m Trial 399 finished with value: 5.7837662769837745 and parameters: {'lambda1': 0.0417756053498307, 'lambda2': 0.5120590492118905, 'lambda3': 1.054637599654664}. Best is trial 354 with value: 5.783703531534962.\u001b[0m\n",
      "\u001b[32m[I 2021-04-25 00:22:51,818]\u001b[0m Trial 400 finished with value: 5.880264248176739 and parameters: {'lambda1': 0.016414545693341394, 'lambda2': 0.5119949961386415, 'lambda3': 1.0505854170030449}. Best is trial 354 with value: 5.783703531534962.\u001b[0m\n",
      "\u001b[32m[I 2021-04-25 00:23:07,430]\u001b[0m Trial 401 finished with value: 5.783771883452095 and parameters: {'lambda1': 0.042612212836007746, 'lambda2': 0.5232692213974166, 'lambda3': 1.0517303546119852}. Best is trial 354 with value: 5.783703531534962.\u001b[0m\n",
      "\u001b[32m[I 2021-04-25 00:23:21,914]\u001b[0m Trial 402 finished with value: 6.1248235009667145 and parameters: {'lambda1': 0.0060252140549499345, 'lambda2': 0.542634792518196, 'lambda3': 1.0601207832868211}. Best is trial 354 with value: 5.783703531534962.\u001b[0m\n",
      "\u001b[32m[I 2021-04-25 00:23:36,856]\u001b[0m Trial 403 finished with value: 5.786704381386183 and parameters: {'lambda1': 0.03548328655882574, 'lambda2': 0.5326807376542881, 'lambda3': 1.0396303625626206}. Best is trial 354 with value: 5.783703531534962.\u001b[0m\n",
      "\u001b[32m[I 2021-04-25 00:23:51,549]\u001b[0m Trial 404 finished with value: 6.65627328184239 and parameters: {'lambda1': 0.0010194215058114686, 'lambda2': 0.523941832485245, 'lambda3': 1.0588777022505258}. Best is trial 354 with value: 5.783703531534962.\u001b[0m\n",
      "\u001b[32m[I 2021-04-25 00:24:06,789]\u001b[0m Trial 405 finished with value: 5.78361572908014 and parameters: {'lambda1': 0.041182343848726044, 'lambda2': 0.559843900391014, 'lambda3': 1.0305677022844741}. Best is trial 405 with value: 5.78361572908014.\u001b[0m\n",
      "\u001b[32m[I 2021-04-25 00:24:20,915]\u001b[0m Trial 406 finished with value: 5.792193679005045 and parameters: {'lambda1': 0.02764573284759439, 'lambda2': 0.5962782500475934, 'lambda3': 1.0666036402401156}. Best is trial 405 with value: 5.78361572908014.\u001b[0m\n",
      "\u001b[32m[I 2021-04-25 00:24:36,043]\u001b[0m Trial 407 finished with value: 5.78443637040883 and parameters: {'lambda1': 0.03667496079481432, 'lambda2': 0.5737594843623932, 'lambda3': 1.0311930516681351}. Best is trial 405 with value: 5.78361572908014.\u001b[0m\n",
      "\u001b[32m[I 2021-04-25 00:24:50,798]\u001b[0m Trial 408 finished with value: 5.839536102284439 and parameters: {'lambda1': 0.020147675897620836, 'lambda2': 0.5604690614731619, 'lambda3': 1.022063503675446}. Best is trial 405 with value: 5.78361572908014.\u001b[0m\n",
      "\u001b[32m[I 2021-04-25 00:25:06,358]\u001b[0m Trial 409 finished with value: 5.783730188749645 and parameters: {'lambda1': 0.04227254931977704, 'lambda2': 0.5217834523379552, 'lambda3': 1.0500775511055884}. Best is trial 405 with value: 5.78361572908014.\u001b[0m\n",
      "\u001b[32m[I 2021-04-25 00:25:21,549]\u001b[0m Trial 410 finished with value: 6.199887781383488 and parameters: {'lambda1': 0.37642938707374896, 'lambda2': 0.5229169598754304, 'lambda3': 1.053170479693737}. Best is trial 405 with value: 5.78361572908014.\u001b[0m\n",
      "\u001b[32m[I 2021-04-25 00:25:36,515]\u001b[0m Trial 411 finished with value: 5.78375030826491 and parameters: {'lambda1': 0.04456919044086931, 'lambda2': 0.5415988517462059, 'lambda3': 1.0153516335895771}. Best is trial 405 with value: 5.78361572908014.\u001b[0m\n",
      "\u001b[32m[I 2021-04-25 00:25:51,796]\u001b[0m Trial 412 finished with value: 5.950201250543423 and parameters: {'lambda1': 0.01172167428420258, 'lambda2': 0.5612223758897715, 'lambda3': 1.018126353028654}. Best is trial 405 with value: 5.78361572908014.\u001b[0m\n",
      "\u001b[32m[I 2021-04-25 00:26:05,885]\u001b[0m Trial 413 finished with value: 6.616846069692819 and parameters: {'lambda1': 0.001120021148668257, 'lambda2': 0.5458250747478688, 'lambda3': 1.0749076929944206}. Best is trial 405 with value: 5.78361572908014.\u001b[0m\n",
      "\u001b[32m[I 2021-04-25 00:26:19,578]\u001b[0m Trial 414 finished with value: 5.784019615591486 and parameters: {'lambda1': 0.039526438585938295, 'lambda2': 0.5323180229206245, 'lambda3': 1.042128500363635}. Best is trial 405 with value: 5.78361572908014.\u001b[0m\n",
      "\u001b[32m[I 2021-04-25 00:26:33,347]\u001b[0m Trial 415 finished with value: 5.7858858069917245 and parameters: {'lambda1': 0.0364792053363906, 'lambda2': 0.5296999958070441, 'lambda3': 1.0404905497637928}. Best is trial 405 with value: 5.78361572908014.\u001b[0m\n",
      "\u001b[32m[I 2021-04-25 00:26:47,704]\u001b[0m Trial 416 finished with value: 6.996193129351445 and parameters: {'lambda1': 0.00037533638136649783, 'lambda2': 0.5507128637475452, 'lambda3': 0.5531255034226858}. Best is trial 405 with value: 5.78361572908014.\u001b[0m\n",
      "\u001b[32m[I 2021-04-25 00:27:01,597]\u001b[0m Trial 417 finished with value: 5.809264230844429 and parameters: {'lambda1': 0.022937740103514907, 'lambda2': 0.5754293062361461, 'lambda3': 1.0731208238890035}. Best is trial 405 with value: 5.78361572908014.\u001b[0m\n",
      "\u001b[32m[I 2021-04-25 00:27:16,305]\u001b[0m Trial 418 finished with value: 5.783979314450715 and parameters: {'lambda1': 0.04211856600982205, 'lambda2': 0.5205371069325654, 'lambda3': 1.0131205977183997}. Best is trial 405 with value: 5.78361572908014.\u001b[0m\n",
      "\u001b[32m[I 2021-04-25 00:27:31,602]\u001b[0m Trial 419 finished with value: 5.784382260261457 and parameters: {'lambda1': 0.03945960691887149, 'lambda2': 0.535211832516482, 'lambda3': 1.0232996420353546}. Best is trial 405 with value: 5.78361572908014.\u001b[0m\n",
      "\u001b[32m[I 2021-04-25 00:27:46,110]\u001b[0m Trial 420 finished with value: 5.842383755670165 and parameters: {'lambda1': 0.020540844767145322, 'lambda2': 0.5074062141155233, 'lambda3': 1.04891826211443}. Best is trial 405 with value: 5.78361572908014.\u001b[0m\n",
      "\u001b[32m[I 2021-04-25 00:28:00,692]\u001b[0m Trial 421 finished with value: 5.783686127852127 and parameters: {'lambda1': 0.04348587583558874, 'lambda2': 0.5267912559082925, 'lambda3': 1.0077228215377074}. Best is trial 405 with value: 5.78361572908014.\u001b[0m\n",
      "\u001b[32m[I 2021-04-25 00:28:14,772]\u001b[0m Trial 422 finished with value: 5.7840500467445555 and parameters: {'lambda1': 0.04474535712543897, 'lambda2': 0.4925240500373048, 'lambda3': 0.9997891794601109}. Best is trial 405 with value: 5.78361572908014.\u001b[0m\n",
      "\u001b[32m[I 2021-04-25 00:28:30,304]\u001b[0m Trial 423 finished with value: 6.234451742711641 and parameters: {'lambda1': 0.004262247842418354, 'lambda2': 0.6151492661704517, 'lambda3': 0.9953254089183807}. Best is trial 405 with value: 5.78361572908014.\u001b[0m\n",
      "\u001b[32m[I 2021-04-25 00:28:44,509]\u001b[0m Trial 424 finished with value: 5.8252002463829 and parameters: {'lambda1': 0.024041341264446497, 'lambda2': 0.5130026428639927, 'lambda3': 1.0183646677041664}. Best is trial 405 with value: 5.78361572908014.\u001b[0m\n",
      "\u001b[32m[I 2021-04-25 00:28:59,244]\u001b[0m Trial 425 finished with value: 6.679853992216079 and parameters: {'lambda1': 0.0010152289419229146, 'lambda2': 0.5195785755064604, 'lambda3': 1.008179713119722}. Best is trial 405 with value: 5.78361572908014.\u001b[0m\n",
      "\u001b[32m[I 2021-04-25 00:29:14,005]\u001b[0m Trial 426 finished with value: 5.788974151525833 and parameters: {'lambda1': 0.048477777549527944, 'lambda2': 0.5465595578503951, 'lambda3': 1.0749190888982856}. Best is trial 405 with value: 5.78361572908014.\u001b[0m\n",
      "\u001b[32m[I 2021-04-25 00:29:28,883]\u001b[0m Trial 427 finished with value: 5.78384281245943 and parameters: {'lambda1': 0.046277536291275415, 'lambda2': 0.49786982016203796, 'lambda3': 0.9840634678806242}. Best is trial 405 with value: 5.78361572908014.\u001b[0m\n",
      "\u001b[32m[I 2021-04-25 00:29:44,227]\u001b[0m Trial 428 finished with value: 5.818505818792752 and parameters: {'lambda1': 0.07858510520146762, 'lambda2': 0.5055903946214939, 'lambda3': 1.0313254773019742}. Best is trial 405 with value: 5.78361572908014.\u001b[0m\n",
      "\u001b[32m[I 2021-04-25 00:29:57,024]\u001b[0m Trial 429 finished with value: 5.817022940262392 and parameters: {'lambda1': 0.02511399551610793, 'lambda2': 0.5715563473485026, 'lambda3': 0.9787338797520747}. Best is trial 405 with value: 5.78361572908014.\u001b[0m\n",
      "\u001b[32m[I 2021-04-25 00:30:11,245]\u001b[0m Trial 430 finished with value: 5.783852891774449 and parameters: {'lambda1': 0.04467511456317789, 'lambda2': 0.49557571205166423, 'lambda3': 1.0524586137998977}. Best is trial 405 with value: 5.78361572908014.\u001b[0m\n",
      "\u001b[32m[I 2021-04-25 00:30:26,683]\u001b[0m Trial 431 finished with value: 5.838576772172653 and parameters: {'lambda1': 0.08203623947140587, 'lambda2': 0.5225658980163941, 'lambda3': 1.086508501483634}. Best is trial 405 with value: 5.78361572908014.\u001b[0m\n",
      "\u001b[32m[I 2021-04-25 00:30:40,979]\u001b[0m Trial 432 finished with value: 5.873749031978842 and parameters: {'lambda1': 0.018365947542516255, 'lambda2': 0.49857895687159337, 'lambda3': 1.0137646638034663}. Best is trial 405 with value: 5.78361572908014.\u001b[0m\n",
      "\u001b[32m[I 2021-04-25 00:30:55,510]\u001b[0m Trial 433 finished with value: 5.7844307647039095 and parameters: {'lambda1': 0.04976070753186479, 'lambda2': 0.5459792469279148, 'lambda3': 0.9761543929252043}. Best is trial 405 with value: 5.78361572908014.\u001b[0m\n",
      "\u001b[32m[I 2021-04-25 00:31:10,827]\u001b[0m Trial 434 finished with value: 5.795419093005594 and parameters: {'lambda1': 0.029854879209063725, 'lambda2': 0.5195156595504127, 'lambda3': 1.059957278055528}. Best is trial 405 with value: 5.78361572908014.\u001b[0m\n",
      "\u001b[32m[I 2021-04-25 00:31:25,592]\u001b[0m Trial 435 finished with value: 5.800154535595023 and parameters: {'lambda1': 0.06937285385783362, 'lambda2': 0.49145725115123134, 'lambda3': 1.0070986300004148}. Best is trial 405 with value: 5.78361572908014.\u001b[0m\n",
      "\u001b[32m[I 2021-04-25 00:31:40,842]\u001b[0m Trial 436 finished with value: 5.7861275947923705 and parameters: {'lambda1': 0.05016302527059006, 'lambda2': 0.588499608655256, 'lambda3': 0.9781659046646461}. Best is trial 405 with value: 5.78361572908014.\u001b[0m\n",
      "\u001b[32m[I 2021-04-25 00:31:55,997]\u001b[0m Trial 437 finished with value: 5.818723988621183 and parameters: {'lambda1': 0.07302067879642365, 'lambda2': 0.5579471834723501, 'lambda3': 1.032273492158101}. Best is trial 405 with value: 5.78361572908014.\u001b[0m\n",
      "\u001b[32m[I 2021-04-25 00:32:11,715]\u001b[0m Trial 438 finished with value: 5.877673505684842 and parameters: {'lambda1': 0.017832158163067036, 'lambda2': 0.5289258046429158, 'lambda3': 0.9903349495130316}. Best is trial 405 with value: 5.78361572908014.\u001b[0m\n",
      "\u001b[32m[I 2021-04-25 00:32:26,350]\u001b[0m Trial 439 finished with value: 6.539926610697067 and parameters: {'lambda1': 0.0015540244091942004, 'lambda2': 0.5044189651383605, 'lambda3': 1.0920448981158744}. Best is trial 405 with value: 5.78361572908014.\u001b[0m\n",
      "\u001b[32m[I 2021-04-25 00:32:41,510]\u001b[0m Trial 440 finished with value: 5.838692061627825 and parameters: {'lambda1': 0.09538237914676542, 'lambda2': 0.48506721345847126, 'lambda3': 1.0228535587902894}. Best is trial 405 with value: 5.78361572908014.\u001b[0m\n",
      "\u001b[32m[I 2021-04-25 00:32:57,433]\u001b[0m Trial 441 finished with value: 5.783668794779727 and parameters: {'lambda1': 0.04793847517522216, 'lambda2': 0.5332658337458069, 'lambda3': 0.97123356233844}. Best is trial 405 with value: 5.78361572908014.\u001b[0m\n",
      "\u001b[32m[I 2021-04-25 00:33:12,150]\u001b[0m Trial 442 finished with value: 5.787293556249429 and parameters: {'lambda1': 0.032314994248553955, 'lambda2': 0.5616098728939493, 'lambda3': 1.0618515749851853}. Best is trial 405 with value: 5.78361572908014.\u001b[0m\n",
      "\u001b[32m[I 2021-04-25 00:33:26,622]\u001b[0m Trial 443 finished with value: 5.800018584569227 and parameters: {'lambda1': 0.06490464683289338, 'lambda2': 0.5370627625556585, 'lambda3': 1.0073806456885674}. Best is trial 405 with value: 5.78361572908014.\u001b[0m\n",
      "\u001b[32m[I 2021-04-25 00:33:41,465]\u001b[0m Trial 444 finished with value: 5.785250084513258 and parameters: {'lambda1': 0.04203274497575294, 'lambda2': 0.5142260697952236, 'lambda3': 0.9772435517941697}. Best is trial 405 with value: 5.78361572908014.\u001b[0m\n",
      "\u001b[32m[I 2021-04-25 00:33:56,131]\u001b[0m Trial 445 finished with value: 5.82715652315971 and parameters: {'lambda1': 0.07832635778172096, 'lambda2': 0.5413925628970466, 'lambda3': 1.0451724377420366}. Best is trial 405 with value: 5.78361572908014.\u001b[0m\n",
      "\u001b[32m[I 2021-04-25 00:34:09,954]\u001b[0m Trial 446 finished with value: 5.8528043063982365 and parameters: {'lambda1': 0.019917857390717858, 'lambda2': 0.520515535164047, 'lambda3': 1.0147012438117047}. Best is trial 405 with value: 5.78361572908014.\u001b[0m\n",
      "\u001b[32m[I 2021-04-25 00:34:23,462]\u001b[0m Trial 447 finished with value: 6.630841902097427 and parameters: {'lambda1': 0.0011511913555211986, 'lambda2': 0.49464060921652026, 'lambda3': 1.076447662331623}. Best is trial 405 with value: 5.78361572908014.\u001b[0m\n",
      "\u001b[32m[I 2021-04-25 00:34:38,343]\u001b[0m Trial 448 finished with value: 5.788144566837365 and parameters: {'lambda1': 0.05496951709472232, 'lambda2': 0.5585148677277699, 'lambda3': 0.9766669476746035}. Best is trial 405 with value: 5.78361572908014.\u001b[0m\n",
      "\u001b[32m[I 2021-04-25 00:34:53,572]\u001b[0m Trial 449 finished with value: 5.872416123609184 and parameters: {'lambda1': 0.11355230458925235, 'lambda2': 0.47992314027974686, 'lambda3': 1.0494272738724446}. Best is trial 405 with value: 5.78361572908014.\u001b[0m\n",
      "\u001b[32m[I 2021-04-25 00:35:08,186]\u001b[0m Trial 450 finished with value: 5.79458036654641 and parameters: {'lambda1': 0.0336887264544196, 'lambda2': 0.5081814159447313, 'lambda3': 1.0003699025513637}. Best is trial 405 with value: 5.78361572908014.\u001b[0m\n",
      "\u001b[32m[I 2021-04-25 00:35:25,844]\u001b[0m Trial 451 finished with value: 5.80339374163145 and parameters: {'lambda1': 0.06627688926631492, 'lambda2': 0.5352901024729622, 'lambda3': 1.0205390466320963}. Best is trial 405 with value: 5.78361572908014.\u001b[0m\n",
      "\u001b[32m[I 2021-04-25 00:35:40,482]\u001b[0m Trial 452 finished with value: 5.816713198153369 and parameters: {'lambda1': 0.08741437726547022, 'lambda2': 0.4836342145394583, 'lambda3': 0.9696690039472314}. Best is trial 405 with value: 5.78361572908014.\u001b[0m\n",
      "\u001b[32m[I 2021-04-25 00:35:54,218]\u001b[0m Trial 453 finished with value: 6.305080205223587 and parameters: {'lambda1': 0.45883563548841294, 'lambda2': 0.623193274366071, 'lambda3': 1.106843720704821}. Best is trial 405 with value: 5.78361572908014.\u001b[0m\n",
      "\u001b[32m[I 2021-04-25 00:36:08,895]\u001b[0m Trial 454 finished with value: 5.788323225960408 and parameters: {'lambda1': 0.04786959320034331, 'lambda2': 0.5809780977034862, 'lambda3': 1.0450956586788678}. Best is trial 405 with value: 5.78361572908014.\u001b[0m\n",
      "\u001b[32m[I 2021-04-25 00:36:23,582]\u001b[0m Trial 455 finished with value: 5.804916845835289 and parameters: {'lambda1': 0.029505470955220967, 'lambda2': 0.5239247722306717, 'lambda3': 0.9900220999120382}. Best is trial 405 with value: 5.78361572908014.\u001b[0m\n",
      "\u001b[32m[I 2021-04-25 00:36:38,522]\u001b[0m Trial 456 finished with value: 6.529617897673108 and parameters: {'lambda1': 0.0020190735486841013, 'lambda2': 0.499363480445875, 'lambda3': 0.9597982931353236}. Best is trial 405 with value: 5.78361572908014.\u001b[0m\n",
      "\u001b[32m[I 2021-04-25 00:36:55,429]\u001b[0m Trial 457 finished with value: 5.806556877486092 and parameters: {'lambda1': 0.06654812136877157, 'lambda2': 0.5591502050085584, 'lambda3': 1.0186361342083183}. Best is trial 405 with value: 5.78361572908014.\u001b[0m\n",
      "\u001b[32m[I 2021-04-25 00:37:10,020]\u001b[0m Trial 458 finished with value: 5.784965590399414 and parameters: {'lambda1': 0.048007470945730615, 'lambda2': 0.4771383146326678, 'lambda3': 1.0743534876178953}. Best is trial 405 with value: 5.78361572908014.\u001b[0m\n",
      "\u001b[32m[I 2021-04-25 00:37:24,679]\u001b[0m Trial 459 finished with value: 5.8413077867712895 and parameters: {'lambda1': 0.08867717165526406, 'lambda2': 0.5385045097069452, 'lambda3': 1.032515647711475}. Best is trial 405 with value: 5.78361572908014.\u001b[0m\n",
      "\u001b[32m[I 2021-04-25 00:37:40,873]\u001b[0m Trial 460 finished with value: 7.0107550863710655 and parameters: {'lambda1': 0.00015896179761018536, 'lambda2': 0.5119374419539674, 'lambda3': 0.9892304788646633}. Best is trial 405 with value: 5.78361572908014.\u001b[0m\n",
      "\u001b[32m[I 2021-04-25 00:37:55,383]\u001b[0m Trial 461 finished with value: 5.858488255595612 and parameters: {'lambda1': 0.021644047922850677, 'lambda2': 0.5023172794140005, 'lambda3': 0.9579639423834356}. Best is trial 405 with value: 5.78361572908014.\u001b[0m\n",
      "\u001b[32m[I 2021-04-25 00:38:11,645]\u001b[0m Trial 462 finished with value: 5.803555919203928 and parameters: {'lambda1': 0.06892002451384688, 'lambda2': 0.4784139347894716, 'lambda3': 1.0512932148509688}. Best is trial 405 with value: 5.78361572908014.\u001b[0m\n",
      "\u001b[32m[I 2021-04-25 00:38:25,444]\u001b[0m Trial 463 finished with value: 5.784464084792475 and parameters: {'lambda1': 0.0410464566282643, 'lambda2': 0.5260062086577961, 'lambda3': 1.0035222215130295}. Best is trial 405 with value: 5.78361572908014.\u001b[0m\n",
      "\u001b[32m[I 2021-04-25 00:38:38,398]\u001b[0m Trial 464 finished with value: 5.879861418131343 and parameters: {'lambda1': 0.09976547269566494, 'lambda2': 0.5469601188506816, 'lambda3': 1.0983457662779563}. Best is trial 405 with value: 5.78361572908014.\u001b[0m\n",
      "\u001b[32m[I 2021-04-25 00:38:53,760]\u001b[0m Trial 465 finished with value: 5.785163591471245 and parameters: {'lambda1': 0.05625659369672774, 'lambda2': 0.49447465628521703, 'lambda3': 0.9605829513165987}. Best is trial 405 with value: 5.78361572908014.\u001b[0m\n",
      "\u001b[32m[I 2021-04-25 00:39:08,246]\u001b[0m Trial 466 finished with value: 5.79775227049304 and parameters: {'lambda1': 0.028041378849216623, 'lambda2': 0.569589253601186, 'lambda3': 1.0320007093535826}. Best is trial 405 with value: 5.78361572908014.\u001b[0m\n",
      "\u001b[32m[I 2021-04-25 00:39:23,151]\u001b[0m Trial 467 finished with value: 5.807567384223353 and parameters: {'lambda1': 0.079255010548074, 'lambda2': 0.4745141359335806, 'lambda3': 0.9882804992785025}. Best is trial 405 with value: 5.78361572908014.\u001b[0m\n",
      "\u001b[32m[I 2021-04-25 00:39:36,588]\u001b[0m Trial 468 finished with value: 5.787896460010641 and parameters: {'lambda1': 0.04966178799139577, 'lambda2': 0.5194071718820649, 'lambda3': 1.0699768060335029}. Best is trial 405 with value: 5.78361572908014.\u001b[0m\n",
      "\u001b[32m[I 2021-04-25 00:39:49,818]\u001b[0m Trial 469 finished with value: 5.883487856653693 and parameters: {'lambda1': 0.015205360592576461, 'lambda2': 0.5991189824796254, 'lambda3': 1.009247926822791}. Best is trial 405 with value: 5.78361572908014.\u001b[0m\n",
      "\u001b[32m[I 2021-04-25 00:40:03,912]\u001b[0m Trial 470 finished with value: 5.796304284033095 and parameters: {'lambda1': 0.035804079551299266, 'lambda2': 0.4985388717698674, 'lambda3': 0.9544120976516228}. Best is trial 405 with value: 5.78361572908014.\u001b[0m\n",
      "\u001b[32m[I 2021-04-25 00:40:17,427]\u001b[0m Trial 471 finished with value: 5.90077614568756 and parameters: {'lambda1': 0.12342251525922535, 'lambda2': 0.5397682472433684, 'lambda3': 1.0350416774003937}. Best is trial 405 with value: 5.78361572908014.\u001b[0m\n",
      "\u001b[32m[I 2021-04-25 00:40:31,459]\u001b[0m Trial 472 finished with value: 5.792868376888562 and parameters: {'lambda1': 0.0667687278913454, 'lambda2': 0.4719073024957769, 'lambda3': 0.9845796742013422}. Best is trial 405 with value: 5.78361572908014.\u001b[0m\n",
      "\u001b[32m[I 2021-04-25 00:40:44,203]\u001b[0m Trial 473 finished with value: 5.790406626041173 and parameters: {'lambda1': 0.05383261806502089, 'lambda2': 0.5150594178956726, 'lambda3': 1.0566585073078374}. Best is trial 405 with value: 5.78361572908014.\u001b[0m\n",
      "\u001b[32m[I 2021-04-25 00:40:58,706]\u001b[0m Trial 474 finished with value: 5.882441851626837 and parameters: {'lambda1': 0.01497373817173412, 'lambda2': 0.4865714532445157, 'lambda3': 1.1304730143533972}. Best is trial 405 with value: 5.78361572908014.\u001b[0m\n",
      "\u001b[32m[I 2021-04-25 00:41:13,439]\u001b[0m Trial 475 finished with value: 5.831248631468054 and parameters: {'lambda1': 0.08334697052103032, 'lambda2': 0.5550100199382275, 'lambda3': 1.0127596616076884}. Best is trial 405 with value: 5.78361572908014.\u001b[0m\n",
      "\u001b[32m[I 2021-04-25 00:41:28,134]\u001b[0m Trial 476 finished with value: 5.790939571531227 and parameters: {'lambda1': 0.03594801258643157, 'lambda2': 0.5255802245398207, 'lambda3': 0.9790895497931453}. Best is trial 405 with value: 5.78361572908014.\u001b[0m\n",
      "\u001b[32m[I 2021-04-25 00:41:43,086]\u001b[0m Trial 477 finished with value: 6.534871016839259 and parameters: {'lambda1': 0.0017564803841216975, 'lambda2': 0.49466595705399796, 'lambda3': 1.038443997968724}. Best is trial 405 with value: 5.78361572908014.\u001b[0m\n",
      "\u001b[32m[I 2021-04-25 00:41:59,118]\u001b[0m Trial 478 finished with value: 6.375047276319174 and parameters: {'lambda1': 0.6915017499435996, 'lambda2': 0.47624322599879393, 'lambda3': 0.9488736798382257}. Best is trial 405 with value: 5.78361572908014.\u001b[0m\n",
      "\u001b[32m[I 2021-04-25 00:42:14,357]\u001b[0m Trial 479 finished with value: 5.86049100082502 and parameters: {'lambda1': 0.10275008045637364, 'lambda2': 0.4660420926769448, 'lambda3': 1.0876897466240845}. Best is trial 405 with value: 5.78361572908014.\u001b[0m\n",
      "\u001b[32m[I 2021-04-25 00:42:28,973]\u001b[0m Trial 480 finished with value: 5.864147908651295 and parameters: {'lambda1': 0.06873929353990146, 'lambda2': 0.9490120203903072, 'lambda3': 1.0071600701570018}. Best is trial 405 with value: 5.78361572908014.\u001b[0m\n",
      "\u001b[32m[I 2021-04-25 00:42:42,883]\u001b[0m Trial 481 finished with value: 5.783768818159035 and parameters: {'lambda1': 0.046633827749037356, 'lambda2': 0.5164212764512256, 'lambda3': 0.9635522016418736}. Best is trial 405 with value: 5.78361572908014.\u001b[0m\n",
      "\u001b[32m[I 2021-04-25 00:42:56,423]\u001b[0m Trial 482 finished with value: 5.791273421049312 and parameters: {'lambda1': 0.03646139520506737, 'lambda2': 0.5405213959675328, 'lambda3': 0.9529248588335322}. Best is trial 405 with value: 5.78361572908014.\u001b[0m\n",
      "\u001b[32m[I 2021-04-25 00:43:10,453]\u001b[0m Trial 483 finished with value: 6.83444446387284 and parameters: {'lambda1': 0.0005337736337861013, 'lambda2': 0.5088598203298295, 'lambda3': 0.9713900998174565}. Best is trial 405 with value: 5.78361572908014.\u001b[0m\n",
      "\u001b[32m[I 2021-04-25 00:43:23,904]\u001b[0m Trial 484 finished with value: 5.847751827774734 and parameters: {'lambda1': 0.021439134092668396, 'lambda2': 0.5275810072713448, 'lambda3': 0.9807927391289422}. Best is trial 405 with value: 5.78361572908014.\u001b[0m\n",
      "\u001b[32m[I 2021-04-25 00:43:37,540]\u001b[0m Trial 485 finished with value: 5.787743363068045 and parameters: {'lambda1': 0.05610971228460375, 'lambda2': 0.5712137695177859, 'lambda3': 0.9482551629181306}. Best is trial 405 with value: 5.78361572908014.\u001b[0m\n",
      "\u001b[32m[I 2021-04-25 00:43:51,315]\u001b[0m Trial 486 finished with value: 5.786951956982235 and parameters: {'lambda1': 0.037578316459362805, 'lambda2': 0.5055183172791895, 'lambda3': 1.025270574626052}. Best is trial 405 with value: 5.78361572908014.\u001b[0m\n",
      "\u001b[32m[I 2021-04-25 00:44:05,707]\u001b[0m Trial 487 finished with value: 5.8327578123046715 and parameters: {'lambda1': 0.07752948650411719, 'lambda2': 0.548930847345002, 'lambda3': 1.0715015127071326}. Best is trial 405 with value: 5.78361572908014.\u001b[0m\n",
      "\u001b[32m[I 2021-04-25 00:44:18,780]\u001b[0m Trial 488 finished with value: 5.784673008844409 and parameters: {'lambda1': 0.052036230310744606, 'lambda2': 0.49296648665374126, 'lambda3': 0.9995176355530665}. Best is trial 405 with value: 5.78361572908014.\u001b[0m\n",
      "\u001b[32m[I 2021-04-25 00:44:32,813]\u001b[0m Trial 489 finished with value: 5.833081515473896 and parameters: {'lambda1': 0.021573604193955376, 'lambda2': 0.5176731548476274, 'lambda3': 1.046671329930729}. Best is trial 405 with value: 5.78361572908014.\u001b[0m\n",
      "\u001b[32m[I 2021-04-25 00:44:47,314]\u001b[0m Trial 490 finished with value: 6.1076684357859925 and parameters: {'lambda1': 0.30168845617977125, 'lambda2': 0.540453923968943, 'lambda3': 0.9693869902493504}. Best is trial 405 with value: 5.78361572908014.\u001b[0m\n",
      "\u001b[32m[I 2021-04-25 00:45:00,836]\u001b[0m Trial 491 finished with value: 5.849658202150074 and parameters: {'lambda1': 0.09009661272039123, 'lambda2': 0.5846392995797804, 'lambda3': 1.0178244102987768}. Best is trial 405 with value: 5.78361572908014.\u001b[0m\n",
      "\u001b[32m[I 2021-04-25 00:45:14,596]\u001b[0m Trial 492 finished with value: 6.00466572584882 and parameters: {'lambda1': 0.2298644872756378, 'lambda2': 0.4829947059980169, 'lambda3': 0.9514776102612981}. Best is trial 405 with value: 5.78361572908014.\u001b[0m\n",
      "\u001b[32m[I 2021-04-25 00:45:31,168]\u001b[0m Trial 493 finished with value: 5.801241567317406 and parameters: {'lambda1': 0.06948802573804061, 'lambda2': 0.5122307371489309, 'lambda3': 0.9947817675874291}. Best is trial 405 with value: 5.78361572908014.\u001b[0m\n",
      "\u001b[32m[I 2021-04-25 00:45:45,056]\u001b[0m Trial 494 finished with value: 5.785921161116249 and parameters: {'lambda1': 0.03953430406416927, 'lambda2': 0.4621115302964873, 'lambda3': 1.0615968489424887}. Best is trial 405 with value: 5.78361572908014.\u001b[0m\n",
      "\u001b[32m[I 2021-04-25 00:45:58,459]\u001b[0m Trial 495 finished with value: 6.561514647306908 and parameters: {'lambda1': 0.0014522515199212466, 'lambda2': 0.5645252141777843, 'lambda3': 1.0290762787861678}. Best is trial 405 with value: 5.78361572908014.\u001b[0m\n",
      "\u001b[32m[I 2021-04-25 00:46:13,220]\u001b[0m Trial 496 finished with value: 5.959646663912059 and parameters: {'lambda1': 0.1457367297725047, 'lambda2': 0.5298212954608305, 'lambda3': 1.1146264650646893}. Best is trial 405 with value: 5.78361572908014.\u001b[0m\n",
      "\u001b[32m[I 2021-04-25 00:46:26,988]\u001b[0m Trial 497 finished with value: 5.784155792773076 and parameters: {'lambda1': 0.055335970986079085, 'lambda2': 0.4982308606218975, 'lambda3': 0.933720902139828}. Best is trial 405 with value: 5.78361572908014.\u001b[0m\n",
      "\u001b[32m[I 2021-04-25 00:46:40,563]\u001b[0m Trial 498 finished with value: 5.884813671160585 and parameters: {'lambda1': 0.01887025438981252, 'lambda2': 0.4814061406204956, 'lambda3': 0.9768538905468526}. Best is trial 405 with value: 5.78361572908014.\u001b[0m\n",
      "\u001b[32m[I 2021-04-25 00:46:54,373]\u001b[0m Trial 499 finished with value: 5.853270845840371 and parameters: {'lambda1': 0.10889386403117947, 'lambda2': 0.4661300833239679, 'lambda3': 1.014932049244637}. Best is trial 405 with value: 5.78361572908014.\u001b[0m\n"
     ]
    }
   ],
   "source": [
    "study = optuna.create_study(direction='minimize')\n",
    "study.optimize(objective, n_trials=500, timeout=14400)"
   ]
  },
  {
   "cell_type": "code",
   "execution_count": 31,
   "metadata": {},
   "outputs": [
    {
     "data": {
      "text/plain": [
       "{'lambda1': 0.041182343848726044,\n",
       " 'lambda2': 0.559843900391014,\n",
       " 'lambda3': 1.0305677022844741}"
      ]
     },
     "execution_count": 31,
     "metadata": {},
     "output_type": "execute_result"
    }
   ],
   "source": [
    "study.best_params"
   ]
  },
  {
   "cell_type": "code",
   "execution_count": 32,
   "metadata": {},
   "outputs": [
    {
     "data": {
      "text/plain": [
       "5.78361572908014"
      ]
     },
     "execution_count": 32,
     "metadata": {},
     "output_type": "execute_result"
    }
   ],
   "source": [
    "study.best_value"
   ]
  },
  {
   "cell_type": "markdown",
   "metadata": {
    "id": "hr363NMKBoJY"
   },
   "source": [
    "***"
   ]
  }
 ],
 "metadata": {
  "accelerator": "TPU",
  "colab": {
   "collapsed_sections": [],
   "machine_shape": "hm",
   "name": "iln-cm-tuning.ipynb",
   "provenance": []
  },
  "kernelspec": {
   "display_name": "Python 3",
   "language": "python",
   "name": "python3"
  },
  "language_info": {
   "codemirror_mode": {
    "name": "ipython",
    "version": 3
   },
   "file_extension": ".py",
   "mimetype": "text/x-python",
   "name": "python",
   "nbconvert_exporter": "python",
   "pygments_lexer": "ipython3",
   "version": "3.8.8"
  }
 },
 "nbformat": 4,
 "nbformat_minor": 4
}
