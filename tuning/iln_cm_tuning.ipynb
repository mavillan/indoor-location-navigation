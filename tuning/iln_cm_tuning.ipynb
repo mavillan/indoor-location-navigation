{
 "cells": [
  {
   "cell_type": "code",
   "execution_count": 1,
   "metadata": {
    "colab": {
     "base_uri": "https://localhost:8080/"
    },
    "id": "sqY3C6Rcx7eu",
    "outputId": "bf4eb384-a983-44bc-9dea-a0b2f8ee63ff"
   },
   "outputs": [],
   "source": [
    "#from google.colab import drive\n",
    "#from google.colab import files\n",
    "#drive.mount('/content/drive', force_remount=True)"
   ]
  },
  {
   "cell_type": "code",
   "execution_count": 2,
   "metadata": {
    "id": "mjmPj_B6yBjU"
   },
   "outputs": [],
   "source": [
    "#!pip install --upgrade kaggle > /dev/null 2>&1\n",
    "#!pip install optuna  > /dev/null 2>&1"
   ]
  },
  {
   "cell_type": "code",
   "execution_count": 3,
   "metadata": {
    "id": "UcDh7hZVyJdO"
   },
   "outputs": [],
   "source": [
    "# move kaggle.json into the folder where the API expects to find it\n",
    "#!mkdir -p ~/.kaggle/ && cp /content/drive/MyDrive/kaggle/kaggle.json ~/.kaggle/ && chmod 600 ~/.kaggle/kaggle.json"
   ]
  },
  {
   "cell_type": "markdown",
   "metadata": {
    "id": "DqJ91QRjyL7w"
   },
   "source": [
    "***"
   ]
  },
  {
   "cell_type": "code",
   "execution_count": 4,
   "metadata": {
    "id": "WZ09uR6fyKrK"
   },
   "outputs": [],
   "source": [
    "from glob import glob\n",
    "import numpy as np\n",
    "import pandas as pd\n",
    "import scipy.interpolate\n",
    "import scipy.sparse\n",
    "from tqdm import tqdm\n",
    "from joblib import Parallel,delayed\n",
    "import yaml\n",
    "\n",
    "import optuna\n",
    "#optuna.logging.set_verbosity(optuna.logging.ERROR)"
   ]
  },
  {
   "cell_type": "markdown",
   "metadata": {
    "id": "yhWl_DXKyeCF"
   },
   "source": [
    "***"
   ]
  },
  {
   "cell_type": "code",
   "execution_count": 5,
   "metadata": {
    "id": "ctfYH62uyPyk"
   },
   "outputs": [],
   "source": [
    "def mean_position_error(labels, preds):\n",
    "    x_label = labels.x.values\n",
    "    y_label = labels.y.values\n",
    "    x_pred = preds.x.values\n",
    "    y_pred = preds.y.values\n",
    "    return np.mean(np.sqrt((x_label-x_pred)**2 + (y_label-y_pred)**2))\n",
    "\n",
    "def correct_path(wp_preds, delta_preds, lambda1=0.1, lambda2=0.5, lambda3=2):\n",
    "\n",
    "    T_ref  = wp_preds['timestamp'].values\n",
    "    xy_preds = wp_preds[['x', 'y']].values\n",
    "    delta_preds = delta_preds.loc[:,[\"timestamp\",\"dx\",\"dy\"]].values\n",
    "\n",
    "    if T_ref[-1] > delta_preds[-1, 0]:\n",
    "        delta_preds = [np.array([[0, 0, 0]]), delta_preds, np.array([[T_ref[-1], 0, 0]])]\n",
    "    else:\n",
    "        delta_preds = [np.array([[0, 0, 0]]), delta_preds]\n",
    "    delta_preds = np.concatenate(delta_preds)\n",
    "    \n",
    "    T_rel = delta_preds[:, 0]\n",
    "    delta_xy_preds = np.diff(scipy.interpolate.interp1d(T_rel, np.cumsum(delta_preds[:, 1:3], axis=0), axis=0)(T_ref), axis=0)\n",
    "\n",
    "    N = xy_preds.shape[0]\n",
    "    delta_t = np.diff(T_ref)\n",
    "        \n",
    "    alpha = lambda1 * np.ones(N)\n",
    "    beta  = (1-lambda1) * np.ones(N-1) / (1 + lambda2 * delta_t * 1e-3)**lambda3\n",
    "    \n",
    "    A = scipy.sparse.spdiags(alpha, [0], N, N)\n",
    "    B = scipy.sparse.spdiags( beta, [0], N-1, N-1)\n",
    "    D = scipy.sparse.spdiags(np.stack([-np.ones(N), np.ones(N)]), [0, 1], N-1, N)\n",
    "\n",
    "    Q = A + (D.T @ B @ D)\n",
    "    c = (A @ xy_preds) + (D.T @ (B @ delta_xy_preds))\n",
    "    xy_corr = scipy.sparse.linalg.spsolve(Q, c)\n",
    "\n",
    "    return pd.DataFrame({\n",
    "        'site' : wp_preds['site'],\n",
    "        'path' : wp_preds['path'],\n",
    "        'timestamp' : wp_preds['timestamp'],\n",
    "        'x' : xy_corr[:, 0],\n",
    "        'y' : xy_corr[:, 1],\n",
    "    })"
   ]
  },
  {
   "cell_type": "markdown",
   "metadata": {
    "id": "QJW8fHZczmNg"
   },
   "source": [
    "***"
   ]
  },
  {
   "cell_type": "code",
   "execution_count": 6,
   "metadata": {
    "colab": {
     "base_uri": "https://localhost:8080/"
    },
    "id": "Sr6IBx_Zzqwj",
    "outputId": "05856001-c19a-44db-b2ef-d81b53f781db"
   },
   "outputs": [
    {
     "name": "stdout",
     "output_type": "stream",
     "text": [
      "Downloading iln-imu-preds.zip to /Users/mavillan/Repositories/kg/indoor-location-navigation/tuning\n",
      "100%|███████████████████████████████████████▉| 471M/471M [00:47<00:00, 11.5MB/s]\n",
      "100%|████████████████████████████████████████| 471M/471M [00:47<00:00, 10.3MB/s]\n"
     ]
    }
   ],
   "source": [
    "!kaggle datasets download -d mavillan/iln-imu-preds --force --unzip"
   ]
  },
  {
   "cell_type": "code",
   "execution_count": 7,
   "metadata": {},
   "outputs": [
    {
     "name": "stdout",
     "output_type": "stream",
     "text": [
      "Downloading iln-dnn-dset1.zip to /Users/mavillan/Repositories/kg/indoor-location-navigation/tuning\n",
      "100%|███████████████████████████████████████▉| 152M/152M [00:16<00:00, 11.5MB/s]\n",
      "100%|████████████████████████████████████████| 152M/152M [00:16<00:00, 9.76MB/s]\n"
     ]
    }
   ],
   "source": [
    "!kaggle datasets download -d mavillan/iln-dnn-dset1 --force --unzip"
   ]
  },
  {
   "cell_type": "code",
   "execution_count": 9,
   "metadata": {
    "id": "5g4Yh4Oj0P43"
   },
   "outputs": [],
   "source": [
    "input_path = \"./dnn-ds1-30f-5lt-pl\"\n",
    "\n",
    "delta_preds = pd.read_csv(\"./delta_preds.csv\")\n",
    "\n",
    "predictions = (\n",
    "    pd.read_csv(f\"{input_path}/oof_preds.csv\")\n",
    "    .loc[:,[\"site\",\"path\",\"timestamp\",\"oof_x_agg\",\"oof_y_agg\"]]\n",
    "    .rename({\"oof_x_agg\":\"x\", \"oof_y_agg\":\"y\"}, axis=1)\n",
    "    .drop_duplicates()\n",
    "    .reset_index(drop=True)\n",
    ")\n",
    "\n",
    "labels = (\n",
    "    pd.read_csv(f\"{input_path}/oof_preds.csv\")\n",
    "    .loc[:,[\"site\",\"path\",\"timestamp\",\"x\",\"y\"]]\n",
    "    .drop_duplicates()\n",
    "    .reset_index(drop=True)\n",
    ")"
   ]
  },
  {
   "cell_type": "code",
   "execution_count": 10,
   "metadata": {
    "id": "nvnr-QLX1Oq7"
   },
   "outputs": [],
   "source": [
    "predictions = predictions.sort_values([\"site\",\"path\",\"timestamp\"], ignore_index=True)\n",
    "labels = labels.sort_values([\"site\",\"path\",\"timestamp\"], ignore_index=True)\n",
    "delta_preds = delta_preds.sort_values([\"site\",\"path\",\"timestamp\"], ignore_index=True)"
   ]
  },
  {
   "cell_type": "code",
   "execution_count": 11,
   "metadata": {
    "id": "eqynDZZh1SAB"
   },
   "outputs": [],
   "source": [
    "target_sites = predictions.site.unique().tolist()"
   ]
  },
  {
   "cell_type": "markdown",
   "metadata": {
    "id": "F_8BCUJn1gwh"
   },
   "source": [
    "***\n",
    "## optimization of parameters: by site"
   ]
  },
  {
   "cell_type": "code",
   "execution_count": 22,
   "metadata": {
    "id": "mMBTC-3R1UPb"
   },
   "outputs": [],
   "source": [
    "class MinimizeContainer():\n",
    "    \n",
    "    def __init__(self, preds, deltas, labels):\n",
    "        self.pred_inputs = preds\n",
    "        self.delta_inputs = deltas\n",
    "        self.labels = labels\n",
    "        self.site = labels[\"site\"].unique()[0]\n",
    "        \n",
    "    def objective(self, trial):\n",
    "        lambda1 = trial.suggest_uniform(\"lambda1\", 0, 1)\n",
    "        lambda2 = trial.suggest_uniform(\"lambda2\", 0, 1)\n",
    "        lambda3 = trial.suggest_uniform(\"lambda3\", 0.5, 2)\n",
    "\n",
    "        inputs = zip(self.pred_inputs,self.delta_inputs)\n",
    "        corrected = [correct_path(wp, delta, lambda1, lambda2, lambda3) \n",
    "                     for wp,delta in inputs]\n",
    "        corrected = pd.concat(corrected, ignore_index=True)\n",
    "        return mean_position_error(self.labels, corrected)\n",
    "\n",
    "    def correct(self, lambda1, lambda2, lambda3):\n",
    "        inputs = zip(self.pred_inputs,self.delta_inputs)\n",
    "        corrected = [correct_path(wp, delta, lambda1, lambda2, lambda3) \n",
    "                     for wp,delta in inputs]\n",
    "        corrected = pd.concat(corrected, ignore_index=True)\n",
    "        return corrected      \n",
    "    \n",
    "def minimize(container, n_trials=200):\n",
    "    study = optuna.create_study(direction='minimize')\n",
    "    study.optimize(container.objective, n_trials=n_trials, timeout=14400, n_jobs=2)\n",
    "    return (container.site, study.best_value, study.best_params)"
   ]
  },
  {
   "cell_type": "code",
   "execution_count": 23,
   "metadata": {
    "id": "tV5I9H0F1tzp"
   },
   "outputs": [],
   "source": [
    "all_containers = list()\n",
    "\n",
    "for i,site in enumerate(target_sites):\n",
    "    paths = labels.query(\"site==@site\").path.unique()\n",
    "    pred_inputs = [predictions.query(\"site==@site & path==@path\") for path in paths]\n",
    "    delta_inputs = [delta_preds.query(\"site==@site & path==@path\") for path in paths]\n",
    "    mc = MinimizeContainer(pred_inputs, delta_inputs, labels.query(\"site==@site\"))\n",
    "    all_containers.append(mc)\n",
    "    "
   ]
  },
  {
   "cell_type": "code",
   "execution_count": 24,
   "metadata": {
    "colab": {
     "base_uri": "https://localhost:8080/"
    },
    "id": "HRdIAIw72KAo",
    "outputId": "1b29ce1e-fcdf-45f2-9751-de79278f9dfd"
   },
   "outputs": [
    {
     "name": "stderr",
     "output_type": "stream",
     "text": [
      "100%|██████████| 24/24 [00:00<00:00, 31457.28it/s]\n"
     ]
    },
    {
     "name": "stdout",
     "output_type": "stream",
     "text": [
      "CPU times: user 29.2 s, sys: 2.18 s, total: 31.4 s\n",
      "Wall time: 56min 14s\n"
     ]
    }
   ],
   "source": [
    "%%time\n",
    "with Parallel(n_jobs=-1) as parallel:\n",
    "    delayed_minimize = delayed(minimize)\n",
    "    all_results = parallel(delayed_minimize(mc, n_trials=500) for mc in tqdm(all_containers))"
   ]
  },
  {
   "cell_type": "code",
   "execution_count": 25,
   "metadata": {
    "colab": {
     "base_uri": "https://localhost:8080/"
    },
    "id": "8UmOto6JRMTJ",
    "outputId": "d046abd7-7e99-4fd1-d805-01239eed14b2"
   },
   "outputs": [
    {
     "data": {
      "text/plain": [
       "6.538272938333347"
      ]
     },
     "execution_count": 25,
     "metadata": {
      "tags": []
     },
     "output_type": "execute_result"
    }
   ],
   "source": [
    "# calculate original cv\n",
    "mean_position_error(labels, predictions)"
   ]
  },
  {
   "cell_type": "code",
   "execution_count": 32,
   "metadata": {
    "id": "K_I9FA-0Y2Sc"
   },
   "outputs": [],
   "source": [
    "all_corrected = list()\n",
    "for container,result in zip(all_containers,all_results):\n",
    "    best_params = result[-1]\n",
    "    corrected = container.correct(**best_params)\n",
    "    all_corrected.append(corrected)\n",
    "\n",
    "corrected = pd.concat(all_corrected, ignore_index=True)"
   ]
  },
  {
   "cell_type": "code",
   "execution_count": 34,
   "metadata": {
    "colab": {
     "base_uri": "https://localhost:8080/"
    },
    "id": "qzIDDh2MamMT",
    "outputId": "6e61ef41-3423-4ce6-d70d-a53bfa6db8d7"
   },
   "outputs": [
    {
     "data": {
      "text/plain": [
       "5.745694250291014"
      ]
     },
     "execution_count": 34,
     "metadata": {
      "tags": []
     },
     "output_type": "execute_result"
    }
   ],
   "source": [
    "mean_position_error(labels, corrected)"
   ]
  },
  {
   "cell_type": "code",
   "execution_count": 35,
   "metadata": {
    "id": "c_dIzr3F_0EY"
   },
   "outputs": [],
   "source": [
    "all_results_dict = {site:{\"error\":error,\"params\":params} for site,error,params in all_results}\n",
    "output_path = \"/content/drive/MyDrive/kaggle/indoor-location-navigation/output\"\n",
    "\n",
    "with open(f'{output_path}/cm_params_by_site.yml', 'w') as file:\n",
    "    yaml.dump(all_results_dict, file, default_flow_style=False)\n",
    "    file.close()"
   ]
  },
  {
   "cell_type": "markdown",
   "metadata": {
    "id": "RauEZTRM4AS2"
   },
   "source": [
    "***\n",
    "## optimization of parameters: jointly"
   ]
  },
  {
   "cell_type": "code",
   "execution_count": 12,
   "metadata": {},
   "outputs": [
    {
     "data": {
      "text/plain": [
       "6.218607637611398"
      ]
     },
     "execution_count": 12,
     "metadata": {},
     "output_type": "execute_result"
    }
   ],
   "source": [
    "# calculate original cv\n",
    "mean_position_error(labels, predictions)"
   ]
  },
  {
   "cell_type": "code",
   "execution_count": 13,
   "metadata": {
    "id": "1ZI_iqZ7Toj2"
   },
   "outputs": [],
   "source": [
    "pred_inputs = list()\n",
    "delta_inputs = list()\n",
    "for i,row in labels.loc[:,[\"site\",\"path\"]].drop_duplicates().iterrows():\n",
    "    pred_inputs.append(predictions.query(\"site==@row.site & path==@row.path\"))\n",
    "    delta_inputs.append(delta_preds.query(\"site==@row.site & path==@row.path\"))"
   ]
  },
  {
   "cell_type": "code",
   "execution_count": 14,
   "metadata": {
    "id": "vnl7tKvcVajp"
   },
   "outputs": [],
   "source": [
    "def objective(trial):\n",
    "    lambda1 = trial.suggest_uniform(\"lambda1\", 0, 1)\n",
    "    lambda2 = trial.suggest_uniform(\"lambda2\", 0, 1)\n",
    "    lambda3 = trial.suggest_uniform(\"lambda3\", 0.5, 2)\n",
    "    \n",
    "    inputs = zip(pred_inputs, delta_inputs)\n",
    "    with Parallel(n_jobs=6) as parallel:\n",
    "        delayed_correct = delayed(correct_path)\n",
    "        corrected = parallel(\n",
    "            delayed_correct(wp, delta, lambda1, lambda2, lambda3)\n",
    "            for wp,delta in inputs\n",
    "        )\n",
    "    corrected = pd.concat(corrected, ignore_index=True)\n",
    "    return mean_position_error(labels, corrected)"
   ]
  },
  {
   "cell_type": "code",
   "execution_count": 15,
   "metadata": {
    "collapsed": true,
    "id": "OilwxvuWArFQ",
    "jupyter": {
     "outputs_hidden": true
    }
   },
   "outputs": [
    {
     "name": "stderr",
     "output_type": "stream",
     "text": [
      "\u001b[32m[I 2021-04-25 10:33:33,319]\u001b[0m A new study created in memory with name: no-name-c872e74e-93e7-4860-b890-ccac97f50825\u001b[0m\n",
      "\u001b[32m[I 2021-04-25 10:33:48,736]\u001b[0m Trial 0 finished with value: 5.618594760185517 and parameters: {'lambda1': 0.24210280840026221, 'lambda2': 0.6226046078675583, 'lambda3': 0.5858799147992659}. Best is trial 0 with value: 5.618594760185517.\u001b[0m\n",
      "\u001b[32m[I 2021-04-25 10:34:05,720]\u001b[0m Trial 1 finished with value: 5.954532323403229 and parameters: {'lambda1': 0.6547211597902424, 'lambda2': 0.29021419348701727, 'lambda3': 0.8158254089699479}. Best is trial 0 with value: 5.618594760185517.\u001b[0m\n",
      "\u001b[32m[I 2021-04-25 10:34:20,820]\u001b[0m Trial 2 finished with value: 5.8636095548714895 and parameters: {'lambda1': 0.7136493458848807, 'lambda2': 0.014745407902319485, 'lambda3': 1.8896705900392965}. Best is trial 0 with value: 5.618594760185517.\u001b[0m\n",
      "\u001b[32m[I 2021-04-25 10:34:35,090]\u001b[0m Trial 3 finished with value: 6.01505574355185 and parameters: {'lambda1': 0.5734744913999641, 'lambda2': 0.3897565037979509, 'lambda3': 1.2033909339573454}. Best is trial 0 with value: 5.618594760185517.\u001b[0m\n",
      "\u001b[32m[I 2021-04-25 10:34:49,393]\u001b[0m Trial 4 finished with value: 5.603244598338326 and parameters: {'lambda1': 0.07192567239292091, 'lambda2': 0.9707576187410175, 'lambda3': 1.100395494234135}. Best is trial 4 with value: 5.603244598338326.\u001b[0m\n",
      "\u001b[32m[I 2021-04-25 10:35:01,824]\u001b[0m Trial 5 finished with value: 5.498446467279241 and parameters: {'lambda1': 0.10284471204758006, 'lambda2': 0.40963618828681336, 'lambda3': 0.7189747215249886}. Best is trial 5 with value: 5.498446467279241.\u001b[0m\n",
      "\u001b[32m[I 2021-04-25 10:35:14,293]\u001b[0m Trial 6 finished with value: 5.538620356992706 and parameters: {'lambda1': 0.062394327578047415, 'lambda2': 0.18632213474605408, 'lambda3': 0.7975979120761534}. Best is trial 5 with value: 5.498446467279241.\u001b[0m\n",
      "\u001b[32m[I 2021-04-25 10:35:28,772]\u001b[0m Trial 7 finished with value: 6.110400985096044 and parameters: {'lambda1': 0.49411759220613594, 'lambda2': 0.9542762805198324, 'lambda3': 1.3296510060233826}. Best is trial 5 with value: 5.498446467279241.\u001b[0m\n",
      "\u001b[32m[I 2021-04-25 10:35:42,368]\u001b[0m Trial 8 finished with value: 6.2001417916175505 and parameters: {'lambda1': 0.9087793672426716, 'lambda2': 0.6420005074137649, 'lambda3': 1.3616733022216265}. Best is trial 5 with value: 5.498446467279241.\u001b[0m\n",
      "\u001b[32m[I 2021-04-25 10:35:55,047]\u001b[0m Trial 9 finished with value: 6.095834956189363 and parameters: {'lambda1': 0.5019135292939062, 'lambda2': 0.5536933204173166, 'lambda3': 1.5848581440316944}. Best is trial 5 with value: 5.498446467279241.\u001b[0m\n",
      "\u001b[32m[I 2021-04-25 10:36:07,538]\u001b[0m Trial 10 finished with value: 5.701257364349092 and parameters: {'lambda1': 0.2973197975692185, 'lambda2': 0.7836872781230106, 'lambda3': 0.6071607140914215}. Best is trial 5 with value: 5.498446467279241.\u001b[0m\n",
      "\u001b[32m[I 2021-04-25 10:36:20,173]\u001b[0m Trial 11 finished with value: 5.991092778740436 and parameters: {'lambda1': 0.012652524060580983, 'lambda2': 0.13701553580443682, 'lambda3': 0.8682088166675408}. Best is trial 5 with value: 5.498446467279241.\u001b[0m\n",
      "\u001b[32m[I 2021-04-25 10:36:32,428]\u001b[0m Trial 12 finished with value: 5.531052895127187 and parameters: {'lambda1': 0.1642033363773619, 'lambda2': 0.22872303481533324, 'lambda3': 0.8886125754771916}. Best is trial 5 with value: 5.498446467279241.\u001b[0m\n",
      "\u001b[32m[I 2021-04-25 10:36:46,333]\u001b[0m Trial 13 finished with value: 5.688250511015923 and parameters: {'lambda1': 0.24001126509194726, 'lambda2': 0.40380742497438105, 'lambda3': 0.9870714997795772}. Best is trial 5 with value: 5.498446467279241.\u001b[0m\n",
      "\u001b[32m[I 2021-04-25 10:36:58,510]\u001b[0m Trial 14 finished with value: 5.575484453342914 and parameters: {'lambda1': 0.35312740443286134, 'lambda2': 0.058601697831261956, 'lambda3': 0.5114664587444484}. Best is trial 5 with value: 5.498446467279241.\u001b[0m\n",
      "\u001b[32m[I 2021-04-25 10:37:11,658]\u001b[0m Trial 15 finished with value: 5.509005248039276 and parameters: {'lambda1': 0.14673330490082426, 'lambda2': 0.25210048418369074, 'lambda3': 0.7299054932988169}. Best is trial 5 with value: 5.498446467279241.\u001b[0m\n",
      "\u001b[32m[I 2021-04-25 10:37:25,062]\u001b[0m Trial 16 finished with value: 5.713867920200636 and parameters: {'lambda1': 0.38575283572878116, 'lambda2': 0.3782812559988637, 'lambda3': 0.6200413371108782}. Best is trial 5 with value: 5.498446467279241.\u001b[0m\n",
      "\u001b[32m[I 2021-04-25 10:37:38,189]\u001b[0m Trial 17 finished with value: 5.538722354580729 and parameters: {'lambda1': 0.14695698657431222, 'lambda2': 0.45346567566583695, 'lambda3': 0.7431285152869594}. Best is trial 5 with value: 5.498446467279241.\u001b[0m\n",
      "\u001b[32m[I 2021-04-25 10:37:51,109]\u001b[0m Trial 18 finished with value: 5.736512970488903 and parameters: {'lambda1': 0.016052459428068294, 'lambda2': 0.28329018651168536, 'lambda3': 1.033856158627286}. Best is trial 5 with value: 5.498446467279241.\u001b[0m\n",
      "\u001b[32m[I 2021-04-25 10:38:03,432]\u001b[0m Trial 19 finished with value: 5.554738623410634 and parameters: {'lambda1': 0.18605466824086747, 'lambda2': 0.10235701721558088, 'lambda3': 1.573157487231409}. Best is trial 5 with value: 5.498446467279241.\u001b[0m\n",
      "\u001b[32m[I 2021-04-25 10:38:15,415]\u001b[0m Trial 20 finished with value: 5.822693950182033 and parameters: {'lambda1': 0.3969564926470291, 'lambda2': 0.7562732046428478, 'lambda3': 0.6937853299188811}. Best is trial 5 with value: 5.498446467279241.\u001b[0m\n",
      "\u001b[32m[I 2021-04-25 10:38:28,824]\u001b[0m Trial 21 finished with value: 5.520282809744274 and parameters: {'lambda1': 0.14024543890171692, 'lambda2': 0.24880953598666375, 'lambda3': 0.9207795831472184}. Best is trial 5 with value: 5.498446467279241.\u001b[0m\n",
      "\u001b[32m[I 2021-04-25 10:38:43,343]\u001b[0m Trial 22 finished with value: 5.509402603482752 and parameters: {'lambda1': 0.11444114664091995, 'lambda2': 0.2822577247789436, 'lambda3': 0.9464793639853007}. Best is trial 5 with value: 5.498446467279241.\u001b[0m\n",
      "\u001b[32m[I 2021-04-25 10:38:55,387]\u001b[0m Trial 23 finished with value: 5.53601493172064 and parameters: {'lambda1': 0.06865255891948346, 'lambda2': 0.33717933990471594, 'lambda3': 0.5016163179559344}. Best is trial 5 with value: 5.498446467279241.\u001b[0m\n",
      "\u001b[32m[I 2021-04-25 10:39:07,211]\u001b[0m Trial 24 finished with value: 5.813654121533925 and parameters: {'lambda1': 0.27417171317509936, 'lambda2': 0.5063241433795533, 'lambda3': 1.1469735868753057}. Best is trial 5 with value: 5.498446467279241.\u001b[0m\n",
      "\u001b[32m[I 2021-04-25 10:39:20,024]\u001b[0m Trial 25 finished with value: 6.831346027351925 and parameters: {'lambda1': 0.00029100907358424466, 'lambda2': 0.16699775281956464, 'lambda3': 0.6928031026987251}. Best is trial 5 with value: 5.498446467279241.\u001b[0m\n",
      "\u001b[32m[I 2021-04-25 10:39:33,100]\u001b[0m Trial 26 finished with value: 5.52214038284312 and parameters: {'lambda1': 0.09473898392284191, 'lambda2': 0.4639395985955194, 'lambda3': 0.9638616245838113}. Best is trial 5 with value: 5.498446467279241.\u001b[0m\n",
      "\u001b[32m[I 2021-04-25 10:39:47,336]\u001b[0m Trial 27 finished with value: 5.561843828157724 and parameters: {'lambda1': 0.20254187488460013, 'lambda2': 0.29715522183223736, 'lambda3': 0.7516270211618581}. Best is trial 5 with value: 5.498446467279241.\u001b[0m\n",
      "\u001b[32m[I 2021-04-25 10:40:01,089]\u001b[0m Trial 28 finished with value: 6.216936100223426 and parameters: {'lambda1': 0.9956594658408924, 'lambda2': 0.5288870163124523, 'lambda3': 1.045209858270553}. Best is trial 5 with value: 5.498446467279241.\u001b[0m\n",
      "\u001b[32m[I 2021-04-25 10:40:14,356]\u001b[0m Trial 29 finished with value: 5.675981662679579 and parameters: {'lambda1': 0.32650255985609034, 'lambda2': 0.633429517021298, 'lambda3': 0.5193515546318181}. Best is trial 5 with value: 5.498446467279241.\u001b[0m\n",
      "\u001b[32m[I 2021-04-25 10:40:27,361]\u001b[0m Trial 30 finished with value: 5.508707012336811 and parameters: {'lambda1': 0.23241823227300817, 'lambda2': 0.0021276527359269104, 'lambda3': 0.634993334525131}. Best is trial 5 with value: 5.498446467279241.\u001b[0m\n",
      "\u001b[32m[I 2021-04-25 10:40:39,846]\u001b[0m Trial 31 finished with value: 5.514792124633068 and parameters: {'lambda1': 0.2565407923591807, 'lambda2': 0.007329378272007053, 'lambda3': 0.6450770173544648}. Best is trial 5 with value: 5.498446467279241.\u001b[0m\n",
      "\u001b[32m[I 2021-04-25 10:40:54,032]\u001b[0m Trial 32 finished with value: 5.502519181380964 and parameters: {'lambda1': 0.1297945595928143, 'lambda2': 0.2165715541283592, 'lambda3': 0.8386455386982454}. Best is trial 5 with value: 5.498446467279241.\u001b[0m\n",
      "\u001b[32m[I 2021-04-25 10:41:07,870]\u001b[0m Trial 33 finished with value: 5.553921782399471 and parameters: {'lambda1': 0.21217989474070595, 'lambda2': 0.20862155456129833, 'lambda3': 0.8049672266891214}. Best is trial 5 with value: 5.498446467279241.\u001b[0m\n",
      "\u001b[32m[I 2021-04-25 10:41:21,315]\u001b[0m Trial 34 finished with value: 5.650938699415657 and parameters: {'lambda1': 0.4501160677613725, 'lambda2': 0.06764378001931448, 'lambda3': 0.5825922075405888}. Best is trial 5 with value: 5.498446467279241.\u001b[0m\n",
      "\u001b[32m[I 2021-04-25 10:41:34,564]\u001b[0m Trial 35 finished with value: 6.0109083572246575 and parameters: {'lambda1': 0.7015106991743206, 'lambda2': 0.3444153047907367, 'lambda3': 0.8429059581945104}. Best is trial 5 with value: 5.498446467279241.\u001b[0m\n",
      "\u001b[32m[I 2021-04-25 10:41:46,885]\u001b[0m Trial 36 finished with value: 6.644541197863505 and parameters: {'lambda1': 0.0015335927175215425, 'lambda2': 0.10969283287366421, 'lambda3': 0.5519429396588018}. Best is trial 5 with value: 5.498446467279241.\u001b[0m\n",
      "\u001b[32m[I 2021-04-25 10:41:58,831]\u001b[0m Trial 37 finished with value: 5.64835872477905 and parameters: {'lambda1': 0.06816198694187856, 'lambda2': 0.0033239190963796897, 'lambda3': 1.9958156569443388}. Best is trial 5 with value: 5.498446467279241.\u001b[0m\n",
      "\u001b[32m[I 2021-04-25 10:42:11,105]\u001b[0m Trial 38 finished with value: 5.496943692303057 and parameters: {'lambda1': 0.12308641066335574, 'lambda2': 0.17330174695770983, 'lambda3': 0.6994108094503353}. Best is trial 38 with value: 5.496943692303057.\u001b[0m\n",
      "\u001b[32m[I 2021-04-25 10:42:23,805]\u001b[0m Trial 39 finished with value: 5.693098960255742 and parameters: {'lambda1': 0.04798652497364894, 'lambda2': 0.05282990658750186, 'lambda3': 0.6786262458991787}. Best is trial 38 with value: 5.496943692303057.\u001b[0m\n",
      "\u001b[32m[I 2021-04-25 10:42:36,782]\u001b[0m Trial 40 finished with value: 6.1076313134977935 and parameters: {'lambda1': 0.8453194120163416, 'lambda2': 0.1554486885204782, 'lambda3': 1.3107624848452577}. Best is trial 38 with value: 5.496943692303057.\u001b[0m\n",
      "\u001b[32m[I 2021-04-25 10:42:49,588]\u001b[0m Trial 41 finished with value: 5.49676637602764 and parameters: {'lambda1': 0.12086511206039355, 'lambda2': 0.21676220727388568, 'lambda3': 0.7388568827285625}. Best is trial 41 with value: 5.49676637602764.\u001b[0m\n",
      "\u001b[32m[I 2021-04-25 10:43:02,114]\u001b[0m Trial 42 finished with value: 5.546678628206135 and parameters: {'lambda1': 0.1990055376797774, 'lambda2': 0.21778390958088287, 'lambda3': 0.8099518707078842}. Best is trial 41 with value: 5.49676637602764.\u001b[0m\n",
      "\u001b[32m[I 2021-04-25 10:43:15,124]\u001b[0m Trial 43 finished with value: 5.505011884983788 and parameters: {'lambda1': 0.12434263262511336, 'lambda2': 0.10715919693620406, 'lambda3': 0.6004139668337681}. Best is trial 41 with value: 5.49676637602764.\u001b[0m\n",
      "\u001b[32m[I 2021-04-25 10:43:28,496]\u001b[0m Trial 44 finished with value: 5.497144637237174 and parameters: {'lambda1': 0.10943122672328214, 'lambda2': 0.18204664618407068, 'lambda3': 0.7476196427576448}. Best is trial 41 with value: 5.49676637602764.\u001b[0m\n",
      "\u001b[32m[I 2021-04-25 10:43:40,720]\u001b[0m Trial 45 finished with value: 5.608193982044106 and parameters: {'lambda1': 0.039902332651755204, 'lambda2': 0.18771773016041313, 'lambda3': 0.8648999237503633}. Best is trial 41 with value: 5.49676637602764.\u001b[0m\n",
      "\u001b[32m[I 2021-04-25 10:43:53,215]\u001b[0m Trial 46 finished with value: 5.496876750095684 and parameters: {'lambda1': 0.10356655848937817, 'lambda2': 0.32810132738857767, 'lambda3': 0.7626617018393625}. Best is trial 41 with value: 5.49676637602764.\u001b[0m\n",
      "\u001b[32m[I 2021-04-25 10:44:06,690]\u001b[0m Trial 47 finished with value: 5.493986195540104 and parameters: {'lambda1': 0.07861768055696727, 'lambda2': 0.43613396219357614, 'lambda3': 0.757786216128834}. Best is trial 47 with value: 5.493986195540104.\u001b[0m\n",
      "\u001b[32m[I 2021-04-25 10:44:20,042]\u001b[0m Trial 48 finished with value: 5.90787501050605 and parameters: {'lambda1': 0.5872395471714071, 'lambda2': 0.3386191159655858, 'lambda3': 0.7705972768723593}. Best is trial 47 with value: 5.493986195540104.\u001b[0m\n",
      "\u001b[32m[I 2021-04-25 10:44:33,055]\u001b[0m Trial 49 finished with value: 5.557743009400087 and parameters: {'lambda1': 0.09411555785181158, 'lambda2': 0.5817776705092053, 'lambda3': 1.039108575751206}. Best is trial 47 with value: 5.493986195540104.\u001b[0m\n",
      "\u001b[32m[I 2021-04-25 10:44:46,172]\u001b[0m Trial 50 finished with value: 5.829972249440678 and parameters: {'lambda1': 0.2889291947348406, 'lambda2': 0.45689599416784477, 'lambda3': 1.211088083223589}. Best is trial 47 with value: 5.493986195540104.\u001b[0m\n",
      "\u001b[32m[I 2021-04-25 10:44:59,185]\u001b[0m Trial 51 finished with value: 5.5644974170506085 and parameters: {'lambda1': 0.03750284205339245, 'lambda2': 0.43258298467834866, 'lambda3': 0.7310618578991548}. Best is trial 47 with value: 5.493986195540104.\u001b[0m\n",
      "\u001b[32m[I 2021-04-25 10:45:11,979]\u001b[0m Trial 52 finished with value: 5.586880975366437 and parameters: {'lambda1': 0.17704826355947068, 'lambda2': 0.38739894417420945, 'lambda3': 0.8895568461934846}. Best is trial 47 with value: 5.493986195540104.\u001b[0m\n",
      "\u001b[32m[I 2021-04-25 10:45:27,213]\u001b[0m Trial 53 finished with value: 5.529513730766579 and parameters: {'lambda1': 0.17107273504027073, 'lambda2': 0.31025711700219705, 'lambda3': 0.6907282633935669}. Best is trial 47 with value: 5.493986195540104.\u001b[0m\n",
      "\u001b[32m[I 2021-04-25 10:45:40,538]\u001b[0m Trial 54 finished with value: 5.495936506026404 and parameters: {'lambda1': 0.09445626001868004, 'lambda2': 0.3683615870927859, 'lambda3': 0.7753523954138045}. Best is trial 47 with value: 5.493986195540104.\u001b[0m\n",
      "\u001b[32m[I 2021-04-25 10:45:53,469]\u001b[0m Trial 55 finished with value: 5.495317393186663 and parameters: {'lambda1': 0.08732819192321728, 'lambda2': 0.38481483663811333, 'lambda3': 0.8089572940081027}. Best is trial 47 with value: 5.493986195540104.\u001b[0m\n",
      "\u001b[32m[I 2021-04-25 10:46:06,467]\u001b[0m Trial 56 finished with value: 5.503790356987184 and parameters: {'lambda1': 0.08143987090222822, 'lambda2': 0.3985087543165323, 'lambda3': 0.9966502721983128}. Best is trial 47 with value: 5.493986195540104.\u001b[0m\n",
      "\u001b[32m[I 2021-04-25 10:46:18,876]\u001b[0m Trial 57 finished with value: 5.7933197543404695 and parameters: {'lambda1': 0.01336958810179932, 'lambda2': 0.3567241198586846, 'lambda3': 0.9030760728993632}. Best is trial 47 with value: 5.493986195540104.\u001b[0m\n",
      "\u001b[32m[I 2021-04-25 10:46:30,721]\u001b[0m Trial 58 finished with value: 5.6140448827256835 and parameters: {'lambda1': 0.14151196195268997, 'lambda2': 0.2631277013816402, 'lambda3': 1.46950472120903}. Best is trial 47 with value: 5.493986195540104.\u001b[0m\n",
      "\u001b[32m[I 2021-04-25 10:46:43,492]\u001b[0m Trial 59 finished with value: 5.572983451716479 and parameters: {'lambda1': 0.22722363988097116, 'lambda2': 0.4282703331054311, 'lambda3': 0.567780965433011}. Best is trial 47 with value: 5.493986195540104.\u001b[0m\n",
      "\u001b[32m[I 2021-04-25 10:46:58,033]\u001b[0m Trial 60 finished with value: 5.500989681068801 and parameters: {'lambda1': 0.05551404321868225, 'lambda2': 0.49942699062721685, 'lambda3': 1.1147260847733134}. Best is trial 47 with value: 5.493986195540104.\u001b[0m\n",
      "\u001b[32m[I 2021-04-25 10:47:13,187]\u001b[0m Trial 61 finished with value: 5.500401948239432 and parameters: {'lambda1': 0.10932387764604526, 'lambda2': 0.3188675961041156, 'lambda3': 0.8030305519475565}. Best is trial 47 with value: 5.493986195540104.\u001b[0m\n",
      "\u001b[32m[I 2021-04-25 10:47:29,033]\u001b[0m Trial 62 finished with value: 5.550373889007721 and parameters: {'lambda1': 0.16927450458057602, 'lambda2': 0.3780886766421835, 'lambda3': 0.760206087856268}. Best is trial 47 with value: 5.493986195540104.\u001b[0m\n",
      "\u001b[32m[I 2021-04-25 10:47:42,128]\u001b[0m Trial 63 finished with value: 5.498580911202252 and parameters: {'lambda1': 0.09649060256929996, 'lambda2': 0.2573962998170733, 'lambda3': 0.664530191823955}. Best is trial 47 with value: 5.493986195540104.\u001b[0m\n",
      "\u001b[32m[I 2021-04-25 10:47:55,076]\u001b[0m Trial 64 finished with value: 5.728363906133296 and parameters: {'lambda1': 0.028668461536382944, 'lambda2': 0.17872278429649685, 'lambda3': 0.7330088922789421}. Best is trial 47 with value: 5.493986195540104.\u001b[0m\n",
      "\u001b[32m[I 2021-04-25 10:48:09,459]\u001b[0m Trial 65 finished with value: 5.55078673721063 and parameters: {'lambda1': 0.0736145153618533, 'lambda2': 0.1373258394031356, 'lambda3': 0.6356331011676449}. Best is trial 47 with value: 5.493986195540104.\u001b[0m\n",
      "\u001b[32m[I 2021-04-25 10:48:22,918]\u001b[0m Trial 66 finished with value: 5.51804725036642 and parameters: {'lambda1': 0.14946564426012937, 'lambda2': 0.2747419020456302, 'lambda3': 0.7802254019309552}. Best is trial 47 with value: 5.493986195540104.\u001b[0m\n",
      "\u001b[32m[I 2021-04-25 10:48:36,005]\u001b[0m Trial 67 finished with value: 5.666382506538283 and parameters: {'lambda1': 0.3189522454028179, 'lambda2': 0.2348428574554579, 'lambda3': 0.8604253908975901}. Best is trial 47 with value: 5.493986195540104.\u001b[0m\n",
      "\u001b[32m[I 2021-04-25 10:48:48,669]\u001b[0m Trial 68 finished with value: 5.655131357198991 and parameters: {'lambda1': 0.25494652274801466, 'lambda2': 0.31351810058270513, 'lambda3': 0.9324231434248594}. Best is trial 47 with value: 5.493986195540104.\u001b[0m\n",
      "\u001b[32m[I 2021-04-25 10:49:01,882]\u001b[0m Trial 69 finished with value: 5.946086421969975 and parameters: {'lambda1': 0.19526997373438415, 'lambda2': 0.5826663777044161, 'lambda3': 1.7332821091979664}. Best is trial 47 with value: 5.493986195540104.\u001b[0m\n",
      "\u001b[32m[I 2021-04-25 10:49:14,762]\u001b[0m Trial 70 finished with value: 5.513798501637072 and parameters: {'lambda1': 0.11994948532758645, 'lambda2': 0.4926533999697478, 'lambda3': 0.7063981358713648}. Best is trial 47 with value: 5.493986195540104.\u001b[0m\n",
      "\u001b[32m[I 2021-04-25 10:49:28,676]\u001b[0m Trial 71 finished with value: 6.289817102333407 and parameters: {'lambda1': 0.0031088060662606, 'lambda2': 0.3651860376879989, 'lambda3': 0.8246040334968765}. Best is trial 47 with value: 5.493986195540104.\u001b[0m\n",
      "\u001b[32m[I 2021-04-25 10:49:42,248]\u001b[0m Trial 72 finished with value: 5.50073746359186 and parameters: {'lambda1': 0.0879179839934954, 'lambda2': 0.4046327006704912, 'lambda3': 0.5494555468525191}. Best is trial 47 with value: 5.493986195540104.\u001b[0m\n",
      "\u001b[32m[I 2021-04-25 10:49:54,901]\u001b[0m Trial 73 finished with value: 5.526479785924371 and parameters: {'lambda1': 0.16058542307075163, 'lambda2': 0.4310924320589074, 'lambda3': 0.6113950382860573}. Best is trial 47 with value: 5.493986195540104.\u001b[0m\n",
      "\u001b[32m[I 2021-04-25 10:50:07,553]\u001b[0m Trial 74 finished with value: 5.521149069412968 and parameters: {'lambda1': 0.04890944172058282, 'lambda2': 0.4774234393537728, 'lambda3': 0.7190510927051683}. Best is trial 47 with value: 5.493986195540104.\u001b[0m\n",
      "\u001b[32m[I 2021-04-25 10:50:21,229]\u001b[0m Trial 75 finished with value: 5.497784389086886 and parameters: {'lambda1': 0.1201196909901507, 'lambda2': 0.29509523372038987, 'lambda3': 0.6689006758687079}. Best is trial 47 with value: 5.493986195540104.\u001b[0m\n",
      "\u001b[32m[I 2021-04-25 10:50:37,955]\u001b[0m Trial 76 finished with value: 5.496742474085326 and parameters: {'lambda1': 0.12079942520314493, 'lambda2': 0.20149164319724894, 'lambda3': 0.6638495608723786}. Best is trial 47 with value: 5.493986195540104.\u001b[0m\n",
      "\u001b[32m[I 2021-04-25 10:50:51,019]\u001b[0m Trial 77 finished with value: 5.536099574369246 and parameters: {'lambda1': 0.0625824278976477, 'lambda2': 0.2031524857926893, 'lambda3': 0.7711983483047975}. Best is trial 47 with value: 5.493986195540104.\u001b[0m\n",
      "\u001b[32m[I 2021-04-25 10:51:04,525]\u001b[0m Trial 78 finished with value: 5.509597498326338 and parameters: {'lambda1': 0.11022431161952596, 'lambda2': 0.16005702282901524, 'lambda3': 0.5131958422142089}. Best is trial 47 with value: 5.493986195540104.\u001b[0m\n",
      "\u001b[32m[I 2021-04-25 10:51:18,489]\u001b[0m Trial 79 finished with value: 5.52997364448926 and parameters: {'lambda1': 0.2181412036999058, 'lambda2': 0.0905383894665978, 'lambda3': 0.9727871074697192}. Best is trial 47 with value: 5.493986195540104.\u001b[0m\n",
      "\u001b[32m[I 2021-04-25 10:51:31,544]\u001b[0m Trial 80 finished with value: 5.509620721335329 and parameters: {'lambda1': 0.13757313788854206, 'lambda2': 0.2362316734239565, 'lambda3': 0.8447798788033831}. Best is trial 47 with value: 5.493986195540104.\u001b[0m\n",
      "\u001b[32m[I 2021-04-25 10:51:45,074]\u001b[0m Trial 81 finished with value: 5.498466310763764 and parameters: {'lambda1': 0.1245166098631491, 'lambda2': 0.28813973457618247, 'lambda3': 0.6578622272302419}. Best is trial 47 with value: 5.493986195540104.\u001b[0m\n",
      "\u001b[32m[I 2021-04-25 10:51:57,705]\u001b[0m Trial 82 finished with value: 5.811636834301219 and parameters: {'lambda1': 0.02507753161791868, 'lambda2': 0.14084557048019458, 'lambda3': 0.6662803895764001}. Best is trial 47 with value: 5.493986195540104.\u001b[0m\n",
      "\u001b[32m[I 2021-04-25 10:52:11,111]\u001b[0m Trial 83 finished with value: 5.505439780631621 and parameters: {'lambda1': 0.08270316493185859, 'lambda2': 0.33255626984828596, 'lambda3': 0.5934466303425667}. Best is trial 47 with value: 5.493986195540104.\u001b[0m\n",
      "\u001b[32m[I 2021-04-25 10:52:24,090]\u001b[0m Trial 84 finished with value: 5.540674130335932 and parameters: {'lambda1': 0.18536879359903913, 'lambda2': 0.29580052664434453, 'lambda3': 0.710012080902435}. Best is trial 47 with value: 5.493986195540104.\u001b[0m\n",
      "\u001b[32m[I 2021-04-25 10:52:37,620]\u001b[0m Trial 85 finished with value: 5.5108846720296505 and parameters: {'lambda1': 0.1517724416963151, 'lambda2': 0.20846824817514945, 'lambda3': 0.8045331205416427}. Best is trial 47 with value: 5.493986195540104.\u001b[0m\n",
      "\u001b[32m[I 2021-04-25 10:52:51,517]\u001b[0m Trial 86 finished with value: 5.496389267745958 and parameters: {'lambda1': 0.10920479319005649, 'lambda2': 0.19438142782229262, 'lambda3': 0.7563907212619497}. Best is trial 47 with value: 5.493986195540104.\u001b[0m\n",
      "\u001b[32m[I 2021-04-25 10:53:05,147]\u001b[0m Trial 87 finished with value: 5.637965450756681 and parameters: {'lambda1': 0.062477727303582024, 'lambda2': 0.03493241347594497, 'lambda3': 0.75480710032774}. Best is trial 47 with value: 5.493986195540104.\u001b[0m\n",
      "\u001b[32m[I 2021-04-25 10:53:19,102]\u001b[0m Trial 88 finished with value: 6.739171975151746 and parameters: {'lambda1': 0.0005198291902430846, 'lambda2': 0.19084866515457316, 'lambda3': 0.8800296500845792}. Best is trial 47 with value: 5.493986195540104.\u001b[0m\n",
      "\u001b[32m[I 2021-04-25 10:53:32,664]\u001b[0m Trial 89 finished with value: 5.526852353717221 and parameters: {'lambda1': 0.10079749884336707, 'lambda2': 0.08505148894452325, 'lambda3': 0.6284733233826193}. Best is trial 47 with value: 5.493986195540104.\u001b[0m\n",
      "\u001b[32m[I 2021-04-25 10:53:46,076]\u001b[0m Trial 90 finished with value: 5.552815904165863 and parameters: {'lambda1': 0.24511050335831142, 'lambda2': 0.13566053829525038, 'lambda3': 0.7903663599540958}. Best is trial 47 with value: 5.493986195540104.\u001b[0m\n",
      "\u001b[32m[I 2021-04-25 10:53:59,499]\u001b[0m Trial 91 finished with value: 5.4982110158960396 and parameters: {'lambda1': 0.12558455792162723, 'lambda2': 0.24533683495755335, 'lambda3': 0.7040747243368163}. Best is trial 47 with value: 5.493986195540104.\u001b[0m\n",
      "\u001b[32m[I 2021-04-25 10:54:13,922]\u001b[0m Trial 92 finished with value: 5.50937849999404 and parameters: {'lambda1': 0.1642729946550907, 'lambda2': 0.17501737927245906, 'lambda3': 0.7532495699589229}. Best is trial 47 with value: 5.493986195540104.\u001b[0m\n",
      "\u001b[32m[I 2021-04-25 10:54:26,978]\u001b[0m Trial 93 finished with value: 5.595164394150339 and parameters: {'lambda1': 0.03748600825452855, 'lambda2': 0.36281962685812236, 'lambda3': 0.6805676370759283}. Best is trial 47 with value: 5.493986195540104.\u001b[0m\n",
      "\u001b[32m[I 2021-04-25 10:54:40,382]\u001b[0m Trial 94 finished with value: 5.495473780231823 and parameters: {'lambda1': 0.0977625880340823, 'lambda2': 0.27032226459153924, 'lambda3': 0.7351785932339848}. Best is trial 47 with value: 5.493986195540104.\u001b[0m\n",
      "\u001b[32m[I 2021-04-25 10:54:52,826]\u001b[0m Trial 95 finished with value: 5.4964167140406 and parameters: {'lambda1': 0.08436353694945592, 'lambda2': 0.2610471098123019, 'lambda3': 0.8225634582778876}. Best is trial 47 with value: 5.493986195540104.\u001b[0m\n",
      "\u001b[32m[I 2021-04-25 10:55:05,589]\u001b[0m Trial 96 finished with value: 5.494827846866355 and parameters: {'lambda1': 0.07893703860225168, 'lambda2': 0.26728060626174194, 'lambda3': 0.9252424967917129}. Best is trial 47 with value: 5.493986195540104.\u001b[0m\n",
      "\u001b[32m[I 2021-04-25 10:55:17,771]\u001b[0m Trial 97 finished with value: 5.4949779868809685 and parameters: {'lambda1': 0.08121386409309177, 'lambda2': 0.2603210451655757, 'lambda3': 0.9094999346944703}. Best is trial 47 with value: 5.493986195540104.\u001b[0m\n",
      "\u001b[32m[I 2021-04-25 10:55:30,258]\u001b[0m Trial 98 finished with value: 5.4978902607565585 and parameters: {'lambda1': 0.07992717534370787, 'lambda2': 0.2652425840526783, 'lambda3': 0.8230903861882851}. Best is trial 47 with value: 5.493986195540104.\u001b[0m\n",
      "\u001b[32m[I 2021-04-25 10:55:42,966]\u001b[0m Trial 99 finished with value: 5.519905010747492 and parameters: {'lambda1': 0.05733207564162686, 'lambda2': 0.2368214388965107, 'lambda3': 0.9152223225384153}. Best is trial 47 with value: 5.493986195540104.\u001b[0m\n",
      "\u001b[32m[I 2021-04-25 10:55:55,907]\u001b[0m Trial 100 finished with value: 5.6203053700796515 and parameters: {'lambda1': 0.03558381174396452, 'lambda2': 0.21795552866761667, 'lambda3': 0.8492352212911152}. Best is trial 47 with value: 5.493986195540104.\u001b[0m\n",
      "\u001b[32m[I 2021-04-25 10:56:08,773]\u001b[0m Trial 101 finished with value: 5.502218672558856 and parameters: {'lambda1': 0.09551729714005122, 'lambda2': 0.3224189572940728, 'lambda3': 0.9529325850762245}. Best is trial 47 with value: 5.493986195540104.\u001b[0m\n",
      "\u001b[32m[I 2021-04-25 10:56:21,334]\u001b[0m Trial 102 finished with value: 5.73482815876757 and parameters: {'lambda1': 0.01676747776486212, 'lambda2': 0.3443784541968248, 'lambda3': 0.8966639458468455}. Best is trial 47 with value: 5.493986195540104.\u001b[0m\n",
      "\u001b[32m[I 2021-04-25 10:56:34,181]\u001b[0m Trial 103 finished with value: 5.501748339958519 and parameters: {'lambda1': 0.07447479853104721, 'lambda2': 0.26133916303928434, 'lambda3': 0.8222615366447958}. Best is trial 47 with value: 5.493986195540104.\u001b[0m\n",
      "\u001b[32m[I 2021-04-25 10:56:47,325]\u001b[0m Trial 104 finished with value: 5.549038170686371 and parameters: {'lambda1': 0.14175093094643423, 'lambda2': 0.27936768578832816, 'lambda3': 1.0693149702135147}. Best is trial 47 with value: 5.493986195540104.\u001b[0m\n",
      "\u001b[32m[I 2021-04-25 10:57:01,558]\u001b[0m Trial 105 finished with value: 5.589825070991964 and parameters: {'lambda1': 0.18550503430706966, 'lambda2': 0.37668267342520984, 'lambda3': 0.8745309073726999}. Best is trial 47 with value: 5.493986195540104.\u001b[0m\n",
      "\u001b[32m[I 2021-04-25 10:57:16,982]\u001b[0m Trial 106 finished with value: 5.496449424813814 and parameters: {'lambda1': 0.05026971192069386, 'lambda2': 0.4129514946741056, 'lambda3': 0.9903191471634398}. Best is trial 47 with value: 5.493986195540104.\u001b[0m\n",
      "\u001b[32m[I 2021-04-25 10:57:32,040]\u001b[0m Trial 107 finished with value: 5.496380818176616 and parameters: {'lambda1': 0.0507166042902976, 'lambda2': 0.45510386355494953, 'lambda3': 1.153951005911399}. Best is trial 47 with value: 5.493986195540104.\u001b[0m\n",
      "\u001b[32m[I 2021-04-25 10:57:48,255]\u001b[0m Trial 108 finished with value: 6.414780839682141 and parameters: {'lambda1': 0.001058612284023222, 'lambda2': 0.43981937083221134, 'lambda3': 1.1525627188207126}. Best is trial 47 with value: 5.493986195540104.\u001b[0m\n",
      "\u001b[32m[I 2021-04-25 10:58:02,878]\u001b[0m Trial 109 finished with value: 5.526571313495999 and parameters: {'lambda1': 0.05441825759795728, 'lambda2': 0.5222974348714347, 'lambda3': 1.293304048650165}. Best is trial 47 with value: 5.493986195540104.\u001b[0m\n",
      "\u001b[32m[I 2021-04-25 10:58:16,597]\u001b[0m Trial 110 finished with value: 5.589433102843245 and parameters: {'lambda1': 0.02321307559027113, 'lambda2': 0.4204357184336674, 'lambda3': 0.9864852092235198}. Best is trial 47 with value: 5.493986195540104.\u001b[0m\n",
      "\u001b[32m[I 2021-04-25 10:58:29,809]\u001b[0m Trial 111 finished with value: 5.499331227303893 and parameters: {'lambda1': 0.07423468742755637, 'lambda2': 0.46767559142728804, 'lambda3': 0.9329713269046552}. Best is trial 47 with value: 5.493986195540104.\u001b[0m\n",
      "\u001b[32m[I 2021-04-25 10:58:43,810]\u001b[0m Trial 112 finished with value: 5.515220693669511 and parameters: {'lambda1': 0.09114586554261866, 'lambda2': 0.38674327068071856, 'lambda3': 1.033654075318575}. Best is trial 47 with value: 5.493986195540104.\u001b[0m\n",
      "\u001b[32m[I 2021-04-25 10:58:56,707]\u001b[0m Trial 113 finished with value: 5.500265248425621 and parameters: {'lambda1': 0.04416940913093925, 'lambda2': 0.41292022501844167, 'lambda3': 1.0253427880391004}. Best is trial 47 with value: 5.493986195540104.\u001b[0m\n",
      "\u001b[32m[I 2021-04-25 10:59:10,621]\u001b[0m Trial 114 finished with value: 5.513843971367969 and parameters: {'lambda1': 0.13604645506854826, 'lambda2': 0.306757940107619, 'lambda3': 0.7845951230099478}. Best is trial 47 with value: 5.493986195540104.\u001b[0m\n",
      "\u001b[32m[I 2021-04-25 10:59:23,672]\u001b[0m Trial 115 finished with value: 5.560935233894703 and parameters: {'lambda1': 0.09742030949685015, 'lambda2': 0.4405467251933721, 'lambda3': 1.1767348395663506}. Best is trial 47 with value: 5.493986195540104.\u001b[0m\n",
      "\u001b[32m[I 2021-04-25 10:59:37,328]\u001b[0m Trial 116 finished with value: 5.515175576330357 and parameters: {'lambda1': 0.11170180566285207, 'lambda2': 0.5438808718908978, 'lambda3': 0.7340009112655409}. Best is trial 47 with value: 5.493986195540104.\u001b[0m\n",
      "\u001b[32m[I 2021-04-25 10:59:52,030]\u001b[0m Trial 117 finished with value: 5.5955322691020735 and parameters: {'lambda1': 0.15735393861022304, 'lambda2': 0.48594936886554907, 'lambda3': 0.9164446870016093}. Best is trial 47 with value: 5.493986195540104.\u001b[0m\n",
      "\u001b[32m[I 2021-04-25 11:00:06,060]\u001b[0m Trial 118 finished with value: 5.500822190377081 and parameters: {'lambda1': 0.06286090698130467, 'lambda2': 0.4551671227106783, 'lambda3': 1.0795568216501867}. Best is trial 47 with value: 5.493986195540104.\u001b[0m\n",
      "\u001b[32m[I 2021-04-25 11:00:20,450]\u001b[0m Trial 119 finished with value: 5.591326226447806 and parameters: {'lambda1': 0.025622678961913795, 'lambda2': 0.35394740980459655, 'lambda3': 0.9979427974573226}. Best is trial 47 with value: 5.493986195540104.\u001b[0m\n",
      "\u001b[32m[I 2021-04-25 11:00:34,756]\u001b[0m Trial 120 finished with value: 5.591705855854108 and parameters: {'lambda1': 0.210450372898137, 'lambda2': 0.19727757726914913, 'lambda3': 1.1133544399303554}. Best is trial 47 with value: 5.493986195540104.\u001b[0m\n",
      "\u001b[32m[I 2021-04-25 11:00:48,998]\u001b[0m Trial 121 finished with value: 5.513291080484327 and parameters: {'lambda1': 0.1115512860707334, 'lambda2': 0.3996912905045076, 'lambda3': 0.8411115039825552}. Best is trial 47 with value: 5.493986195540104.\u001b[0m\n",
      "\u001b[32m[I 2021-04-25 11:01:02,999]\u001b[0m Trial 122 finished with value: 5.502921503634486 and parameters: {'lambda1': 0.08300201981549388, 'lambda2': 0.22517533469903286, 'lambda3': 0.7750569550138975}. Best is trial 47 with value: 5.493986195540104.\u001b[0m\n",
      "\u001b[32m[I 2021-04-25 11:01:17,215]\u001b[0m Trial 123 finished with value: 5.507596095907615 and parameters: {'lambda1': 0.04519147014104652, 'lambda2': 0.24959345357154378, 'lambda3': 1.2453833338531384}. Best is trial 47 with value: 5.493986195540104.\u001b[0m\n",
      "\u001b[32m[I 2021-04-25 11:01:29,467]\u001b[0m Trial 124 finished with value: 5.521710701847937 and parameters: {'lambda1': 0.13057497689039238, 'lambda2': 0.3274595040704351, 'lambda3': 0.8666509318673908}. Best is trial 47 with value: 5.493986195540104.\u001b[0m\n",
      "\u001b[32m[I 2021-04-25 11:01:42,191]\u001b[0m Trial 125 finished with value: 5.49538893772878 and parameters: {'lambda1': 0.10306525524341188, 'lambda2': 0.2954412946951986, 'lambda3': 0.734651942175366}. Best is trial 47 with value: 5.493986195540104.\u001b[0m\n",
      "\u001b[32m[I 2021-04-25 11:01:55,141]\u001b[0m Trial 126 finished with value: 5.5073515705690985 and parameters: {'lambda1': 0.06456617568166359, 'lambda2': 0.3049894291501756, 'lambda3': 0.8017009336175538}. Best is trial 47 with value: 5.493986195540104.\u001b[0m\n",
      "\u001b[32m[I 2021-04-25 11:02:09,028]\u001b[0m Trial 127 finished with value: 6.1326445892123465 and parameters: {'lambda1': 0.8126894243362058, 'lambda2': 0.2778495168817945, 'lambda3': 1.3726632738422178}. Best is trial 47 with value: 5.493986195540104.\u001b[0m\n",
      "\u001b[32m[I 2021-04-25 11:02:23,081]\u001b[0m Trial 128 finished with value: 6.480180558022797 and parameters: {'lambda1': 0.002179463553474481, 'lambda2': 0.228386811473401, 'lambda3': 0.73744155435873}. Best is trial 47 with value: 5.493986195540104.\u001b[0m\n",
      "\u001b[32m[I 2021-04-25 11:02:36,734]\u001b[0m Trial 129 finished with value: 5.535001196571357 and parameters: {'lambda1': 0.15204675899095121, 'lambda2': 0.2533583499889973, 'lambda3': 0.9535111440011544}. Best is trial 47 with value: 5.493986195540104.\u001b[0m\n",
      "\u001b[32m[I 2021-04-25 11:02:49,664]\u001b[0m Trial 130 finished with value: 5.499826266352611 and parameters: {'lambda1': 0.08153834022050958, 'lambda2': 0.3698498389452198, 'lambda3': 0.6397820981552954}. Best is trial 47 with value: 5.493986195540104.\u001b[0m\n",
      "\u001b[32m[I 2021-04-25 11:03:03,279]\u001b[0m Trial 131 finished with value: 5.562326137052856 and parameters: {'lambda1': 0.11254705715848556, 'lambda2': 0.9401123222598935, 'lambda3': 0.7647118897644709}. Best is trial 47 with value: 5.493986195540104.\u001b[0m\n",
      "\u001b[32m[I 2021-04-25 11:03:16,648]\u001b[0m Trial 132 finished with value: 5.494875073641864 and parameters: {'lambda1': 0.09544743948733164, 'lambda2': 0.3460324305347481, 'lambda3': 0.717302047452135}. Best is trial 47 with value: 5.493986195540104.\u001b[0m\n",
      "\u001b[32m[I 2021-04-25 11:03:34,080]\u001b[0m Trial 133 finished with value: 5.495483200146137 and parameters: {'lambda1': 0.10057903646839506, 'lambda2': 0.34507839438450466, 'lambda3': 0.7130983141189495}. Best is trial 47 with value: 5.493986195540104.\u001b[0m\n",
      "\u001b[32m[I 2021-04-25 11:03:47,580]\u001b[0m Trial 134 finished with value: 5.49494232799037 and parameters: {'lambda1': 0.09636134165639804, 'lambda2': 0.3452874454854698, 'lambda3': 0.7008599700718242}. Best is trial 47 with value: 5.493986195540104.\u001b[0m\n",
      "\u001b[32m[I 2021-04-25 11:04:01,546]\u001b[0m Trial 135 finished with value: 5.551948601007166 and parameters: {'lambda1': 0.046222828385478795, 'lambda2': 0.3578228486663345, 'lambda3': 0.7050211591777369}. Best is trial 47 with value: 5.493986195540104.\u001b[0m\n",
      "\u001b[32m[I 2021-04-25 11:04:15,512]\u001b[0m Trial 136 finished with value: 5.49854816390348 and parameters: {'lambda1': 0.09490039501435543, 'lambda2': 0.39066076526414156, 'lambda3': 0.8097184784744283}. Best is trial 47 with value: 5.493986195540104.\u001b[0m\n",
      "\u001b[32m[I 2021-04-25 11:04:29,537]\u001b[0m Trial 137 finished with value: 5.505853821360022 and parameters: {'lambda1': 0.06813790527089617, 'lambda2': 0.3440715841639653, 'lambda3': 0.7238893862512483}. Best is trial 47 with value: 5.493986195540104.\u001b[0m\n",
      "\u001b[32m[I 2021-04-25 11:04:43,349]\u001b[0m Trial 138 finished with value: 5.6157133724428565 and parameters: {'lambda1': 0.029613070429873704, 'lambda2': 0.3191360794096034, 'lambda3': 0.8451451174785154}. Best is trial 47 with value: 5.493986195540104.\u001b[0m\n",
      "\u001b[32m[I 2021-04-25 11:04:57,002]\u001b[0m Trial 139 finished with value: 5.557636935136683 and parameters: {'lambda1': 0.1749903539962638, 'lambda2': 0.2907717130853269, 'lambda3': 0.8888747928474321}. Best is trial 47 with value: 5.493986195540104.\u001b[0m\n",
      "\u001b[32m[I 2021-04-25 11:05:11,491]\u001b[0m Trial 140 finished with value: 5.7639638968992175 and parameters: {'lambda1': 0.43344162438697087, 'lambda2': 0.3410029739001804, 'lambda3': 0.6916288092243777}. Best is trial 47 with value: 5.493986195540104.\u001b[0m\n",
      "\u001b[32m[I 2021-04-25 11:05:25,737]\u001b[0m Trial 141 finished with value: 5.511127911903825 and parameters: {'lambda1': 0.13303352677548633, 'lambda2': 0.41362591482417393, 'lambda3': 0.6604473859330736}. Best is trial 47 with value: 5.493986195540104.\u001b[0m\n",
      "\u001b[32m[I 2021-04-25 11:05:39,644]\u001b[0m Trial 142 finished with value: 5.497974410205888 and parameters: {'lambda1': 0.10161816767626652, 'lambda2': 0.27038863078782405, 'lambda3': 0.6211295526368699}. Best is trial 47 with value: 5.493986195540104.\u001b[0m\n",
      "\u001b[32m[I 2021-04-25 11:05:53,007]\u001b[0m Trial 143 finished with value: 5.494173744967397 and parameters: {'lambda1': 0.08278460452005726, 'lambda2': 0.3812239654425591, 'lambda3': 0.7924450854650014}. Best is trial 47 with value: 5.493986195540104.\u001b[0m\n",
      "\u001b[32m[I 2021-04-25 11:06:07,109]\u001b[0m Trial 144 finished with value: 5.494084008282295 and parameters: {'lambda1': 0.07580170676077021, 'lambda2': 0.3749846640541227, 'lambda3': 0.8227015764564615}. Best is trial 47 with value: 5.493986195540104.\u001b[0m\n",
      "\u001b[32m[I 2021-04-25 11:06:20,518]\u001b[0m Trial 145 finished with value: 5.902868076889037 and parameters: {'lambda1': 0.5581821511854503, 'lambda2': 0.3771718063540259, 'lambda3': 0.7929914968476888}. Best is trial 47 with value: 5.493986195540104.\u001b[0m\n",
      "\u001b[32m[I 2021-04-25 11:06:33,646]\u001b[0m Trial 146 finished with value: 5.500058843620814 and parameters: {'lambda1': 0.07545629782882442, 'lambda2': 0.3090917034725575, 'lambda3': 0.7611608422269954}. Best is trial 47 with value: 5.493986195540104.\u001b[0m\n",
      "\u001b[32m[I 2021-04-25 11:06:47,433]\u001b[0m Trial 147 finished with value: 5.4993276417944825 and parameters: {'lambda1': 0.10054478108821954, 'lambda2': 0.36059179161423816, 'lambda3': 0.8077785044729987}. Best is trial 47 with value: 5.493986195540104.\u001b[0m\n",
      "\u001b[32m[I 2021-04-25 11:07:00,559]\u001b[0m Trial 148 finished with value: 5.494452768136925 and parameters: {'lambda1': 0.08766918145723566, 'lambda2': 0.3930116464768028, 'lambda3': 0.7224388724142902}. Best is trial 47 with value: 5.493986195540104.\u001b[0m\n",
      "\u001b[32m[I 2021-04-25 11:07:12,990]\u001b[0m Trial 149 finished with value: 5.523278945091725 and parameters: {'lambda1': 0.14267746124795333, 'lambda2': 0.38833391139996415, 'lambda3': 0.726732980818943}. Best is trial 47 with value: 5.493986195540104.\u001b[0m\n",
      "\u001b[32m[I 2021-04-25 11:07:28,042]\u001b[0m Trial 150 finished with value: 5.516747818415615 and parameters: {'lambda1': 0.05637751003218974, 'lambda2': 0.4327424203772687, 'lambda3': 0.6863345860150193}. Best is trial 47 with value: 5.493986195540104.\u001b[0m\n",
      "\u001b[32m[I 2021-04-25 11:07:42,111]\u001b[0m Trial 151 finished with value: 5.494996684451797 and parameters: {'lambda1': 0.0825799454466089, 'lambda2': 0.33280649760440123, 'lambda3': 0.775751922514346}. Best is trial 47 with value: 5.493986195540104.\u001b[0m\n",
      "\u001b[32m[I 2021-04-25 11:07:56,020]\u001b[0m Trial 152 finished with value: 5.495853096983742 and parameters: {'lambda1': 0.08290004424368554, 'lambda2': 0.33663672522439236, 'lambda3': 0.7398111124468814}. Best is trial 47 with value: 5.493986195540104.\u001b[0m\n",
      "\u001b[32m[I 2021-04-25 11:08:09,618]\u001b[0m Trial 153 finished with value: 5.83324536737171 and parameters: {'lambda1': 0.015516121018692375, 'lambda2': 0.34079720591736684, 'lambda3': 0.7099241479434277}. Best is trial 47 with value: 5.493986195540104.\u001b[0m\n",
      "\u001b[32m[I 2021-04-25 11:08:23,504]\u001b[0m Trial 154 finished with value: 5.498845211290336 and parameters: {'lambda1': 0.07321855739482934, 'lambda2': 0.3281906135145465, 'lambda3': 0.7785900233591703}. Best is trial 47 with value: 5.493986195540104.\u001b[0m\n",
      "\u001b[32m[I 2021-04-25 11:08:37,083]\u001b[0m Trial 155 finished with value: 5.575731989435982 and parameters: {'lambda1': 0.037691663204518645, 'lambda2': 0.3744424581475905, 'lambda3': 0.7385334705503571}. Best is trial 47 with value: 5.493986195540104.\u001b[0m\n",
      "\u001b[32m[I 2021-04-25 11:08:50,239]\u001b[0m Trial 156 finished with value: 5.498549440128928 and parameters: {'lambda1': 0.09008750086860101, 'lambda2': 0.4059835137941101, 'lambda3': 0.8367589081433142}. Best is trial 47 with value: 5.493986195540104.\u001b[0m\n",
      "\u001b[32m[I 2021-04-25 11:09:03,047]\u001b[0m Trial 157 finished with value: 5.5000904497690275 and parameters: {'lambda1': 0.1254319329400812, 'lambda2': 0.2946511483106657, 'lambda3': 0.6857995722845917}. Best is trial 47 with value: 5.493986195540104.\u001b[0m\n",
      "\u001b[32m[I 2021-04-25 11:09:16,496]\u001b[0m Trial 158 finished with value: 5.507225085966909 and parameters: {'lambda1': 0.06095764363210209, 'lambda2': 0.3580207137192847, 'lambda3': 0.778502713824873}. Best is trial 47 with value: 5.493986195540104.\u001b[0m\n",
      "\u001b[32m[I 2021-04-25 11:09:30,457]\u001b[0m Trial 159 finished with value: 5.506706307967551 and parameters: {'lambda1': 0.10939774313568086, 'lambda2': 0.452760960308435, 'lambda3': 0.7438592484023058}. Best is trial 47 with value: 5.493986195540104.\u001b[0m\n",
      "\u001b[32m[I 2021-04-25 11:09:44,445]\u001b[0m Trial 160 finished with value: 5.498077099653709 and parameters: {'lambda1': 0.08087539497720622, 'lambda2': 0.3947613451281808, 'lambda3': 0.6511814901268977}. Best is trial 47 with value: 5.493986195540104.\u001b[0m\n",
      "\u001b[32m[I 2021-04-25 11:09:57,724]\u001b[0m Trial 161 finished with value: 5.498855327117121 and parameters: {'lambda1': 0.11016651660895468, 'lambda2': 0.326477083450415, 'lambda3': 0.7537671254477215}. Best is trial 47 with value: 5.493986195540104.\u001b[0m\n",
      "\u001b[32m[I 2021-04-25 11:10:10,602]\u001b[0m Trial 162 finished with value: 5.4954174883853275 and parameters: {'lambda1': 0.09310841970016125, 'lambda2': 0.35182025892591307, 'lambda3': 0.788824738503614}. Best is trial 47 with value: 5.493986195540104.\u001b[0m\n",
      "\u001b[32m[I 2021-04-25 11:10:23,324]\u001b[0m Trial 163 finished with value: 5.494613348249939 and parameters: {'lambda1': 0.0885304535901407, 'lambda2': 0.36909472784206354, 'lambda3': 0.7204530885899244}. Best is trial 47 with value: 5.493986195540104.\u001b[0m\n",
      "\u001b[32m[I 2021-04-25 11:10:36,240]\u001b[0m Trial 164 finished with value: 5.528527970428783 and parameters: {'lambda1': 0.15373294065749157, 'lambda2': 0.37181519459931744, 'lambda3': 0.7159776182393973}. Best is trial 47 with value: 5.493986195540104.\u001b[0m\n",
      "\u001b[32m[I 2021-04-25 11:10:49,474]\u001b[0m Trial 165 finished with value: 5.495901523613585 and parameters: {'lambda1': 0.09466097237345478, 'lambda2': 0.34423153372516324, 'lambda3': 0.8007714707691895}. Best is trial 47 with value: 5.493986195540104.\u001b[0m\n",
      "\u001b[32m[I 2021-04-25 11:11:02,180]\u001b[0m Trial 166 finished with value: 5.518392618251904 and parameters: {'lambda1': 0.13143180840930369, 'lambda2': 0.34689548006133275, 'lambda3': 0.8064851081140286}. Best is trial 47 with value: 5.493986195540104.\u001b[0m\n",
      "\u001b[32m[I 2021-04-25 11:11:16,619]\u001b[0m Trial 167 finished with value: 5.494599990372149 and parameters: {'lambda1': 0.09118824027790416, 'lambda2': 0.3166251423283192, 'lambda3': 0.7856249028394909}. Best is trial 47 with value: 5.493986195540104.\u001b[0m\n",
      "\u001b[32m[I 2021-04-25 11:11:31,083]\u001b[0m Trial 168 finished with value: 5.498739475321393 and parameters: {'lambda1': 0.06909092213208833, 'lambda2': 0.30530980877682384, 'lambda3': 0.8595482531193228}. Best is trial 47 with value: 5.493986195540104.\u001b[0m\n",
      "\u001b[32m[I 2021-04-25 11:11:45,109]\u001b[0m Trial 169 finished with value: 5.498727691982748 and parameters: {'lambda1': 0.12269803415360214, 'lambda2': 0.28490513249120064, 'lambda3': 0.6888718498065133}. Best is trial 47 with value: 5.493986195540104.\u001b[0m\n",
      "\u001b[32m[I 2021-04-25 11:11:58,889]\u001b[0m Trial 170 finished with value: 5.503927010646335 and parameters: {'lambda1': 0.08629071518280322, 'lambda2': 0.3201094404764194, 'lambda3': 0.5909863837882525}. Best is trial 47 with value: 5.493986195540104.\u001b[0m\n",
      "\u001b[32m[I 2021-04-25 11:12:12,806]\u001b[0m Trial 171 finished with value: 5.496642414204047 and parameters: {'lambda1': 0.09808327887517054, 'lambda2': 0.3460276997741934, 'lambda3': 0.7876462336648024}. Best is trial 47 with value: 5.493986195540104.\u001b[0m\n",
      "\u001b[32m[I 2021-04-25 11:12:26,921]\u001b[0m Trial 172 finished with value: 5.497044655157086 and parameters: {'lambda1': 0.06481948517190654, 'lambda2': 0.38592037958887726, 'lambda3': 0.8289680407949865}. Best is trial 47 with value: 5.493986195540104.\u001b[0m\n",
      "\u001b[32m[I 2021-04-25 11:12:40,108]\u001b[0m Trial 173 finished with value: 5.495214689054417 and parameters: {'lambda1': 0.08775371979267367, 'lambda2': 0.33493826307816255, 'lambda3': 0.7264058689412579}. Best is trial 47 with value: 5.493986195540104.\u001b[0m\n",
      "\u001b[32m[I 2021-04-25 11:12:52,750]\u001b[0m Trial 174 finished with value: 5.596586310336032 and parameters: {'lambda1': 0.03791990007446864, 'lambda2': 0.3136703601440598, 'lambda3': 0.7221301405269481}. Best is trial 47 with value: 5.493986195540104.\u001b[0m\n",
      "\u001b[32m[I 2021-04-25 11:13:05,788]\u001b[0m Trial 175 finished with value: 5.494743734794628 and parameters: {'lambda1': 0.0823975873053344, 'lambda2': 0.3634739142147701, 'lambda3': 0.7519825429228442}. Best is trial 47 with value: 5.493986195540104.\u001b[0m\n",
      "\u001b[32m[I 2021-04-25 11:13:18,805]\u001b[0m Trial 176 finished with value: 5.525406534811722 and parameters: {'lambda1': 0.143212374987654, 'lambda2': 0.3637942897819349, 'lambda3': 0.7653722227824458}. Best is trial 47 with value: 5.493986195540104.\u001b[0m\n",
      "\u001b[32m[I 2021-04-25 11:13:31,841]\u001b[0m Trial 177 finished with value: 5.515944539076738 and parameters: {'lambda1': 0.05717239265926258, 'lambda2': 0.4046266258920197, 'lambda3': 0.7061022279848269}. Best is trial 47 with value: 5.493986195540104.\u001b[0m\n",
      "\u001b[32m[I 2021-04-25 11:13:45,290]\u001b[0m Trial 178 finished with value: 5.497706752000109 and parameters: {'lambda1': 0.1212236088220826, 'lambda2': 0.28790286395749853, 'lambda3': 0.6640551083032363}. Best is trial 47 with value: 5.493986195540104.\u001b[0m\n",
      "\u001b[32m[I 2021-04-25 11:13:58,074]\u001b[0m Trial 179 finished with value: 5.806401505534536 and parameters: {'lambda1': 0.017814313656839414, 'lambda2': 0.3785776992614573, 'lambda3': 0.6314288213234724}. Best is trial 47 with value: 5.493986195540104.\u001b[0m\n",
      "\u001b[32m[I 2021-04-25 11:14:11,539]\u001b[0m Trial 180 finished with value: 5.502203730737775 and parameters: {'lambda1': 0.10537421773539381, 'lambda2': 0.4203441559475066, 'lambda3': 0.7494441550617014}. Best is trial 47 with value: 5.493986195540104.\u001b[0m\n",
      "\u001b[32m[I 2021-04-25 11:14:25,953]\u001b[0m Trial 181 finished with value: 5.497331490878089 and parameters: {'lambda1': 0.08072999891583674, 'lambda2': 0.32949502120015517, 'lambda3': 0.7317502240233782}. Best is trial 47 with value: 5.493986195540104.\u001b[0m\n",
      "\u001b[32m[I 2021-04-25 11:14:39,700]\u001b[0m Trial 182 finished with value: 5.4944999489067285 and parameters: {'lambda1': 0.08922078450877649, 'lambda2': 0.3521337698707004, 'lambda3': 0.7597648532349625}. Best is trial 47 with value: 5.493986195540104.\u001b[0m\n",
      "\u001b[32m[I 2021-04-25 11:14:52,767]\u001b[0m Trial 183 finished with value: 5.5249497292643595 and parameters: {'lambda1': 0.05051654412177528, 'lambda2': 0.36166281254568344, 'lambda3': 0.7805522234518172}. Best is trial 47 with value: 5.493986195540104.\u001b[0m\n",
      "\u001b[32m[I 2021-04-25 11:15:07,494]\u001b[0m Trial 184 finished with value: 5.495351245138975 and parameters: {'lambda1': 0.10044777689972609, 'lambda2': 0.3050103884167616, 'lambda3': 0.6864904581603506}. Best is trial 47 with value: 5.493986195540104.\u001b[0m\n",
      "\u001b[32m[I 2021-04-25 11:15:21,364]\u001b[0m Trial 185 finished with value: 5.497950568663784 and parameters: {'lambda1': 0.07343079724247885, 'lambda2': 0.2995256107791181, 'lambda3': 0.8338856965075885}. Best is trial 47 with value: 5.493986195540104.\u001b[0m\n",
      "\u001b[32m[I 2021-04-25 11:15:35,390]\u001b[0m Trial 186 finished with value: 5.499744768474564 and parameters: {'lambda1': 0.12367268462640804, 'lambda2': 0.3089764327324457, 'lambda3': 0.6745576848360412}. Best is trial 47 with value: 5.493986195540104.\u001b[0m\n",
      "\u001b[32m[I 2021-04-25 11:15:48,845]\u001b[0m Trial 187 finished with value: 5.495585839245874 and parameters: {'lambda1': 0.09025347253769266, 'lambda2': 0.2805124552274261, 'lambda3': 0.7656794502519705}. Best is trial 47 with value: 5.493986195540104.\u001b[0m\n",
      "\u001b[32m[I 2021-04-25 11:16:02,403]\u001b[0m Trial 188 finished with value: 5.549246441025129 and parameters: {'lambda1': 0.03528488027489294, 'lambda2': 0.39094693558321125, 'lambda3': 0.8822269478018139}. Best is trial 47 with value: 5.493986195540104.\u001b[0m\n",
      "\u001b[32m[I 2021-04-25 11:16:16,148]\u001b[0m Trial 189 finished with value: 5.510697100222697 and parameters: {'lambda1': 0.06658530220992817, 'lambda2': 0.26427326132423534, 'lambda3': 0.8065711606538255}. Best is trial 47 with value: 5.493986195540104.\u001b[0m\n",
      "\u001b[32m[I 2021-04-25 11:16:29,385]\u001b[0m Trial 190 finished with value: 5.4968866780554695 and parameters: {'lambda1': 0.10995401970623524, 'lambda2': 0.32812286707446403, 'lambda3': 0.6978158416604607}. Best is trial 47 with value: 5.493986195540104.\u001b[0m\n",
      "\u001b[32m[I 2021-04-25 11:16:42,293]\u001b[0m Trial 191 finished with value: 5.494854895611399 and parameters: {'lambda1': 0.09484115128132134, 'lambda2': 0.35409219149505705, 'lambda3': 0.7186630870154858}. Best is trial 47 with value: 5.493986195540104.\u001b[0m\n",
      "\u001b[32m[I 2021-04-25 11:16:55,435]\u001b[0m Trial 192 finished with value: 5.494533236835752 and parameters: {'lambda1': 0.08961186220068955, 'lambda2': 0.36348368024178895, 'lambda3': 0.7398023457744449}. Best is trial 47 with value: 5.493986195540104.\u001b[0m\n",
      "\u001b[32m[I 2021-04-25 11:17:09,824]\u001b[0m Trial 193 finished with value: 5.494445926728033 and parameters: {'lambda1': 0.08510437148982822, 'lambda2': 0.3586847692172682, 'lambda3': 0.7589142883697564}. Best is trial 47 with value: 5.493986195540104.\u001b[0m\n",
      "\u001b[32m[I 2021-04-25 11:17:23,219]\u001b[0m Trial 194 finished with value: 5.506286315984437 and parameters: {'lambda1': 0.06503287367459873, 'lambda2': 0.3760277578769203, 'lambda3': 0.7200099767977459}. Best is trial 47 with value: 5.493986195540104.\u001b[0m\n",
      "\u001b[32m[I 2021-04-25 11:17:37,049]\u001b[0m Trial 195 finished with value: 5.524201083485223 and parameters: {'lambda1': 0.13605276976428063, 'lambda2': 0.40590232343638644, 'lambda3': 0.7568299214273471}. Best is trial 47 with value: 5.493986195540104.\u001b[0m\n",
      "\u001b[32m[I 2021-04-25 11:17:51,813]\u001b[0m Trial 196 finished with value: 5.543304150161498 and parameters: {'lambda1': 0.05092681355909369, 'lambda2': 0.36085778955619885, 'lambda3': 0.6707931670336815}. Best is trial 47 with value: 5.493986195540104.\u001b[0m\n",
      "\u001b[32m[I 2021-04-25 11:18:04,838]\u001b[0m Trial 197 finished with value: 5.498690635934826 and parameters: {'lambda1': 0.07509173998258631, 'lambda2': 0.3881333469995076, 'lambda3': 0.6968048044195347}. Best is trial 47 with value: 5.493986195540104.\u001b[0m\n",
      "\u001b[32m[I 2021-04-25 11:18:17,912]\u001b[0m Trial 198 finished with value: 5.495640926925402 and parameters: {'lambda1': 0.10669647200808796, 'lambda2': 0.3294004531000324, 'lambda3': 0.648001513194212}. Best is trial 47 with value: 5.493986195540104.\u001b[0m\n",
      "\u001b[32m[I 2021-04-25 11:18:32,572]\u001b[0m Trial 199 finished with value: 5.536386685884355 and parameters: {'lambda1': 0.1572918161862894, 'lambda2': 0.3633068186864739, 'lambda3': 0.7580985983758242}. Best is trial 47 with value: 5.493986195540104.\u001b[0m\n",
      "\u001b[32m[I 2021-04-25 11:18:46,150]\u001b[0m Trial 200 finished with value: 5.505772627035734 and parameters: {'lambda1': 0.11645351703315202, 'lambda2': 0.31835702569664054, 'lambda3': 0.8252931491303158}. Best is trial 47 with value: 5.493986195540104.\u001b[0m\n",
      "\u001b[32m[I 2021-04-25 11:19:00,612]\u001b[0m Trial 201 finished with value: 5.4954056717881175 and parameters: {'lambda1': 0.09399518796319324, 'lambda2': 0.3512155730425653, 'lambda3': 0.7791725320526912}. Best is trial 47 with value: 5.493986195540104.\u001b[0m\n",
      "\u001b[32m[I 2021-04-25 11:19:14,741]\u001b[0m Trial 202 finished with value: 5.495270628625728 and parameters: {'lambda1': 0.08526265643390157, 'lambda2': 0.3433759179790919, 'lambda3': 0.7322510539390248}. Best is trial 47 with value: 5.493986195540104.\u001b[0m\n",
      "\u001b[32m[I 2021-04-25 11:19:28,289]\u001b[0m Trial 203 finished with value: 5.494579864930589 and parameters: {'lambda1': 0.08496246677374865, 'lambda2': 0.37911573019016503, 'lambda3': 0.7287733651707627}. Best is trial 47 with value: 5.493986195540104.\u001b[0m\n",
      "\u001b[32m[I 2021-04-25 11:19:42,833]\u001b[0m Trial 204 finished with value: 5.497133563476555 and parameters: {'lambda1': 0.07729879804595535, 'lambda2': 0.38126852199314293, 'lambda3': 0.7103056421198221}. Best is trial 47 with value: 5.493986195540104.\u001b[0m\n",
      "\u001b[32m[I 2021-04-25 11:19:56,408]\u001b[0m Trial 205 finished with value: 5.535810332308766 and parameters: {'lambda1': 0.04622923942147981, 'lambda2': 0.4059252375966422, 'lambda3': 0.7368868581998869}. Best is trial 47 with value: 5.493986195540104.\u001b[0m\n",
      "\u001b[32m[I 2021-04-25 11:20:09,942]\u001b[0m Trial 206 finished with value: 5.495187930675408 and parameters: {'lambda1': 0.08026757158453643, 'lambda2': 0.4233286676039996, 'lambda3': 0.694895594216554}. Best is trial 47 with value: 5.493986195540104.\u001b[0m\n",
      "\u001b[32m[I 2021-04-25 11:20:23,701]\u001b[0m Trial 207 finished with value: 5.587226427211802 and parameters: {'lambda1': 0.030106813531399094, 'lambda2': 0.43630177635009887, 'lambda3': 0.7958419248332858}. Best is trial 47 with value: 5.493986195540104.\u001b[0m\n",
      "\u001b[32m[I 2021-04-25 11:20:37,381]\u001b[0m Trial 208 finished with value: 5.496202142154643 and parameters: {'lambda1': 0.07022533492307377, 'lambda2': 0.42286227784296504, 'lambda3': 0.7530114153015945}. Best is trial 47 with value: 5.493986195540104.\u001b[0m\n",
      "\u001b[32m[I 2021-04-25 11:20:51,078]\u001b[0m Trial 209 finished with value: 5.515331078395025 and parameters: {'lambda1': 0.05779231622080021, 'lambda2': 0.3922459696935729, 'lambda3': 0.7142863746909297}. Best is trial 47 with value: 5.493986195540104.\u001b[0m\n",
      "\u001b[32m[I 2021-04-25 11:21:03,969]\u001b[0m Trial 210 finished with value: 5.495425086840138 and parameters: {'lambda1': 0.08423572477693145, 'lambda2': 0.37736793928579104, 'lambda3': 0.8535048299419634}. Best is trial 47 with value: 5.493986195540104.\u001b[0m\n",
      "\u001b[32m[I 2021-04-25 11:21:18,657]\u001b[0m Trial 211 finished with value: 5.496446797013694 and parameters: {'lambda1': 0.08538642133775398, 'lambda2': 0.3435625586238347, 'lambda3': 0.6962789656803279}. Best is trial 47 with value: 5.493986195540104.\u001b[0m\n",
      "\u001b[32m[I 2021-04-25 11:21:32,827]\u001b[0m Trial 212 finished with value: 5.500147410368967 and parameters: {'lambda1': 0.11721899302815003, 'lambda2': 0.3682308116830912, 'lambda3': 0.6718272521607898}. Best is trial 47 with value: 5.493986195540104.\u001b[0m\n",
      "\u001b[32m[I 2021-04-25 11:21:46,103]\u001b[0m Trial 213 finished with value: 5.515485100803123 and parameters: {'lambda1': 0.05848699734151484, 'lambda2': 0.35087299472971106, 'lambda3': 0.7475778586799133}. Best is trial 47 with value: 5.493986195540104.\u001b[0m\n",
      "\u001b[32m[I 2021-04-25 11:21:59,538]\u001b[0m Trial 214 finished with value: 5.496840028155928 and parameters: {'lambda1': 0.09274901628168082, 'lambda2': 0.405150496675078, 'lambda3': 0.7785207865448651}. Best is trial 47 with value: 5.493986195540104.\u001b[0m\n",
      "\u001b[32m[I 2021-04-25 11:22:12,347]\u001b[0m Trial 215 finished with value: 5.502110040902152 and parameters: {'lambda1': 0.1320993303939504, 'lambda2': 0.3327012029346028, 'lambda3': 0.625429288601292}. Best is trial 47 with value: 5.493986195540104.\u001b[0m\n",
      "\u001b[32m[I 2021-04-25 11:22:25,374]\u001b[0m Trial 216 finished with value: 5.501531646291271 and parameters: {'lambda1': 0.07554799611051893, 'lambda2': 0.36917097847114516, 'lambda3': 0.6708839083089012}. Best is trial 47 with value: 5.493986195540104.\u001b[0m\n",
      "\u001b[32m[I 2021-04-25 11:22:39,501]\u001b[0m Trial 217 finished with value: 5.5019220732058995 and parameters: {'lambda1': 0.10791662864252674, 'lambda2': 0.4202325209412594, 'lambda3': 0.7257366989905699}. Best is trial 47 with value: 5.493986195540104.\u001b[0m\n",
      "\u001b[32m[I 2021-04-25 11:22:53,320]\u001b[0m Trial 218 finished with value: 5.527785542378288 and parameters: {'lambda1': 0.0510345950723617, 'lambda2': 0.3159890540890104, 'lambda3': 0.8130935111655955}. Best is trial 47 with value: 5.493986195540104.\u001b[0m\n",
      "\u001b[32m[I 2021-04-25 11:23:07,898]\u001b[0m Trial 219 finished with value: 5.494592847533872 and parameters: {'lambda1': 0.08909084750050607, 'lambda2': 0.3886715185890752, 'lambda3': 0.7045907891011048}. Best is trial 47 with value: 5.493986195540104.\u001b[0m\n",
      "\u001b[32m[I 2021-04-25 11:23:22,113]\u001b[0m Trial 220 finished with value: 5.556449421417001 and parameters: {'lambda1': 0.039063074717583766, 'lambda2': 0.395757856744796, 'lambda3': 0.770205705994821}. Best is trial 47 with value: 5.493986195540104.\u001b[0m\n",
      "\u001b[32m[I 2021-04-25 11:23:36,125]\u001b[0m Trial 221 finished with value: 5.495903724944759 and parameters: {'lambda1': 0.08579506693266997, 'lambda2': 0.35765022379102335, 'lambda3': 0.6929005907362469}. Best is trial 47 with value: 5.493986195540104.\u001b[0m\n",
      "\u001b[32m[I 2021-04-25 11:23:50,207]\u001b[0m Trial 222 finished with value: 5.498125858085538 and parameters: {'lambda1': 0.10376833567372144, 'lambda2': 0.38788075749845363, 'lambda3': 0.7252122799600345}. Best is trial 47 with value: 5.493986195540104.\u001b[0m\n",
      "\u001b[32m[I 2021-04-25 11:24:04,064]\u001b[0m Trial 223 finished with value: 5.512090212827262 and parameters: {'lambda1': 0.0696801860099178, 'lambda2': 0.3405559098153053, 'lambda3': 0.652003458817357}. Best is trial 47 with value: 5.493986195540104.\u001b[0m\n",
      "\u001b[32m[I 2021-04-25 11:24:17,926]\u001b[0m Trial 224 finished with value: 5.507996587275523 and parameters: {'lambda1': 0.12229535943085834, 'lambda2': 0.37462114700507015, 'lambda3': 0.7379855779431551}. Best is trial 47 with value: 5.493986195540104.\u001b[0m\n",
      "\u001b[32m[I 2021-04-25 11:24:31,359]\u001b[0m Trial 225 finished with value: 5.495027558467284 and parameters: {'lambda1': 0.09254252469607926, 'lambda2': 0.42699462512013014, 'lambda3': 0.6957652780699852}. Best is trial 47 with value: 5.493986195540104.\u001b[0m\n",
      "\u001b[32m[I 2021-04-25 11:24:44,807]\u001b[0m Trial 226 finished with value: 5.494218631767066 and parameters: {'lambda1': 0.0805216846992828, 'lambda2': 0.4389140485781814, 'lambda3': 0.7763986930101369}. Best is trial 47 with value: 5.493986195540104.\u001b[0m\n",
      "\u001b[32m[I 2021-04-25 11:24:58,079]\u001b[0m Trial 227 finished with value: 5.495790346538181 and parameters: {'lambda1': 0.07018501259789763, 'lambda2': 0.4322929090748918, 'lambda3': 0.7535863959249715}. Best is trial 47 with value: 5.493986195540104.\u001b[0m\n",
      "\u001b[32m[I 2021-04-25 11:25:12,018]\u001b[0m Trial 228 finished with value: 5.495741732366913 and parameters: {'lambda1': 0.08928343034220532, 'lambda2': 0.4815122599785489, 'lambda3': 0.7150642862021075}. Best is trial 47 with value: 5.493986195540104.\u001b[0m\n",
      "\u001b[32m[I 2021-04-25 11:25:26,479]\u001b[0m Trial 229 finished with value: 5.503240905399755 and parameters: {'lambda1': 0.055640748083074086, 'lambda2': 0.4579320435598493, 'lambda3': 0.7817840621148275}. Best is trial 47 with value: 5.493986195540104.\u001b[0m\n",
      "\u001b[32m[I 2021-04-25 11:25:42,894]\u001b[0m Trial 230 finished with value: 5.506628591250441 and parameters: {'lambda1': 0.1163275068648644, 'lambda2': 0.44768637653443316, 'lambda3': 0.6981850946873299}. Best is trial 47 with value: 5.493986195540104.\u001b[0m\n",
      "\u001b[32m[I 2021-04-25 11:25:57,392]\u001b[0m Trial 231 finished with value: 5.496571782465123 and parameters: {'lambda1': 0.08675490217572956, 'lambda2': 0.4231571828987237, 'lambda3': 0.810790960832682}. Best is trial 47 with value: 5.493986195540104.\u001b[0m\n",
      "\u001b[32m[I 2021-04-25 11:26:11,593]\u001b[0m Trial 232 finished with value: 5.494695512914718 and parameters: {'lambda1': 0.07482037623444747, 'lambda2': 0.4161237891452203, 'lambda3': 0.7578322877059893}. Best is trial 47 with value: 5.493986195540104.\u001b[0m\n",
      "\u001b[32m[I 2021-04-25 11:26:27,611]\u001b[0m Trial 233 finished with value: 5.49708555786115 and parameters: {'lambda1': 0.07030553231618925, 'lambda2': 0.41178206608458345, 'lambda3': 0.7457001664539072}. Best is trial 47 with value: 5.493986195540104.\u001b[0m\n",
      "\u001b[32m[I 2021-04-25 11:26:41,284]\u001b[0m Trial 234 finished with value: 5.502158806920615 and parameters: {'lambda1': 0.09831811230255229, 'lambda2': 0.46578016541210937, 'lambda3': 0.7644767778861762}. Best is trial 47 with value: 5.493986195540104.\u001b[0m\n",
      "\u001b[32m[I 2021-04-25 11:26:55,492]\u001b[0m Trial 235 finished with value: 5.54640448182696 and parameters: {'lambda1': 0.042389618752835034, 'lambda2': 0.43279024892710344, 'lambda3': 0.7223368962820115}. Best is trial 47 with value: 5.493986195540104.\u001b[0m\n",
      "\u001b[32m[I 2021-04-25 11:27:09,205]\u001b[0m Trial 236 finished with value: 5.498322474670918 and parameters: {'lambda1': 0.07545572704453524, 'lambda2': 0.40423742040079486, 'lambda3': 0.6849101262436665}. Best is trial 47 with value: 5.493986195540104.\u001b[0m\n",
      "\u001b[32m[I 2021-04-25 11:27:22,863]\u001b[0m Trial 237 finished with value: 5.503763797732296 and parameters: {'lambda1': 0.1107188725166974, 'lambda2': 0.3624381728901545, 'lambda3': 0.7881851060281467}. Best is trial 47 with value: 5.493986195540104.\u001b[0m\n",
      "\u001b[32m[I 2021-04-25 11:27:36,777]\u001b[0m Trial 238 finished with value: 5.510561868650557 and parameters: {'lambda1': 0.05839874707119441, 'lambda2': 0.39470166332172457, 'lambda3': 0.7411247821466651}. Best is trial 47 with value: 5.493986195540104.\u001b[0m\n",
      "\u001b[32m[I 2021-04-25 11:27:50,835]\u001b[0m Trial 239 finished with value: 5.513710545024816 and parameters: {'lambda1': 0.13304212548383337, 'lambda2': 0.38389471434548356, 'lambda3': 0.7123613855102364}. Best is trial 47 with value: 5.493986195540104.\u001b[0m\n",
      "\u001b[32m[I 2021-04-25 11:28:05,078]\u001b[0m Trial 240 finished with value: 5.494559660399536 and parameters: {'lambda1': 0.08964407171418902, 'lambda2': 0.3537045774375317, 'lambda3': 0.7683878778698965}. Best is trial 47 with value: 5.493986195540104.\u001b[0m\n",
      "\u001b[32m[I 2021-04-25 11:28:18,994]\u001b[0m Trial 241 finished with value: 5.494456409045624 and parameters: {'lambda1': 0.0884271789094386, 'lambda2': 0.3417595485000233, 'lambda3': 0.774440366558454}. Best is trial 47 with value: 5.493986195540104.\u001b[0m\n",
      "\u001b[32m[I 2021-04-25 11:28:33,437]\u001b[0m Trial 242 finished with value: 5.497206203182914 and parameters: {'lambda1': 0.09945493628981683, 'lambda2': 0.36000828798395046, 'lambda3': 0.7730779260531621}. Best is trial 47 with value: 5.493986195540104.\u001b[0m\n",
      "\u001b[32m[I 2021-04-25 11:28:46,911]\u001b[0m Trial 243 finished with value: 5.494162697450456 and parameters: {'lambda1': 0.0792180003818089, 'lambda2': 0.3732565970443717, 'lambda3': 0.7966699487198807}. Best is trial 47 with value: 5.493986195540104.\u001b[0m\n",
      "\u001b[32m[I 2021-04-25 11:29:00,463]\u001b[0m Trial 244 finished with value: 5.496323691600227 and parameters: {'lambda1': 0.06615087733023989, 'lambda2': 0.3803016449659887, 'lambda3': 0.8351288678229812}. Best is trial 47 with value: 5.493986195540104.\u001b[0m\n",
      "\u001b[32m[I 2021-04-25 11:29:15,086]\u001b[0m Trial 245 finished with value: 5.506773601782141 and parameters: {'lambda1': 0.10702561119350576, 'lambda2': 0.4076320099928602, 'lambda3': 0.8037932788383094}. Best is trial 47 with value: 5.493986195540104.\u001b[0m\n",
      "\u001b[32m[I 2021-04-25 11:29:29,129]\u001b[0m Trial 246 finished with value: 5.493988329276272 and parameters: {'lambda1': 0.07649334117786431, 'lambda2': 0.4399332767676329, 'lambda3': 0.7601291196196739}. Best is trial 47 with value: 5.493986195540104.\u001b[0m\n",
      "\u001b[32m[I 2021-04-25 11:29:44,581]\u001b[0m Trial 247 finished with value: 5.642752655993336 and parameters: {'lambda1': 0.02616010449403655, 'lambda2': 0.3708843606066321, 'lambda3': 0.7848188701630001}. Best is trial 47 with value: 5.493986195540104.\u001b[0m\n",
      "\u001b[32m[I 2021-04-25 11:29:59,336]\u001b[0m Trial 248 finished with value: 5.510802033632654 and parameters: {'lambda1': 0.052901866804142085, 'lambda2': 0.4449670235900666, 'lambda3': 0.7616516924692344}. Best is trial 47 with value: 5.493986195540104.\u001b[0m\n",
      "\u001b[32m[I 2021-04-25 11:30:13,526]\u001b[0m Trial 249 finished with value: 5.495657305584159 and parameters: {'lambda1': 0.07754820905657463, 'lambda2': 0.4997517849457352, 'lambda3': 0.8100476111622819}. Best is trial 47 with value: 5.493986195540104.\u001b[0m\n",
      "\u001b[32m[I 2021-04-25 11:30:27,351]\u001b[0m Trial 250 finished with value: 5.514354972901594 and parameters: {'lambda1': 0.11282394978661886, 'lambda2': 0.39399737982219935, 'lambda3': 0.8473466228405468}. Best is trial 47 with value: 5.493986195540104.\u001b[0m\n",
      "\u001b[32m[I 2021-04-25 11:30:40,504]\u001b[0m Trial 251 finished with value: 5.49478739373391 and parameters: {'lambda1': 0.09201173772579462, 'lambda2': 0.34994324688203127, 'lambda3': 0.7650002608309863}. Best is trial 47 with value: 5.493986195540104.\u001b[0m\n",
      "\u001b[32m[I 2021-04-25 11:30:54,061]\u001b[0m Trial 252 finished with value: 5.509446997632452 and parameters: {'lambda1': 0.06023137156412135, 'lambda2': 0.35201472591155114, 'lambda3': 0.7739681794641616}. Best is trial 47 with value: 5.493986195540104.\u001b[0m\n",
      "\u001b[32m[I 2021-04-25 11:31:07,809]\u001b[0m Trial 253 finished with value: 5.5183449719319455 and parameters: {'lambda1': 0.13192748368812215, 'lambda2': 0.33312181989796763, 'lambda3': 0.82054623153003}. Best is trial 47 with value: 5.493986195540104.\u001b[0m\n",
      "\u001b[32m[I 2021-04-25 11:31:20,929]\u001b[0m Trial 254 finished with value: 5.5583738224864065 and parameters: {'lambda1': 0.03970654543758721, 'lambda2': 0.3605703883613029, 'lambda3': 0.7881724518018178}. Best is trial 47 with value: 5.493986195540104.\u001b[0m\n",
      "\u001b[32m[I 2021-04-25 11:31:35,015]\u001b[0m Trial 255 finished with value: 5.494873249117785 and parameters: {'lambda1': 0.09561029009823459, 'lambda2': 0.3215599256577647, 'lambda3': 0.7507179177053093}. Best is trial 47 with value: 5.493986195540104.\u001b[0m\n",
      "\u001b[32m[I 2021-04-25 11:31:48,482]\u001b[0m Trial 256 finished with value: 5.500543527232936 and parameters: {'lambda1': 0.1059568602334452, 'lambda2': 0.37914928805567477, 'lambda3': 0.7609968542625164}. Best is trial 47 with value: 5.493986195540104.\u001b[0m\n",
      "\u001b[32m[I 2021-04-25 11:32:02,216]\u001b[0m Trial 257 finished with value: 5.507409078957138 and parameters: {'lambda1': 0.12266299866527414, 'lambda2': 0.35706758809160827, 'lambda3': 0.7477415283023405}. Best is trial 47 with value: 5.493986195540104.\u001b[0m\n",
      "\u001b[32m[I 2021-04-25 11:32:16,623]\u001b[0m Trial 258 finished with value: 5.50387415374593 and parameters: {'lambda1': 0.06643873510524127, 'lambda2': 0.31975638810801443, 'lambda3': 0.7962089671350738}. Best is trial 47 with value: 5.493986195540104.\u001b[0m\n",
      "\u001b[32m[I 2021-04-25 11:32:29,849]\u001b[0m Trial 259 finished with value: 6.188675671151291 and parameters: {'lambda1': 0.9616402197138265, 'lambda2': 0.3468112377798196, 'lambda3': 0.7487897911797559}. Best is trial 47 with value: 5.493986195540104.\u001b[0m\n",
      "\u001b[32m[I 2021-04-25 11:32:43,757]\u001b[0m Trial 260 finished with value: 5.499898282782827 and parameters: {'lambda1': 0.09351699676021073, 'lambda2': 0.37414098169311566, 'lambda3': 0.8643603747052522}. Best is trial 47 with value: 5.493986195540104.\u001b[0m\n",
      "\u001b[32m[I 2021-04-25 11:32:57,882]\u001b[0m Trial 261 finished with value: 5.542418893264428 and parameters: {'lambda1': 0.14803929528952417, 'lambda2': 0.39296714707698394, 'lambda3': 0.8154543234036176}. Best is trial 47 with value: 5.493986195540104.\u001b[0m\n",
      "\u001b[32m[I 2021-04-25 11:33:12,258]\u001b[0m Trial 262 finished with value: 5.495975627141211 and parameters: {'lambda1': 0.0757466603992616, 'lambda2': 0.6653234604436097, 'lambda3': 0.7289453273683311}. Best is trial 47 with value: 5.493986195540104.\u001b[0m\n",
      "\u001b[32m[I 2021-04-25 11:33:24,992]\u001b[0m Trial 263 finished with value: 5.4957630638177335 and parameters: {'lambda1': 0.10111457624817621, 'lambda2': 0.318628694433948, 'lambda3': 0.7573131928584937}. Best is trial 47 with value: 5.493986195540104.\u001b[0m\n",
      "\u001b[32m[I 2021-04-25 11:33:38,824]\u001b[0m Trial 264 finished with value: 5.528389486817839 and parameters: {'lambda1': 0.04916842748313722, 'lambda2': 0.348557675699694, 'lambda3': 0.7953490503848542}. Best is trial 47 with value: 5.493986195540104.\u001b[0m\n",
      "\u001b[32m[I 2021-04-25 11:33:52,865]\u001b[0m Trial 265 finished with value: 5.519126980516457 and parameters: {'lambda1': 0.12360601643491106, 'lambda2': 0.3733898476445729, 'lambda3': 0.83427405795169}. Best is trial 47 with value: 5.493986195540104.\u001b[0m\n",
      "\u001b[32m[I 2021-04-25 11:34:06,701]\u001b[0m Trial 266 finished with value: 5.810881794657536 and parameters: {'lambda1': 0.016585327341742034, 'lambda2': 0.332305365476325, 'lambda3': 0.7232948286892118}. Best is trial 47 with value: 5.493986195540104.\u001b[0m\n",
      "\u001b[32m[I 2021-04-25 11:34:20,384]\u001b[0m Trial 267 finished with value: 5.494153168187208 and parameters: {'lambda1': 0.08227138956976394, 'lambda2': 0.4045856489893827, 'lambda3': 0.7576232550098251}. Best is trial 47 with value: 5.493986195540104.\u001b[0m\n",
      "\u001b[32m[I 2021-04-25 11:34:35,888]\u001b[0m Trial 268 finished with value: 5.496094526523825 and parameters: {'lambda1': 0.09147275309614175, 'lambda2': 0.4096474389708385, 'lambda3': 0.7666172478908456}. Best is trial 47 with value: 5.493986195540104.\u001b[0m\n",
      "\u001b[32m[I 2021-04-25 11:34:51,163]\u001b[0m Trial 269 finished with value: 5.586678072731651 and parameters: {'lambda1': 0.066665007773916, 'lambda2': 0.3978235550877399, 'lambda3': 1.6325075227549009}. Best is trial 47 with value: 5.493986195540104.\u001b[0m\n",
      "\u001b[32m[I 2021-04-25 11:35:05,164]\u001b[0m Trial 270 finished with value: 5.744767511291122 and parameters: {'lambda1': 0.35383932185721595, 'lambda2': 0.4736832999142394, 'lambda3': 0.7372371257432883}. Best is trial 47 with value: 5.493986195540104.\u001b[0m\n",
      "\u001b[32m[I 2021-04-25 11:35:20,190]\u001b[0m Trial 271 finished with value: 5.500268212472414 and parameters: {'lambda1': 0.11358343839384613, 'lambda2': 0.3622091308715585, 'lambda3': 0.7106080644837663}. Best is trial 47 with value: 5.493986195540104.\u001b[0m\n",
      "\u001b[32m[I 2021-04-25 11:35:35,175]\u001b[0m Trial 272 finished with value: 5.541352554697261 and parameters: {'lambda1': 0.041362110058395775, 'lambda2': 0.4127098430558225, 'lambda3': 0.7815968375385098}. Best is trial 47 with value: 5.493986195540104.\u001b[0m\n",
      "\u001b[32m[I 2021-04-25 11:35:49,068]\u001b[0m Trial 273 finished with value: 5.494393089036932 and parameters: {'lambda1': 0.08288841542567824, 'lambda2': 0.38115828190938966, 'lambda3': 0.7502277499518206}. Best is trial 47 with value: 5.493986195540104.\u001b[0m\n",
      "\u001b[32m[I 2021-04-25 11:36:02,784]\u001b[0m Trial 274 finished with value: 5.4951952363428545 and parameters: {'lambda1': 0.0753833309442208, 'lambda2': 0.3866057455812007, 'lambda3': 0.7663561740572663}. Best is trial 47 with value: 5.493986195540104.\u001b[0m\n",
      "\u001b[32m[I 2021-04-25 11:36:17,125]\u001b[0m Trial 275 finished with value: 5.500710292632221 and parameters: {'lambda1': 0.05855257954522006, 'lambda2': 0.42361287789153945, 'lambda3': 0.8065713818060551}. Best is trial 47 with value: 5.493986195540104.\u001b[0m\n",
      "\u001b[32m[I 2021-04-25 11:36:31,625]\u001b[0m Trial 276 finished with value: 5.495206211486329 and parameters: {'lambda1': 0.08782004516786567, 'lambda2': 0.44664163179669586, 'lambda3': 0.7395418891118358}. Best is trial 47 with value: 5.493986195540104.\u001b[0m\n",
      "\u001b[32m[I 2021-04-25 11:36:45,068]\u001b[0m Trial 277 finished with value: 5.531144820293756 and parameters: {'lambda1': 0.1436180172820168, 'lambda2': 0.3826090752872846, 'lambda3': 0.7827044524641997}. Best is trial 47 with value: 5.493986195540104.\u001b[0m\n",
      "\u001b[32m[I 2021-04-25 11:36:59,493]\u001b[0m Trial 278 finished with value: 5.600213526037528 and parameters: {'lambda1': 0.03188499551401602, 'lambda2': 0.40048150420399187, 'lambda3': 0.7451270186702698}. Best is trial 47 with value: 5.493986195540104.\u001b[0m\n",
      "\u001b[32m[I 2021-04-25 11:37:13,772]\u001b[0m Trial 279 finished with value: 5.741377296373105 and parameters: {'lambda1': 0.10916821642186356, 'lambda2': 0.365715786355692, 'lambda3': 1.910067809913953}. Best is trial 47 with value: 5.493986195540104.\u001b[0m\n",
      "\u001b[32m[I 2021-04-25 11:37:27,975]\u001b[0m Trial 280 finished with value: 5.5004476108341365 and parameters: {'lambda1': 0.06356613544643663, 'lambda2': 0.3725053981048168, 'lambda3': 0.8061762170940618}. Best is trial 47 with value: 5.493986195540104.\u001b[0m\n",
      "\u001b[32m[I 2021-04-25 11:37:42,021]\u001b[0m Trial 281 finished with value: 5.930174067972611 and parameters: {'lambda1': 0.6462983387686047, 'lambda2': 0.34405028129911736, 'lambda3': 0.6681523384415216}. Best is trial 47 with value: 5.493986195540104.\u001b[0m\n",
      "\u001b[32m[I 2021-04-25 11:37:55,930]\u001b[0m Trial 282 finished with value: 5.494435803344447 and parameters: {'lambda1': 0.08577569907242545, 'lambda2': 0.44210297050245495, 'lambda3': 0.7211306866796835}. Best is trial 47 with value: 5.493986195540104.\u001b[0m\n",
      "\u001b[32m[I 2021-04-25 11:38:10,226]\u001b[0m Trial 283 finished with value: 5.494645049568023 and parameters: {'lambda1': 0.07832990162611296, 'lambda2': 0.42741132382732305, 'lambda3': 0.8350336562211501}. Best is trial 47 with value: 5.493986195540104.\u001b[0m\n",
      "\u001b[32m[I 2021-04-25 11:38:24,272]\u001b[0m Trial 284 finished with value: 5.4987462481928295 and parameters: {'lambda1': 0.05524781194728382, 'lambda2': 0.45385435921491946, 'lambda3': 0.8417286723099878}. Best is trial 47 with value: 5.493986195540104.\u001b[0m\n",
      "\u001b[32m[I 2021-04-25 11:38:40,615]\u001b[0m Trial 285 finished with value: 5.499487178455356 and parameters: {'lambda1': 0.08257891494340142, 'lambda2': 0.4376973727600805, 'lambda3': 0.8871436485872843}. Best is trial 47 with value: 5.493986195540104.\u001b[0m\n",
      "\u001b[32m[I 2021-04-25 11:38:54,637]\u001b[0m Trial 286 finished with value: 5.523613407637401 and parameters: {'lambda1': 0.0408633408109459, 'lambda2': 0.4729378146104745, 'lambda3': 0.8266660981889655}. Best is trial 47 with value: 5.493986195540104.\u001b[0m\n",
      "\u001b[32m[I 2021-04-25 11:39:08,549]\u001b[0m Trial 287 finished with value: 5.4945668150817335 and parameters: {'lambda1': 0.07166072204133553, 'lambda2': 0.42281050452911145, 'lambda3': 0.7818328668018748}. Best is trial 47 with value: 5.493986195540104.\u001b[0m\n",
      "\u001b[32m[I 2021-04-25 11:39:21,938]\u001b[0m Trial 288 finished with value: 5.674173605570363 and parameters: {'lambda1': 0.020843307546637012, 'lambda2': 0.4317387624691731, 'lambda3': 0.7961290901122418}. Best is trial 47 with value: 5.493986195540104.\u001b[0m\n",
      "\u001b[32m[I 2021-04-25 11:39:36,079]\u001b[0m Trial 289 finished with value: 5.4942918058978565 and parameters: {'lambda1': 0.0677424031143465, 'lambda2': 0.4223168926793935, 'lambda3': 0.8267617007261463}. Best is trial 47 with value: 5.493986195540104.\u001b[0m\n",
      "\u001b[32m[I 2021-04-25 11:39:53,695]\u001b[0m Trial 290 finished with value: 6.3878629560755105 and parameters: {'lambda1': 0.001874894926694723, 'lambda2': 0.4533122576596952, 'lambda3': 0.8381629102820388}. Best is trial 47 with value: 5.493986195540104.\u001b[0m\n",
      "\u001b[32m[I 2021-04-25 11:40:06,644]\u001b[0m Trial 291 finished with value: 5.498766213752339 and parameters: {'lambda1': 0.06299855062576082, 'lambda2': 0.4202004125847852, 'lambda3': 0.7851647932511502}. Best is trial 47 with value: 5.493986195540104.\u001b[0m\n",
      "\u001b[32m[I 2021-04-25 11:40:20,728]\u001b[0m Trial 292 finished with value: 5.5128145795354175 and parameters: {'lambda1': 0.04561152281842534, 'lambda2': 0.44181351407670627, 'lambda3': 0.8506738721637142}. Best is trial 47 with value: 5.493986195540104.\u001b[0m\n",
      "\u001b[32m[I 2021-04-25 11:40:35,249]\u001b[0m Trial 293 finished with value: 5.493939403208503 and parameters: {'lambda1': 0.07297460751548875, 'lambda2': 0.414713106713659, 'lambda3': 0.8084558981952562}. Best is trial 293 with value: 5.493939403208503.\u001b[0m\n",
      "\u001b[32m[I 2021-04-25 11:40:52,343]\u001b[0m Trial 294 finished with value: 5.4954009636440615 and parameters: {'lambda1': 0.06582740656864715, 'lambda2': 0.41383851264483706, 'lambda3': 0.8217994654104228}. Best is trial 293 with value: 5.493939403208503.\u001b[0m\n",
      "\u001b[32m[I 2021-04-25 11:41:07,015]\u001b[0m Trial 295 finished with value: 5.603790097981149 and parameters: {'lambda1': 0.026661242253020315, 'lambda2': 0.4658062010192593, 'lambda3': 0.7974703810790649}. Best is trial 293 with value: 5.493939403208503.\u001b[0m\n",
      "\u001b[32m[I 2021-04-25 11:41:21,483]\u001b[0m Trial 296 finished with value: 5.494157998605994 and parameters: {'lambda1': 0.07386963949321582, 'lambda2': 0.43278062873402756, 'lambda3': 0.8572882368866108}. Best is trial 293 with value: 5.493939403208503.\u001b[0m\n",
      "\u001b[32m[I 2021-04-25 11:41:35,514]\u001b[0m Trial 297 finished with value: 5.506769726979966 and parameters: {'lambda1': 0.048211823851600305, 'lambda2': 0.4353255056319707, 'lambda3': 0.8673093179420703}. Best is trial 293 with value: 5.493939403208503.\u001b[0m\n",
      "\u001b[32m[I 2021-04-25 11:41:49,744]\u001b[0m Trial 298 finished with value: 5.494498003163021 and parameters: {'lambda1': 0.07480051701989125, 'lambda2': 0.42017347004425143, 'lambda3': 0.8745780908332086}. Best is trial 293 with value: 5.493939403208503.\u001b[0m\n",
      "\u001b[32m[I 2021-04-25 11:42:04,048]\u001b[0m Trial 299 finished with value: 5.544205161111779 and parameters: {'lambda1': 0.11947550254002062, 'lambda2': 0.48279171886257427, 'lambda3': 0.9032138922215518}. Best is trial 293 with value: 5.493939403208503.\u001b[0m\n",
      "\u001b[32m[I 2021-04-25 11:42:17,648]\u001b[0m Trial 300 finished with value: 5.493561610878373 and parameters: {'lambda1': 0.06839618654314936, 'lambda2': 0.4424673463021228, 'lambda3': 0.8684541572899562}. Best is trial 300 with value: 5.493561610878373.\u001b[0m\n",
      "\u001b[32m[I 2021-04-25 11:42:31,728]\u001b[0m Trial 301 finished with value: 5.4989897496241165 and parameters: {'lambda1': 0.05145856052853817, 'lambda2': 0.5016942920555514, 'lambda3': 0.8423240897067243}. Best is trial 300 with value: 5.493561610878373.\u001b[0m\n",
      "\u001b[32m[I 2021-04-25 11:42:45,073]\u001b[0m Trial 302 finished with value: 5.565813773512819 and parameters: {'lambda1': 0.029621342896264717, 'lambda2': 0.4478160339435538, 'lambda3': 0.8737195273831884}. Best is trial 300 with value: 5.493561610878373.\u001b[0m\n",
      "\u001b[32m[I 2021-04-25 11:43:02,726]\u001b[0m Trial 303 finished with value: 5.493503507377995 and parameters: {'lambda1': 0.06611432423231536, 'lambda2': 0.46335243980415397, 'lambda3': 0.8767680224190186}. Best is trial 303 with value: 5.493503507377995.\u001b[0m\n",
      "\u001b[32m[I 2021-04-25 11:43:19,378]\u001b[0m Trial 304 finished with value: 5.495484025495975 and parameters: {'lambda1': 0.0683760688111176, 'lambda2': 0.4722837132520572, 'lambda3': 0.9206511922088012}. Best is trial 303 with value: 5.493503507377995.\u001b[0m\n",
      "\u001b[32m[I 2021-04-25 11:43:32,921]\u001b[0m Trial 305 finished with value: 5.511962632418663 and parameters: {'lambda1': 0.041622185664335294, 'lambda2': 0.4594863839754031, 'lambda3': 0.901765986309428}. Best is trial 303 with value: 5.493503507377995.\u001b[0m\n",
      "\u001b[32m[I 2021-04-25 11:43:46,927]\u001b[0m Trial 306 finished with value: 5.493243495060511 and parameters: {'lambda1': 0.06043930083992438, 'lambda2': 0.5200720486465458, 'lambda3': 0.8785766037817896}. Best is trial 306 with value: 5.493243495060511.\u001b[0m\n",
      "\u001b[32m[I 2021-04-25 11:44:01,880]\u001b[0m Trial 307 finished with value: 6.020749694060716 and parameters: {'lambda1': 0.0053378764530461476, 'lambda2': 0.5271352848314091, 'lambda3': 0.8726856221497177}. Best is trial 306 with value: 5.493243495060511.\u001b[0m\n",
      "\u001b[32m[I 2021-04-25 11:44:15,651]\u001b[0m Trial 308 finished with value: 5.493099142712972 and parameters: {'lambda1': 0.05648247734368357, 'lambda2': 0.5625910139261612, 'lambda3': 0.8850422620666298}. Best is trial 308 with value: 5.493099142712972.\u001b[0m\n",
      "\u001b[32m[I 2021-04-25 11:44:29,764]\u001b[0m Trial 309 finished with value: 5.55911181245828 and parameters: {'lambda1': 0.025875211200349406, 'lambda2': 0.557451970990381, 'lambda3': 0.8901783029791518}. Best is trial 308 with value: 5.493099142712972.\u001b[0m\n",
      "\u001b[32m[I 2021-04-25 11:44:44,298]\u001b[0m Trial 310 finished with value: 5.4934835930237815 and parameters: {'lambda1': 0.05292498518736753, 'lambda2': 0.5870792428314865, 'lambda3': 0.9404389475191217}. Best is trial 308 with value: 5.493099142712972.\u001b[0m\n",
      "\u001b[32m[I 2021-04-25 11:44:57,501]\u001b[0m Trial 311 finished with value: 5.58611796162982 and parameters: {'lambda1': 0.01937827679005516, 'lambda2': 0.6068832601339991, 'lambda3': 0.9382011810375914}. Best is trial 308 with value: 5.493099142712972.\u001b[0m\n",
      "\u001b[32m[I 2021-04-25 11:45:11,679]\u001b[0m Trial 312 finished with value: 6.465843892307866 and parameters: {'lambda1': 0.0011941824021006325, 'lambda2': 0.4853693771260822, 'lambda3': 0.8986777664659997}. Best is trial 308 with value: 5.493099142712972.\u001b[0m\n",
      "\u001b[32m[I 2021-04-25 11:45:25,754]\u001b[0m Trial 313 finished with value: 5.493865512546621 and parameters: {'lambda1': 0.04907784772165104, 'lambda2': 0.5850958447407942, 'lambda3': 0.8940689991958495}. Best is trial 308 with value: 5.493099142712972.\u001b[0m\n",
      "\u001b[32m[I 2021-04-25 11:45:40,216]\u001b[0m Trial 314 finished with value: 5.507723267173316 and parameters: {'lambda1': 0.039504037050758556, 'lambda2': 0.58141361522314, 'lambda3': 0.863604155507252}. Best is trial 308 with value: 5.493099142712972.\u001b[0m\n",
      "\u001b[32m[I 2021-04-25 11:45:54,653]\u001b[0m Trial 315 finished with value: 5.4933591845096155 and parameters: {'lambda1': 0.04999876177743237, 'lambda2': 0.5634671427921594, 'lambda3': 0.9199453499362791}. Best is trial 308 with value: 5.493099142712972.\u001b[0m\n",
      "\u001b[32m[I 2021-04-25 11:46:07,848]\u001b[0m Trial 316 finished with value: 5.73681923602121 and parameters: {'lambda1': 0.009771799293528727, 'lambda2': 0.6153313719634105, 'lambda3': 0.9760954175961905}. Best is trial 308 with value: 5.493099142712972.\u001b[0m\n",
      "\u001b[32m[I 2021-04-25 11:46:20,947]\u001b[0m Trial 317 finished with value: 5.493081674689584 and parameters: {'lambda1': 0.05064094951214353, 'lambda2': 0.5811287787228613, 'lambda3': 0.9461492750226205}. Best is trial 317 with value: 5.493081674689584.\u001b[0m\n",
      "\u001b[32m[I 2021-04-25 11:46:34,473]\u001b[0m Trial 318 finished with value: 5.497160322461858 and parameters: {'lambda1': 0.04126000292468372, 'lambda2': 0.5635446232716994, 'lambda3': 0.9537939325057267}. Best is trial 317 with value: 5.493081674689584.\u001b[0m\n",
      "\u001b[32m[I 2021-04-25 11:46:47,355]\u001b[0m Trial 319 finished with value: 5.525414442442624 and parameters: {'lambda1': 0.028555097958297623, 'lambda2': 0.5843740789125317, 'lambda3': 0.9511217221485627}. Best is trial 317 with value: 5.493081674689584.\u001b[0m\n",
      "\u001b[32m[I 2021-04-25 11:47:00,662]\u001b[0m Trial 320 finished with value: 5.493279382482336 and parameters: {'lambda1': 0.052886480895786056, 'lambda2': 0.539233518980539, 'lambda3': 0.9125223048989134}. Best is trial 317 with value: 5.493081674689584.\u001b[0m\n",
      "\u001b[32m[I 2021-04-25 11:47:14,554]\u001b[0m Trial 321 finished with value: 6.415730247499387 and parameters: {'lambda1': 0.001316085863565658, 'lambda2': 0.5319086848278465, 'lambda3': 0.921663826453206}. Best is trial 317 with value: 5.493081674689584.\u001b[0m\n",
      "\u001b[32m[I 2021-04-25 11:47:27,694]\u001b[0m Trial 322 finished with value: 5.493208280531458 and parameters: {'lambda1': 0.0497938524390724, 'lambda2': 0.6364665323379473, 'lambda3': 0.933552600377389}. Best is trial 317 with value: 5.493081674689584.\u001b[0m\n",
      "\u001b[32m[I 2021-04-25 11:47:41,219]\u001b[0m Trial 323 finished with value: 5.593492357869572 and parameters: {'lambda1': 0.017690111252420766, 'lambda2': 0.5982362480173663, 'lambda3': 0.9766521318269608}. Best is trial 317 with value: 5.493081674689584.\u001b[0m\n",
      "\u001b[32m[I 2021-04-25 11:47:55,415]\u001b[0m Trial 324 finished with value: 5.499414846266956 and parameters: {'lambda1': 0.050729210756327636, 'lambda2': 0.6770464738687305, 'lambda3': 1.007421442097503}. Best is trial 317 with value: 5.493081674689584.\u001b[0m\n",
      "\u001b[32m[I 2021-04-25 11:48:11,277]\u001b[0m Trial 325 finished with value: 5.493025822339336 and parameters: {'lambda1': 0.04864512610590159, 'lambda2': 0.635056833384467, 'lambda3': 0.9363427883630434}. Best is trial 325 with value: 5.493025822339336.\u001b[0m\n",
      "\u001b[32m[I 2021-04-25 11:48:26,880]\u001b[0m Trial 326 finished with value: 5.5180977431294265 and parameters: {'lambda1': 0.030815025899735747, 'lambda2': 0.6252158689952226, 'lambda3': 0.9146856190351105}. Best is trial 325 with value: 5.493025822339336.\u001b[0m\n",
      "\u001b[32m[I 2021-04-25 11:48:40,238]\u001b[0m Trial 327 finished with value: 5.494362599063731 and parameters: {'lambda1': 0.049992780153814774, 'lambda2': 0.6835256650694085, 'lambda3': 0.9392563707471662}. Best is trial 325 with value: 5.493025822339336.\u001b[0m\n",
      "\u001b[32m[I 2021-04-25 11:48:55,632]\u001b[0m Trial 328 finished with value: 5.583391976767333 and parameters: {'lambda1': 0.016524526511816073, 'lambda2': 0.7415962902755797, 'lambda3': 0.948710663393103}. Best is trial 325 with value: 5.493025822339336.\u001b[0m\n",
      "\u001b[32m[I 2021-04-25 11:49:09,522]\u001b[0m Trial 329 finished with value: 5.493468664340425 and parameters: {'lambda1': 0.047356750848922706, 'lambda2': 0.6912595804444969, 'lambda3': 0.9414080788620922}. Best is trial 325 with value: 5.493025822339336.\u001b[0m\n",
      "\u001b[32m[I 2021-04-25 11:49:23,516]\u001b[0m Trial 330 finished with value: 5.4999466899087 and parameters: {'lambda1': 0.04033891897067848, 'lambda2': 0.5647794490721548, 'lambda3': 0.9321203343525952}. Best is trial 325 with value: 5.493025822339336.\u001b[0m\n",
      "\u001b[32m[I 2021-04-25 11:49:38,074]\u001b[0m Trial 331 finished with value: 6.005112513347077 and parameters: {'lambda1': 0.0038544376573922193, 'lambda2': 0.6941865061144121, 'lambda3': 0.9683250631345979}. Best is trial 325 with value: 5.493025822339336.\u001b[0m\n",
      "\u001b[32m[I 2021-04-25 11:49:52,557]\u001b[0m Trial 332 finished with value: 5.4951599521836005 and parameters: {'lambda1': 0.04688173027465355, 'lambda2': 0.6542930933590967, 'lambda3': 1.0081895009769872}. Best is trial 325 with value: 5.493025822339336.\u001b[0m\n",
      "\u001b[32m[I 2021-04-25 11:50:06,850]\u001b[0m Trial 333 finished with value: 5.533927711526111 and parameters: {'lambda1': 0.024701429256386596, 'lambda2': 0.6874925808039971, 'lambda3': 0.925041761055689}. Best is trial 325 with value: 5.493025822339336.\u001b[0m\n",
      "\u001b[32m[I 2021-04-25 11:50:20,590]\u001b[0m Trial 334 finished with value: 5.493138475161899 and parameters: {'lambda1': 0.05511351853707857, 'lambda2': 0.5396764761101276, 'lambda3': 0.9213306063784238}. Best is trial 325 with value: 5.493025822339336.\u001b[0m\n",
      "\u001b[32m[I 2021-04-25 11:50:34,912]\u001b[0m Trial 335 finished with value: 5.497481923264935 and parameters: {'lambda1': 0.056055116690482236, 'lambda2': 0.7063743023521124, 'lambda3': 0.9120146818852143}. Best is trial 325 with value: 5.493025822339336.\u001b[0m\n",
      "\u001b[32m[I 2021-04-25 11:50:49,128]\u001b[0m Trial 336 finished with value: 5.517415148402785 and parameters: {'lambda1': 0.028973234393025613, 'lambda2': 0.6366980630047604, 'lambda3': 0.9463916401105664}. Best is trial 325 with value: 5.493025822339336.\u001b[0m\n",
      "\u001b[32m[I 2021-04-25 11:51:03,478]\u001b[0m Trial 337 finished with value: 5.501297634733334 and parameters: {'lambda1': 0.04297395142277938, 'lambda2': 0.5410358314374852, 'lambda3': 0.897796019509476}. Best is trial 325 with value: 5.493025822339336.\u001b[0m\n",
      "\u001b[32m[I 2021-04-25 11:51:18,644]\u001b[0m Trial 338 finished with value: 5.493267177894963 and parameters: {'lambda1': 0.05302039912899614, 'lambda2': 0.5190005603934985, 'lambda3': 0.9725330520165507}. Best is trial 325 with value: 5.493025822339336.\u001b[0m\n",
      "\u001b[32m[I 2021-04-25 11:51:34,355]\u001b[0m Trial 339 finished with value: 5.648472103794138 and parameters: {'lambda1': 0.014122163952327134, 'lambda2': 0.5774016340032002, 'lambda3': 0.9822692562891113}. Best is trial 325 with value: 5.493025822339336.\u001b[0m\n",
      "\u001b[32m[I 2021-04-25 11:51:49,784]\u001b[0m Trial 340 finished with value: 5.493156969826908 and parameters: {'lambda1': 0.05393786861537175, 'lambda2': 0.5187385320545553, 'lambda3': 0.9398921573155513}. Best is trial 325 with value: 5.493025822339336.\u001b[0m\n",
      "\u001b[32m[I 2021-04-25 11:52:04,016]\u001b[0m Trial 341 finished with value: 5.493353787353838 and parameters: {'lambda1': 0.05353790744238182, 'lambda2': 0.5466489635063732, 'lambda3': 0.893708787839595}. Best is trial 325 with value: 5.493025822339336.\u001b[0m\n",
      "\u001b[32m[I 2021-04-25 11:52:18,692]\u001b[0m Trial 342 finished with value: 6.376640392315142 and parameters: {'lambda1': 0.0012795428983979201, 'lambda2': 0.5103918428192279, 'lambda3': 1.046565212271824}. Best is trial 325 with value: 5.493025822339336.\u001b[0m\n",
      "\u001b[32m[I 2021-04-25 11:52:33,811]\u001b[0m Trial 343 finished with value: 5.524783237461625 and parameters: {'lambda1': 0.029308328923195036, 'lambda2': 0.5521112234613912, 'lambda3': 0.9646914874506699}. Best is trial 325 with value: 5.493025822339336.\u001b[0m\n",
      "\u001b[32m[I 2021-04-25 11:52:47,488]\u001b[0m Trial 344 finished with value: 5.933608096937321 and parameters: {'lambda1': 0.5108701101039999, 'lambda2': 0.5124428524134707, 'lambda3': 0.897441871294178}. Best is trial 325 with value: 5.493025822339336.\u001b[0m\n",
      "\u001b[32m[I 2021-04-25 11:53:02,212]\u001b[0m Trial 345 finished with value: 5.49332166400968 and parameters: {'lambda1': 0.056546079084595274, 'lambda2': 0.5400288045881015, 'lambda3': 0.9221705486747728}. Best is trial 325 with value: 5.493025822339336.\u001b[0m\n",
      "\u001b[32m[I 2021-04-25 11:53:17,425]\u001b[0m Trial 346 finished with value: 5.49306492649616 and parameters: {'lambda1': 0.052520640829162316, 'lambda2': 0.5570972229356501, 'lambda3': 0.9255909789027993}. Best is trial 325 with value: 5.493025822339336.\u001b[0m\n",
      "\u001b[32m[I 2021-04-25 11:53:32,179]\u001b[0m Trial 347 finished with value: 5.508706992839939 and parameters: {'lambda1': 0.03731388789646182, 'lambda2': 0.5350356342353585, 'lambda3': 0.9274916235380813}. Best is trial 325 with value: 5.493025822339336.\u001b[0m\n",
      "\u001b[32m[I 2021-04-25 11:53:46,320]\u001b[0m Trial 348 finished with value: 6.406885601427259 and parameters: {'lambda1': 0.0011792927357128363, 'lambda2': 0.5951518690381561, 'lambda3': 0.9551584557701964}. Best is trial 325 with value: 5.493025822339336.\u001b[0m\n",
      "\u001b[32m[I 2021-04-25 11:54:01,078]\u001b[0m Trial 349 finished with value: 5.493302132873456 and parameters: {'lambda1': 0.05311360098692708, 'lambda2': 0.5528396471640005, 'lambda3': 0.8960239887405727}. Best is trial 325 with value: 5.493025822339336.\u001b[0m\n",
      "\u001b[32m[I 2021-04-25 11:54:15,096]\u001b[0m Trial 350 finished with value: 5.4940408715391404 and parameters: {'lambda1': 0.050835399696261066, 'lambda2': 0.5571452443007032, 'lambda3': 0.8897487080054841}. Best is trial 325 with value: 5.493025822339336.\u001b[0m\n",
      "\u001b[32m[I 2021-04-25 11:54:28,468]\u001b[0m Trial 351 finished with value: 5.639210665292346 and parameters: {'lambda1': 0.01719510979113798, 'lambda2': 0.5590067269157505, 'lambda3': 0.9012246239817874}. Best is trial 325 with value: 5.493025822339336.\u001b[0m\n",
      "\u001b[32m[I 2021-04-25 11:54:43,020]\u001b[0m Trial 352 finished with value: 5.493521207409328 and parameters: {'lambda1': 0.04534388166286783, 'lambda2': 0.5398306502883433, 'lambda3': 0.998463684566712}. Best is trial 325 with value: 5.493025822339336.\u001b[0m\n",
      "\u001b[32m[I 2021-04-25 11:54:56,674]\u001b[0m Trial 353 finished with value: 5.493196437673142 and parameters: {'lambda1': 0.047961432818807354, 'lambda2': 0.5409401391151255, 'lambda3': 1.0068314211147906}. Best is trial 325 with value: 5.493025822339336.\u001b[0m\n",
      "\u001b[32m[I 2021-04-25 11:55:09,604]\u001b[0m Trial 354 finished with value: 5.528934430410951 and parameters: {'lambda1': 0.02693079765413943, 'lambda2': 0.5455842955813777, 'lambda3': 1.001857293125912}. Best is trial 325 with value: 5.493025822339336.\u001b[0m\n",
      "\u001b[32m[I 2021-04-25 11:55:23,564]\u001b[0m Trial 355 finished with value: 6.327965164802831 and parameters: {'lambda1': 0.001673135183026371, 'lambda2': 0.5161806553704663, 'lambda3': 0.987071917295619}. Best is trial 325 with value: 5.493025822339336.\u001b[0m\n",
      "\u001b[32m[I 2021-04-25 11:55:38,504]\u001b[0m Trial 356 finished with value: 5.493691258919742 and parameters: {'lambda1': 0.045571446608967475, 'lambda2': 0.5704760905979789, 'lambda3': 1.0448722916915338}. Best is trial 325 with value: 5.493025822339336.\u001b[0m\n",
      "\u001b[32m[I 2021-04-25 11:55:53,083]\u001b[0m Trial 357 finished with value: 5.499919890630835 and parameters: {'lambda1': 0.03372578836903792, 'lambda2': 0.5703534004858986, 'lambda3': 1.0395716646114357}. Best is trial 325 with value: 5.493025822339336.\u001b[0m\n",
      "\u001b[32m[I 2021-04-25 11:56:06,681]\u001b[0m Trial 358 finished with value: 5.494299047601069 and parameters: {'lambda1': 0.052481720101144325, 'lambda2': 0.528887079322319, 'lambda3': 1.0153086606354242}. Best is trial 325 with value: 5.493025822339336.\u001b[0m\n",
      "\u001b[32m[I 2021-04-25 11:56:21,134]\u001b[0m Trial 359 finished with value: 5.572596821522323 and parameters: {'lambda1': 0.016991508301902103, 'lambda2': 0.5982980790207363, 'lambda3': 1.064348597927711}. Best is trial 325 with value: 5.493025822339336.\u001b[0m\n",
      "\u001b[32m[I 2021-04-25 11:56:35,432]\u001b[0m Trial 360 finished with value: 5.493116771434368 and parameters: {'lambda1': 0.04950825987502827, 'lambda2': 0.5442262159025805, 'lambda3': 0.9720593183453512}. Best is trial 325 with value: 5.493025822339336.\u001b[0m\n",
      "\u001b[32m[I 2021-04-25 11:56:49,721]\u001b[0m Trial 361 finished with value: 5.499889830480849 and parameters: {'lambda1': 0.039574121588526634, 'lambda2': 0.5398397342285558, 'lambda3': 0.9659806896463337}. Best is trial 325 with value: 5.493025822339336.\u001b[0m\n",
      "\u001b[32m[I 2021-04-25 11:57:04,140]\u001b[0m Trial 362 finished with value: 6.487418335754241 and parameters: {'lambda1': 0.0009661319522801803, 'lambda2': 0.5209084980067702, 'lambda3': 0.9400021869111385}. Best is trial 325 with value: 5.493025822339336.\u001b[0m\n",
      "\u001b[32m[I 2021-04-25 11:57:17,978]\u001b[0m Trial 363 finished with value: 5.544767390974703 and parameters: {'lambda1': 0.023550518720976195, 'lambda2': 0.5775197050382508, 'lambda3': 0.9861192800888054}. Best is trial 325 with value: 5.493025822339336.\u001b[0m\n",
      "\u001b[32m[I 2021-04-25 11:57:32,722]\u001b[0m Trial 364 finished with value: 5.493318295278733 and parameters: {'lambda1': 0.05600691084707972, 'lambda2': 0.5441329994632925, 'lambda3': 0.9254367687550372}. Best is trial 325 with value: 5.493025822339336.\u001b[0m\n",
      "\u001b[32m[I 2021-04-25 11:57:47,127]\u001b[0m Trial 365 finished with value: 5.4936563155307825 and parameters: {'lambda1': 0.0498649724894301, 'lambda2': 0.5479652742859895, 'lambda3': 0.9220763489397548}. Best is trial 325 with value: 5.493025822339336.\u001b[0m\n",
      "\u001b[32m[I 2021-04-25 11:58:00,771]\u001b[0m Trial 366 finished with value: 5.493436129474384 and parameters: {'lambda1': 0.05031782155754484, 'lambda2': 0.5499028992829231, 'lambda3': 0.9242655057758946}. Best is trial 325 with value: 5.493025822339336.\u001b[0m\n",
      "\u001b[32m[I 2021-04-25 11:58:16,668]\u001b[0m Trial 367 finished with value: 5.627657514132818 and parameters: {'lambda1': 0.017493407429693866, 'lambda2': 0.5492290909321951, 'lambda3': 0.9282367427347914}. Best is trial 325 with value: 5.493025822339336.\u001b[0m\n",
      "\u001b[32m[I 2021-04-25 11:58:32,323]\u001b[0m Trial 368 finished with value: 5.493616496445795 and parameters: {'lambda1': 0.05187819829015608, 'lambda2': 0.5037764945669437, 'lambda3': 1.0185358058258422}. Best is trial 325 with value: 5.493025822339336.\u001b[0m\n",
      "\u001b[32m[I 2021-04-25 11:58:47,330]\u001b[0m Trial 369 finished with value: 6.116505410648078 and parameters: {'lambda1': 0.7911524450090297, 'lambda2': 0.5008900138900757, 'lambda3': 0.9591268994167164}. Best is trial 325 with value: 5.493025822339336.\u001b[0m\n",
      "\u001b[32m[I 2021-04-25 11:59:01,902]\u001b[0m Trial 370 finished with value: 5.494840076381913 and parameters: {'lambda1': 0.05383468975610002, 'lambda2': 0.5239377799579872, 'lambda3': 1.0176634312681938}. Best is trial 325 with value: 5.493025822339336.\u001b[0m\n",
      "\u001b[32m[I 2021-04-25 11:59:17,787]\u001b[0m Trial 371 finished with value: 6.715557930430553 and parameters: {'lambda1': 0.00028344017581335285, 'lambda2': 0.5454029285716969, 'lambda3': 0.9325527580486948}. Best is trial 325 with value: 5.493025822339336.\u001b[0m\n",
      "\u001b[32m[I 2021-04-25 11:59:34,322]\u001b[0m Trial 372 finished with value: 5.523562759408153 and parameters: {'lambda1': 0.030297544535008245, 'lambda2': 0.510779465155625, 'lambda3': 0.9876955648282487}. Best is trial 325 with value: 5.493025822339336.\u001b[0m\n",
      "\u001b[32m[I 2021-04-25 11:59:49,903]\u001b[0m Trial 373 finished with value: 5.493154703893599 and parameters: {'lambda1': 0.05392791517665273, 'lambda2': 0.5333716668290709, 'lambda3': 0.918942072109094}. Best is trial 325 with value: 5.493025822339336.\u001b[0m\n",
      "\u001b[32m[I 2021-04-25 12:00:06,041]\u001b[0m Trial 374 finished with value: 5.514311317858197 and parameters: {'lambda1': 0.03291007880455489, 'lambda2': 0.5347268194359928, 'lambda3': 0.968126655419485}. Best is trial 325 with value: 5.493025822339336.\u001b[0m\n",
      "\u001b[32m[I 2021-04-25 12:00:22,025]\u001b[0m Trial 375 finished with value: 5.509447857448359 and parameters: {'lambda1': 0.05463734247939339, 'lambda2': 0.6099652379602652, 'lambda3': 1.0993847146284728}. Best is trial 325 with value: 5.493025822339336.\u001b[0m\n",
      "\u001b[32m[I 2021-04-25 12:00:38,616]\u001b[0m Trial 376 finished with value: 5.681627150280269 and parameters: {'lambda1': 0.014631657903682982, 'lambda2': 0.4974169113833337, 'lambda3': 0.9502827753650653}. Best is trial 325 with value: 5.493025822339336.\u001b[0m\n",
      "\u001b[32m[I 2021-04-25 12:00:55,230]\u001b[0m Trial 377 finished with value: 5.493366496700086 and parameters: {'lambda1': 0.053625549849945456, 'lambda2': 0.5231193333878694, 'lambda3': 0.9137430713266051}. Best is trial 325 with value: 5.493025822339336.\u001b[0m\n",
      "\u001b[32m[I 2021-04-25 12:01:11,867]\u001b[0m Trial 378 finished with value: 5.519788005988014 and parameters: {'lambda1': 0.03283754001127255, 'lambda2': 0.5618512991004458, 'lambda3': 0.9137089908330672}. Best is trial 325 with value: 5.493025822339336.\u001b[0m\n",
      "\u001b[32m[I 2021-04-25 12:01:29,314]\u001b[0m Trial 379 finished with value: 5.493497192850713 and parameters: {'lambda1': 0.059438681860969254, 'lambda2': 0.5199516394345787, 'lambda3': 0.9137101265736909}. Best is trial 325 with value: 5.493025822339336.\u001b[0m\n",
      "\u001b[32m[I 2021-04-25 12:01:45,248]\u001b[0m Trial 380 finished with value: 5.49318570701159 and parameters: {'lambda1': 0.05647078011458563, 'lambda2': 0.5254124413454508, 'lambda3': 0.9191492062718252}. Best is trial 325 with value: 5.493025822339336.\u001b[0m\n",
      "\u001b[32m[I 2021-04-25 12:02:00,128]\u001b[0m Trial 381 finished with value: 5.493207492115163 and parameters: {'lambda1': 0.057304010433611025, 'lambda2': 0.5210423262374916, 'lambda3': 0.9143686684638986}. Best is trial 325 with value: 5.493025822339336.\u001b[0m\n",
      "\u001b[32m[I 2021-04-25 12:02:14,904]\u001b[0m Trial 382 finished with value: 5.5494024574897365 and parameters: {'lambda1': 0.027362130246424695, 'lambda2': 0.5200807223757384, 'lambda3': 0.923051452041288}. Best is trial 325 with value: 5.493025822339336.\u001b[0m\n",
      "\u001b[32m[I 2021-04-25 12:02:28,740]\u001b[0m Trial 383 finished with value: 5.493974634687079 and parameters: {'lambda1': 0.058176653493275735, 'lambda2': 0.5257866532817583, 'lambda3': 0.9436318755954626}. Best is trial 325 with value: 5.493025822339336.\u001b[0m\n",
      "\u001b[32m[I 2021-04-25 12:02:43,468]\u001b[0m Trial 384 finished with value: 6.395517228737272 and parameters: {'lambda1': 0.0013838433074720644, 'lambda2': 0.5705861410396872, 'lambda3': 0.9077270825493449}. Best is trial 325 with value: 5.493025822339336.\u001b[0m\n",
      "\u001b[32m[I 2021-04-25 12:02:57,868]\u001b[0m Trial 385 finished with value: 5.500284912839172 and parameters: {'lambda1': 0.034622835813804514, 'lambda2': 0.6475046729161565, 'lambda3': 0.9580768656466158}. Best is trial 325 with value: 5.493025822339336.\u001b[0m\n",
      "\u001b[32m[I 2021-04-25 12:03:12,102]\u001b[0m Trial 386 finished with value: 5.498708485537898 and parameters: {'lambda1': 0.058253016254715254, 'lambda2': 0.726607750062947, 'lambda3': 0.8940269128330437}. Best is trial 325 with value: 5.493025822339336.\u001b[0m\n",
      "\u001b[32m[I 2021-04-25 12:03:27,984]\u001b[0m Trial 387 finished with value: 5.666294477516318 and parameters: {'lambda1': 0.013834296616830041, 'lambda2': 0.5583528978905106, 'lambda3': 0.9677076291312372}. Best is trial 325 with value: 5.493025822339336.\u001b[0m\n",
      "\u001b[32m[I 2021-04-25 12:03:43,908]\u001b[0m Trial 388 finished with value: 5.504562210739562 and parameters: {'lambda1': 0.057261221889833756, 'lambda2': 0.7927622868705249, 'lambda3': 0.9230491389441219}. Best is trial 325 with value: 5.493025822339336.\u001b[0m\n",
      "\u001b[32m[I 2021-04-25 12:03:58,641]\u001b[0m Trial 389 finished with value: 5.511159685655417 and parameters: {'lambda1': 0.03574973147091285, 'lambda2': 0.5345937376401088, 'lambda3': 0.93715252304572}. Best is trial 325 with value: 5.493025822339336.\u001b[0m\n",
      "\u001b[32m[I 2021-04-25 12:04:12,866]\u001b[0m Trial 390 finished with value: 5.493076969727569 and parameters: {'lambda1': 0.05454043518792974, 'lambda2': 0.5842889961197344, 'lambda3': 0.8976318816731373}. Best is trial 325 with value: 5.493025822339336.\u001b[0m\n",
      "\u001b[32m[I 2021-04-25 12:04:26,429]\u001b[0m Trial 391 finished with value: 5.615756842899157 and parameters: {'lambda1': 0.018140714906508065, 'lambda2': 0.6116012234859364, 'lambda3': 0.8912349481848699}. Best is trial 325 with value: 5.493025822339336.\u001b[0m\n",
      "\u001b[32m[I 2021-04-25 12:04:45,586]\u001b[0m Trial 392 finished with value: 5.494574403909369 and parameters: {'lambda1': 0.041583613499489705, 'lambda2': 0.5887993400025402, 'lambda3': 0.9739100508779486}. Best is trial 325 with value: 5.493025822339336.\u001b[0m\n",
      "\u001b[32m[I 2021-04-25 12:04:59,588]\u001b[0m Trial 393 finished with value: 5.493040710919989 and parameters: {'lambda1': 0.054359366050375446, 'lambda2': 0.5784295871026773, 'lambda3': 0.8878062871433224}. Best is trial 325 with value: 5.493025822339336.\u001b[0m\n",
      "\u001b[32m[I 2021-04-25 12:05:15,382]\u001b[0m Trial 394 finished with value: 5.526702085789689 and parameters: {'lambda1': 0.030276389764012798, 'lambda2': 0.6244742159179644, 'lambda3': 0.8814757486080257}. Best is trial 325 with value: 5.493025822339336.\u001b[0m\n",
      "\u001b[32m[I 2021-04-25 12:05:31,979]\u001b[0m Trial 395 finished with value: 5.494094637937589 and parameters: {'lambda1': 0.06046318359251004, 'lambda2': 0.5516438893185241, 'lambda3': 0.9029258775714571}. Best is trial 325 with value: 5.493025822339336.\u001b[0m\n",
      "\u001b[32m[I 2021-04-25 12:05:48,672]\u001b[0m Trial 396 finished with value: 5.697611486077026 and parameters: {'lambda1': 0.014092939845189008, 'lambda2': 0.5751838852412314, 'lambda3': 0.8725804726638714}. Best is trial 325 with value: 5.493025822339336.\u001b[0m\n",
      "\u001b[32m[I 2021-04-25 12:06:05,850]\u001b[0m Trial 397 finished with value: 5.508830099514494 and parameters: {'lambda1': 0.036489930990725845, 'lambda2': 0.5413608893717311, 'lambda3': 0.9352496372230712}. Best is trial 325 with value: 5.493025822339336.\u001b[0m\n",
      "\u001b[32m[I 2021-04-25 12:06:22,689]\u001b[0m Trial 398 finished with value: 5.494381879882408 and parameters: {'lambda1': 0.060028546707518206, 'lambda2': 0.5615286964090987, 'lambda3': 0.9087235803366599}. Best is trial 325 with value: 5.493025822339336.\u001b[0m\n",
      "\u001b[32m[I 2021-04-25 12:06:38,268]\u001b[0m Trial 399 finished with value: 5.499038189041701 and parameters: {'lambda1': 0.042609432083772755, 'lambda2': 0.4931397651312355, 'lambda3': 0.9726225347328853}. Best is trial 325 with value: 5.493025822339336.\u001b[0m\n",
      "\u001b[32m[I 2021-04-25 12:06:53,353]\u001b[0m Trial 400 finished with value: 6.8262963713768805 and parameters: {'lambda1': 0.00012392348212277027, 'lambda2': 0.5151619341624221, 'lambda3': 0.8913346562938562}. Best is trial 325 with value: 5.493025822339336.\u001b[0m\n",
      "\u001b[32m[I 2021-04-25 12:07:08,015]\u001b[0m Trial 401 finished with value: 5.500074641192586 and parameters: {'lambda1': 0.06278277768814332, 'lambda2': 0.5998017037935331, 'lambda3': 0.9429006108421903}. Best is trial 325 with value: 5.493025822339336.\u001b[0m\n",
      "\u001b[32m[I 2021-04-25 12:07:23,310]\u001b[0m Trial 402 finished with value: 5.604187333742808 and parameters: {'lambda1': 0.02162053307990753, 'lambda2': 0.5367345343709738, 'lambda3': 0.8724067874003574}. Best is trial 325 with value: 5.493025822339336.\u001b[0m\n",
      "\u001b[32m[I 2021-04-25 12:07:39,608]\u001b[0m Trial 403 finished with value: 5.500197646316474 and parameters: {'lambda1': 0.04091998321578471, 'lambda2': 0.569859584183182, 'lambda3': 0.9165551410241123}. Best is trial 325 with value: 5.493025822339336.\u001b[0m\n",
      "\u001b[32m[I 2021-04-25 12:07:53,397]\u001b[0m Trial 404 finished with value: 5.50006223229583 and parameters: {'lambda1': 0.06147041687129684, 'lambda2': 0.551200434082913, 'lambda3': 0.9927974467176475}. Best is trial 325 with value: 5.493025822339336.\u001b[0m\n",
      "\u001b[32m[I 2021-04-25 12:08:07,627]\u001b[0m Trial 405 finished with value: 6.465745891710885 and parameters: {'lambda1': 0.0010963550518365422, 'lambda2': 0.5074138882110193, 'lambda3': 0.9310728322290786}. Best is trial 325 with value: 5.493025822339336.\u001b[0m\n",
      "\u001b[32m[I 2021-04-25 12:08:22,216]\u001b[0m Trial 406 finished with value: 5.496342281496422 and parameters: {'lambda1': 0.03828856351408385, 'lambda2': 0.6316522453613214, 'lambda3': 0.9578287838613658}. Best is trial 325 with value: 5.493025822339336.\u001b[0m\n",
      "\u001b[32m[I 2021-04-25 12:08:36,389]\u001b[0m Trial 407 finished with value: 5.493230595530837 and parameters: {'lambda1': 0.060432456807168765, 'lambda2': 0.5272528429816703, 'lambda3': 0.8721740240440283}. Best is trial 325 with value: 5.493025822339336.\u001b[0m\n",
      "\u001b[32m[I 2021-04-25 12:08:52,041]\u001b[0m Trial 408 finished with value: 5.493725353440371 and parameters: {'lambda1': 0.06434011535250371, 'lambda2': 0.5254613505767493, 'lambda3': 0.865690674325671}. Best is trial 325 with value: 5.493025822339336.\u001b[0m\n",
      "\u001b[32m[I 2021-04-25 12:09:06,788]\u001b[0m Trial 409 finished with value: 5.562952876179841 and parameters: {'lambda1': 0.024516823886948803, 'lambda2': 0.5811312675233375, 'lambda3': 0.8915359194845931}. Best is trial 325 with value: 5.493025822339336.\u001b[0m\n",
      "\u001b[32m[I 2021-04-25 12:09:20,740]\u001b[0m Trial 410 finished with value: 5.493297154356186 and parameters: {'lambda1': 0.060113634556086704, 'lambda2': 0.5545484088031658, 'lambda3': 0.8683989286878041}. Best is trial 325 with value: 5.493025822339336.\u001b[0m\n",
      "\u001b[32m[I 2021-04-25 12:09:35,906]\u001b[0m Trial 411 finished with value: 5.493881237333465 and parameters: {'lambda1': 0.06545240130803406, 'lambda2': 0.5195112700370191, 'lambda3': 0.8648241759785676}. Best is trial 325 with value: 5.493025822339336.\u001b[0m\n",
      "\u001b[32m[I 2021-04-25 12:09:50,774]\u001b[0m Trial 412 finished with value: 5.49387209625639 and parameters: {'lambda1': 0.06532080297704906, 'lambda2': 0.49626068433683246, 'lambda3': 0.8840474263142073}. Best is trial 325 with value: 5.493025822339336.\u001b[0m\n",
      "\u001b[32m[I 2021-04-25 12:10:06,417]\u001b[0m Trial 413 finished with value: 5.646024355681633 and parameters: {'lambda1': 0.01704473637888001, 'lambda2': 0.5393991620295246, 'lambda3': 0.9049960087888076}. Best is trial 325 with value: 5.493025822339336.\u001b[0m\n",
      "\u001b[32m[I 2021-04-25 12:10:21,814]\u001b[0m Trial 414 finished with value: 5.520198659023832 and parameters: {'lambda1': 0.03456566266547772, 'lambda2': 0.5931935490926511, 'lambda3': 0.8575384796567418}. Best is trial 325 with value: 5.493025822339336.\u001b[0m\n",
      "\u001b[32m[I 2021-04-25 12:10:37,246]\u001b[0m Trial 415 finished with value: 5.497917321412257 and parameters: {'lambda1': 0.06705926426613619, 'lambda2': 0.5547718863494737, 'lambda3': 0.9077240240074969}. Best is trial 325 with value: 5.493025822339336.\u001b[0m\n",
      "\u001b[32m[I 2021-04-25 12:10:52,098]\u001b[0m Trial 416 finished with value: 5.5309748778137395 and parameters: {'lambda1': 0.042385616810103305, 'lambda2': 0.5657232707917993, 'lambda3': 1.41643952587703}. Best is trial 325 with value: 5.493025822339336.\u001b[0m\n",
      "\u001b[32m[I 2021-04-25 12:11:07,050]\u001b[0m Trial 417 finished with value: 5.500070451047509 and parameters: {'lambda1': 0.06413771819119413, 'lambda2': 0.5308580403005672, 'lambda3': 0.9831234915746239}. Best is trial 325 with value: 5.493025822339336.\u001b[0m\n",
      "\u001b[32m[I 2021-04-25 12:11:22,205]\u001b[0m Trial 418 finished with value: 5.683057803140161 and parameters: {'lambda1': 0.01647822906208834, 'lambda2': 0.4938500774840885, 'lambda3': 0.8737194760571407}. Best is trial 325 with value: 5.493025822339336.\u001b[0m\n",
      "\u001b[32m[I 2021-04-25 12:11:37,218]\u001b[0m Trial 419 finished with value: 5.894504395449427 and parameters: {'lambda1': 0.4163094461464374, 'lambda2': 0.5755410475467807, 'lambda3': 0.9476547270036045}. Best is trial 325 with value: 5.493025822339336.\u001b[0m\n",
      "\u001b[32m[I 2021-04-25 12:11:52,313]\u001b[0m Trial 420 finished with value: 5.745170120758865 and parameters: {'lambda1': 0.28301041292275053, 'lambda2': 0.5156509515689117, 'lambda3': 0.9082156505578565}. Best is trial 325 with value: 5.493025822339336.\u001b[0m\n",
      "\u001b[32m[I 2021-04-25 12:12:07,090]\u001b[0m Trial 421 finished with value: 5.493639596601175 and parameters: {'lambda1': 0.04947124299828281, 'lambda2': 0.6068263788641861, 'lambda3': 0.9728676185370053}. Best is trial 325 with value: 5.493025822339336.\u001b[0m\n",
      "\u001b[32m[I 2021-04-25 12:12:21,892]\u001b[0m Trial 422 finished with value: 5.533627353003904 and parameters: {'lambda1': 0.031780979855162234, 'lambda2': 0.5383098290679524, 'lambda3': 0.8820584195528101}. Best is trial 325 with value: 5.493025822339336.\u001b[0m\n",
      "\u001b[32m[I 2021-04-25 12:12:37,086]\u001b[0m Trial 423 finished with value: 5.493498807166377 and parameters: {'lambda1': 0.062068082649888945, 'lambda2': 0.5581108040455997, 'lambda3': 0.8566824968169942}. Best is trial 325 with value: 5.493025822339336.\u001b[0m\n",
      "\u001b[32m[I 2021-04-25 12:12:51,629]\u001b[0m Trial 424 finished with value: 5.498431817221567 and parameters: {'lambda1': 0.06974735425916388, 'lambda2': 0.5080630692333908, 'lambda3': 0.9266674332643482}. Best is trial 325 with value: 5.493025822339336.\u001b[0m\n",
      "\u001b[32m[I 2021-04-25 12:13:06,844]\u001b[0m Trial 425 finished with value: 5.493283013131768 and parameters: {'lambda1': 0.046149279231122414, 'lambda2': 0.58623104186972, 'lambda3': 0.9539101286313513}. Best is trial 325 with value: 5.493025822339336.\u001b[0m\n",
      "\u001b[32m[I 2021-04-25 12:13:21,496]\u001b[0m Trial 426 finished with value: 5.783074271906663 and parameters: {'lambda1': 0.008173578554047371, 'lambda2': 0.5972926162930575, 'lambda3': 1.0027716581955048}. Best is trial 325 with value: 5.493025822339336.\u001b[0m\n",
      "\u001b[32m[I 2021-04-25 12:13:36,839]\u001b[0m Trial 427 finished with value: 6.464529908891547 and parameters: {'lambda1': 0.0008579072724531414, 'lambda2': 0.6467597342670187, 'lambda3': 0.9660849338359396}. Best is trial 325 with value: 5.493025822339336.\u001b[0m\n",
      "\u001b[32m[I 2021-04-25 12:13:53,590]\u001b[0m Trial 428 finished with value: 5.495846584936755 and parameters: {'lambda1': 0.04223164577621834, 'lambda2': 0.577090688217614, 'lambda3': 0.9486738569310151}. Best is trial 325 with value: 5.493025822339336.\u001b[0m\n",
      "\u001b[32m[I 2021-04-25 12:14:10,636]\u001b[0m Trial 429 finished with value: 5.532563568815546 and parameters: {'lambda1': 0.02608700749642871, 'lambda2': 0.5520108802456843, 'lambda3': 0.9983322527235547}. Best is trial 325 with value: 5.493025822339336.\u001b[0m\n",
      "\u001b[32m[I 2021-04-25 12:14:27,159]\u001b[0m Trial 430 finished with value: 5.521099735963716 and parameters: {'lambda1': 0.0722528447693197, 'lambda2': 0.5874510048144124, 'lambda3': 1.025494096505511}. Best is trial 325 with value: 5.493025822339336.\u001b[0m\n",
      "\u001b[32m[I 2021-04-25 12:14:41,882]\u001b[0m Trial 431 finished with value: 5.498679910151536 and parameters: {'lambda1': 0.04058765922519644, 'lambda2': 0.6240027601220834, 'lambda3': 0.8985725142703376}. Best is trial 325 with value: 5.493025822339336.\u001b[0m\n",
      "\u001b[32m[I 2021-04-25 12:14:57,655]\u001b[0m Trial 432 finished with value: 5.507931594689353 and parameters: {'lambda1': 0.07289797341654607, 'lambda2': 0.5674662138304064, 'lambda3': 0.9470019761954994}. Best is trial 325 with value: 5.493025822339336.\u001b[0m\n",
      "\u001b[32m[I 2021-04-25 12:15:11,757]\u001b[0m Trial 433 finished with value: 5.586726337031023 and parameters: {'lambda1': 0.023743842418480744, 'lambda2': 0.5388137588567323, 'lambda3': 0.8651402374232989}. Best is trial 325 with value: 5.493025822339336.\u001b[0m\n",
      "\u001b[32m[I 2021-04-25 12:15:26,271]\u001b[0m Trial 434 finished with value: 5.492992240101407 and parameters: {'lambda1': 0.05048006425296692, 'lambda2': 0.6030121978587605, 'lambda3': 0.9263460288833916}. Best is trial 434 with value: 5.492992240101407.\u001b[0m\n",
      "\u001b[32m[I 2021-04-25 12:15:40,182]\u001b[0m Trial 435 finished with value: 5.495137032990204 and parameters: {'lambda1': 0.05397499334308466, 'lambda2': 0.6076036298715255, 'lambda3': 0.9586660679985273}. Best is trial 434 with value: 5.492992240101407.\u001b[0m\n",
      "\u001b[32m[I 2021-04-25 12:15:54,592]\u001b[0m Trial 436 finished with value: 6.369166940299373 and parameters: {'lambda1': 0.001448223032439487, 'lambda2': 0.6255078188570549, 'lambda3': 0.899649787000127}. Best is trial 434 with value: 5.492992240101407.\u001b[0m\n",
      "\u001b[32m[I 2021-04-25 12:16:09,255]\u001b[0m Trial 437 finished with value: 5.509486813074094 and parameters: {'lambda1': 0.0740384905469722, 'lambda2': 0.5934023761079876, 'lambda3': 0.9300469560283944}. Best is trial 434 with value: 5.492992240101407.\u001b[0m\n",
      "\u001b[32m[I 2021-04-25 12:16:22,990]\u001b[0m Trial 438 finished with value: 5.517881939894894 and parameters: {'lambda1': 0.03117807351086854, 'lambda2': 0.5350337244786937, 'lambda3': 0.9796991014561539}. Best is trial 434 with value: 5.492992240101407.\u001b[0m\n",
      "\u001b[32m[I 2021-04-25 12:16:36,494]\u001b[0m Trial 439 finished with value: 5.493043059300663 and parameters: {'lambda1': 0.0494157338697222, 'lambda2': 0.6488045944121055, 'lambda3': 0.8781677372236105}. Best is trial 434 with value: 5.492992240101407.\u001b[0m\n",
      "\u001b[32m[I 2021-04-25 12:16:49,651]\u001b[0m Trial 440 finished with value: 5.559427907215354 and parameters: {'lambda1': 0.0254517226711825, 'lambda2': 0.6143129027936309, 'lambda3': 0.8586880605002675}. Best is trial 434 with value: 5.492992240101407.\u001b[0m\n",
      "\u001b[32m[I 2021-04-25 12:17:04,937]\u001b[0m Trial 441 finished with value: 6.419941277338304 and parameters: {'lambda1': 0.001248184585299822, 'lambda2': 0.6600781057838281, 'lambda3': 0.854232354537988}. Best is trial 434 with value: 5.492992240101407.\u001b[0m\n",
      "\u001b[32m[I 2021-04-25 12:17:17,686]\u001b[0m Trial 442 finished with value: 5.512234695217036 and parameters: {'lambda1': 0.06977753090860964, 'lambda2': 0.6463894492423112, 'lambda3': 0.949074016793878}. Best is trial 434 with value: 5.492992240101407.\u001b[0m\n",
      "\u001b[32m[I 2021-04-25 12:17:31,339]\u001b[0m Trial 443 finished with value: 5.494026869680259 and parameters: {'lambda1': 0.04936500961888118, 'lambda2': 0.5864531266152443, 'lambda3': 0.8849354450246502}. Best is trial 434 with value: 5.492992240101407.\u001b[0m\n",
      "\u001b[32m[I 2021-04-25 12:17:45,275]\u001b[0m Trial 444 finished with value: 5.524930502878013 and parameters: {'lambda1': 0.09824407651839027, 'lambda2': 0.4904270940615626, 'lambda3': 0.930031433723661}. Best is trial 434 with value: 5.492992240101407.\u001b[0m\n",
      "\u001b[32m[I 2021-04-25 12:18:02,138]\u001b[0m Trial 445 finished with value: 5.493586851507729 and parameters: {'lambda1': 0.0381421272765981, 'lambda2': 0.6410051467408884, 'lambda3': 1.014295577324521}. Best is trial 434 with value: 5.492992240101407.\u001b[0m\n",
      "\u001b[32m[I 2021-04-25 12:18:15,277]\u001b[0m Trial 446 finished with value: 5.5740320873632605 and parameters: {'lambda1': 0.07325235627889272, 'lambda2': 0.6217777052230312, 'lambda3': 1.2199490956847512}. Best is trial 434 with value: 5.492992240101407.\u001b[0m\n",
      "\u001b[32m[I 2021-04-25 12:18:30,002]\u001b[0m Trial 447 finished with value: 5.527770377886634 and parameters: {'lambda1': 0.02723192439865113, 'lambda2': 0.5745392806161994, 'lambda3': 0.9759564350187011}. Best is trial 434 with value: 5.492992240101407.\u001b[0m\n",
      "\u001b[32m[I 2021-04-25 12:18:44,575]\u001b[0m Trial 448 finished with value: 5.493324365701382 and parameters: {'lambda1': 0.060246781723017916, 'lambda2': 0.5050985628218876, 'lambda3': 0.9020164242190022}. Best is trial 434 with value: 5.492992240101407.\u001b[0m\n",
      "\u001b[32m[I 2021-04-25 12:18:59,165]\u001b[0m Trial 449 finished with value: 6.520334241598003 and parameters: {'lambda1': 0.0008569107798406389, 'lambda2': 0.5240307908576285, 'lambda3': 0.9228386207850697}. Best is trial 434 with value: 5.492992240101407.\u001b[0m\n",
      "\u001b[32m[I 2021-04-25 12:19:14,206]\u001b[0m Trial 450 finished with value: 5.500580837358384 and parameters: {'lambda1': 0.046141191216754376, 'lambda2': 0.558583534024625, 'lambda3': 0.8477098617025788}. Best is trial 434 with value: 5.492992240101407.\u001b[0m\n",
      "\u001b[32m[I 2021-04-25 12:19:27,309]\u001b[0m Trial 451 finished with value: 5.510252220269018 and parameters: {'lambda1': 0.08060106625280912, 'lambda2': 0.5938764884868464, 'lambda3': 0.8821763926185175}. Best is trial 434 with value: 5.492992240101407.\u001b[0m\n",
      "\u001b[32m[I 2021-04-25 12:19:41,096]\u001b[0m Trial 452 finished with value: 5.615838343133173 and parameters: {'lambda1': 0.017706448689228244, 'lambda2': 0.5464457498901258, 'lambda3': 0.9549275816478593}. Best is trial 434 with value: 5.492992240101407.\u001b[0m\n",
      "\u001b[32m[I 2021-04-25 12:19:54,676]\u001b[0m Trial 453 finished with value: 5.500490889803493 and parameters: {'lambda1': 0.05400034422682911, 'lambda2': 0.6601082846590861, 'lambda3': 0.994618044025819}. Best is trial 434 with value: 5.492992240101407.\u001b[0m\n",
      "\u001b[32m[I 2021-04-25 12:20:08,514]\u001b[0m Trial 454 finished with value: 5.942259639191003 and parameters: {'lambda1': 0.480432182754796, 'lambda2': 0.6086283704206575, 'lambda3': 0.9235524696245849}. Best is trial 434 with value: 5.492992240101407.\u001b[0m\n",
      "\u001b[32m[I 2021-04-25 12:20:23,062]\u001b[0m Trial 455 finished with value: 5.516162788545606 and parameters: {'lambda1': 0.09309703103177108, 'lambda2': 0.5166079104206477, 'lambda3': 0.8876273455276332}. Best is trial 434 with value: 5.492992240101407.\u001b[0m\n",
      "\u001b[32m[I 2021-04-25 12:20:37,708]\u001b[0m Trial 456 finished with value: 5.49443958006434 and parameters: {'lambda1': 0.03791685463512435, 'lambda2': 0.5712530307477818, 'lambda3': 1.0536893598968515}. Best is trial 434 with value: 5.492992240101407.\u001b[0m\n",
      "\u001b[32m[I 2021-04-25 12:20:53,465]\u001b[0m Trial 457 finished with value: 5.508224541538299 and parameters: {'lambda1': 0.07579264496806927, 'lambda2': 0.5287484221560281, 'lambda3': 0.9556332920191817}. Best is trial 434 with value: 5.492992240101407.\u001b[0m\n",
      "\u001b[32m[I 2021-04-25 12:21:13,009]\u001b[0m Trial 458 finished with value: 5.689546034423089 and parameters: {'lambda1': 0.016871622686422963, 'lambda2': 0.485025050743377, 'lambda3': 0.850551638249388}. Best is trial 434 with value: 5.492992240101407.\u001b[0m\n",
      "\u001b[32m[I 2021-04-25 12:21:27,861]\u001b[0m Trial 459 finished with value: 5.497147119000588 and parameters: {'lambda1': 0.05966413046168088, 'lambda2': 0.6373075172958822, 'lambda3': 0.912332149530294}. Best is trial 434 with value: 5.492992240101407.\u001b[0m\n",
      "\u001b[32m[I 2021-04-25 12:21:42,952]\u001b[0m Trial 460 finished with value: 5.50555738193349 and parameters: {'lambda1': 0.04092181954050802, 'lambda2': 0.5551674568345434, 'lambda3': 0.8782746937470124}. Best is trial 434 with value: 5.492992240101407.\u001b[0m\n",
      "\u001b[32m[I 2021-04-25 12:21:56,657]\u001b[0m Trial 461 finished with value: 5.515433927937971 and parameters: {'lambda1': 0.0733451448921566, 'lambda2': 0.5858288747712728, 'lambda3': 0.9828239586279965}. Best is trial 434 with value: 5.492992240101407.\u001b[0m\n",
      "\u001b[32m[I 2021-04-25 12:22:13,480]\u001b[0m Trial 462 finished with value: 5.531845997729676 and parameters: {'lambda1': 0.10014123370794778, 'lambda2': 0.5141869787265763, 'lambda3': 0.9352886485875523}. Best is trial 434 with value: 5.492992240101407.\u001b[0m\n",
      "\u001b[32m[I 2021-04-25 12:22:28,731]\u001b[0m Trial 463 finished with value: 5.631120236718312 and parameters: {'lambda1': 0.017337024644630585, 'lambda2': 0.5683737340919673, 'lambda3': 0.9095926290933117}. Best is trial 434 with value: 5.492992240101407.\u001b[0m\n",
      "\u001b[32m[I 2021-04-25 12:22:43,074]\u001b[0m Trial 464 finished with value: 5.493973587367526 and parameters: {'lambda1': 0.055713257079812645, 'lambda2': 0.5418246846192738, 'lambda3': 0.9587219043312729}. Best is trial 434 with value: 5.492992240101407.\u001b[0m\n",
      "\u001b[32m[I 2021-04-25 12:22:56,856]\u001b[0m Trial 465 finished with value: 5.50892555795311 and parameters: {'lambda1': 0.034613939071232586, 'lambda2': 0.6676138446319506, 'lambda3': 0.8758905631336805}. Best is trial 434 with value: 5.492992240101407.\u001b[0m\n",
      "\u001b[32m[I 2021-04-25 12:23:12,293]\u001b[0m Trial 466 finished with value: 5.5345517902904176 and parameters: {'lambda1': 0.08015019451238606, 'lambda2': 0.6137849263524647, 'lambda3': 1.0122677499376151}. Best is trial 434 with value: 5.492992240101407.\u001b[0m\n",
      "\u001b[32m[I 2021-04-25 12:23:26,476]\u001b[0m Trial 467 finished with value: 5.494304682331906 and parameters: {'lambda1': 0.0627338708115445, 'lambda2': 0.494097641090951, 'lambda3': 0.9301021742297276}. Best is trial 434 with value: 5.492992240101407.\u001b[0m\n",
      "\u001b[32m[I 2021-04-25 12:23:39,809]\u001b[0m Trial 468 finished with value: 5.531801726295395 and parameters: {'lambda1': 0.1026975257370683, 'lambda2': 0.5306486096570737, 'lambda3': 0.9040006639741144}. Best is trial 434 with value: 5.492992240101407.\u001b[0m\n",
      "\u001b[32m[I 2021-04-25 12:23:53,836]\u001b[0m Trial 469 finished with value: 5.510350909062188 and parameters: {'lambda1': 0.04104068150549748, 'lambda2': 0.549903821460862, 'lambda3': 0.8444580068919166}. Best is trial 434 with value: 5.492992240101407.\u001b[0m\n",
      "\u001b[32m[I 2021-04-25 12:24:07,852]\u001b[0m Trial 470 finished with value: 6.091724987147177 and parameters: {'lambda1': 0.7174871359557691, 'lambda2': 0.5879671360630294, 'lambda3': 0.9687737833619178}. Best is trial 434 with value: 5.492992240101407.\u001b[0m\n",
      "\u001b[32m[I 2021-04-25 12:24:21,581]\u001b[0m Trial 471 finished with value: 5.643616398896824 and parameters: {'lambda1': 0.017009489058631512, 'lambda2': 0.5081907521917159, 'lambda3': 0.9393159474587536}. Best is trial 434 with value: 5.492992240101407.\u001b[0m\n",
      "\u001b[32m[I 2021-04-25 12:24:36,008]\u001b[0m Trial 472 finished with value: 5.493153999436311 and parameters: {'lambda1': 0.055348013883980855, 'lambda2': 0.5646844134993441, 'lambda3': 0.8737190129268468}. Best is trial 434 with value: 5.492992240101407.\u001b[0m\n",
      "\u001b[32m[I 2021-04-25 12:24:51,135]\u001b[0m Trial 473 finished with value: 5.509332424727188 and parameters: {'lambda1': 0.08533795575186665, 'lambda2': 0.5755799930467252, 'lambda3': 0.8510936921663248}. Best is trial 434 with value: 5.492992240101407.\u001b[0m\n",
      "\u001b[32m[I 2021-04-25 12:25:08,973]\u001b[0m Trial 474 finished with value: 5.503265897094197 and parameters: {'lambda1': 0.03954511805373407, 'lambda2': 0.6059259586553799, 'lambda3': 0.8812808104263999}. Best is trial 434 with value: 5.492992240101407.\u001b[0m\n",
      "\u001b[32m[I 2021-04-25 12:25:25,823]\u001b[0m Trial 475 finished with value: 6.830181297304118 and parameters: {'lambda1': 0.00011990760429748254, 'lambda2': 0.5646435029601091, 'lambda3': 0.8487865402416261}. Best is trial 434 with value: 5.492992240101407.\u001b[0m\n",
      "\u001b[32m[I 2021-04-25 12:25:39,554]\u001b[0m Trial 476 finished with value: 5.500326356467913 and parameters: {'lambda1': 0.06695337458425771, 'lambda2': 0.6313818421432137, 'lambda3': 0.8855092003172779}. Best is trial 434 with value: 5.492992240101407.\u001b[0m\n",
      "\u001b[32m[I 2021-04-25 12:25:53,264]\u001b[0m Trial 477 finished with value: 5.526994716708157 and parameters: {'lambda1': 0.030359192369404774, 'lambda2': 0.5875935464313365, 'lambda3': 0.9040374399775735}. Best is trial 434 with value: 5.492992240101407.\u001b[0m\n",
      "\u001b[32m[I 2021-04-25 12:26:06,836]\u001b[0m Trial 478 finished with value: 5.494577776653856 and parameters: {'lambda1': 0.0539460940577768, 'lambda2': 0.5584385569992898, 'lambda3': 0.9824819077942274}. Best is trial 434 with value: 5.492992240101407.\u001b[0m\n",
      "\u001b[32m[I 2021-04-25 12:26:21,655]\u001b[0m Trial 479 finished with value: 5.8064423519338755 and parameters: {'lambda1': 0.35704631878023785, 'lambda2': 0.5281777490202494, 'lambda3': 0.8709674057066591}. Best is trial 434 with value: 5.492992240101407.\u001b[0m\n",
      "\u001b[32m[I 2021-04-25 12:26:36,458]\u001b[0m Trial 480 finished with value: 5.534805807028201 and parameters: {'lambda1': 0.07941023271968446, 'lambda2': 0.6024972665326702, 'lambda3': 1.0277452362149215}. Best is trial 434 with value: 5.492992240101407.\u001b[0m\n",
      "\u001b[32m[I 2021-04-25 12:26:51,213]\u001b[0m Trial 481 finished with value: 5.541299361204615 and parameters: {'lambda1': 0.10140767919213117, 'lambda2': 0.5497810504598426, 'lambda3': 0.944965110741217}. Best is trial 434 with value: 5.492992240101407.\u001b[0m\n",
      "\u001b[32m[I 2021-04-25 12:27:05,857]\u001b[0m Trial 482 finished with value: 5.580763486944721 and parameters: {'lambda1': 0.021933394943965057, 'lambda2': 0.5713200158097917, 'lambda3': 0.9073020296905817}. Best is trial 434 with value: 5.492992240101407.\u001b[0m\n",
      "\u001b[32m[I 2021-04-25 12:27:20,234]\u001b[0m Trial 483 finished with value: 5.499810000384621 and parameters: {'lambda1': 0.04908010433443165, 'lambda2': 0.5114641920600349, 'lambda3': 0.8544673194530076}. Best is trial 434 with value: 5.492992240101407.\u001b[0m\n",
      "\u001b[32m[I 2021-04-25 12:27:34,711]\u001b[0m Trial 484 finished with value: 5.496564480038896 and parameters: {'lambda1': 0.06633817226292472, 'lambda2': 0.48518974616040067, 'lambda3': 0.9514322849453964}. Best is trial 434 with value: 5.492992240101407.\u001b[0m\n",
      "\u001b[32m[I 2021-04-25 12:27:50,164]\u001b[0m Trial 485 finished with value: 5.518304280529891 and parameters: {'lambda1': 0.030208025016421215, 'lambda2': 0.6246370452029185, 'lambda3': 0.9255550649035882}. Best is trial 434 with value: 5.492992240101407.\u001b[0m\n",
      "\u001b[32m[I 2021-04-25 12:28:04,048]\u001b[0m Trial 486 finished with value: 5.526277450567342 and parameters: {'lambda1': 0.08514625796176771, 'lambda2': 0.5333141892734334, 'lambda3': 0.996365969867328}. Best is trial 434 with value: 5.492992240101407.\u001b[0m\n",
      "\u001b[32m[I 2021-04-25 12:28:18,130]\u001b[0m Trial 487 finished with value: 5.493198605737659 and parameters: {'lambda1': 0.05105478366294181, 'lambda2': 0.5950272080165785, 'lambda3': 0.8901498436850519}. Best is trial 434 with value: 5.492992240101407.\u001b[0m\n",
      "\u001b[32m[I 2021-04-25 12:28:31,874]\u001b[0m Trial 488 finished with value: 6.3100911865889495 and parameters: {'lambda1': 0.001917915901207684, 'lambda2': 0.6020622564487295, 'lambda3': 0.8771255652049446}. Best is trial 434 with value: 5.492992240101407.\u001b[0m\n",
      "\u001b[32m[I 2021-04-25 12:28:45,685]\u001b[0m Trial 489 finished with value: 5.501184554634112 and parameters: {'lambda1': 0.04137164555080161, 'lambda2': 0.6468520978882313, 'lambda3': 0.8472375579444364}. Best is trial 434 with value: 5.492992240101407.\u001b[0m\n",
      "\u001b[32m[I 2021-04-25 12:28:59,572]\u001b[0m Trial 490 finished with value: 5.4974418861420045 and parameters: {'lambda1': 0.07168360512944293, 'lambda2': 0.5922039575427459, 'lambda3': 0.8315032662562426}. Best is trial 434 with value: 5.492992240101407.\u001b[0m\n",
      "\u001b[32m[I 2021-04-25 12:29:13,732]\u001b[0m Trial 491 finished with value: 6.37515138770773 and parameters: {'lambda1': 0.0014761236302572242, 'lambda2': 0.6218268345426375, 'lambda3': 0.8793306028869952}. Best is trial 434 with value: 5.492992240101407.\u001b[0m\n",
      "\u001b[32m[I 2021-04-25 12:29:28,222]\u001b[0m Trial 492 finished with value: 5.4952182474604205 and parameters: {'lambda1': 0.04633878788074883, 'lambda2': 0.5790184024887751, 'lambda3': 0.9017159216982701}. Best is trial 434 with value: 5.492992240101407.\u001b[0m\n",
      "\u001b[32m[I 2021-04-25 12:29:44,259]\u001b[0m Trial 493 finished with value: 5.635742992352956 and parameters: {'lambda1': 0.015459161397317074, 'lambda2': 0.564300508137799, 'lambda3': 0.9702032340836393}. Best is trial 434 with value: 5.492992240101407.\u001b[0m\n",
      "\u001b[32m[I 2021-04-25 12:29:57,922]\u001b[0m Trial 494 finished with value: 5.545608756077869 and parameters: {'lambda1': 0.10536354874814802, 'lambda2': 0.6054588222933097, 'lambda3': 0.8984744354732497}. Best is trial 434 with value: 5.492992240101407.\u001b[0m\n",
      "\u001b[32m[I 2021-04-25 12:30:11,935]\u001b[0m Trial 495 finished with value: 5.4937056914721385 and parameters: {'lambda1': 0.060892846490542926, 'lambda2': 0.5054697242522493, 'lambda3': 0.8367969806582782}. Best is trial 434 with value: 5.492992240101407.\u001b[0m\n",
      "\u001b[32m[I 2021-04-25 12:30:25,153]\u001b[0m Trial 496 finished with value: 5.506200156663258 and parameters: {'lambda1': 0.033110255802360794, 'lambda2': 0.6391170630540202, 'lambda3': 0.9389204859407713}. Best is trial 434 with value: 5.492992240101407.\u001b[0m\n",
      "\u001b[32m[I 2021-04-25 12:30:38,949]\u001b[0m Trial 497 finished with value: 5.52076082565229 and parameters: {'lambda1': 0.08394478047535818, 'lambda2': 0.6708848052118278, 'lambda3': 0.8758365759320981}. Best is trial 434 with value: 5.492992240101407.\u001b[0m\n",
      "\u001b[32m[I 2021-04-25 12:30:53,179]\u001b[0m Trial 498 finished with value: 5.49388997279873 and parameters: {'lambda1': 0.056262155737775835, 'lambda2': 0.5832959924236354, 'lambda3': 0.9201583984806236}. Best is trial 434 with value: 5.492992240101407.\u001b[0m\n",
      "\u001b[32m[I 2021-04-25 12:31:07,488]\u001b[0m Trial 499 finished with value: 5.551783813659438 and parameters: {'lambda1': 0.02016804001541357, 'lambda2': 0.5555416006859594, 'lambda3': 1.0724328824224731}. Best is trial 434 with value: 5.492992240101407.\u001b[0m\n"
     ]
    }
   ],
   "source": [
    "study = optuna.create_study(direction='minimize')\n",
    "study.optimize(objective, n_trials=500, timeout=14400)"
   ]
  },
  {
   "cell_type": "code",
   "execution_count": 16,
   "metadata": {},
   "outputs": [
    {
     "data": {
      "text/plain": [
       "{'lambda1': 0.05048006425296692,\n",
       " 'lambda2': 0.6030121978587605,\n",
       " 'lambda3': 0.9263460288833916}"
      ]
     },
     "execution_count": 16,
     "metadata": {},
     "output_type": "execute_result"
    }
   ],
   "source": [
    "study.best_params"
   ]
  },
  {
   "cell_type": "code",
   "execution_count": 17,
   "metadata": {},
   "outputs": [
    {
     "data": {
      "text/plain": [
       "5.492992240101407"
      ]
     },
     "execution_count": 17,
     "metadata": {},
     "output_type": "execute_result"
    }
   ],
   "source": [
    "study.best_value"
   ]
  },
  {
   "cell_type": "code",
   "execution_count": 20,
   "metadata": {},
   "outputs": [],
   "source": [
    "# save the corrected oof predictions\n",
    "inputs = zip(pred_inputs, delta_inputs)\n",
    "with Parallel(n_jobs=6) as parallel:\n",
    "    delayed_correct = delayed(correct_path)\n",
    "    corrected = parallel(\n",
    "        delayed_correct(wp, delta, **study.best_params)\n",
    "        for wp,delta in inputs\n",
    "    )\n",
    "corrected = pd.concat(corrected, ignore_index=True)"
   ]
  },
  {
   "cell_type": "code",
   "execution_count": 22,
   "metadata": {},
   "outputs": [
    {
     "data": {
      "text/plain": [
       "5.492992240101407"
      ]
     },
     "execution_count": 22,
     "metadata": {},
     "output_type": "execute_result"
    }
   ],
   "source": [
    "mean_position_error(labels, corrected)"
   ]
  },
  {
   "cell_type": "code",
   "execution_count": 23,
   "metadata": {},
   "outputs": [],
   "source": [
    "corrected.to_csv(f\"{input_path}/oof_preds_stg.csv\")"
   ]
  },
  {
   "cell_type": "markdown",
   "metadata": {},
   "source": [
    "***\n",
    "previous ones"
   ]
  },
  {
   "cell_type": "code",
   "execution_count": 31,
   "metadata": {},
   "outputs": [
    {
     "data": {
      "text/plain": [
       "{'lambda1': 0.041182343848726044,\n",
       " 'lambda2': 0.559843900391014,\n",
       " 'lambda3': 1.0305677022844741}"
      ]
     },
     "execution_count": 31,
     "metadata": {},
     "output_type": "execute_result"
    }
   ],
   "source": [
    "study.best_params"
   ]
  },
  {
   "cell_type": "code",
   "execution_count": 32,
   "metadata": {},
   "outputs": [
    {
     "data": {
      "text/plain": [
       "5.78361572908014"
      ]
     },
     "execution_count": 32,
     "metadata": {},
     "output_type": "execute_result"
    }
   ],
   "source": [
    "study.best_value"
   ]
  },
  {
   "cell_type": "markdown",
   "metadata": {
    "id": "hr363NMKBoJY"
   },
   "source": [
    "***"
   ]
  }
 ],
 "metadata": {
  "accelerator": "TPU",
  "colab": {
   "collapsed_sections": [],
   "machine_shape": "hm",
   "name": "iln-cm-tuning.ipynb",
   "provenance": []
  },
  "kernelspec": {
   "display_name": "Python 3",
   "language": "python",
   "name": "python3"
  },
  "language_info": {
   "codemirror_mode": {
    "name": "ipython",
    "version": 3
   },
   "file_extension": ".py",
   "mimetype": "text/x-python",
   "name": "python",
   "nbconvert_exporter": "python",
   "pygments_lexer": "ipython3",
   "version": "3.8.8"
  }
 },
 "nbformat": 4,
 "nbformat_minor": 4
}
