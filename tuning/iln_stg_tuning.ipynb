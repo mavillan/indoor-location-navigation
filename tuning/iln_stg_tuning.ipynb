{
 "cells": [
  {
   "cell_type": "code",
   "execution_count": 1,
   "metadata": {
    "colab": {
     "base_uri": "https://localhost:8080/"
    },
    "id": "sqY3C6Rcx7eu",
    "outputId": "bf4eb384-a983-44bc-9dea-a0b2f8ee63ff"
   },
   "outputs": [],
   "source": [
    "#from google.colab import drive\n",
    "#from google.colab import files\n",
    "#drive.mount('/content/drive', force_remount=True)"
   ]
  },
  {
   "cell_type": "code",
   "execution_count": 2,
   "metadata": {
    "id": "mjmPj_B6yBjU"
   },
   "outputs": [],
   "source": [
    "#!pip install --upgrade kaggle > /dev/null 2>&1\n",
    "#!pip install optuna  > /dev/null 2>&1"
   ]
  },
  {
   "cell_type": "code",
   "execution_count": 3,
   "metadata": {
    "id": "UcDh7hZVyJdO"
   },
   "outputs": [],
   "source": [
    "# move kaggle.json into the folder where the API expects to find it\n",
    "#!mkdir -p ~/.kaggle/ && cp /content/drive/MyDrive/kaggle/kaggle.json ~/.kaggle/ && chmod 600 ~/.kaggle/kaggle.json"
   ]
  },
  {
   "cell_type": "markdown",
   "metadata": {
    "id": "DqJ91QRjyL7w"
   },
   "source": [
    "***"
   ]
  },
  {
   "cell_type": "code",
   "execution_count": 4,
   "metadata": {
    "id": "WZ09uR6fyKrK"
   },
   "outputs": [],
   "source": [
    "from glob import glob\n",
    "import numpy as np\n",
    "import pandas as pd\n",
    "import scipy.interpolate\n",
    "import scipy.sparse\n",
    "from tqdm import tqdm\n",
    "from joblib import Parallel,delayed\n",
    "import yaml\n",
    "\n",
    "from scipy.spatial import distance\n",
    "import matplotlib.pyplot as plt\n",
    "import seaborn as sns"
   ]
  },
  {
   "cell_type": "markdown",
   "metadata": {
    "id": "yhWl_DXKyeCF"
   },
   "source": [
    "***"
   ]
  },
  {
   "cell_type": "code",
   "execution_count": 5,
   "metadata": {
    "id": "ctfYH62uyPyk"
   },
   "outputs": [],
   "source": [
    "def mean_position_error(labels, preds):\n",
    "    x_label = labels.x.values\n",
    "    y_label = labels.y.values\n",
    "    x_pred = preds.x.values\n",
    "    y_pred = preds.y.values\n",
    "    return np.mean(np.sqrt((x_label-x_pred)**2 + (y_label-y_pred)**2))"
   ]
  },
  {
   "cell_type": "markdown",
   "metadata": {
    "id": "QJW8fHZczmNg"
   },
   "source": [
    "***"
   ]
  },
  {
   "cell_type": "code",
   "execution_count": null,
   "metadata": {
    "colab": {
     "base_uri": "https://localhost:8080/"
    },
    "id": "Sr6IBx_Zzqwj",
    "outputId": "05856001-c19a-44db-b2ef-d81b53f781db"
   },
   "outputs": [],
   "source": [
    "!kaggle datasets download -d mavillan/iln-imu-preds --force --unzip"
   ]
  },
  {
   "cell_type": "code",
   "execution_count": null,
   "metadata": {},
   "outputs": [],
   "source": [
    "!kaggle datasets download -d mavillan/iln-dnn-dset1 --force --unzip"
   ]
  },
  {
   "cell_type": "code",
   "execution_count": null,
   "metadata": {},
   "outputs": [],
   "source": [
    "!kaggle datasets download -d mavillan/iln-ds1-30f-5lt --force --unzip"
   ]
  },
  {
   "cell_type": "code",
   "execution_count": 6,
   "metadata": {},
   "outputs": [],
   "source": [
    "# get floors for each waypoint in train\n",
    "floors = list()\n",
    "for file in glob(\"./train/*.parquet\"):\n",
    "    df = pd.read_parquet(file)\n",
    "    floors.append(df.loc[:,[\"site\",\"path\",\"floor\"]].drop_duplicates())\n",
    "floors = pd.concat(floors, ignore_index=True)"
   ]
  },
  {
   "cell_type": "code",
   "execution_count": 7,
   "metadata": {
    "id": "5g4Yh4Oj0P43"
   },
   "outputs": [],
   "source": [
    "input_path = \"./dnn-ds1-30f-5lt-pl\"\n",
    "\n",
    "predictions = (\n",
    "    pd.read_csv(f\"{input_path}/oof_preds_stg.csv\", index_col=0)\n",
    "    .merge(floors, how=\"inner\", on=[\"site\",\"path\"])\n",
    "    .reset_index(drop=True)\n",
    ")\n",
    "\n",
    "labels = (\n",
    "    pd.read_csv(f\"{input_path}/oof_preds.csv\")\n",
    "    .loc[:,[\"site\",\"path\",\"timestamp\",\"x\",\"y\"]]\n",
    "    .drop_duplicates()\n",
    "    .merge(floors, how=\"inner\", on=[\"site\",\"path\"])\n",
    "    .reset_index(drop=True)\n",
    ")"
   ]
  },
  {
   "cell_type": "code",
   "execution_count": 8,
   "metadata": {},
   "outputs": [],
   "source": [
    "waypoints = pd.read_csv(\"waypoints.csv\").merge(floors, how=\"inner\", on=[\"site\",\"path\"])\n",
    "waypoints_aug = pd.read_csv(\"pos_preds.csv\").merge(floors, how=\"inner\", on=[\"site\",\"path\"])"
   ]
  },
  {
   "cell_type": "code",
   "execution_count": 9,
   "metadata": {
    "id": "nvnr-QLX1Oq7"
   },
   "outputs": [],
   "source": [
    "predictions = predictions.sort_values([\"site\",\"path\",\"timestamp\"], ignore_index=True)\n",
    "labels = labels.sort_values([\"site\",\"path\",\"timestamp\"], ignore_index=True)"
   ]
  },
  {
   "cell_type": "code",
   "execution_count": 10,
   "metadata": {
    "id": "eqynDZZh1SAB"
   },
   "outputs": [],
   "source": [
    "target_sites = predictions.site.unique().tolist()"
   ]
  },
  {
   "cell_type": "markdown",
   "metadata": {
    "id": "F_8BCUJn1gwh"
   },
   "source": [
    "***\n",
    "## optimization of parameters: by site"
   ]
  },
  {
   "cell_type": "code",
   "execution_count": 12,
   "metadata": {},
   "outputs": [],
   "source": [
    "# adds closest waypoint and distance\n",
    "all_preds = list()\n",
    "use_augmented = False\n",
    "\n",
    "for (site,floor),preds_slice in predictions.groupby([\"site\",\"floor\"]):\n",
    "    if use_augmented:\n",
    "        waypoints_slice = waypoints_aug.query(\"site==@site & floor==@floor\")\n",
    "    else:\n",
    "        waypoints_slice = waypoints.query(\"site==@site & floor==@floor\")\n",
    "    dist_matrix = distance.cdist(preds_slice[[\"x\",\"y\"]].values, waypoints_slice[[\"x\",\"y\"]].values)\n",
    "    idx_min = np.argmin(dist_matrix, axis=1)\n",
    "    closest_wp = waypoints_slice[[\"x\",\"y\"]].values[idx_min]\n",
    "    closest_wp_dist = np.min(dist_matrix, axis=1)\n",
    "    \n",
    "    preds_slice[\"x_wp\"] = closest_wp[:,0]\n",
    "    preds_slice[\"y_wp\"] = closest_wp[:,1]\n",
    "    preds_slice[\"dist\"] = closest_wp_dist\n",
    "    all_preds.append(preds_slice)\n",
    "    \n",
    "predictions = pd.concat(all_preds, ignore_index=True).sort_values([\"site\",\"path\",\"timestamp\"])"
   ]
  },
  {
   "cell_type": "code",
   "execution_count": 13,
   "metadata": {},
   "outputs": [
    {
     "data": {
      "text/plain": [
       "<seaborn.axisgrid.FacetGrid at 0x7f92eecdec70>"
      ]
     },
     "execution_count": 13,
     "metadata": {},
     "output_type": "execute_result"
    },
    {
     "data": {
      "image/png": "[encoded data removed]",
      "text/plain": [
       "<Figure size 720x360 with 1 Axes>"
      ]
     },
     "metadata": {
      "needs_background": "light"
     },
     "output_type": "display_data"
    }
   ],
   "source": [
    "# hist of min distances to waypoints\n",
    "sns.displot(predictions.dist, aspect=2)"
   ]
  },
  {
   "cell_type": "code",
   "execution_count": 14,
   "metadata": {},
   "outputs": [],
   "source": [
    "def apply_stg(predictions, threshold=5):\n",
    "    predictions = predictions.copy(deep=True)\n",
    "    idx_to_snap = predictions.query(\"dist < @threshold\").index\n",
    "    predictions.loc[idx_to_snap,\"x\"] = predictions.loc[idx_to_snap,\"x_wp\"]\n",
    "    predictions.loc[idx_to_snap,\"y\"] = predictions.loc[idx_to_snap,\"y_wp\"]\n",
    "    return predictions"
   ]
  },
  {
   "cell_type": "code",
   "execution_count": null,
   "metadata": {},
   "outputs": [],
   "source": [
    "threshold_values = np.arange(1, 15.01, 0.01)\n",
    "\n",
    "best_threshold_by_site = dict()\n",
    "all_snap = list()\n",
    "\n",
    "for site in np.sort(target_sites):\n",
    "    \n",
    "    site_preds = predictions.query(\"site == @site\")\n",
    "    site_labels = labels.query(\"site == @site\")\n",
    "    \n",
    "    mpe_i = mean_position_error(site_labels,site_preds)\n",
    "    \n",
    "    mpe_list = list()\n",
    "    for threshold in tqdm(threshold_values):\n",
    "        site_preds_stg = apply_stg(site_preds, threshold=threshold)\n",
    "        mpe = mean_position_error(site_labels, site_preds_stg)\n",
    "        mpe_list.append(mpe)\n",
    "    mpe_arr = np.asarray(mpe_list)\n",
    "    idx_min = np.argmin(mpe_arr)\n",
    "    opt_thr = threshold_values[idx_min]\n",
    "    opt_mpe = mpe_arr[idx_min]\n",
    "    \n",
    "    best_threshold_by_site[site] = opt_thr\n",
    "    all_snap.append(apply_stg(site_preds, threshold=opt_thr))\n",
    "    \n",
    "    plt.figure(figsize=(15,5))\n",
    "    plt.plot(threshold_values, mpe_arr)\n",
    "    plt.xlabel(\"threshold\")\n",
    "    plt.ylabel(\"mpe\")\n",
    "    plt.title(f\"site: {site} - optimal threshold={opt_thr:0.4f} - init mpe: {mpe_i} - optimized mpe: {opt_mpe:0.4f}\")\n",
    "    plt.grid()\n",
    "    plt.show()"
   ]
  },
  {
   "cell_type": "code",
   "execution_count": null,
   "metadata": {},
   "outputs": [],
   "source": [
    "predictions_snap = pd.concat(all_snap, ignore_index=True)"
   ]
  },
  {
   "cell_type": "code",
   "execution_count": null,
   "metadata": {},
   "outputs": [],
   "source": [
    "# inital mpe\n",
    "mean_position_error(labels, predictions)"
   ]
  },
  {
   "cell_type": "code",
   "execution_count": null,
   "metadata": {},
   "outputs": [],
   "source": [
    "# mpe after snap to grid with best threshold by site\n",
    "mean_position_error(labels, predictions_snap)"
   ]
  },
  {
   "cell_type": "code",
   "execution_count": null,
   "metadata": {},
   "outputs": [],
   "source": [
    "best_threshold_by_site"
   ]
  },
  {
   "cell_type": "markdown",
   "metadata": {
    "id": "RauEZTRM4AS2"
   },
   "source": [
    "***\n",
    "## optimization of parameters: jointly"
   ]
  },
  {
   "cell_type": "code",
   "execution_count": 15,
   "metadata": {},
   "outputs": [
    {
     "name": "stderr",
     "output_type": "stream",
     "text": [
      "100%|██████████| 1401/1401 [00:19<00:00, 70.42it/s]\n"
     ]
    }
   ],
   "source": [
    "threshold_values = np.arange(1, 15.01, 0.01)\n",
    "mpe_list = list()\n",
    "\n",
    "for threshold in tqdm(threshold_values):\n",
    "    predictions_stg = apply_stg(predictions, threshold=threshold)\n",
    "    mpe = mean_position_error(labels, predictions_stg)\n",
    "    mpe_list.append(mpe)\n",
    "    \n",
    "mpe_arr = np.asarray(mpe_list)\n",
    "idx_min = np.argmin(mpe_arr)"
   ]
  },
  {
   "cell_type": "code",
   "execution_count": 16,
   "metadata": {},
   "outputs": [
    {
     "data": {
      "text/plain": [
       "5.466886047657341"
      ]
     },
     "execution_count": 16,
     "metadata": {},
     "output_type": "execute_result"
    }
   ],
   "source": [
    "mean_position_error(labels, predictions)"
   ]
  },
  {
   "cell_type": "code",
   "execution_count": 17,
   "metadata": {},
   "outputs": [
    {
     "data": {
      "image/png": "[encoded data removed]",
      "text/plain": [
       "<Figure size 1080x360 with 1 Axes>"
      ]
     },
     "metadata": {
      "needs_background": "light"
     },
     "output_type": "display_data"
    }
   ],
   "source": [
    "opt_thr = threshold_values[idx_min]\n",
    "opt_mpe = mpe_arr[idx_min]\n",
    "\n",
    "plt.figure(figsize=(15,5))\n",
    "plt.plot(threshold_values, mpe_arr)\n",
    "plt.xlabel(\"threshold\")\n",
    "plt.ylabel(\"mpe\")\n",
    "plt.title(f\"Optimal threshold={opt_thr:0.4f} - Min mpe: {opt_mpe:0.4f}\")\n",
    "plt.grid()"
   ]
  },
  {
   "cell_type": "markdown",
   "metadata": {
    "id": "hr363NMKBoJY"
   },
   "source": [
    "***"
   ]
  }
 ],
 "metadata": {
  "accelerator": "TPU",
  "colab": {
   "collapsed_sections": [],
   "machine_shape": "hm",
   "name": "iln-cm-tuning.ipynb",
   "provenance": []
  },
  "kernelspec": {
   "display_name": "Python 3",
   "language": "python",
   "name": "python3"
  },
  "language_info": {
   "codemirror_mode": {
    "name": "ipython",
    "version": 3
   },
   "file_extension": ".py",
   "mimetype": "text/x-python",
   "name": "python",
   "nbconvert_exporter": "python",
   "pygments_lexer": "ipython3",
   "version": "3.8.8"
  }
 },
 "nbformat": 4,
 "nbformat_minor": 4
}
