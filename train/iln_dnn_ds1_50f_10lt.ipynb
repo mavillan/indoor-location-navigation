{
  "nbformat": 4,
  "nbformat_minor": 0,
  "metadata": {
    "colab": {
      "name": "iln-dnn-ds1-50f-10lt.ipynb",
      "provenance": [],
      "collapsed_sections": [],
      "authorship_tag": "ABX9TyM6/xTA/BDvhRyUgYdbRP+t",
      "include_colab_link": true
    },
    "kernelspec": {
      "name": "python3",
      "display_name": "Python 3"
    },
    "language_info": {
      "name": "python"
    },
    "accelerator": "GPU",
    "widgets": {
      "application/vnd.jupyter.widget-state+json": {
        "39bd971645364574881a56b3b55f2fb5": {
          "model_module": "@jupyter-widgets/controls",
          "model_name": "HBoxModel",
          "state": {
            "_view_name": "HBoxView",
            "_dom_classes": [],
            "_model_name": "HBoxModel",
            "_view_module": "@jupyter-widgets/controls",
            "_model_module_version": "1.5.0",
            "_view_count": null,
            "_view_module_version": "1.5.0",
            "box_style": "",
            "layout": "IPY_MODEL_b69fd338b36d471493287a636d3993bb",
            "_model_module": "@jupyter-widgets/controls",
            "children": [
              "IPY_MODEL_55982d50932c41839aac8624f76725c3",
              "IPY_MODEL_6026ca9aebbc421db987badede848255"
            ]
          }
        },
        "b69fd338b36d471493287a636d3993bb": {
          "model_module": "@jupyter-widgets/base",
          "model_name": "LayoutModel",
          "state": {
            "_view_name": "LayoutView",
            "grid_template_rows": null,
            "right": null,
            "justify_content": null,
            "_view_module": "@jupyter-widgets/base",
            "overflow": null,
            "_model_module_version": "1.2.0",
            "_view_count": null,
            "flex_flow": null,
            "width": null,
            "min_width": null,
            "border": null,
            "align_items": null,
            "bottom": null,
            "_model_module": "@jupyter-widgets/base",
            "top": null,
            "grid_column": null,
            "overflow_y": null,
            "overflow_x": null,
            "grid_auto_flow": null,
            "grid_area": null,
            "grid_template_columns": null,
            "flex": null,
            "_model_name": "LayoutModel",
            "justify_items": null,
            "grid_row": null,
            "max_height": null,
            "align_content": null,
            "visibility": null,
            "align_self": null,
            "height": null,
            "min_height": null,
            "padding": null,
            "grid_auto_rows": null,
            "grid_gap": null,
            "max_width": null,
            "order": null,
            "_view_module_version": "1.2.0",
            "grid_template_areas": null,
            "object_position": null,
            "object_fit": null,
            "grid_auto_columns": null,
            "margin": null,
            "display": null,
            "left": null
          }
        },
        "55982d50932c41839aac8624f76725c3": {
          "model_module": "@jupyter-widgets/controls",
          "model_name": "FloatProgressModel",
          "state": {
            "_view_name": "ProgressView",
            "style": "IPY_MODEL_9a4fd01522a44747a2b730bbd3f50057",
            "_dom_classes": [],
            "description": " 66%",
            "_model_name": "FloatProgressModel",
            "bar_style": "danger",
            "max": 200,
            "_view_module": "@jupyter-widgets/controls",
            "_model_module_version": "1.5.0",
            "value": 132,
            "_view_count": null,
            "_view_module_version": "1.5.0",
            "orientation": "horizontal",
            "min": 0,
            "description_tooltip": null,
            "_model_module": "@jupyter-widgets/controls",
            "layout": "IPY_MODEL_b39ce05eba844c02a1489b82b784068b"
          }
        },
        "6026ca9aebbc421db987badede848255": {
          "model_module": "@jupyter-widgets/controls",
          "model_name": "HTMLModel",
          "state": {
            "_view_name": "HTMLView",
            "style": "IPY_MODEL_6533d0bbac4043c5897c6f9576cbc07b",
            "_dom_classes": [],
            "description": "",
            "_model_name": "HTMLModel",
            "placeholder": "​",
            "_view_module": "@jupyter-widgets/controls",
            "_model_module_version": "1.5.0",
            "value": " 132/200 [04:13&lt;02:10,  1.92s/it, a_train_loss=6.713511, b_valid_loss=7.404852, c_best_loss=7.365170, g_es_counter=19]",
            "_view_count": null,
            "_view_module_version": "1.5.0",
            "description_tooltip": null,
            "_model_module": "@jupyter-widgets/controls",
            "layout": "IPY_MODEL_27c4b4fbe26a4d82a89c425a2ba2b7de"
          }
        },
        "9a4fd01522a44747a2b730bbd3f50057": {
          "model_module": "@jupyter-widgets/controls",
          "model_name": "ProgressStyleModel",
          "state": {
            "_view_name": "StyleView",
            "_model_name": "ProgressStyleModel",
            "description_width": "initial",
            "_view_module": "@jupyter-widgets/base",
            "_model_module_version": "1.5.0",
            "_view_count": null,
            "_view_module_version": "1.2.0",
            "bar_color": null,
            "_model_module": "@jupyter-widgets/controls"
          }
        },
        "b39ce05eba844c02a1489b82b784068b": {
          "model_module": "@jupyter-widgets/base",
          "model_name": "LayoutModel",
          "state": {
            "_view_name": "LayoutView",
            "grid_template_rows": null,
            "right": null,
            "justify_content": null,
            "_view_module": "@jupyter-widgets/base",
            "overflow": null,
            "_model_module_version": "1.2.0",
            "_view_count": null,
            "flex_flow": null,
            "width": null,
            "min_width": null,
            "border": null,
            "align_items": null,
            "bottom": null,
            "_model_module": "@jupyter-widgets/base",
            "top": null,
            "grid_column": null,
            "overflow_y": null,
            "overflow_x": null,
            "grid_auto_flow": null,
            "grid_area": null,
            "grid_template_columns": null,
            "flex": null,
            "_model_name": "LayoutModel",
            "justify_items": null,
            "grid_row": null,
            "max_height": null,
            "align_content": null,
            "visibility": null,
            "align_self": null,
            "height": null,
            "min_height": null,
            "padding": null,
            "grid_auto_rows": null,
            "grid_gap": null,
            "max_width": null,
            "order": null,
            "_view_module_version": "1.2.0",
            "grid_template_areas": null,
            "object_position": null,
            "object_fit": null,
            "grid_auto_columns": null,
            "margin": null,
            "display": null,
            "left": null
          }
        },
        "6533d0bbac4043c5897c6f9576cbc07b": {
          "model_module": "@jupyter-widgets/controls",
          "model_name": "DescriptionStyleModel",
          "state": {
            "_view_name": "StyleView",
            "_model_name": "DescriptionStyleModel",
            "description_width": "",
            "_view_module": "@jupyter-widgets/base",
            "_model_module_version": "1.5.0",
            "_view_count": null,
            "_view_module_version": "1.2.0",
            "_model_module": "@jupyter-widgets/controls"
          }
        },
        "27c4b4fbe26a4d82a89c425a2ba2b7de": {
          "model_module": "@jupyter-widgets/base",
          "model_name": "LayoutModel",
          "state": {
            "_view_name": "LayoutView",
            "grid_template_rows": null,
            "right": null,
            "justify_content": null,
            "_view_module": "@jupyter-widgets/base",
            "overflow": null,
            "_model_module_version": "1.2.0",
            "_view_count": null,
            "flex_flow": null,
            "width": null,
            "min_width": null,
            "border": null,
            "align_items": null,
            "bottom": null,
            "_model_module": "@jupyter-widgets/base",
            "top": null,
            "grid_column": null,
            "overflow_y": null,
            "overflow_x": null,
            "grid_auto_flow": null,
            "grid_area": null,
            "grid_template_columns": null,
            "flex": null,
            "_model_name": "LayoutModel",
            "justify_items": null,
            "grid_row": null,
            "max_height": null,
            "align_content": null,
            "visibility": null,
            "align_self": null,
            "height": null,
            "min_height": null,
            "padding": null,
            "grid_auto_rows": null,
            "grid_gap": null,
            "max_width": null,
            "order": null,
            "_view_module_version": "1.2.0",
            "grid_template_areas": null,
            "object_position": null,
            "object_fit": null,
            "grid_auto_columns": null,
            "margin": null,
            "display": null,
            "left": null
          }
        },
        "f1deec6de35040c0b3bb2b8e8f154a1a": {
          "model_module": "@jupyter-widgets/controls",
          "model_name": "HBoxModel",
          "state": {
            "_view_name": "HBoxView",
            "_dom_classes": [],
            "_model_name": "HBoxModel",
            "_view_module": "@jupyter-widgets/controls",
            "_model_module_version": "1.5.0",
            "_view_count": null,
            "_view_module_version": "1.5.0",
            "box_style": "",
            "layout": "IPY_MODEL_9464ea8e66d346c489da5eb01b1b7bbb",
            "_model_module": "@jupyter-widgets/controls",
            "children": [
              "IPY_MODEL_171bb23b76de4a4c9012b196627b8a5f",
              "IPY_MODEL_2ae211f345ee4d14a1660714ca1dfb25"
            ]
          }
        },
        "9464ea8e66d346c489da5eb01b1b7bbb": {
          "model_module": "@jupyter-widgets/base",
          "model_name": "LayoutModel",
          "state": {
            "_view_name": "LayoutView",
            "grid_template_rows": null,
            "right": null,
            "justify_content": null,
            "_view_module": "@jupyter-widgets/base",
            "overflow": null,
            "_model_module_version": "1.2.0",
            "_view_count": null,
            "flex_flow": null,
            "width": null,
            "min_width": null,
            "border": null,
            "align_items": null,
            "bottom": null,
            "_model_module": "@jupyter-widgets/base",
            "top": null,
            "grid_column": null,
            "overflow_y": null,
            "overflow_x": null,
            "grid_auto_flow": null,
            "grid_area": null,
            "grid_template_columns": null,
            "flex": null,
            "_model_name": "LayoutModel",
            "justify_items": null,
            "grid_row": null,
            "max_height": null,
            "align_content": null,
            "visibility": null,
            "align_self": null,
            "height": null,
            "min_height": null,
            "padding": null,
            "grid_auto_rows": null,
            "grid_gap": null,
            "max_width": null,
            "order": null,
            "_view_module_version": "1.2.0",
            "grid_template_areas": null,
            "object_position": null,
            "object_fit": null,
            "grid_auto_columns": null,
            "margin": null,
            "display": null,
            "left": null
          }
        },
        "171bb23b76de4a4c9012b196627b8a5f": {
          "model_module": "@jupyter-widgets/controls",
          "model_name": "FloatProgressModel",
          "state": {
            "_view_name": "ProgressView",
            "style": "IPY_MODEL_8bff9c3f3a90411c801696e18e42d229",
            "_dom_classes": [],
            "description": " 49%",
            "_model_name": "FloatProgressModel",
            "bar_style": "danger",
            "max": 200,
            "_view_module": "@jupyter-widgets/controls",
            "_model_module_version": "1.5.0",
            "value": 98,
            "_view_count": null,
            "_view_module_version": "1.5.0",
            "orientation": "horizontal",
            "min": 0,
            "description_tooltip": null,
            "_model_module": "@jupyter-widgets/controls",
            "layout": "IPY_MODEL_f02181fe43b64d5598eef6bb1acfbe3e"
          }
        },
        "2ae211f345ee4d14a1660714ca1dfb25": {
          "model_module": "@jupyter-widgets/controls",
          "model_name": "HTMLModel",
          "state": {
            "_view_name": "HTMLView",
            "style": "IPY_MODEL_d70110ee2ef747088e3f56aa4ab61420",
            "_dom_classes": [],
            "description": "",
            "_model_name": "HTMLModel",
            "placeholder": "​",
            "_view_module": "@jupyter-widgets/controls",
            "_model_module_version": "1.5.0",
            "value": " 98/200 [03:36&lt;03:45,  2.21s/it, a_train_loss=6.500455, b_valid_loss=8.397097, c_best_loss=8.313402, g_es_counter=19]",
            "_view_count": null,
            "_view_module_version": "1.5.0",
            "description_tooltip": null,
            "_model_module": "@jupyter-widgets/controls",
            "layout": "IPY_MODEL_327240c670ec4e74bc79b93bb272bee2"
          }
        },
        "8bff9c3f3a90411c801696e18e42d229": {
          "model_module": "@jupyter-widgets/controls",
          "model_name": "ProgressStyleModel",
          "state": {
            "_view_name": "StyleView",
            "_model_name": "ProgressStyleModel",
            "description_width": "initial",
            "_view_module": "@jupyter-widgets/base",
            "_model_module_version": "1.5.0",
            "_view_count": null,
            "_view_module_version": "1.2.0",
            "bar_color": null,
            "_model_module": "@jupyter-widgets/controls"
          }
        },
        "f02181fe43b64d5598eef6bb1acfbe3e": {
          "model_module": "@jupyter-widgets/base",
          "model_name": "LayoutModel",
          "state": {
            "_view_name": "LayoutView",
            "grid_template_rows": null,
            "right": null,
            "justify_content": null,
            "_view_module": "@jupyter-widgets/base",
            "overflow": null,
            "_model_module_version": "1.2.0",
            "_view_count": null,
            "flex_flow": null,
            "width": null,
            "min_width": null,
            "border": null,
            "align_items": null,
            "bottom": null,
            "_model_module": "@jupyter-widgets/base",
            "top": null,
            "grid_column": null,
            "overflow_y": null,
            "overflow_x": null,
            "grid_auto_flow": null,
            "grid_area": null,
            "grid_template_columns": null,
            "flex": null,
            "_model_name": "LayoutModel",
            "justify_items": null,
            "grid_row": null,
            "max_height": null,
            "align_content": null,
            "visibility": null,
            "align_self": null,
            "height": null,
            "min_height": null,
            "padding": null,
            "grid_auto_rows": null,
            "grid_gap": null,
            "max_width": null,
            "order": null,
            "_view_module_version": "1.2.0",
            "grid_template_areas": null,
            "object_position": null,
            "object_fit": null,
            "grid_auto_columns": null,
            "margin": null,
            "display": null,
            "left": null
          }
        },
        "d70110ee2ef747088e3f56aa4ab61420": {
          "model_module": "@jupyter-widgets/controls",
          "model_name": "DescriptionStyleModel",
          "state": {
            "_view_name": "StyleView",
            "_model_name": "DescriptionStyleModel",
            "description_width": "",
            "_view_module": "@jupyter-widgets/base",
            "_model_module_version": "1.5.0",
            "_view_count": null,
            "_view_module_version": "1.2.0",
            "_model_module": "@jupyter-widgets/controls"
          }
        },
        "327240c670ec4e74bc79b93bb272bee2": {
          "model_module": "@jupyter-widgets/base",
          "model_name": "LayoutModel",
          "state": {
            "_view_name": "LayoutView",
            "grid_template_rows": null,
            "right": null,
            "justify_content": null,
            "_view_module": "@jupyter-widgets/base",
            "overflow": null,
            "_model_module_version": "1.2.0",
            "_view_count": null,
            "flex_flow": null,
            "width": null,
            "min_width": null,
            "border": null,
            "align_items": null,
            "bottom": null,
            "_model_module": "@jupyter-widgets/base",
            "top": null,
            "grid_column": null,
            "overflow_y": null,
            "overflow_x": null,
            "grid_auto_flow": null,
            "grid_area": null,
            "grid_template_columns": null,
            "flex": null,
            "_model_name": "LayoutModel",
            "justify_items": null,
            "grid_row": null,
            "max_height": null,
            "align_content": null,
            "visibility": null,
            "align_self": null,
            "height": null,
            "min_height": null,
            "padding": null,
            "grid_auto_rows": null,
            "grid_gap": null,
            "max_width": null,
            "order": null,
            "_view_module_version": "1.2.0",
            "grid_template_areas": null,
            "object_position": null,
            "object_fit": null,
            "grid_auto_columns": null,
            "margin": null,
            "display": null,
            "left": null
          }
        },
        "add5941e984e4bcfafafe0d5b198d134": {
          "model_module": "@jupyter-widgets/controls",
          "model_name": "HBoxModel",
          "state": {
            "_view_name": "HBoxView",
            "_dom_classes": [],
            "_model_name": "HBoxModel",
            "_view_module": "@jupyter-widgets/controls",
            "_model_module_version": "1.5.0",
            "_view_count": null,
            "_view_module_version": "1.5.0",
            "box_style": "",
            "layout": "IPY_MODEL_3962995f688542d3a8a7f5d46a797607",
            "_model_module": "@jupyter-widgets/controls",
            "children": [
              "IPY_MODEL_8a4a1b3c8edb47a2a724da83a866ee1f",
              "IPY_MODEL_e15509b747834f38ac95aee7ea57ab36"
            ]
          }
        },
        "3962995f688542d3a8a7f5d46a797607": {
          "model_module": "@jupyter-widgets/base",
          "model_name": "LayoutModel",
          "state": {
            "_view_name": "LayoutView",
            "grid_template_rows": null,
            "right": null,
            "justify_content": null,
            "_view_module": "@jupyter-widgets/base",
            "overflow": null,
            "_model_module_version": "1.2.0",
            "_view_count": null,
            "flex_flow": null,
            "width": null,
            "min_width": null,
            "border": null,
            "align_items": null,
            "bottom": null,
            "_model_module": "@jupyter-widgets/base",
            "top": null,
            "grid_column": null,
            "overflow_y": null,
            "overflow_x": null,
            "grid_auto_flow": null,
            "grid_area": null,
            "grid_template_columns": null,
            "flex": null,
            "_model_name": "LayoutModel",
            "justify_items": null,
            "grid_row": null,
            "max_height": null,
            "align_content": null,
            "visibility": null,
            "align_self": null,
            "height": null,
            "min_height": null,
            "padding": null,
            "grid_auto_rows": null,
            "grid_gap": null,
            "max_width": null,
            "order": null,
            "_view_module_version": "1.2.0",
            "grid_template_areas": null,
            "object_position": null,
            "object_fit": null,
            "grid_auto_columns": null,
            "margin": null,
            "display": null,
            "left": null
          }
        },
        "8a4a1b3c8edb47a2a724da83a866ee1f": {
          "model_module": "@jupyter-widgets/controls",
          "model_name": "FloatProgressModel",
          "state": {
            "_view_name": "ProgressView",
            "style": "IPY_MODEL_3655cb4c9dfb43b4968e35f850b686d3",
            "_dom_classes": [],
            "description": " 48%",
            "_model_name": "FloatProgressModel",
            "bar_style": "danger",
            "max": 200,
            "_view_module": "@jupyter-widgets/controls",
            "_model_module_version": "1.5.0",
            "value": 97,
            "_view_count": null,
            "_view_module_version": "1.5.0",
            "orientation": "horizontal",
            "min": 0,
            "description_tooltip": null,
            "_model_module": "@jupyter-widgets/controls",
            "layout": "IPY_MODEL_32271167ccbe4530811772d6f9c95680"
          }
        },
        "e15509b747834f38ac95aee7ea57ab36": {
          "model_module": "@jupyter-widgets/controls",
          "model_name": "HTMLModel",
          "state": {
            "_view_name": "HTMLView",
            "style": "IPY_MODEL_7b0685045e9d4d20965ceafc1bff3d06",
            "_dom_classes": [],
            "description": "",
            "_model_name": "HTMLModel",
            "placeholder": "​",
            "_view_module": "@jupyter-widgets/controls",
            "_model_module_version": "1.5.0",
            "value": " 97/200 [03:45&lt;03:59,  2.32s/it, a_train_loss=6.719670, b_valid_loss=6.597807, c_best_loss=6.545892, g_es_counter=19]",
            "_view_count": null,
            "_view_module_version": "1.5.0",
            "description_tooltip": null,
            "_model_module": "@jupyter-widgets/controls",
            "layout": "IPY_MODEL_d322df4279584050961857be5aa25f60"
          }
        },
        "3655cb4c9dfb43b4968e35f850b686d3": {
          "model_module": "@jupyter-widgets/controls",
          "model_name": "ProgressStyleModel",
          "state": {
            "_view_name": "StyleView",
            "_model_name": "ProgressStyleModel",
            "description_width": "initial",
            "_view_module": "@jupyter-widgets/base",
            "_model_module_version": "1.5.0",
            "_view_count": null,
            "_view_module_version": "1.2.0",
            "bar_color": null,
            "_model_module": "@jupyter-widgets/controls"
          }
        },
        "32271167ccbe4530811772d6f9c95680": {
          "model_module": "@jupyter-widgets/base",
          "model_name": "LayoutModel",
          "state": {
            "_view_name": "LayoutView",
            "grid_template_rows": null,
            "right": null,
            "justify_content": null,
            "_view_module": "@jupyter-widgets/base",
            "overflow": null,
            "_model_module_version": "1.2.0",
            "_view_count": null,
            "flex_flow": null,
            "width": null,
            "min_width": null,
            "border": null,
            "align_items": null,
            "bottom": null,
            "_model_module": "@jupyter-widgets/base",
            "top": null,
            "grid_column": null,
            "overflow_y": null,
            "overflow_x": null,
            "grid_auto_flow": null,
            "grid_area": null,
            "grid_template_columns": null,
            "flex": null,
            "_model_name": "LayoutModel",
            "justify_items": null,
            "grid_row": null,
            "max_height": null,
            "align_content": null,
            "visibility": null,
            "align_self": null,
            "height": null,
            "min_height": null,
            "padding": null,
            "grid_auto_rows": null,
            "grid_gap": null,
            "max_width": null,
            "order": null,
            "_view_module_version": "1.2.0",
            "grid_template_areas": null,
            "object_position": null,
            "object_fit": null,
            "grid_auto_columns": null,
            "margin": null,
            "display": null,
            "left": null
          }
        },
        "7b0685045e9d4d20965ceafc1bff3d06": {
          "model_module": "@jupyter-widgets/controls",
          "model_name": "DescriptionStyleModel",
          "state": {
            "_view_name": "StyleView",
            "_model_name": "DescriptionStyleModel",
            "description_width": "",
            "_view_module": "@jupyter-widgets/base",
            "_model_module_version": "1.5.0",
            "_view_count": null,
            "_view_module_version": "1.2.0",
            "_model_module": "@jupyter-widgets/controls"
          }
        },
        "d322df4279584050961857be5aa25f60": {
          "model_module": "@jupyter-widgets/base",
          "model_name": "LayoutModel",
          "state": {
            "_view_name": "LayoutView",
            "grid_template_rows": null,
            "right": null,
            "justify_content": null,
            "_view_module": "@jupyter-widgets/base",
            "overflow": null,
            "_model_module_version": "1.2.0",
            "_view_count": null,
            "flex_flow": null,
            "width": null,
            "min_width": null,
            "border": null,
            "align_items": null,
            "bottom": null,
            "_model_module": "@jupyter-widgets/base",
            "top": null,
            "grid_column": null,
            "overflow_y": null,
            "overflow_x": null,
            "grid_auto_flow": null,
            "grid_area": null,
            "grid_template_columns": null,
            "flex": null,
            "_model_name": "LayoutModel",
            "justify_items": null,
            "grid_row": null,
            "max_height": null,
            "align_content": null,
            "visibility": null,
            "align_self": null,
            "height": null,
            "min_height": null,
            "padding": null,
            "grid_auto_rows": null,
            "grid_gap": null,
            "max_width": null,
            "order": null,
            "_view_module_version": "1.2.0",
            "grid_template_areas": null,
            "object_position": null,
            "object_fit": null,
            "grid_auto_columns": null,
            "margin": null,
            "display": null,
            "left": null
          }
        },
        "d9e49c5185fe4a52a858395f036ccd64": {
          "model_module": "@jupyter-widgets/controls",
          "model_name": "HBoxModel",
          "state": {
            "_view_name": "HBoxView",
            "_dom_classes": [],
            "_model_name": "HBoxModel",
            "_view_module": "@jupyter-widgets/controls",
            "_model_module_version": "1.5.0",
            "_view_count": null,
            "_view_module_version": "1.5.0",
            "box_style": "",
            "layout": "IPY_MODEL_17eacfc4ce814613bf6ddbc011f919cb",
            "_model_module": "@jupyter-widgets/controls",
            "children": [
              "IPY_MODEL_570a0fbba31b4a729b2165532c6d291c",
              "IPY_MODEL_ab262649cfa2452b9018849609fb0aed"
            ]
          }
        },
        "17eacfc4ce814613bf6ddbc011f919cb": {
          "model_module": "@jupyter-widgets/base",
          "model_name": "LayoutModel",
          "state": {
            "_view_name": "LayoutView",
            "grid_template_rows": null,
            "right": null,
            "justify_content": null,
            "_view_module": "@jupyter-widgets/base",
            "overflow": null,
            "_model_module_version": "1.2.0",
            "_view_count": null,
            "flex_flow": null,
            "width": null,
            "min_width": null,
            "border": null,
            "align_items": null,
            "bottom": null,
            "_model_module": "@jupyter-widgets/base",
            "top": null,
            "grid_column": null,
            "overflow_y": null,
            "overflow_x": null,
            "grid_auto_flow": null,
            "grid_area": null,
            "grid_template_columns": null,
            "flex": null,
            "_model_name": "LayoutModel",
            "justify_items": null,
            "grid_row": null,
            "max_height": null,
            "align_content": null,
            "visibility": null,
            "align_self": null,
            "height": null,
            "min_height": null,
            "padding": null,
            "grid_auto_rows": null,
            "grid_gap": null,
            "max_width": null,
            "order": null,
            "_view_module_version": "1.2.0",
            "grid_template_areas": null,
            "object_position": null,
            "object_fit": null,
            "grid_auto_columns": null,
            "margin": null,
            "display": null,
            "left": null
          }
        },
        "570a0fbba31b4a729b2165532c6d291c": {
          "model_module": "@jupyter-widgets/controls",
          "model_name": "FloatProgressModel",
          "state": {
            "_view_name": "ProgressView",
            "style": "IPY_MODEL_acf26a9e8ac14188ac1b3117ea3d18b6",
            "_dom_classes": [],
            "description": " 51%",
            "_model_name": "FloatProgressModel",
            "bar_style": "danger",
            "max": 200,
            "_view_module": "@jupyter-widgets/controls",
            "_model_module_version": "1.5.0",
            "value": 102,
            "_view_count": null,
            "_view_module_version": "1.5.0",
            "orientation": "horizontal",
            "min": 0,
            "description_tooltip": null,
            "_model_module": "@jupyter-widgets/controls",
            "layout": "IPY_MODEL_694b5311770d4a3aaa357821f0f54b73"
          }
        },
        "ab262649cfa2452b9018849609fb0aed": {
          "model_module": "@jupyter-widgets/controls",
          "model_name": "HTMLModel",
          "state": {
            "_view_name": "HTMLView",
            "style": "IPY_MODEL_406e0898518e46bcaf32ee1b6423c22f",
            "_dom_classes": [],
            "description": "",
            "_model_name": "HTMLModel",
            "placeholder": "​",
            "_view_module": "@jupyter-widgets/controls",
            "_model_module_version": "1.5.0",
            "value": " 102/200 [04:14&lt;04:04,  2.50s/it, a_train_loss=7.712556, b_valid_loss=6.211414, c_best_loss=6.155290, g_es_counter=19]",
            "_view_count": null,
            "_view_module_version": "1.5.0",
            "description_tooltip": null,
            "_model_module": "@jupyter-widgets/controls",
            "layout": "IPY_MODEL_5ea4bfd537fa4014a84eeb2ef781f7ab"
          }
        },
        "acf26a9e8ac14188ac1b3117ea3d18b6": {
          "model_module": "@jupyter-widgets/controls",
          "model_name": "ProgressStyleModel",
          "state": {
            "_view_name": "StyleView",
            "_model_name": "ProgressStyleModel",
            "description_width": "initial",
            "_view_module": "@jupyter-widgets/base",
            "_model_module_version": "1.5.0",
            "_view_count": null,
            "_view_module_version": "1.2.0",
            "bar_color": null,
            "_model_module": "@jupyter-widgets/controls"
          }
        },
        "694b5311770d4a3aaa357821f0f54b73": {
          "model_module": "@jupyter-widgets/base",
          "model_name": "LayoutModel",
          "state": {
            "_view_name": "LayoutView",
            "grid_template_rows": null,
            "right": null,
            "justify_content": null,
            "_view_module": "@jupyter-widgets/base",
            "overflow": null,
            "_model_module_version": "1.2.0",
            "_view_count": null,
            "flex_flow": null,
            "width": null,
            "min_width": null,
            "border": null,
            "align_items": null,
            "bottom": null,
            "_model_module": "@jupyter-widgets/base",
            "top": null,
            "grid_column": null,
            "overflow_y": null,
            "overflow_x": null,
            "grid_auto_flow": null,
            "grid_area": null,
            "grid_template_columns": null,
            "flex": null,
            "_model_name": "LayoutModel",
            "justify_items": null,
            "grid_row": null,
            "max_height": null,
            "align_content": null,
            "visibility": null,
            "align_self": null,
            "height": null,
            "min_height": null,
            "padding": null,
            "grid_auto_rows": null,
            "grid_gap": null,
            "max_width": null,
            "order": null,
            "_view_module_version": "1.2.0",
            "grid_template_areas": null,
            "object_position": null,
            "object_fit": null,
            "grid_auto_columns": null,
            "margin": null,
            "display": null,
            "left": null
          }
        },
        "406e0898518e46bcaf32ee1b6423c22f": {
          "model_module": "@jupyter-widgets/controls",
          "model_name": "DescriptionStyleModel",
          "state": {
            "_view_name": "StyleView",
            "_model_name": "DescriptionStyleModel",
            "description_width": "",
            "_view_module": "@jupyter-widgets/base",
            "_model_module_version": "1.5.0",
            "_view_count": null,
            "_view_module_version": "1.2.0",
            "_model_module": "@jupyter-widgets/controls"
          }
        },
        "5ea4bfd537fa4014a84eeb2ef781f7ab": {
          "model_module": "@jupyter-widgets/base",
          "model_name": "LayoutModel",
          "state": {
            "_view_name": "LayoutView",
            "grid_template_rows": null,
            "right": null,
            "justify_content": null,
            "_view_module": "@jupyter-widgets/base",
            "overflow": null,
            "_model_module_version": "1.2.0",
            "_view_count": null,
            "flex_flow": null,
            "width": null,
            "min_width": null,
            "border": null,
            "align_items": null,
            "bottom": null,
            "_model_module": "@jupyter-widgets/base",
            "top": null,
            "grid_column": null,
            "overflow_y": null,
            "overflow_x": null,
            "grid_auto_flow": null,
            "grid_area": null,
            "grid_template_columns": null,
            "flex": null,
            "_model_name": "LayoutModel",
            "justify_items": null,
            "grid_row": null,
            "max_height": null,
            "align_content": null,
            "visibility": null,
            "align_self": null,
            "height": null,
            "min_height": null,
            "padding": null,
            "grid_auto_rows": null,
            "grid_gap": null,
            "max_width": null,
            "order": null,
            "_view_module_version": "1.2.0",
            "grid_template_areas": null,
            "object_position": null,
            "object_fit": null,
            "grid_auto_columns": null,
            "margin": null,
            "display": null,
            "left": null
          }
        },
        "9ffa6bc4ef4949fcb390e5ed98db7f3a": {
          "model_module": "@jupyter-widgets/controls",
          "model_name": "HBoxModel",
          "state": {
            "_view_name": "HBoxView",
            "_dom_classes": [],
            "_model_name": "HBoxModel",
            "_view_module": "@jupyter-widgets/controls",
            "_model_module_version": "1.5.0",
            "_view_count": null,
            "_view_module_version": "1.5.0",
            "box_style": "",
            "layout": "IPY_MODEL_8f2b030712144a8f82b58b58100b8142",
            "_model_module": "@jupyter-widgets/controls",
            "children": [
              "IPY_MODEL_937babc988ba4e1f8b2782f0960ac10e",
              "IPY_MODEL_677d48547981484bae33dcdd6f70209f"
            ]
          }
        },
        "8f2b030712144a8f82b58b58100b8142": {
          "model_module": "@jupyter-widgets/base",
          "model_name": "LayoutModel",
          "state": {
            "_view_name": "LayoutView",
            "grid_template_rows": null,
            "right": null,
            "justify_content": null,
            "_view_module": "@jupyter-widgets/base",
            "overflow": null,
            "_model_module_version": "1.2.0",
            "_view_count": null,
            "flex_flow": null,
            "width": null,
            "min_width": null,
            "border": null,
            "align_items": null,
            "bottom": null,
            "_model_module": "@jupyter-widgets/base",
            "top": null,
            "grid_column": null,
            "overflow_y": null,
            "overflow_x": null,
            "grid_auto_flow": null,
            "grid_area": null,
            "grid_template_columns": null,
            "flex": null,
            "_model_name": "LayoutModel",
            "justify_items": null,
            "grid_row": null,
            "max_height": null,
            "align_content": null,
            "visibility": null,
            "align_self": null,
            "height": null,
            "min_height": null,
            "padding": null,
            "grid_auto_rows": null,
            "grid_gap": null,
            "max_width": null,
            "order": null,
            "_view_module_version": "1.2.0",
            "grid_template_areas": null,
            "object_position": null,
            "object_fit": null,
            "grid_auto_columns": null,
            "margin": null,
            "display": null,
            "left": null
          }
        },
        "937babc988ba4e1f8b2782f0960ac10e": {
          "model_module": "@jupyter-widgets/controls",
          "model_name": "FloatProgressModel",
          "state": {
            "_view_name": "ProgressView",
            "style": "IPY_MODEL_680fa8457be345ec9eadb7396095a315",
            "_dom_classes": [],
            "description": " 58%",
            "_model_name": "FloatProgressModel",
            "bar_style": "danger",
            "max": 200,
            "_view_module": "@jupyter-widgets/controls",
            "_model_module_version": "1.5.0",
            "value": 117,
            "_view_count": null,
            "_view_module_version": "1.5.0",
            "orientation": "horizontal",
            "min": 0,
            "description_tooltip": null,
            "_model_module": "@jupyter-widgets/controls",
            "layout": "IPY_MODEL_6972c018f6ee43fda35dbae4f0218acf"
          }
        },
        "677d48547981484bae33dcdd6f70209f": {
          "model_module": "@jupyter-widgets/controls",
          "model_name": "HTMLModel",
          "state": {
            "_view_name": "HTMLView",
            "style": "IPY_MODEL_61cedcf558384ab0897bb703971ab926",
            "_dom_classes": [],
            "description": "",
            "_model_name": "HTMLModel",
            "placeholder": "​",
            "_view_module": "@jupyter-widgets/controls",
            "_model_module_version": "1.5.0",
            "value": " 117/200 [02:17&lt;01:37,  1.17s/it, a_train_loss=6.632138, b_valid_loss=7.362628, c_best_loss=7.330877, g_es_counter=19]",
            "_view_count": null,
            "_view_module_version": "1.5.0",
            "description_tooltip": null,
            "_model_module": "@jupyter-widgets/controls",
            "layout": "IPY_MODEL_4512d4276eac4f49b4893c4d53a5e4cc"
          }
        },
        "680fa8457be345ec9eadb7396095a315": {
          "model_module": "@jupyter-widgets/controls",
          "model_name": "ProgressStyleModel",
          "state": {
            "_view_name": "StyleView",
            "_model_name": "ProgressStyleModel",
            "description_width": "initial",
            "_view_module": "@jupyter-widgets/base",
            "_model_module_version": "1.5.0",
            "_view_count": null,
            "_view_module_version": "1.2.0",
            "bar_color": null,
            "_model_module": "@jupyter-widgets/controls"
          }
        },
        "6972c018f6ee43fda35dbae4f0218acf": {
          "model_module": "@jupyter-widgets/base",
          "model_name": "LayoutModel",
          "state": {
            "_view_name": "LayoutView",
            "grid_template_rows": null,
            "right": null,
            "justify_content": null,
            "_view_module": "@jupyter-widgets/base",
            "overflow": null,
            "_model_module_version": "1.2.0",
            "_view_count": null,
            "flex_flow": null,
            "width": null,
            "min_width": null,
            "border": null,
            "align_items": null,
            "bottom": null,
            "_model_module": "@jupyter-widgets/base",
            "top": null,
            "grid_column": null,
            "overflow_y": null,
            "overflow_x": null,
            "grid_auto_flow": null,
            "grid_area": null,
            "grid_template_columns": null,
            "flex": null,
            "_model_name": "LayoutModel",
            "justify_items": null,
            "grid_row": null,
            "max_height": null,
            "align_content": null,
            "visibility": null,
            "align_self": null,
            "height": null,
            "min_height": null,
            "padding": null,
            "grid_auto_rows": null,
            "grid_gap": null,
            "max_width": null,
            "order": null,
            "_view_module_version": "1.2.0",
            "grid_template_areas": null,
            "object_position": null,
            "object_fit": null,
            "grid_auto_columns": null,
            "margin": null,
            "display": null,
            "left": null
          }
        },
        "61cedcf558384ab0897bb703971ab926": {
          "model_module": "@jupyter-widgets/controls",
          "model_name": "DescriptionStyleModel",
          "state": {
            "_view_name": "StyleView",
            "_model_name": "DescriptionStyleModel",
            "description_width": "",
            "_view_module": "@jupyter-widgets/base",
            "_model_module_version": "1.5.0",
            "_view_count": null,
            "_view_module_version": "1.2.0",
            "_model_module": "@jupyter-widgets/controls"
          }
        },
        "4512d4276eac4f49b4893c4d53a5e4cc": {
          "model_module": "@jupyter-widgets/base",
          "model_name": "LayoutModel",
          "state": {
            "_view_name": "LayoutView",
            "grid_template_rows": null,
            "right": null,
            "justify_content": null,
            "_view_module": "@jupyter-widgets/base",
            "overflow": null,
            "_model_module_version": "1.2.0",
            "_view_count": null,
            "flex_flow": null,
            "width": null,
            "min_width": null,
            "border": null,
            "align_items": null,
            "bottom": null,
            "_model_module": "@jupyter-widgets/base",
            "top": null,
            "grid_column": null,
            "overflow_y": null,
            "overflow_x": null,
            "grid_auto_flow": null,
            "grid_area": null,
            "grid_template_columns": null,
            "flex": null,
            "_model_name": "LayoutModel",
            "justify_items": null,
            "grid_row": null,
            "max_height": null,
            "align_content": null,
            "visibility": null,
            "align_self": null,
            "height": null,
            "min_height": null,
            "padding": null,
            "grid_auto_rows": null,
            "grid_gap": null,
            "max_width": null,
            "order": null,
            "_view_module_version": "1.2.0",
            "grid_template_areas": null,
            "object_position": null,
            "object_fit": null,
            "grid_auto_columns": null,
            "margin": null,
            "display": null,
            "left": null
          }
        }
      }
    }
  },
  "cells": [
    {
      "cell_type": "markdown",
      "metadata": {
        "id": "view-in-github",
        "colab_type": "text"
      },
      "source": [
        "<a href=\"https://colab.research.google.com/github/mavillan/indoor-location-navigation/blob/main/train/iln_dnn_ds1_50f_10lt.ipynb\" target=\"_parent\"><img src=\"https://colab.research.google.com/assets/colab-badge.svg\" alt=\"Open In Colab\"/></a>"
      ]
    },
    {
      "cell_type": "code",
      "metadata": {
        "colab": {
          "base_uri": "https://localhost:8080/"
        },
        "id": "tbqrLX_DT_sH",
        "outputId": "de96fbeb-1fc0-4791-d3f0-5bb65e975f44"
      },
      "source": [
        "from google.colab import drive\n",
        "from google.colab import files\n",
        "drive.mount('/content/drive', force_remount=True)"
      ],
      "execution_count": null,
      "outputs": [
        {
          "output_type": "stream",
          "text": [
            "Mounted at /content/drive\n"
          ],
          "name": "stdout"
        }
      ]
    },
    {
      "cell_type": "code",
      "metadata": {
        "id": "WS4ir0d1UD-n"
      },
      "source": [
        "!pip install --upgrade kaggle > /dev/null 2>&1\n",
        "!pip install pytorch_axe > /dev/null 2>&1\n",
        "!pip install adabelief-pytorch > /dev/null 2>&1"
      ],
      "execution_count": null,
      "outputs": []
    },
    {
      "cell_type": "code",
      "metadata": {
        "id": "BBjPSnR0UQdH"
      },
      "source": [
        "# move kaggle.json into the folder where the API expects to find it\n",
        "!mkdir -p ~/.kaggle/ && cp /content/drive/MyDrive/kaggle/kaggle.json ~/.kaggle/ && chmod 600 ~/.kaggle/kaggle.json"
      ],
      "execution_count": null,
      "outputs": []
    },
    {
      "cell_type": "markdown",
      "metadata": {
        "id": "Xey__d1wUlbn"
      },
      "source": [
        "***"
      ]
    },
    {
      "cell_type": "code",
      "metadata": {
        "id": "b5cdFiAjUxq_",
        "colab": {
          "base_uri": "https://localhost:8080/"
        },
        "outputId": "136b4bd2-29c1-4340-c01f-ae793f597000"
      },
      "source": [
        "import gc\n",
        "import os\n",
        "import numpy as np\n",
        "import pandas as pd\n",
        "from glob import glob\n",
        "from sklearn import preprocessing\n",
        "import yaml\n",
        "\n",
        "import torch\n",
        "from torch import nn\n",
        "from torch.utils.data import DataLoader,TensorDataset\n",
        "from torch.optim.lr_scheduler import ReduceLROnPlateau\n",
        "from adabelief_pytorch import AdaBelief\n",
        "import pytorch_axe as pax\n",
        "import time\n",
        "\n",
        "# device in which the model will be trained\n",
        "device = torch.device(\"cuda\" if torch.cuda.is_available() else \"cpu\")\n",
        "device"
      ],
      "execution_count": null,
      "outputs": [
        {
          "output_type": "execute_result",
          "data": {
            "text/plain": [
              "device(type='cuda')"
            ]
          },
          "metadata": {
            "tags": []
          },
          "execution_count": 4
        }
      ]
    },
    {
      "cell_type": "code",
      "metadata": {
        "id": "5MckekrJUj6R"
      },
      "source": [
        "def set_seed(seed):\n",
        "    np.random.seed(seed)\n",
        "    torch.manual_seed(seed)\n",
        "    torch.cuda.manual_seed(seed)\n",
        "    torch.cuda.manual_seed_all(seed)\n",
        "    torch.backends.cudnn.deterministic = True\n",
        "\n",
        "def mean_position_error(x_label, y_label, x_pred, y_pred):\n",
        "    return np.mean(np.sqrt((x_label-x_pred)**2 + (y_label-y_pred)**2))\n",
        "\n",
        "@torch.jit.script\n",
        "def mpe_loss(preds, targets):\n",
        "    pw_loss = torch.sqrt((preds[:,0]-targets[:,0])**2 + (preds[:,1]-targets[:,1])**2)\n",
        "    return torch.mean(pw_loss)"
      ],
      "execution_count": null,
      "outputs": []
    },
    {
      "cell_type": "code",
      "metadata": {
        "id": "IDwBVD4-qv4U"
      },
      "source": [
        "def train_encoder(train_frame, test_frame, bssid_cols):\n",
        "    bssid_unique_train = set(np.unique(train_frame[bssid_cols].values))\n",
        "    bssid_unique_test = set(np.unique(test_frame[bssid_cols].values))\n",
        "    bssid_unique = np.array(list(bssid_unique_train | bssid_unique_test))\n",
        "    encoder = preprocessing.LabelEncoder()\n",
        "    encoder.fit(bssid_unique)\n",
        "    return encoder\n",
        "\n",
        "def encode_bssids(dataframe, bssid_cols, encoder):\n",
        "    for col in bssid_cols:\n",
        "        dataframe[col] = encoder.transform(dataframe[col].values)\n",
        "    return dataframe"
      ],
      "execution_count": null,
      "outputs": []
    },
    {
      "cell_type": "code",
      "metadata": {
        "id": "nhhaEXG_q1NU"
      },
      "source": [
        "# stratified group kfold split - stratified by flood and grouped by path\n",
        "\n",
        "def cv_split(dataframe, n_splits, random_state=2):\n",
        "    np.random.seed(random_state)\n",
        "\n",
        "    fold_indexes = [list() for i in range(n_splits)]\n",
        "\n",
        "    for floor in np.sort(dataframe.floor.unique()):\n",
        "        _dataframe = dataframe[dataframe[\"floor\"]==floor]\n",
        "\n",
        "        # split of paths\n",
        "        unique_paths = _dataframe.path.unique()\n",
        "        np.random.shuffle(unique_paths)\n",
        "        paths_per_fold = np.array_split(unique_paths, n_splits)\n",
        "\n",
        "        for i,paths in enumerate(paths_per_fold):\n",
        "            fold_indexes[i].append(_dataframe.query(\"path in @paths\").index.values)\n",
        "\n",
        "    fold_indexes = [np.concatenate(indexes) for indexes in fold_indexes]\n",
        "    \n",
        "    for i in range(n_splits):\n",
        "        train_idx = np.concatenate([idx for j,idx in enumerate(fold_indexes) if j!=i])\n",
        "        valid_idx = fold_indexes[i]\n",
        "        yield train_idx,valid_idx"
      ],
      "execution_count": null,
      "outputs": []
    },
    {
      "cell_type": "code",
      "metadata": {
        "id": "KIqHW8f6WXom"
      },
      "source": [
        "project_path = \"/content/drive/MyDrive/kaggle/indoor-location-navigation\""
      ],
      "execution_count": null,
      "outputs": []
    },
    {
      "cell_type": "markdown",
      "metadata": {
        "id": "jTDbD7KwUyX7"
      },
      "source": [
        "***"
      ]
    },
    {
      "cell_type": "code",
      "metadata": {
        "id": "qgRyFb5zq6qb"
      },
      "source": [
        "# params to configure the dataset\n",
        "MAX_WIFI_FEATS = 50\n",
        "MAX_LASTSEEN = 10\n",
        "MAX_TIME_DIFF = 10000\n",
        "\n",
        "# params for reproducibility\n",
        "N_SPLITS = 5\n",
        "SEED = 23\n",
        "CV_SEED = 2\n",
        "set_seed(SEED)\n",
        "\n",
        "# params of model\n",
        "BATCH_SIZE = 2048\n",
        "EMBEDDING_DIM = 12"
      ],
      "execution_count": null,
      "outputs": []
    },
    {
      "cell_type": "code",
      "metadata": {
        "colab": {
          "base_uri": "https://localhost:8080/"
        },
        "id": "sN1mSRC3_6Wm",
        "outputId": "6dcfffd2-3ce5-4ef3-aadb-34baef6780f0"
      },
      "source": [
        "!kaggle datasets download -d $(echo \"mavillan/iln-ds1-{MAX_WIFI_FEATS}f-{MAX_LASTSEEN}lt\") --force --unzip"
      ],
      "execution_count": null,
      "outputs": [
        {
          "output_type": "stream",
          "text": [
            "Downloading iln-ds1-50f-10lt.zip to /content\n",
            " 98% 353M/360M [00:12<00:00, 21.6MB/s]\n",
            "100% 360M/360M [00:12<00:00, 30.8MB/s]\n"
          ],
          "name": "stdout"
        }
      ]
    },
    {
      "cell_type": "markdown",
      "metadata": {
        "id": "N-iKwU26q-4i"
      },
      "source": [
        "***"
      ]
    },
    {
      "cell_type": "code",
      "metadata": {
        "id": "tKENzkm9WucQ"
      },
      "source": [
        "train_files = sorted(glob(f\"./train/*.parquet\"))\n",
        "test_files = sorted(glob(f\"./test/*.parquet\"))\n",
        "sites = [f.split(\"/\")[-1].split(\".\")[0] for f in train_files]"
      ],
      "execution_count": null,
      "outputs": []
    },
    {
      "cell_type": "code",
      "metadata": {
        "id": "OoV8quUErG7a"
      },
      "source": [
        "floor_predictions = pd.read_csv(f\"{project_path}/input/simple-99-accurate-floor-model/submission.csv\")\n",
        "floor_predictions.drop([\"x\",\"y\"], axis=1, inplace=True)"
      ],
      "execution_count": null,
      "outputs": []
    },
    {
      "cell_type": "code",
      "metadata": {
        "id": "RQxqB-MErKLv"
      },
      "source": [
        "# dictionary used to map the floor codes to the values used in the submission file. \n",
        "floor_map = {\n",
        "    \"B2\":-2, \"B1\":-1, \n",
        "    \"F1\":0, \"F2\":1, \"F3\":2, \"F4\":3, \"F5\":4, \"F6\":5, \"F7\":6, \"F8\":7, \"F9\":8,\n",
        "    \"1F\":0, \"2F\":1, \"3F\":2, \"4F\":3, \"5F\":4, \"6F\":5, \"7F\":6, \"8F\":7, \"9F\":8\n",
        "}"
      ],
      "execution_count": null,
      "outputs": []
    },
    {
      "cell_type": "code",
      "metadata": {
        "id": "k7S3b4xSUkYh"
      },
      "source": [
        "# features & target definition\n",
        "bssid_cols = [f\"bssid_{i}\" for i in range(MAX_WIFI_FEATS)]\n",
        "rssi_cols = [f\"rssi_{i}\" for i in range(MAX_WIFI_FEATS)]\n",
        "delta_cols = [f\"deltaseen_{i}\" for i in range(MAX_WIFI_FEATS)]\n",
        "wifi_cols = bssid_cols + rssi_cols + delta_cols\n",
        "            \n",
        "nowifi_cols = [\n",
        "    \"floor\", \n",
        "    \"imu_time_delta\", \"wifi_time_delta\",\n",
        "    \"acce_x\", \"acce_y\", \"acce_z\", \n",
        "    #\"acce_uncali_x\", \"acce_uncali_y\", \"acce_uncali_z\",\n",
        "    \"gyro_x\", \"gyro_y\", \"gyro_z\", \n",
        "    #\"gyro_uncali_x\", \"gyro_uncali_y\", \"gyro_uncali_z\",\n",
        "    \"magn_x\", \"magn_y\", \"magn_z\",\n",
        "    #\"magn_uncali_x\", \"magn_uncali_y\", \"magn_uncali_z\",\n",
        "    \"ahrs_x\", \"ahrs_y\", \"ahrs_z\",   \n",
        "]\n",
        "\n",
        "target_cols = [\"x\",\"y\"]"
      ],
      "execution_count": null,
      "outputs": []
    },
    {
      "cell_type": "markdown",
      "metadata": {
        "id": "qS8z56QdX_3n"
      },
      "source": [
        "***\n",
        "## model definition"
      ]
    },
    {
      "cell_type": "code",
      "metadata": {
        "id": "cs7dKfkFrTUO"
      },
      "source": [
        "class DNN(nn.Module):\n",
        "\n",
        "    def __init__(self, input_dims, output_dim, nn_depth, nn_width, dropout, momentum,\n",
        "                 n_embeddings, embedding_dim):\n",
        "        super().__init__()\n",
        "\n",
        "        self.input_dims = input_dims\n",
        "        self.n_wifi_feats = input_dims[0]\n",
        "        self.embedder = nn.Embedding(n_embeddings, embedding_dim, max_norm=True)\n",
        "        \n",
        "        self.bnorms_parallel = nn.ModuleList(\n",
        "            [nn.BatchNorm1d(embedding_dim+2, momentum=momentum) \n",
        "            for i in range(self.n_wifi_feats)]\n",
        "            )\n",
        "        self.dropouts_parallel = nn.ModuleList(\n",
        "            [nn.Dropout(dropout/2) \n",
        "            for i in range(self.n_wifi_feats)]\n",
        "            )\n",
        "        self.linears_parallel = nn.ModuleList(\n",
        "            [nn.utils.weight_norm(nn.Linear(embedding_dim+2, embedding_dim, bias=False))\n",
        "            for i in range(self.n_wifi_feats)]\n",
        "            )\n",
        "        \n",
        "        input_dim = self.n_wifi_feats*embedding_dim + input_dims[3]\n",
        "        self.bn_in = nn.BatchNorm1d(input_dim, momentum=momentum)\n",
        "        self.dp_in = nn.Dropout(dropout/2)\n",
        "        self.ln_in = nn.utils.weight_norm(nn.Linear(input_dim, nn_width, bias=False))\n",
        "\n",
        "        self.bnorms = nn.ModuleList([\n",
        "            nn.BatchNorm1d(nn_width, momentum=momentum) \n",
        "            for i in range(nn_depth-1)])\n",
        "        self.dropouts = nn.ModuleList([\n",
        "            nn.Dropout(dropout) \n",
        "            for i in range(nn_depth-1)])\n",
        "        self.linears = nn.ModuleList([\n",
        "            nn.utils.weight_norm(nn.Linear(nn_width, nn_width, bias=False))\n",
        "            for i in range(nn_depth-1)])\n",
        "        \n",
        "        self.bn_out = nn.BatchNorm1d(nn_width, momentum=momentum)\n",
        "        self.dp_out = nn.Dropout(dropout/2)\n",
        "        self.ln_out = nn.utils.weight_norm(nn.Linear(nn_width, output_dim, bias=False))\n",
        "\n",
        "    def forward(self, x_bssid, x_rssi, x_delta, x_rest):\n",
        "        \n",
        "        # processing of bssid & rssi features\n",
        "        x_encoded = self.embedder(x_bssid)\n",
        "        all_outs = list()\n",
        "        for i in range(self.n_wifi_feats):\n",
        "            x_tmp = torch.cat([x_encoded[:,i,:],  x_rssi[:,i].reshape(-1,1), x_delta[:,i].reshape(-1,1)], dim=1)\n",
        "            x_tmp = self.bnorms_parallel[i](x_tmp)\n",
        "            x_tmp = self.dropouts_parallel[i](x_tmp)\n",
        "            x_tmp = nn.functional.relu(self.linears_parallel[i](x_tmp))\n",
        "            all_outs.append(x_tmp)\n",
        "            \n",
        "        all_outs.append(x_rest)\n",
        "        x = torch.cat(all_outs, dim=1)\n",
        "        \n",
        "        x = self.bn_in(x)\n",
        "        x = self.dp_in(x)\n",
        "        x = nn.functional.relu(self.ln_in(x))\n",
        "\n",
        "        for bn_layer,dp_layer,ln_layer in zip(self.bnorms,self.dropouts,self.linears):\n",
        "            x = bn_layer(x)\n",
        "            x = dp_layer(x)\n",
        "            x = ln_layer(x)\n",
        "            x = nn.functional.relu(x)\n",
        "            \n",
        "        x = self.bn_out(x)\n",
        "        x = self.dp_out(x)\n",
        "        x = self.ln_out(x)\n",
        "        return x\n",
        "\n",
        "    def training_step(self, batch):\n",
        "        x_bssid, x_rssi, x_delta, x_rest, y = batch\n",
        "        y_hat = self.forward(x_bssid, x_rssi, x_delta, x_rest)\n",
        "        loss = mpe_loss(y_hat, y)\n",
        "        return loss\n",
        "    \n",
        "    def validation_step(self, batch):\n",
        "        x_bssid, x_rssi, x_delta, x_rest, y = batch\n",
        "        y_hat = self.forward(x_bssid, x_rssi, x_delta, x_rest)\n",
        "        loss = mpe_loss(y_hat, y)\n",
        "        return loss\n",
        "    \n",
        "    def prediction_step(self, batch):\n",
        "        x_bssid, x_rssi, x_delta, x_rest, _ = batch\n",
        "        pred = self.forward(x_bssid, x_rssi, x_delta, x_rest)\n",
        "        return pred\n",
        "    \n",
        "    def configure_optimizers(self):\n",
        "        optimizer = torch.optim.Adam(self.parameters(), lr=1e-2)\n",
        "        scheduler = ReduceLROnPlateau(optimizer, mode=\"min\", factor=0.5, patience=5, min_lr=1e-5)\n",
        "        return optimizer,scheduler"
      ],
      "execution_count": null,
      "outputs": []
    },
    {
      "cell_type": "markdown",
      "metadata": {
        "id": "f8HDYBFarZjT"
      },
      "source": [
        "***\n",
        "## model training by site"
      ]
    },
    {
      "cell_type": "code",
      "metadata": {
        "colab": {
          "base_uri": "https://localhost:8080/",
          "height": 471,
          "referenced_widgets": [
            "39bd971645364574881a56b3b55f2fb5",
            "b69fd338b36d471493287a636d3993bb",
            "55982d50932c41839aac8624f76725c3",
            "6026ca9aebbc421db987badede848255",
            "9a4fd01522a44747a2b730bbd3f50057",
            "b39ce05eba844c02a1489b82b784068b",
            "6533d0bbac4043c5897c6f9576cbc07b",
            "27c4b4fbe26a4d82a89c425a2ba2b7de",
            "f1deec6de35040c0b3bb2b8e8f154a1a",
            "9464ea8e66d346c489da5eb01b1b7bbb",
            "171bb23b76de4a4c9012b196627b8a5f",
            "2ae211f345ee4d14a1660714ca1dfb25",
            "8bff9c3f3a90411c801696e18e42d229",
            "f02181fe43b64d5598eef6bb1acfbe3e",
            "d70110ee2ef747088e3f56aa4ab61420",
            "327240c670ec4e74bc79b93bb272bee2",
            "add5941e984e4bcfafafe0d5b198d134",
            "3962995f688542d3a8a7f5d46a797607",
            "8a4a1b3c8edb47a2a724da83a866ee1f",
            "e15509b747834f38ac95aee7ea57ab36",
            "3655cb4c9dfb43b4968e35f850b686d3",
            "32271167ccbe4530811772d6f9c95680",
            "7b0685045e9d4d20965ceafc1bff3d06",
            "d322df4279584050961857be5aa25f60",
            "d9e49c5185fe4a52a858395f036ccd64",
            "17eacfc4ce814613bf6ddbc011f919cb",
            "570a0fbba31b4a729b2165532c6d291c",
            "ab262649cfa2452b9018849609fb0aed",
            "acf26a9e8ac14188ac1b3117ea3d18b6",
            "694b5311770d4a3aaa357821f0f54b73",
            "406e0898518e46bcaf32ee1b6423c22f",
            "5ea4bfd537fa4014a84eeb2ef781f7ab",
            "9ffa6bc4ef4949fcb390e5ed98db7f3a",
            "8f2b030712144a8f82b58b58100b8142",
            "937babc988ba4e1f8b2782f0960ac10e",
            "677d48547981484bae33dcdd6f70209f",
            "680fa8457be345ec9eadb7396095a315",
            "6972c018f6ee43fda35dbae4f0218acf",
            "61cedcf558384ab0897bb703971ab926",
            "4512d4276eac4f49b4893c4d53a5e4cc"
          ]
        },
        "id": "ZUQFqhsiu0MO",
        "outputId": "3605bb23-a345-48c1-e7cc-5a9118effdff"
      },
      "source": [
        "%%time\n",
        "\n",
        "oofs_by_site = list()\n",
        "preds_by_site = list()\n",
        "preds_by_site_raw = list()\n",
        "cv_errors = dict()\n",
        "\n",
        "for i,(train_file,test_file,site) in enumerate(zip(train_files,test_files,sites)):\n",
        "    print(f\" training models for site {i+1}/24: {site} \".center(70, \"#\"))\n",
        "    \n",
        "    train = pd.read_parquet(train_file)\n",
        "    test = pd.read_parquet(test_file)\n",
        "    \n",
        "    train[\"site\"] = site\n",
        "    test[\"site\"] = site\n",
        "\n",
        "    # adds floor predictions on test\n",
        "    train[\"floor\"] = train.floor.map(floor_map)\n",
        "    test = pd.merge(test, floor_predictions, how=\"left\", on=\"site_path_timestamp\")\n",
        "\n",
        "    # filter wifi records that are near (in time) to waypoints\n",
        "    train = train.query(\"wifi_time_diff <= @MAX_TIME_DIFF | wifi_idx==0\").reset_index(drop=True)\n",
        "    test = test.query(\"wifi_time_diff <= @MAX_TIME_DIFF | wifi_idx==0\").reset_index(drop=True)\n",
        "    \n",
        "    train_bssids = set(np.unique(train[bssid_cols].values))\n",
        "    test_bssids = set(np.unique(test[bssid_cols].values))\n",
        "    print(f\"bssids diff:\", test_bssids - train_bssids)\n",
        "        \n",
        "    # integer encoder for string features\n",
        "    encoder = train_encoder(train, test, bssid_cols)\n",
        "    n_bssids = len(encoder.classes_)\n",
        "    print(\"number of bssids:\", n_bssids)\n",
        "    \n",
        "    # cv split here\n",
        "    mskf = cv_split(train, n_splits=N_SPLITS, random_state=CV_SEED)\n",
        "    all_models = list()\n",
        "    \n",
        "    oof_cols = [\"site\",\"path\",\"timestamp\",\"wifi_time_delta\",\"wifi_time_diff\",\"seq_nbr\",\"x\",\"y\"]\n",
        "    oof_preds = train.loc[:,oof_cols].copy()\n",
        "    oof_preds[\"oof_idx\"] = -1\n",
        "    oof_preds[\"oof_x\"] = np.nan\n",
        "    oof_preds[\"oof_y\"] = np.nan\n",
        "    \n",
        "    for i,(train_idx,valid_idx) in enumerate(mskf):\n",
        "        print(f\"training for fold {i+1}/{N_SPLITS}\".center(70, \"-\"))\n",
        "        \n",
        "        _train = train.loc[train_idx, wifi_cols+nowifi_cols+target_cols]\n",
        "        _valid = train.loc[valid_idx, wifi_cols+nowifi_cols+target_cols]\n",
        "        \n",
        "        _train = encode_bssids(_train, bssid_cols, encoder)\n",
        "        _valid = encode_bssids(_valid, bssid_cols, encoder)\n",
        "        \n",
        "        train_dset = TensorDataset(\n",
        "            torch.tensor(_train[bssid_cols].values, dtype=torch.long),\n",
        "            torch.tensor(_train[rssi_cols].values, dtype=torch.float),\n",
        "            torch.tensor(_train[delta_cols].values, dtype=torch.float),\n",
        "            torch.tensor(_train[nowifi_cols].values, dtype=torch.float),\n",
        "            torch.tensor(_train[target_cols].values, dtype=torch.float)\n",
        "        )\n",
        "\n",
        "        valid_dset = TensorDataset(\n",
        "            torch.tensor(_valid[bssid_cols].values, dtype=torch.long),\n",
        "            torch.tensor(_valid[rssi_cols].values, dtype=torch.float),\n",
        "            torch.tensor(_valid[delta_cols].values, dtype=torch.float),\n",
        "            torch.tensor(_valid[nowifi_cols].values, dtype=torch.float),\n",
        "            torch.tensor(_valid[target_cols].values, dtype=torch.float)\n",
        "        )\n",
        "        \n",
        "        input_dims = (len(bssid_cols),len(rssi_cols),len(delta_cols),len(nowifi_cols))\n",
        "        model = DNN(\n",
        "            input_dims=input_dims,\n",
        "            output_dim=2, \n",
        "            nn_depth=3, \n",
        "            nn_width=256, \n",
        "            dropout=0.2, \n",
        "            momentum=0.1,\n",
        "            n_embeddings=n_bssids,\n",
        "            embedding_dim=EMBEDDING_DIM,\n",
        "        )\n",
        "        \n",
        "        train_dataloader = DataLoader(train_dset, batch_size=BATCH_SIZE, shuffle=True, num_workers=2, pin_memory=True)\n",
        "        valid_dataloader = DataLoader(valid_dset, batch_size=len(valid_dset), shuffle=False, num_workers=2, pin_memory=True)\n",
        "        \n",
        "        model,monitor = pax.iterative_train(model, train_dataloader, valid_dataloader, max_epochs=200, patience=20)\n",
        "        model.load_state_dict(monitor.best_model_state)\n",
        "        \n",
        "        # saving oof predictions\n",
        "        preds = pax.iterative_predict(model, valid_dataloader).detach().cpu().numpy()\n",
        "        oof_preds.loc[valid_idx, \"oof_idx\"] = i\n",
        "        oof_preds.loc[valid_idx, \"oof_x\"] = preds[:,0]\n",
        "        oof_preds.loc[valid_idx, \"oof_y\"] = preds[:,1]\n",
        "        \n",
        "        all_models.append(model)\n",
        "                \n",
        "        del train_dataloader,valid_dataloader\n",
        "        del train_dset,valid_dset\n",
        "        gc.collect()\n",
        "    \n",
        "    # calculating the oof errors\n",
        "    oof_preds[\"oof_x_agg\"] = oof_preds.groupby([\"path\",\"seq_nbr\"])[\"oof_x\"].transform(\"mean\")\n",
        "    oof_preds[\"oof_y_agg\"] = oof_preds.groupby([\"path\",\"seq_nbr\"])[\"oof_y\"].transform(\"mean\")  \n",
        "    oof_preds_agg = oof_preds.loc[:,[\"x\",\"y\",\"oof_x_agg\",\"oof_y_agg\"]].drop_duplicates()\n",
        "    mpe1 = mean_position_error(oof_preds.x, oof_preds.y, oof_preds.oof_x, oof_preds.oof_y)\n",
        "    mpe2 = mean_position_error(oof_preds_agg.x, oof_preds_agg.y, oof_preds_agg.oof_x_agg, oof_preds_agg.oof_y_agg)\n",
        "    cv_errors[site] = {\"mpe1\":mpe1, \"mpe2\":mpe2,}\n",
        "    print(f\"site: {site} - mpe1: {mpe1} - mpe2: {mpe2} \\n\")\n",
        "         \n",
        "    # generating the predictions for test dataset\n",
        "    test = encode_bssids(test, bssid_cols, encoder)\n",
        "    test_bssid = torch.tensor(test[bssid_cols].values, dtype=torch.long, device=device)\n",
        "    test_rssi = torch.tensor(test[rssi_cols].values, dtype=torch.float, device=device)\n",
        "    test_delta = torch.tensor(test[delta_cols].values, dtype=torch.float, device=device)\n",
        "    test_nowifi = torch.tensor(test[nowifi_cols].values, dtype=torch.float, device=device)\n",
        "\n",
        "    all_preds = list()\n",
        "    for model in all_models:\n",
        "        model.eval()\n",
        "        with torch.set_grad_enabled(False):\n",
        "            preds = model(test_bssid, test_rssi, test_delta, test_nowifi).detach().cpu().numpy()\n",
        "            all_preds.append(preds)\n",
        "        \n",
        "    preds_avg = np.mean(all_preds, axis=0)\n",
        "    test[\"x_pred\"] = preds_avg[:,0]\n",
        "    test[\"y_pred\"] = preds_avg[:,1]\n",
        "    test[\"x\"] = test.groupby([\"path\",\"seq_nbr\"])[\"x_pred\"].transform(\"mean\")\n",
        "    test[\"y\"] = test.groupby([\"path\",\"seq_nbr\"])[\"y_pred\"].transform(\"mean\")\n",
        "    \n",
        "    oofs_by_site.append(oof_preds)\n",
        "    preds_by_site.append(test.loc[:, [\"site_path_timestamp\",\"floor\",\"x\",\"y\"]].drop_duplicates())\n",
        "    preds_by_site_raw.append(test.loc[:,[\"site_path_timestamp\",\"site\",\"path\",\"timestamp\",\"wifi_time_delta\",\"wifi_time_diff\",\"seq_nbr\",\"x\",\"y\",\"x_pred\",\"y_pred\"]])\n"
      ],
      "execution_count": null,
      "outputs": [
        {
          "output_type": "stream",
          "text": [
            "###### training models for site 1/24: 5a0546857ecc773753327266 #######\n",
            "bssids diff: set()\n",
            "number of bssids: 2757\n",
            "------------------------training for fold 1/5-------------------------\n"
          ],
          "name": "stdout"
        },
        {
          "output_type": "display_data",
          "data": {
            "application/vnd.jupyter.widget-view+json": {
              "model_id": "39bd971645364574881a56b3b55f2fb5",
              "version_minor": 0,
              "version_major": 2
            },
            "text/plain": [
              "HBox(children=(FloatProgress(value=0.0, max=200.0), HTML(value='')))"
            ]
          },
          "metadata": {
            "tags": []
          }
        },
        {
          "output_type": "stream",
          "text": [
            "\n",
            "------------------------training for fold 2/5-------------------------\n"
          ],
          "name": "stdout"
        },
        {
          "output_type": "display_data",
          "data": {
            "application/vnd.jupyter.widget-view+json": {
              "model_id": "f1deec6de35040c0b3bb2b8e8f154a1a",
              "version_minor": 0,
              "version_major": 2
            },
            "text/plain": [
              "HBox(children=(FloatProgress(value=0.0, max=200.0), HTML(value='')))"
            ]
          },
          "metadata": {
            "tags": []
          }
        },
        {
          "output_type": "stream",
          "text": [
            "\n",
            "------------------------training for fold 3/5-------------------------\n"
          ],
          "name": "stdout"
        },
        {
          "output_type": "display_data",
          "data": {
            "application/vnd.jupyter.widget-view+json": {
              "model_id": "add5941e984e4bcfafafe0d5b198d134",
              "version_minor": 0,
              "version_major": 2
            },
            "text/plain": [
              "HBox(children=(FloatProgress(value=0.0, max=200.0), HTML(value='')))"
            ]
          },
          "metadata": {
            "tags": []
          }
        },
        {
          "output_type": "stream",
          "text": [
            "\n",
            "------------------------training for fold 4/5-------------------------\n"
          ],
          "name": "stdout"
        },
        {
          "output_type": "display_data",
          "data": {
            "application/vnd.jupyter.widget-view+json": {
              "model_id": "d9e49c5185fe4a52a858395f036ccd64",
              "version_minor": 0,
              "version_major": 2
            },
            "text/plain": [
              "HBox(children=(FloatProgress(value=0.0, max=200.0), HTML(value='')))"
            ]
          },
          "metadata": {
            "tags": []
          }
        },
        {
          "output_type": "stream",
          "text": [
            "\n",
            "------------------------training for fold 5/5-------------------------\n"
          ],
          "name": "stdout"
        },
        {
          "output_type": "display_data",
          "data": {
            "application/vnd.jupyter.widget-view+json": {
              "model_id": "9ffa6bc4ef4949fcb390e5ed98db7f3a",
              "version_minor": 0,
              "version_major": 2
            },
            "text/plain": [
              "HBox(children=(FloatProgress(value=0.0, max=200.0), HTML(value='')))"
            ]
          },
          "metadata": {
            "tags": []
          }
        },
        {
          "output_type": "stream",
          "text": [
            "\n",
            "site: 5a0546857ecc773753327266 - mpe1: 7.173214570865502 - mpe2: 5.633961611989412 \n",
            "\n",
            "CPU times: user 4min 52s, sys: 1min 44s, total: 6min 37s\n",
            "Wall time: 10min 27s\n"
          ],
          "name": "stdout"
        }
      ]
    },
    {
      "cell_type": "code",
      "metadata": {
        "id": "DCQYuIWUu0In",
        "colab": {
          "base_uri": "https://localhost:8080/"
        },
        "outputId": "1846333e-b697-474a-9848-4bebc3a4ab20"
      },
      "source": [
        "output_path = f\"{project_path}/output/dnn-ds1-{MAX_WIFI_FEATS}f-{MAX_LASTSEEN}lt\"\n",
        "if not os.path.exists(output_path): os.makedirs(output_path)\n",
        "\n",
        "# save the oof preds\n",
        "oof_preds = pd.concat(oofs_by_site, ignore_index=True)\n",
        "oof_preds.to_csv(f\"{output_path}/oof_preds.csv\", index=False)\n",
        "\n",
        "# save raw test preds\n",
        "submission_raw = pd.concat(preds_by_site_raw, ignore_index=True)\n",
        "submission_raw.to_csv(f\"{output_path}/submission_raw.csv\", index=False)\n",
        "\n",
        "# save the cv metrics\n",
        "oof_preds_agg = oof_preds.loc[:,[\"x\",\"y\",\"oof_x_agg\",\"oof_y_agg\"]].drop_duplicates()\n",
        "mpe1 = mean_position_error(\n",
        "    oof_preds.x, oof_preds.y, \n",
        "    oof_preds.oof_x, oof_preds.oof_y)\n",
        "mpe2 = mean_position_error(\n",
        "    oof_preds_agg.x, oof_preds_agg.y, \n",
        "    oof_preds_agg.oof_x_agg, oof_preds_agg.oof_y_agg)\n",
        "cv_errors[\"overall\"] = {\"mpe1\":mpe1, \"mpe2\":mpe2,}\n",
        "print({\"mpe1\":mpe1, \"mpe2\":mpe2,})\n",
        "\n",
        "with open(f'{output_path}/cv_errors.yml', 'w') as file:\n",
        "    yaml.dump(cv_errors, file, default_flow_style=False)\n",
        "    file.close()\n",
        "\n",
        "# save the final submission\n",
        "sample_sub = pd.read_csv(f\"{project_path}/input/sample_submission.csv\")\n",
        "predictions = pd.concat(preds_by_site, ignore_index=True)\n",
        "submission = pd.merge(sample_sub.loc[:,[\"site_path_timestamp\"]], predictions, how=\"left\")\n",
        "assert (sample_sub.site_path_timestamp == submission.site_path_timestamp).all()\n",
        "submission.to_csv(f\"{output_path}/submission.csv\", index=False)"
      ],
      "execution_count": null,
      "outputs": [
        {
          "output_type": "stream",
          "text": [
            "{'mpe1': 8.084434389470932, 'mpe2': 6.73633168163678}\n"
          ],
          "name": "stdout"
        }
      ]
    },
    {
      "cell_type": "markdown",
      "metadata": {
        "id": "1ZfgeIGJZP7d"
      },
      "source": [
        "- Current best: {'mpe1': 8.132519384855483, 'mpe2': 6.742418387295461}\n",
        "- Description: \"[colab] dnn-ds1-40f with weight_norm, batch_size=2048 & learning_rate=1e-2\"\n",
        "- Wall time: 6h 6min 53s"
      ]
    },
    {
      "cell_type": "code",
      "metadata": {
        "id": "mfntP2QgXzec",
        "colab": {
          "base_uri": "https://localhost:8080/"
        },
        "outputId": "04a23e9e-87b8-4453-e85d-041f312fcbb1"
      },
      "source": [
        "%%bash\n",
        "kaggle competitions submit -c indoor-location-navigation \\\n",
        "    -f /content/drive/MyDrive/kaggle/indoor-location-navigation/output/dnn-ds1-40f/submission.csv \\\n",
        "    -m \"[colab] dnn-ds1-10f-10lt | embedding_dim=12 & Adam optimizer\""
      ],
      "execution_count": null,
      "outputs": [
        {
          "output_type": "stream",
          "text": [
            "Warning: Looks like you're using an outdated API Version, please consider updating (server 1.5.12 / client 1.5.4)\n",
            "Successfully submitted to Indoor Location & Navigation"
          ],
          "name": "stdout"
        },
        {
          "output_type": "stream",
          "text": [
            "\r  0%|          | 0.00/845k [00:00<?, ?B/s]\r 74%|#######3  | 624k/845k [00:02<00:00, 264kB/s]\r100%|##########| 845k/845k [00:04<00:00, 191kB/s]\n"
          ],
          "name": "stderr"
        }
      ]
    },
    {
      "cell_type": "markdown",
      "metadata": {
        "id": "Jeyg45qky_BJ"
      },
      "source": [
        "***"
      ]
    }
  ]
}