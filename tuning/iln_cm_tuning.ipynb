{
 "cells": [
  {
   "cell_type": "code",
   "execution_count": 1,
   "metadata": {
    "colab": {
     "base_uri": "https://localhost:8080/"
    },
    "id": "sqY3C6Rcx7eu",
    "outputId": "bf4eb384-a983-44bc-9dea-a0b2f8ee63ff"
   },
   "outputs": [],
   "source": [
    "#from google.colab import drive\n",
    "#from google.colab import files\n",
    "#drive.mount('/content/drive', force_remount=True)"
   ]
  },
  {
   "cell_type": "code",
   "execution_count": 2,
   "metadata": {
    "id": "mjmPj_B6yBjU"
   },
   "outputs": [],
   "source": [
    "#!pip install --upgrade kaggle > /dev/null 2>&1\n",
    "#!pip install optuna  > /dev/null 2>&1"
   ]
  },
  {
   "cell_type": "code",
   "execution_count": 3,
   "metadata": {
    "id": "UcDh7hZVyJdO"
   },
   "outputs": [],
   "source": [
    "# move kaggle.json into the folder where the API expects to find it\n",
    "#!mkdir -p ~/.kaggle/ && cp /content/drive/MyDrive/kaggle/kaggle.json ~/.kaggle/ && chmod 600 ~/.kaggle/kaggle.json"
   ]
  },
  {
   "cell_type": "markdown",
   "metadata": {
    "id": "DqJ91QRjyL7w"
   },
   "source": [
    "***"
   ]
  },
  {
   "cell_type": "code",
   "execution_count": 4,
   "metadata": {
    "id": "WZ09uR6fyKrK"
   },
   "outputs": [],
   "source": [
    "from glob import glob\n",
    "import numpy as np\n",
    "import pandas as pd\n",
    "import scipy.interpolate\n",
    "import scipy.sparse\n",
    "from tqdm import tqdm\n",
    "from joblib import Parallel,delayed\n",
    "import yaml\n",
    "\n",
    "import optuna\n",
    "#optuna.logging.set_verbosity(optuna.logging.ERROR)"
   ]
  },
  {
   "cell_type": "markdown",
   "metadata": {
    "id": "yhWl_DXKyeCF"
   },
   "source": [
    "***"
   ]
  },
  {
   "cell_type": "code",
   "execution_count": 5,
   "metadata": {
    "id": "ctfYH62uyPyk"
   },
   "outputs": [],
   "source": [
    "def mean_position_error(labels, preds):\n",
    "    x_label = labels.x.values\n",
    "    y_label = labels.y.values\n",
    "    x_pred = preds.x.values\n",
    "    y_pred = preds.y.values\n",
    "    return np.mean(np.sqrt((x_label-x_pred)**2 + (y_label-y_pred)**2))\n",
    "\n",
    "def correct_path(wp_preds, delta_preds, lambda1=0.1, lambda2=0.5, lambda3=2):\n",
    "\n",
    "    T_ref  = wp_preds['timestamp'].values\n",
    "    xy_preds = wp_preds[['x', 'y']].values\n",
    "    delta_preds = delta_preds.loc[:,[\"timestamp\",\"dx\",\"dy\"]].values\n",
    "\n",
    "    if T_ref[-1] > delta_preds[-1, 0]:\n",
    "        delta_preds = [np.array([[0, 0, 0]]), delta_preds, np.array([[T_ref[-1], 0, 0]])]\n",
    "    else:\n",
    "        delta_preds = [np.array([[0, 0, 0]]), delta_preds]\n",
    "    delta_preds = np.concatenate(delta_preds)\n",
    "    \n",
    "    T_rel = delta_preds[:, 0]\n",
    "    delta_xy_preds = np.diff(scipy.interpolate.interp1d(T_rel, np.cumsum(delta_preds[:, 1:3], axis=0), axis=0)(T_ref), axis=0)\n",
    "\n",
    "    N = xy_preds.shape[0]\n",
    "    delta_t = np.diff(T_ref)\n",
    "        \n",
    "    alpha = lambda1 * np.ones(N)\n",
    "    beta  = (1-lambda1) * np.ones(N-1) / (1 + lambda2 * delta_t * 1e-3)**lambda3\n",
    "    \n",
    "    A = scipy.sparse.spdiags(alpha, [0], N, N)\n",
    "    B = scipy.sparse.spdiags( beta, [0], N-1, N-1)\n",
    "    D = scipy.sparse.spdiags(np.stack([-np.ones(N), np.ones(N)]), [0, 1], N-1, N)\n",
    "\n",
    "    Q = A + (D.T @ B @ D)\n",
    "    c = (A @ xy_preds) + (D.T @ (B @ delta_xy_preds))\n",
    "    xy_corr = scipy.sparse.linalg.spsolve(Q, c)\n",
    "\n",
    "    return pd.DataFrame({\n",
    "        'site' : wp_preds['site'],\n",
    "        'path' : wp_preds['path'],\n",
    "        'timestamp' : wp_preds['timestamp'],\n",
    "        'x' : xy_corr[:, 0],\n",
    "        'y' : xy_corr[:, 1],\n",
    "    })"
   ]
  },
  {
   "cell_type": "markdown",
   "metadata": {
    "id": "QJW8fHZczmNg"
   },
   "source": [
    "***"
   ]
  },
  {
   "cell_type": "code",
   "execution_count": null,
   "metadata": {
    "colab": {
     "base_uri": "https://localhost:8080/"
    },
    "id": "Sr6IBx_Zzqwj",
    "outputId": "05856001-c19a-44db-b2ef-d81b53f781db"
   },
   "outputs": [],
   "source": [
    "!kaggle datasets download -d mavillan/iln-imu-preds --force --unzip"
   ]
  },
  {
   "cell_type": "code",
   "execution_count": null,
   "metadata": {},
   "outputs": [],
   "source": [
    "!kaggle datasets download -d mavillan/iln-dnn-dset1 --force --unzip"
   ]
  },
  {
   "cell_type": "code",
   "execution_count": 6,
   "metadata": {
    "id": "5g4Yh4Oj0P43"
   },
   "outputs": [],
   "source": [
    "input_path = \"./dnn-ds1-30f-5lt-pl\"\n",
    "\n",
    "delta_preds = pd.read_csv(\"./delta_preds.csv\")\n",
    "\n",
    "predictions = (\n",
    "    pd.read_csv(f\"{input_path}/oof_preds.csv\")\n",
    "    .loc[:,[\"site\",\"path\",\"timestamp\",\"oof_x_agg\",\"oof_y_agg\"]]\n",
    "    .rename({\"oof_x_agg\":\"x\", \"oof_y_agg\":\"y\"}, axis=1)\n",
    "    .drop_duplicates()\n",
    "    .reset_index(drop=True)\n",
    ")\n",
    "\n",
    "labels = (\n",
    "    pd.read_csv(f\"{input_path}/oof_preds.csv\")\n",
    "    .loc[:,[\"site\",\"path\",\"timestamp\",\"x\",\"y\"]]\n",
    "    .drop_duplicates()\n",
    "    .reset_index(drop=True)\n",
    ")"
   ]
  },
  {
   "cell_type": "code",
   "execution_count": 7,
   "metadata": {
    "id": "nvnr-QLX1Oq7"
   },
   "outputs": [],
   "source": [
    "predictions = predictions.sort_values([\"site\",\"path\",\"timestamp\"], ignore_index=True)\n",
    "labels = labels.sort_values([\"site\",\"path\",\"timestamp\"], ignore_index=True)\n",
    "delta_preds = delta_preds.sort_values([\"site\",\"path\",\"timestamp\"], ignore_index=True)"
   ]
  },
  {
   "cell_type": "code",
   "execution_count": 8,
   "metadata": {
    "id": "eqynDZZh1SAB"
   },
   "outputs": [],
   "source": [
    "target_sites = predictions.site.unique().tolist()"
   ]
  },
  {
   "cell_type": "code",
   "execution_count": 9,
   "metadata": {},
   "outputs": [
    {
     "data": {
      "text/plain": [
       "6.190770283659762"
      ]
     },
     "execution_count": 9,
     "metadata": {},
     "output_type": "execute_result"
    }
   ],
   "source": [
    "mean_position_error(labels, predictions)"
   ]
  },
  {
   "cell_type": "markdown",
   "metadata": {
    "id": "F_8BCUJn1gwh"
   },
   "source": [
    "***\n",
    "## optimization of parameters: by site"
   ]
  },
  {
   "cell_type": "code",
   "execution_count": null,
   "metadata": {
    "id": "mMBTC-3R1UPb"
   },
   "outputs": [],
   "source": [
    "class MinimizeContainer():\n",
    "    \n",
    "    def __init__(self, preds, deltas, labels):\n",
    "        self.pred_inputs = preds\n",
    "        self.delta_inputs = deltas\n",
    "        self.labels = labels\n",
    "        self.site = labels[\"site\"].unique()[0]\n",
    "        \n",
    "    def objective(self, trial):\n",
    "        lambda1 = trial.suggest_uniform(\"lambda1\", 0, 1)\n",
    "        lambda2 = trial.suggest_uniform(\"lambda2\", 0, 1)\n",
    "        lambda3 = trial.suggest_uniform(\"lambda3\", 0.5, 2)\n",
    "\n",
    "        inputs = zip(self.pred_inputs,self.delta_inputs)\n",
    "        corrected = [correct_path(wp, delta, lambda1, lambda2, lambda3) \n",
    "                     for wp,delta in inputs]\n",
    "        corrected = pd.concat(corrected, ignore_index=True)\n",
    "        return mean_position_error(self.labels, corrected)\n",
    "\n",
    "    def correct(self, lambda1, lambda2, lambda3):\n",
    "        inputs = zip(self.pred_inputs,self.delta_inputs)\n",
    "        corrected = [correct_path(wp, delta, lambda1, lambda2, lambda3) \n",
    "                     for wp,delta in inputs]\n",
    "        corrected = pd.concat(corrected, ignore_index=True)\n",
    "        return corrected      \n",
    "    \n",
    "def minimize(container, n_trials=200):\n",
    "    study = optuna.create_study(direction='minimize')\n",
    "    study.optimize(container.objective, n_trials=n_trials, timeout=14400, n_jobs=2)\n",
    "    return (container.site, study.best_value, study.best_params)"
   ]
  },
  {
   "cell_type": "code",
   "execution_count": null,
   "metadata": {
    "id": "tV5I9H0F1tzp"
   },
   "outputs": [],
   "source": [
    "all_containers = list()\n",
    "\n",
    "for i,site in enumerate(target_sites):\n",
    "    paths = labels.query(\"site==@site\").path.unique()\n",
    "    pred_inputs = [predictions.query(\"site==@site & path==@path\") for path in paths]\n",
    "    delta_inputs = [delta_preds.query(\"site==@site & path==@path\") for path in paths]\n",
    "    mc = MinimizeContainer(pred_inputs, delta_inputs, labels.query(\"site==@site\"))\n",
    "    all_containers.append(mc)\n",
    "    "
   ]
  },
  {
   "cell_type": "code",
   "execution_count": null,
   "metadata": {
    "colab": {
     "base_uri": "https://localhost:8080/"
    },
    "id": "HRdIAIw72KAo",
    "outputId": "1b29ce1e-fcdf-45f2-9751-de79278f9dfd"
   },
   "outputs": [],
   "source": [
    "%%time\n",
    "with Parallel(n_jobs=-1) as parallel:\n",
    "    delayed_minimize = delayed(minimize)\n",
    "    all_results = parallel(delayed_minimize(mc, n_trials=500) for mc in tqdm(all_containers))"
   ]
  },
  {
   "cell_type": "code",
   "execution_count": null,
   "metadata": {
    "colab": {
     "base_uri": "https://localhost:8080/"
    },
    "id": "8UmOto6JRMTJ",
    "outputId": "d046abd7-7e99-4fd1-d805-01239eed14b2"
   },
   "outputs": [],
   "source": [
    "# calculate original cv\n",
    "mean_position_error(labels, predictions)"
   ]
  },
  {
   "cell_type": "code",
   "execution_count": null,
   "metadata": {
    "id": "K_I9FA-0Y2Sc"
   },
   "outputs": [],
   "source": [
    "all_corrected = list()\n",
    "for container,result in zip(all_containers,all_results):\n",
    "    best_params = result[-1]\n",
    "    corrected = container.correct(**best_params)\n",
    "    all_corrected.append(corrected)\n",
    "\n",
    "corrected = pd.concat(all_corrected, ignore_index=True)"
   ]
  },
  {
   "cell_type": "code",
   "execution_count": null,
   "metadata": {
    "colab": {
     "base_uri": "https://localhost:8080/"
    },
    "id": "qzIDDh2MamMT",
    "outputId": "6e61ef41-3423-4ce6-d70d-a53bfa6db8d7"
   },
   "outputs": [],
   "source": [
    "mean_position_error(labels, corrected)"
   ]
  },
  {
   "cell_type": "code",
   "execution_count": null,
   "metadata": {
    "id": "c_dIzr3F_0EY"
   },
   "outputs": [],
   "source": [
    "all_results_dict = {site:{\"error\":error,\"params\":params} for site,error,params in all_results}\n",
    "output_path = \"/content/drive/MyDrive/kaggle/indoor-location-navigation/output\"\n",
    "\n",
    "with open(f'{output_path}/cm_params_by_site.yml', 'w') as file:\n",
    "    yaml.dump(all_results_dict, file, default_flow_style=False)\n",
    "    file.close()"
   ]
  },
  {
   "cell_type": "markdown",
   "metadata": {
    "id": "RauEZTRM4AS2"
   },
   "source": [
    "***\n",
    "## optimization of parameters: jointly"
   ]
  },
  {
   "cell_type": "code",
   "execution_count": 10,
   "metadata": {},
   "outputs": [
    {
     "data": {
      "text/plain": [
       "6.190770283659762"
      ]
     },
     "execution_count": 10,
     "metadata": {},
     "output_type": "execute_result"
    }
   ],
   "source": [
    "# calculate original cv\n",
    "mean_position_error(labels, predictions)"
   ]
  },
  {
   "cell_type": "code",
   "execution_count": 11,
   "metadata": {
    "id": "1ZI_iqZ7Toj2"
   },
   "outputs": [],
   "source": [
    "pred_inputs = list()\n",
    "delta_inputs = list()\n",
    "for i,row in labels.loc[:,[\"site\",\"path\"]].drop_duplicates().iterrows():\n",
    "    pred_inputs.append(predictions.query(\"site==@row.site & path==@row.path\"))\n",
    "    delta_inputs.append(delta_preds.query(\"site==@row.site & path==@row.path\"))"
   ]
  },
  {
   "cell_type": "code",
   "execution_count": 12,
   "metadata": {
    "id": "vnl7tKvcVajp"
   },
   "outputs": [],
   "source": [
    "def objective(trial):\n",
    "    lambda1 = trial.suggest_uniform(\"lambda1\", 0, 1)\n",
    "    lambda2 = trial.suggest_uniform(\"lambda2\", 0, 1)\n",
    "    lambda3 = trial.suggest_uniform(\"lambda3\", 0.5, 2)\n",
    "    \n",
    "    inputs = zip(pred_inputs, delta_inputs)\n",
    "    with Parallel(n_jobs=6) as parallel:\n",
    "        delayed_correct = delayed(correct_path)\n",
    "        corrected = parallel(\n",
    "            delayed_correct(wp, delta, lambda1, lambda2, lambda3)\n",
    "            for wp,delta in inputs\n",
    "        )\n",
    "    corrected = pd.concat(corrected, ignore_index=True)\n",
    "    return mean_position_error(labels, corrected)"
   ]
  },
  {
   "cell_type": "code",
   "execution_count": 13,
   "metadata": {
    "id": "OilwxvuWArFQ"
   },
   "outputs": [
    {
     "name": "stderr",
     "output_type": "stream",
     "text": [
      "\u001b[32m[I 2021-04-26 14:22:51,244]\u001b[0m A new study created in memory with name: no-name-f1adfddd-b992-42b9-83cc-b2c905cefc36\u001b[0m\n",
      "\u001b[32m[I 2021-04-26 14:23:14,262]\u001b[0m Trial 0 finished with value: 5.480252110711861 and parameters: {'lambda1': 0.09795428343832868, 'lambda2': 0.16403757920945872, 'lambda3': 1.485955858532987}. Best is trial 0 with value: 5.480252110711861.\u001b[0m\n",
      "\u001b[32m[I 2021-04-26 14:23:31,100]\u001b[0m Trial 1 finished with value: 5.568176812296558 and parameters: {'lambda1': 0.19366833525953442, 'lambda2': 0.7376968748702268, 'lambda3': 0.6270574095000152}. Best is trial 0 with value: 5.480252110711861.\u001b[0m\n",
      "\u001b[32m[I 2021-04-26 14:23:47,700]\u001b[0m Trial 2 finished with value: 5.9446620339314595 and parameters: {'lambda1': 0.6631606229107168, 'lambda2': 0.24304868510068234, 'lambda3': 0.9658811392408571}. Best is trial 0 with value: 5.480252110711861.\u001b[0m\n",
      "\u001b[32m[I 2021-04-26 14:24:05,105]\u001b[0m Trial 3 finished with value: 5.92535645446788 and parameters: {'lambda1': 0.6188415012307914, 'lambda2': 0.5597653448426292, 'lambda3': 0.6674296649282829}. Best is trial 0 with value: 5.480252110711861.\u001b[0m\n",
      "\u001b[32m[I 2021-04-26 14:24:21,851]\u001b[0m Trial 4 finished with value: 5.485320166640278 and parameters: {'lambda1': 0.08481031939203199, 'lambda2': 0.2532410982313542, 'lambda3': 1.3503641886703979}. Best is trial 0 with value: 5.480252110711861.\u001b[0m\n",
      "\u001b[32m[I 2021-04-26 14:24:38,622]\u001b[0m Trial 5 finished with value: 5.986142634493613 and parameters: {'lambda1': 0.47788972617791914, 'lambda2': 0.3734929762225361, 'lambda3': 1.507906369577308}. Best is trial 0 with value: 5.480252110711861.\u001b[0m\n",
      "\u001b[32m[I 2021-04-26 14:24:55,750]\u001b[0m Trial 6 finished with value: 6.172852341916676 and parameters: {'lambda1': 0.9483733031155309, 'lambda2': 0.4200288345343668, 'lambda3': 1.2660065218764895}. Best is trial 0 with value: 5.480252110711861.\u001b[0m\n",
      "\u001b[32m[I 2021-04-26 14:25:15,246]\u001b[0m Trial 7 finished with value: 6.125470221352124 and parameters: {'lambda1': 0.7347322963288431, 'lambda2': 0.6723669824212974, 'lambda3': 1.2938990396909065}. Best is trial 0 with value: 5.480252110711861.\u001b[0m\n",
      "\u001b[32m[I 2021-04-26 14:25:35,739]\u001b[0m Trial 8 finished with value: 5.855774729807712 and parameters: {'lambda1': 0.594807752574792, 'lambda2': 0.11015353912092551, 'lambda3': 1.3134794638432232}. Best is trial 0 with value: 5.480252110711861.\u001b[0m\n",
      "\u001b[32m[I 2021-04-26 14:25:56,533]\u001b[0m Trial 9 finished with value: 5.747296796493786 and parameters: {'lambda1': 0.06430063735103109, 'lambda2': 0.9232063565617903, 'lambda3': 1.591719029150884}. Best is trial 0 with value: 5.480252110711861.\u001b[0m\n",
      "\u001b[32m[I 2021-04-26 14:26:17,339]\u001b[0m Trial 10 finished with value: 5.611181428648744 and parameters: {'lambda1': 0.3316530500646221, 'lambda2': 0.05401076548624746, 'lambda3': 1.8948063295077309}. Best is trial 0 with value: 5.480252110711861.\u001b[0m\n",
      "\u001b[32m[I 2021-04-26 14:26:38,133]\u001b[0m Trial 11 finished with value: 5.519965390111515 and parameters: {'lambda1': 0.07865767013704456, 'lambda2': 0.22226938563965462, 'lambda3': 1.84285462852247}. Best is trial 0 with value: 5.480252110711861.\u001b[0m\n",
      "\u001b[32m[I 2021-04-26 14:27:02,198]\u001b[0m Trial 12 finished with value: 6.315975371155564 and parameters: {'lambda1': 0.007247935214549195, 'lambda2': 0.013787876763788509, 'lambda3': 1.0441557394045524}. Best is trial 0 with value: 5.480252110711861.\u001b[0m\n",
      "\u001b[32m[I 2021-04-26 14:27:25,694]\u001b[0m Trial 13 finished with value: 5.747873536060857 and parameters: {'lambda1': 0.27711534462147114, 'lambda2': 0.22455719369500643, 'lambda3': 1.5960090836830096}. Best is trial 0 with value: 5.480252110711861.\u001b[0m\n",
      "\u001b[32m[I 2021-04-26 14:27:48,401]\u001b[0m Trial 14 finished with value: 5.541843036085429 and parameters: {'lambda1': 0.16713673411426777, 'lambda2': 0.32264851126585065, 'lambda3': 0.9548863448043536}. Best is trial 0 with value: 5.480252110711861.\u001b[0m\n",
      "\u001b[32m[I 2021-04-26 14:28:10,991]\u001b[0m Trial 15 finished with value: 5.788420335877901 and parameters: {'lambda1': 0.41583562596433155, 'lambda2': 0.12878549421079133, 'lambda3': 1.7071762880148773}. Best is trial 0 with value: 5.480252110711861.\u001b[0m\n",
      "\u001b[32m[I 2021-04-26 14:28:34,452]\u001b[0m Trial 16 finished with value: 5.683215089577622 and parameters: {'lambda1': 0.20107223145225, 'lambda2': 0.48797083269658514, 'lambda3': 1.1132684798437644}. Best is trial 0 with value: 5.480252110711861.\u001b[0m\n",
      "\u001b[32m[I 2021-04-26 14:28:58,569]\u001b[0m Trial 17 finished with value: 6.19992056031157 and parameters: {'lambda1': 0.01155929695633548, 'lambda2': 0.0019321528286251055, 'lambda3': 1.4318011943664548}. Best is trial 0 with value: 5.480252110711861.\u001b[0m\n",
      "\u001b[32m[I 2021-04-26 14:29:23,642]\u001b[0m Trial 18 finished with value: 5.692470920188102 and parameters: {'lambda1': 0.3601665750182481, 'lambda2': 0.29836936724311136, 'lambda3': 0.8226209089177019}. Best is trial 0 with value: 5.480252110711861.\u001b[0m\n",
      "\u001b[32m[I 2021-04-26 14:29:48,065]\u001b[0m Trial 19 finished with value: 5.48929029460379 and parameters: {'lambda1': 0.11850759807986735, 'lambda2': 0.1155956670405352, 'lambda3': 1.7338530576377362}. Best is trial 0 with value: 5.480252110711861.\u001b[0m\n",
      "\u001b[32m[I 2021-04-26 14:30:12,778]\u001b[0m Trial 20 finished with value: 6.149679760060703 and parameters: {'lambda1': 0.9315443349345912, 'lambda2': 0.18151310620515182, 'lambda3': 1.412651730826384}. Best is trial 0 with value: 5.480252110711861.\u001b[0m\n",
      "\u001b[32m[I 2021-04-26 14:30:40,893]\u001b[0m Trial 21 finished with value: 5.48572608658263 and parameters: {'lambda1': 0.10454596682148282, 'lambda2': 0.10515119099265274, 'lambda3': 1.9943618741063787}. Best is trial 0 with value: 5.480252110711861.\u001b[0m\n",
      "\u001b[32m[I 2021-04-26 14:31:07,401]\u001b[0m Trial 22 finished with value: 6.455853437920091 and parameters: {'lambda1': 0.00462283989163359, 'lambda2': 0.0030015542252418703, 'lambda3': 1.9498686693600855}. Best is trial 0 with value: 5.480252110711861.\u001b[0m\n",
      "\u001b[32m[I 2021-04-26 14:31:37,294]\u001b[0m Trial 23 finished with value: 5.684579520541009 and parameters: {'lambda1': 0.26595499358017477, 'lambda2': 0.30054672684774664, 'lambda3': 1.1454330677451774}. Best is trial 0 with value: 5.480252110711861.\u001b[0m\n",
      "\u001b[32m[I 2021-04-26 14:32:05,099]\u001b[0m Trial 24 finished with value: 5.535301165067486 and parameters: {'lambda1': 0.1193382003469311, 'lambda2': 0.14349791439234233, 'lambda3': 1.9964497270597696}. Best is trial 0 with value: 5.480252110711861.\u001b[0m\n",
      "\u001b[32m[I 2021-04-26 14:32:35,214]\u001b[0m Trial 25 finished with value: 5.900084263860005 and parameters: {'lambda1': 0.24974995036236658, 'lambda2': 0.41245057456319645, 'lambda3': 1.7661751795727767}. Best is trial 0 with value: 5.480252110711861.\u001b[0m\n",
      "\u001b[32m[I 2021-04-26 14:33:14,108]\u001b[0m Trial 26 finished with value: 6.789137860929768 and parameters: {'lambda1': 0.000349474180999107, 'lambda2': 0.06460325040172149, 'lambda3': 1.5992094593964188}. Best is trial 0 with value: 5.480252110711861.\u001b[0m\n",
      "\u001b[32m[I 2021-04-26 14:34:01,510]\u001b[0m Trial 27 finished with value: 5.471475903419835 and parameters: {'lambda1': 0.09435415445092875, 'lambda2': 0.195220699922669, 'lambda3': 1.1972548836053538}. Best is trial 27 with value: 5.471475903419835.\u001b[0m\n",
      "\u001b[32m[I 2021-04-26 14:34:43,771]\u001b[0m Trial 28 finished with value: 6.132755249584419 and parameters: {'lambda1': 0.8233429575681958, 'lambda2': 0.5456421107272275, 'lambda3': 1.1867415834335315}. Best is trial 27 with value: 5.471475903419835.\u001b[0m\n",
      "\u001b[32m[I 2021-04-26 14:35:22,062]\u001b[0m Trial 29 finished with value: 5.673592756255526 and parameters: {'lambda1': 0.17939814151255623, 'lambda2': 0.3481732614308912, 'lambda3': 1.3927394893826028}. Best is trial 27 with value: 5.471475903419835.\u001b[0m\n",
      "\u001b[32m[I 2021-04-26 14:35:53,022]\u001b[0m Trial 30 finished with value: 5.689868715513504 and parameters: {'lambda1': 0.21067072945973453, 'lambda2': 0.2722098974689947, 'lambda3': 1.494191105106054}. Best is trial 27 with value: 5.471475903419835.\u001b[0m\n",
      "\u001b[32m[I 2021-04-26 14:36:21,360]\u001b[0m Trial 31 finished with value: 5.4684850364401285 and parameters: {'lambda1': 0.08368806823652758, 'lambda2': 0.18085334909137926, 'lambda3': 1.209017858381717}. Best is trial 31 with value: 5.4684850364401285.\u001b[0m\n",
      "\u001b[32m[I 2021-04-26 14:36:53,387]\u001b[0m Trial 32 finished with value: 5.482122528760821 and parameters: {'lambda1': 0.051007591927269544, 'lambda2': 0.21915775993133813, 'lambda3': 1.2189772885877967}. Best is trial 31 with value: 5.4684850364401285.\u001b[0m\n",
      "\u001b[32m[I 2021-04-26 14:37:27,306]\u001b[0m Trial 33 finished with value: 5.483352224670275 and parameters: {'lambda1': 0.1504195114237457, 'lambda2': 0.16869641973136507, 'lambda3': 0.9297362215917545}. Best is trial 31 with value: 5.4684850364401285.\u001b[0m\n",
      "\u001b[32m[I 2021-04-26 14:38:00,132]\u001b[0m Trial 34 finished with value: 5.513500191769545 and parameters: {'lambda1': 0.041747701922024406, 'lambda2': 0.20340615912427173, 'lambda3': 1.1909875808832626}. Best is trial 31 with value: 5.4684850364401285.\u001b[0m\n",
      "\u001b[32m[I 2021-04-26 14:38:33,893]\u001b[0m Trial 35 finished with value: 5.57343768702363 and parameters: {'lambda1': 0.05945480542277931, 'lambda2': 0.06173263201219417, 'lambda3': 1.0613240654050131}. Best is trial 31 with value: 5.4684850364401285.\u001b[0m\n",
      "\u001b[32m[I 2021-04-26 14:39:07,281]\u001b[0m Trial 36 finished with value: 5.681540719849821 and parameters: {'lambda1': 0.32451961266875007, 'lambda2': 0.45191428774329045, 'lambda3': 0.7288174473885303}. Best is trial 31 with value: 5.4684850364401285.\u001b[0m\n",
      "\u001b[32m[I 2021-04-26 14:39:43,859]\u001b[0m Trial 37 finished with value: 5.537048749887506 and parameters: {'lambda1': 0.13668115759777993, 'lambda2': 0.26590124697805306, 'lambda3': 1.243685619564447}. Best is trial 31 with value: 5.4684850364401285.\u001b[0m\n",
      "\u001b[32m[I 2021-04-26 14:40:23,252]\u001b[0m Trial 38 finished with value: 5.733601874577255 and parameters: {'lambda1': 0.22810144531931736, 'lambda2': 0.37334202517599724, 'lambda3': 1.3349257659293559}. Best is trial 31 with value: 5.4684850364401285.\u001b[0m\n",
      "\u001b[32m[I 2021-04-26 14:41:03,436]\u001b[0m Trial 39 finished with value: 5.766591664652607 and parameters: {'lambda1': 0.4508056486683458, 'lambda2': 0.7583996132956505, 'lambda3': 0.5101760250729079}. Best is trial 31 with value: 5.4684850364401285.\u001b[0m\n",
      "\u001b[32m[I 2021-04-26 14:41:37,942]\u001b[0m Trial 40 finished with value: 5.466886047657341 and parameters: {'lambda1': 0.049159220117571435, 'lambda2': 0.6612600699192859, 'lambda3': 0.8670388019897984}. Best is trial 40 with value: 5.466886047657341.\u001b[0m\n",
      "\u001b[32m[I 2021-04-26 14:42:11,455]\u001b[0m Trial 41 finished with value: 5.467400130825014 and parameters: {'lambda1': 0.04943586731001137, 'lambda2': 0.6708111220569244, 'lambda3': 0.8432958381257402}. Best is trial 40 with value: 5.466886047657341.\u001b[0m\n",
      "\u001b[32m[I 2021-04-26 14:42:42,306]\u001b[0m Trial 42 finished with value: 5.500854400647561 and parameters: {'lambda1': 0.0934858148810441, 'lambda2': 0.6382745824249872, 'lambda3': 0.8755073842071188}. Best is trial 40 with value: 5.466886047657341.\u001b[0m\n",
      "\u001b[32m[I 2021-04-26 14:43:13,446]\u001b[0m Trial 43 finished with value: 5.5037921833078025 and parameters: {'lambda1': 0.03505812308544579, 'lambda2': 0.8463940855285554, 'lambda3': 0.6892102785914302}. Best is trial 40 with value: 5.466886047657341.\u001b[0m\n",
      "\u001b[32m[I 2021-04-26 14:43:44,320]\u001b[0m Trial 44 finished with value: 6.646424977508321 and parameters: {'lambda1': 0.0006766581619831319, 'lambda2': 0.63321706734702, 'lambda3': 0.5940852258986304}. Best is trial 40 with value: 5.466886047657341.\u001b[0m\n",
      "\u001b[32m[I 2021-04-26 14:44:13,804]\u001b[0m Trial 45 finished with value: 5.668111339132874 and parameters: {'lambda1': 0.16165143179052566, 'lambda2': 0.7196044953300867, 'lambda3': 1.0307606248049486}. Best is trial 40 with value: 5.466886047657341.\u001b[0m\n",
      "\u001b[32m[I 2021-04-26 14:44:53,708]\u001b[0m Trial 46 finished with value: 5.49306531172991 and parameters: {'lambda1': 0.08066298402466032, 'lambda2': 0.8131950287974505, 'lambda3': 0.8301756141260063}. Best is trial 40 with value: 5.466886047657341.\u001b[0m\n",
      "\u001b[32m[I 2021-04-26 14:45:37,830]\u001b[0m Trial 47 finished with value: 5.9247677393596785 and parameters: {'lambda1': 0.552221799367909, 'lambda2': 0.6027679020609983, 'lambda3': 0.7980949494407527}. Best is trial 40 with value: 5.466886047657341.\u001b[0m\n",
      "\u001b[32m[I 2021-04-26 14:46:22,821]\u001b[0m Trial 48 finished with value: 5.769756666730188 and parameters: {'lambda1': 0.2955085960392809, 'lambda2': 0.535835842424924, 'lambda3': 1.0085577297864146}. Best is trial 40 with value: 5.466886047657341.\u001b[0m\n",
      "\u001b[32m[I 2021-04-26 14:47:09,875]\u001b[0m Trial 49 finished with value: 5.918843319068744 and parameters: {'lambda1': 0.37861065455258747, 'lambda2': 0.698149680190674, 'lambda3': 1.1034203422772308}. Best is trial 40 with value: 5.466886047657341.\u001b[0m\n",
      "\u001b[32m[I 2021-04-26 14:47:54,565]\u001b[0m Trial 50 finished with value: 5.629644036898941 and parameters: {'lambda1': 0.18933235956891661, 'lambda2': 0.6008336256691175, 'lambda3': 0.8992183090255618}. Best is trial 40 with value: 5.466886047657341.\u001b[0m\n",
      "\u001b[32m[I 2021-04-26 14:48:35,247]\u001b[0m Trial 51 finished with value: 5.638438473037658 and parameters: {'lambda1': 0.0469550162411123, 'lambda2': 0.9318890947379306, 'lambda3': 1.490444105378037}. Best is trial 40 with value: 5.466886047657341.\u001b[0m\n",
      "\u001b[32m[I 2021-04-26 14:49:10,484]\u001b[0m Trial 52 finished with value: 5.468456971309865 and parameters: {'lambda1': 0.07214397096770561, 'lambda2': 0.22450148855223537, 'lambda3': 1.2678022787636838}. Best is trial 40 with value: 5.466886047657341.\u001b[0m\n",
      "\u001b[32m[I 2021-04-26 14:49:44,526]\u001b[0m Trial 53 finished with value: 5.715382041745691 and parameters: {'lambda1': 0.1174743129327349, 'lambda2': 0.7691387561600654, 'lambda3': 1.3055353280733784}. Best is trial 40 with value: 5.466886047657341.\u001b[0m\n",
      "\u001b[32m[I 2021-04-26 14:50:19,008]\u001b[0m Trial 54 finished with value: 5.529264322598593 and parameters: {'lambda1': 0.06811347307708601, 'lambda2': 0.0900997099072183, 'lambda3': 0.97615364361041}. Best is trial 40 with value: 5.466886047657341.\u001b[0m\n",
      "\u001b[32m[I 2021-04-26 14:50:55,883]\u001b[0m Trial 55 finished with value: 5.531839268786823 and parameters: {'lambda1': 0.14974869262067964, 'lambda2': 0.1552591800748191, 'lambda3': 1.555236934553423}. Best is trial 40 with value: 5.466886047657341.\u001b[0m\n",
      "\u001b[32m[I 2021-04-26 14:51:33,850]\u001b[0m Trial 56 finished with value: 6.370338694603571 and parameters: {'lambda1': 0.001672491799901893, 'lambda2': 0.24296910173845804, 'lambda3': 1.2759514627097508}. Best is trial 40 with value: 5.466886047657341.\u001b[0m\n",
      "\u001b[32m[I 2021-04-26 14:52:12,170]\u001b[0m Trial 57 finished with value: 5.498103622153765 and parameters: {'lambda1': 0.09851464275612315, 'lambda2': 0.03228025729429934, 'lambda3': 1.6487202281826605}. Best is trial 40 with value: 5.466886047657341.\u001b[0m\n",
      "\u001b[32m[I 2021-04-26 14:52:49,464]\u001b[0m Trial 58 finished with value: 5.621584345816577 and parameters: {'lambda1': 0.23775017164310588, 'lambda2': 0.18333897702187654, 'lambda3': 1.355748082439677}. Best is trial 40 with value: 5.466886047657341.\u001b[0m\n",
      "\u001b[32m[I 2021-04-26 14:53:26,740]\u001b[0m Trial 59 finished with value: 5.485590881662436 and parameters: {'lambda1': 0.039538425451166176, 'lambda2': 0.8590962937688031, 'lambda3': 1.138916916526587}. Best is trial 40 with value: 5.466886047657341.\u001b[0m\n",
      "\u001b[32m[I 2021-04-26 14:54:05,413]\u001b[0m Trial 60 finished with value: 5.498580255234919 and parameters: {'lambda1': 0.12866993838564633, 'lambda2': 0.48006208149267726, 'lambda3': 0.7527063831790922}. Best is trial 40 with value: 5.466886047657341.\u001b[0m\n",
      "\u001b[32m[I 2021-04-26 14:54:42,560]\u001b[0m Trial 61 finished with value: 5.541485993441726 and parameters: {'lambda1': 0.024629589940792812, 'lambda2': 0.31221781935911475, 'lambda3': 1.2163277724252015}. Best is trial 40 with value: 5.466886047657341.\u001b[0m\n",
      "\u001b[32m[I 2021-04-26 14:55:19,487]\u001b[0m Trial 62 finished with value: 5.472306240110362 and parameters: {'lambda1': 0.07069043844744531, 'lambda2': 0.2084665652120935, 'lambda3': 1.078613588666923}. Best is trial 40 with value: 5.466886047657341.\u001b[0m\n",
      "\u001b[32m[I 2021-04-26 14:55:56,548]\u001b[0m Trial 63 finished with value: 5.906509847899514 and parameters: {'lambda1': 0.6812809701496991, 'lambda2': 0.12175902039985131, 'lambda3': 1.0771703332405853}. Best is trial 40 with value: 5.466886047657341.\u001b[0m\n",
      "\u001b[32m[I 2021-04-26 14:56:32,405]\u001b[0m Trial 64 finished with value: 5.4693774766092975 and parameters: {'lambda1': 0.07404344015242226, 'lambda2': 0.19926225461239822, 'lambda3': 1.1577784453286408}. Best is trial 40 with value: 5.466886047657341.\u001b[0m\n",
      "\u001b[32m[I 2021-04-26 14:57:06,514]\u001b[0m Trial 65 finished with value: 5.53772800696608 and parameters: {'lambda1': 0.18025367716747973, 'lambda2': 0.19095584976324323, 'lambda3': 1.1701581217209507}. Best is trial 40 with value: 5.466886047657341.\u001b[0m\n",
      "\u001b[32m[I 2021-04-26 14:57:41,423]\u001b[0m Trial 66 finished with value: 5.468445609295628 and parameters: {'lambda1': 0.08888659947448639, 'lambda2': 0.24199023472357192, 'lambda3': 0.9938835902036792}. Best is trial 40 with value: 5.466886047657341.\u001b[0m\n",
      "\u001b[32m[I 2021-04-26 14:58:19,279]\u001b[0m Trial 67 finished with value: 5.4821053844734395 and parameters: {'lambda1': 0.09718741754515488, 'lambda2': 0.3432189608545312, 'lambda3': 0.997914272329962}. Best is trial 40 with value: 5.466886047657341.\u001b[0m\n",
      "\u001b[32m[I 2021-04-26 14:58:50,727]\u001b[0m Trial 68 finished with value: 5.67400032051316 and parameters: {'lambda1': 0.020268240122596273, 'lambda2': 0.28508009615931695, 'lambda3': 0.9498051217859695}. Best is trial 40 with value: 5.466886047657341.\u001b[0m\n",
      "\u001b[32m[I 2021-04-26 14:59:17,034]\u001b[0m Trial 69 finished with value: 5.59447601010752 and parameters: {'lambda1': 0.21086662091312228, 'lambda2': 0.24723839985992774, 'lambda3': 1.1382551090288826}. Best is trial 40 with value: 5.466886047657341.\u001b[0m\n",
      "\u001b[32m[I 2021-04-26 14:59:41,423]\u001b[0m Trial 70 finished with value: 5.473361623050452 and parameters: {'lambda1': 0.13504086203907367, 'lambda2': 0.15291431887730556, 'lambda3': 0.9003880399956559}. Best is trial 40 with value: 5.466886047657341.\u001b[0m\n",
      "\u001b[32m[I 2021-04-26 15:00:06,420]\u001b[0m Trial 71 finished with value: 5.471405709711223 and parameters: {'lambda1': 0.06996091118833246, 'lambda2': 0.22660260369132387, 'lambda3': 1.0542005103320107}. Best is trial 40 with value: 5.466886047657341.\u001b[0m\n",
      "\u001b[32m[I 2021-04-26 15:00:31,364]\u001b[0m Trial 72 finished with value: 5.473864793701884 and parameters: {'lambda1': 0.0796777977331168, 'lambda2': 0.23711360578916668, 'lambda3': 0.8522667709118302}. Best is trial 40 with value: 5.466886047657341.\u001b[0m\n",
      "\u001b[32m[I 2021-04-26 15:00:57,987]\u001b[0m Trial 73 finished with value: 5.481777832445406 and parameters: {'lambda1': 0.11721975960508933, 'lambda2': 0.08429761530952279, 'lambda3': 0.7713483343110196}. Best is trial 40 with value: 5.466886047657341.\u001b[0m\n",
      "\u001b[32m[I 2021-04-26 15:01:30,824]\u001b[0m Trial 74 finished with value: 6.153162520058837 and parameters: {'lambda1': 0.0024596789625367307, 'lambda2': 0.38326996282216874, 'lambda3': 1.2428984639805551}. Best is trial 40 with value: 5.466886047657341.\u001b[0m\n",
      "\u001b[32m[I 2021-04-26 15:02:00,177]\u001b[0m Trial 75 finished with value: 5.493675922032738 and parameters: {'lambda1': 0.06472166979056328, 'lambda2': 0.6632180084983247, 'lambda3': 1.041343248616136}. Best is trial 40 with value: 5.466886047657341.\u001b[0m\n",
      "\u001b[32m[I 2021-04-26 15:02:35,011]\u001b[0m Trial 76 finished with value: 5.514454166495745 and parameters: {'lambda1': 0.1588754950588616, 'lambda2': 0.14315050032298227, 'lambda3': 1.3799681775120431}. Best is trial 40 with value: 5.466886047657341.\u001b[0m\n",
      "\u001b[32m[I 2021-04-26 15:03:08,918]\u001b[0m Trial 77 finished with value: 5.551211352740063 and parameters: {'lambda1': 0.029383973120945046, 'lambda2': 0.2734074591083302, 'lambda3': 1.1069234868477908}. Best is trial 40 with value: 5.466886047657341.\u001b[0m\n",
      "\u001b[32m[I 2021-04-26 15:03:51,408]\u001b[0m Trial 78 finished with value: 5.468831499547902 and parameters: {'lambda1': 0.09792296085362534, 'lambda2': 0.21571703713277568, 'lambda3': 0.9344298418312796}. Best is trial 40 with value: 5.466886047657341.\u001b[0m\n",
      "\u001b[32m[I 2021-04-26 15:04:32,325]\u001b[0m Trial 79 finished with value: 5.471230595925359 and parameters: {'lambda1': 0.10865673389522612, 'lambda2': 0.22371942631417022, 'lambda3': 0.9291621338509605}. Best is trial 40 with value: 5.466886047657341.\u001b[0m\n",
      "\u001b[32m[I 2021-04-26 15:05:12,306]\u001b[0m Trial 80 finished with value: 5.564729098587836 and parameters: {'lambda1': 0.20130619772070701, 'lambda2': 0.2929546303616676, 'lambda3': 0.9383765198586488}. Best is trial 40 with value: 5.466886047657341.\u001b[0m\n",
      "\u001b[32m[I 2021-04-26 15:05:51,374]\u001b[0m Trial 81 finished with value: 5.60570606756625 and parameters: {'lambda1': 0.10366673537400203, 'lambda2': 0.9882827939811576, 'lambda3': 0.9911680973430763}. Best is trial 40 with value: 5.466886047657341.\u001b[0m\n",
      "\u001b[32m[I 2021-04-26 15:06:31,537]\u001b[0m Trial 82 finished with value: 5.504606577334247 and parameters: {'lambda1': 0.054921848659546225, 'lambda2': 0.22285805146670923, 'lambda3': 0.9119805522349355}. Best is trial 40 with value: 5.466886047657341.\u001b[0m\n",
      "\u001b[32m[I 2021-04-26 15:07:11,102]\u001b[0m Trial 83 finished with value: 5.477935286493438 and parameters: {'lambda1': 0.14957357781739292, 'lambda2': 0.1717392651708745, 'lambda3': 0.8115354008357055}. Best is trial 40 with value: 5.466886047657341.\u001b[0m\n",
      "\u001b[32m[I 2021-04-26 15:07:50,927]\u001b[0m Trial 84 finished with value: 5.468212986030014 and parameters: {'lambda1': 0.07870733617836555, 'lambda2': 0.3204707288122856, 'lambda3': 0.8636467050203842}. Best is trial 40 with value: 5.466886047657341.\u001b[0m\n",
      "\u001b[32m[I 2021-04-26 15:08:37,734]\u001b[0m Trial 85 finished with value: 5.694545380247317 and parameters: {'lambda1': 0.021327959569818505, 'lambda2': 0.2582034617839541, 'lambda3': 0.8924156185964401}. Best is trial 40 with value: 5.466886047657341.\u001b[0m\n",
      "\u001b[32m[I 2021-04-26 15:09:33,978]\u001b[0m Trial 86 finished with value: 5.474784838760719 and parameters: {'lambda1': 0.12443814736658104, 'lambda2': 0.3361850854860341, 'lambda3': 0.6732228123164792}. Best is trial 40 with value: 5.466886047657341.\u001b[0m\n",
      "\u001b[32m[I 2021-04-26 15:10:14,977]\u001b[0m Trial 87 finished with value: 6.189601529577936 and parameters: {'lambda1': 0.9981046560438895, 'lambda2': 0.4164600033420368, 'lambda3': 0.8490607698883134}. Best is trial 40 with value: 5.466886047657341.\u001b[0m\n",
      "\u001b[32m[I 2021-04-26 15:10:50,054]\u001b[0m Trial 88 finished with value: 5.507993210089742 and parameters: {'lambda1': 0.17655123315097943, 'lambda2': 0.3122267634528775, 'lambda3': 0.7048916794078501}. Best is trial 40 with value: 5.466886047657341.\u001b[0m\n",
      "\u001b[32m[I 2021-04-26 15:11:23,400]\u001b[0m Trial 89 finished with value: 5.5023215344713545 and parameters: {'lambda1': 0.090654495250765, 'lambda2': 0.1296508031822081, 'lambda3': 0.6141482588679141}. Best is trial 40 with value: 5.466886047657341.\u001b[0m\n",
      "\u001b[32m[I 2021-04-26 15:11:53,420]\u001b[0m Trial 90 finished with value: 5.564096901661447 and parameters: {'lambda1': 0.04733625335199142, 'lambda2': 0.1871422189847792, 'lambda3': 0.7839615336230057}. Best is trial 40 with value: 5.466886047657341.\u001b[0m\n",
      "\u001b[32m[I 2021-04-26 15:12:17,907]\u001b[0m Trial 91 finished with value: 5.471886472457112 and parameters: {'lambda1': 0.07498002148556322, 'lambda2': 0.20802223103114065, 'lambda3': 1.029729037575367}. Best is trial 40 with value: 5.466886047657341.\u001b[0m\n",
      "\u001b[32m[I 2021-04-26 15:12:41,557]\u001b[0m Trial 92 finished with value: 6.6088847564054705 and parameters: {'lambda1': 0.0009270650701049266, 'lambda2': 0.25014349654248264, 'lambda3': 0.8578971603143539}. Best is trial 40 with value: 5.466886047657341.\u001b[0m\n",
      "\u001b[32m[I 2021-04-26 15:13:05,270]\u001b[0m Trial 93 finished with value: 5.474430512116273 and parameters: {'lambda1': 0.11323056447661606, 'lambda2': 0.22831485477841107, 'lambda3': 0.9561423941131313}. Best is trial 40 with value: 5.466886047657341.\u001b[0m\n",
      "\u001b[32m[I 2021-04-26 15:13:26,161]\u001b[0m Trial 94 finished with value: 5.521881738823971 and parameters: {'lambda1': 0.05660267389026591, 'lambda2': 0.1628381023290828, 'lambda3': 0.9276122490023254}. Best is trial 40 with value: 5.466886047657341.\u001b[0m\n",
      "\u001b[32m[I 2021-04-26 15:13:47,023]\u001b[0m Trial 95 finished with value: 5.600132200198488 and parameters: {'lambda1': 0.14143540690691175, 'lambda2': 0.5835461362282278, 'lambda3': 1.0233611661015907}. Best is trial 40 with value: 5.466886047657341.\u001b[0m\n",
      "\u001b[32m[I 2021-04-26 15:14:08,118]\u001b[0m Trial 96 finished with value: 5.554471149231567 and parameters: {'lambda1': 0.02717702016333124, 'lambda2': 0.3725788854108319, 'lambda3': 0.9757557808715295}. Best is trial 40 with value: 5.466886047657341.\u001b[0m\n",
      "\u001b[32m[I 2021-04-26 15:14:30,361]\u001b[0m Trial 97 finished with value: 5.469371143826299 and parameters: {'lambda1': 0.07949754558828076, 'lambda2': 0.2795610066890369, 'lambda3': 0.8766939491780196}. Best is trial 40 with value: 5.466886047657341.\u001b[0m\n",
      "\u001b[32m[I 2021-04-26 15:14:52,433]\u001b[0m Trial 98 finished with value: 5.468692564109665 and parameters: {'lambda1': 0.09565457647394586, 'lambda2': 0.2792928365768676, 'lambda3': 0.8278441463396917}. Best is trial 40 with value: 5.466886047657341.\u001b[0m\n",
      "\u001b[32m[I 2021-04-26 15:15:14,722]\u001b[0m Trial 99 finished with value: 5.478363854583833 and parameters: {'lambda1': 0.08797949736091706, 'lambda2': 0.6971933978386144, 'lambda3': 0.7339927219958792}. Best is trial 40 with value: 5.466886047657341.\u001b[0m\n",
      "\u001b[32m[I 2021-04-26 15:15:35,593]\u001b[0m Trial 100 finished with value: 5.521678971231943 and parameters: {'lambda1': 0.17055777199387548, 'lambda2': 0.32204133271193175, 'lambda3': 0.82038816793237}. Best is trial 40 with value: 5.466886047657341.\u001b[0m\n",
      "\u001b[32m[I 2021-04-26 15:15:56,755]\u001b[0m Trial 101 finished with value: 5.468855415743879 and parameters: {'lambda1': 0.04409191417398415, 'lambda2': 0.28748268935215876, 'lambda3': 1.4473864107661583}. Best is trial 40 with value: 5.466886047657341.\u001b[0m\n",
      "\u001b[32m[I 2021-04-26 15:16:17,800]\u001b[0m Trial 102 finished with value: 5.543033561155659 and parameters: {'lambda1': 0.018491841605466415, 'lambda2': 0.2841446830657908, 'lambda3': 1.532763051172852}. Best is trial 40 with value: 5.466886047657341.\u001b[0m\n",
      "\u001b[32m[I 2021-04-26 15:16:38,733]\u001b[0m Trial 103 finished with value: 5.469439978796206 and parameters: {'lambda1': 0.0465312052151877, 'lambda2': 0.25956337388439243, 'lambda3': 1.4408597421833194}. Best is trial 40 with value: 5.466886047657341.\u001b[0m\n",
      "\u001b[32m[I 2021-04-26 15:16:59,537]\u001b[0m Trial 104 finished with value: 5.5579368540718 and parameters: {'lambda1': 0.08690158461724963, 'lambda2': 0.3915718584991604, 'lambda3': 1.4559113600259241}. Best is trial 40 with value: 5.466886047657341.\u001b[0m\n",
      "\u001b[32m[I 2021-04-26 15:17:21,696]\u001b[0m Trial 105 finished with value: 5.55202075716037 and parameters: {'lambda1': 0.12588817920025655, 'lambda2': 0.2976288068890849, 'lambda3': 1.3239886869871054}. Best is trial 40 with value: 5.466886047657341.\u001b[0m\n",
      "\u001b[32m[I 2021-04-26 15:17:46,040]\u001b[0m Trial 106 finished with value: 6.081276725791269 and parameters: {'lambda1': 0.8349389129087745, 'lambda2': 0.35346056534446585, 'lambda3': 0.8692056834614665}. Best is trial 40 with value: 5.466886047657341.\u001b[0m\n",
      "\u001b[32m[I 2021-04-26 15:18:12,595]\u001b[0m Trial 107 finished with value: 5.477501230124849 and parameters: {'lambda1': 0.04334705928912885, 'lambda2': 0.2716984599181799, 'lambda3': 1.2764085944613335}. Best is trial 40 with value: 5.466886047657341.\u001b[0m\n",
      "\u001b[32m[I 2021-04-26 15:18:40,072]\u001b[0m Trial 108 finished with value: 5.4691513858290515 and parameters: {'lambda1': 0.07033126896992528, 'lambda2': 0.450735075024471, 'lambda3': 0.7575392086361122}. Best is trial 40 with value: 5.466886047657341.\u001b[0m\n",
      "\u001b[32m[I 2021-04-26 15:19:11,679]\u001b[0m Trial 109 finished with value: 5.492258153075207 and parameters: {'lambda1': 0.14277511644370133, 'lambda2': 0.4435597059008606, 'lambda3': 0.6519859938828094}. Best is trial 40 with value: 5.466886047657341.\u001b[0m\n",
      "\u001b[32m[I 2021-04-26 15:19:36,481]\u001b[0m Trial 110 finished with value: 5.897116985055195 and parameters: {'lambda1': 0.009008935609433416, 'lambda2': 0.5157558082200472, 'lambda3': 0.7491728919728897}. Best is trial 40 with value: 5.466886047657341.\u001b[0m\n",
      "\u001b[32m[I 2021-04-26 15:19:59,560]\u001b[0m Trial 111 finished with value: 5.494782791771841 and parameters: {'lambda1': 0.06659229895552442, 'lambda2': 0.20826475765569116, 'lambda3': 0.8360675527814002}. Best is trial 40 with value: 5.466886047657341.\u001b[0m\n",
      "\u001b[32m[I 2021-04-26 15:20:21,084]\u001b[0m Trial 112 finished with value: 5.494837292322254 and parameters: {'lambda1': 0.10236096756125794, 'lambda2': 0.6304913220085926, 'lambda3': 0.789127870715693}. Best is trial 40 with value: 5.466886047657341.\u001b[0m\n",
      "\u001b[32m[I 2021-04-26 15:20:41,335]\u001b[0m Trial 113 finished with value: 5.468038809201121 and parameters: {'lambda1': 0.08329361692025615, 'lambda2': 0.33549280420876276, 'lambda3': 0.8774707602679489}. Best is trial 40 with value: 5.466886047657341.\u001b[0m\n",
      "\u001b[32m[I 2021-04-26 15:21:07,097]\u001b[0m Trial 114 finished with value: 5.5430674330808625 and parameters: {'lambda1': 0.03431536779436975, 'lambda2': 0.33009814099465046, 'lambda3': 0.9042175554948837}. Best is trial 40 with value: 5.466886047657341.\u001b[0m\n",
      "\u001b[32m[I 2021-04-26 15:21:31,498]\u001b[0m Trial 115 finished with value: 6.760722651167279 and parameters: {'lambda1': 0.00031757541663782196, 'lambda2': 0.3626183140837082, 'lambda3': 0.7648246232209184}. Best is trial 40 with value: 5.466886047657341.\u001b[0m\n",
      "\u001b[32m[I 2021-04-26 15:21:54,445]\u001b[0m Trial 116 finished with value: 5.468227806896227 and parameters: {'lambda1': 0.08549119101538913, 'lambda2': 0.3938970491217438, 'lambda3': 0.7879083834096562}. Best is trial 40 with value: 5.466886047657341.\u001b[0m\n",
      "\u001b[32m[I 2021-04-26 15:22:17,099]\u001b[0m Trial 117 finished with value: 5.473084679911337 and parameters: {'lambda1': 0.10822846675631428, 'lambda2': 0.4001481890457147, 'lambda3': 0.7104694284346857}. Best is trial 40 with value: 5.466886047657341.\u001b[0m\n",
      "\u001b[32m[I 2021-04-26 15:22:42,550]\u001b[0m Trial 118 finished with value: 5.531471793589887 and parameters: {'lambda1': 0.05150410584515071, 'lambda2': 0.4537529360268679, 'lambda3': 0.5353686388949179}. Best is trial 40 with value: 5.466886047657341.\u001b[0m\n",
      "\u001b[32m[I 2021-04-26 15:23:09,163]\u001b[0m Trial 119 finished with value: 5.546821266166785 and parameters: {'lambda1': 0.1626857318814264, 'lambda2': 0.4812223102280402, 'lambda3': 0.8171903896765245}. Best is trial 40 with value: 5.466886047657341.\u001b[0m\n",
      "\u001b[32m[I 2021-04-26 15:23:33,517]\u001b[0m Trial 120 finished with value: 5.468521218423163 and parameters: {'lambda1': 0.09259986860641829, 'lambda2': 0.303935573974167, 'lambda3': 0.8004989776066803}. Best is trial 40 with value: 5.466886047657341.\u001b[0m\n",
      "\u001b[32m[I 2021-04-26 15:23:59,026]\u001b[0m Trial 121 finished with value: 5.493586637733129 and parameters: {'lambda1': 0.12188436956464012, 'lambda2': 0.42704757435920504, 'lambda3': 0.8068381779428558}. Best is trial 40 with value: 5.466886047657341.\u001b[0m\n",
      "\u001b[32m[I 2021-04-26 15:24:23,615]\u001b[0m Trial 122 finished with value: 5.469233916865389 and parameters: {'lambda1': 0.09006208598932855, 'lambda2': 0.3240796791003946, 'lambda3': 0.8787993965012324}. Best is trial 40 with value: 5.466886047657341.\u001b[0m\n",
      "\u001b[32m[I 2021-04-26 15:24:45,291]\u001b[0m Trial 123 finished with value: 5.497161260028611 and parameters: {'lambda1': 0.060748658653242346, 'lambda2': 0.30036508872337436, 'lambda3': 0.7319571038246244}. Best is trial 40 with value: 5.466886047657341.\u001b[0m\n",
      "\u001b[32m[I 2021-04-26 15:25:08,085]\u001b[0m Trial 124 finished with value: 5.579016369053618 and parameters: {'lambda1': 0.0319574076255671, 'lambda2': 0.313126983488596, 'lambda3': 0.8412226514693636}. Best is trial 40 with value: 5.466886047657341.\u001b[0m\n",
      "\u001b[32m[I 2021-04-26 15:25:30,331]\u001b[0m Trial 125 finished with value: 5.500835611988181 and parameters: {'lambda1': 0.14375628323125783, 'lambda2': 0.3589422670676874, 'lambda3': 0.7928136440592742}. Best is trial 40 with value: 5.466886047657341.\u001b[0m\n",
      "\u001b[32m[I 2021-04-26 15:25:57,136]\u001b[0m Trial 126 finished with value: 5.475764015137941 and parameters: {'lambda1': 0.10138777963962331, 'lambda2': 0.4320493306138876, 'lambda3': 0.780469321298181}. Best is trial 40 with value: 5.466886047657341.\u001b[0m\n",
      "\u001b[32m[I 2021-04-26 15:26:19,737]\u001b[0m Trial 127 finished with value: 5.480515728714687 and parameters: {'lambda1': 0.06389775067389492, 'lambda2': 0.4672804630736949, 'lambda3': 0.6618388919080732}. Best is trial 40 with value: 5.466886047657341.\u001b[0m\n",
      "\u001b[32m[I 2021-04-26 15:26:44,532]\u001b[0m Trial 128 finished with value: 5.47795850522036 and parameters: {'lambda1': 0.07545975827107668, 'lambda2': 0.5088099744700842, 'lambda3': 0.9547859728468157}. Best is trial 40 with value: 5.466886047657341.\u001b[0m\n",
      "\u001b[32m[I 2021-04-26 15:27:08,787]\u001b[0m Trial 129 finished with value: 5.500272447036872 and parameters: {'lambda1': 0.12804591406406, 'lambda2': 0.34423756326515065, 'lambda3': 0.9123991647183607}. Best is trial 40 with value: 5.466886047657341.\u001b[0m\n",
      "\u001b[32m[I 2021-04-26 15:27:30,850]\u001b[0m Trial 130 finished with value: 5.765714216677697 and parameters: {'lambda1': 0.017879675605867174, 'lambda2': 0.24456077899120499, 'lambda3': 0.8625066921581559}. Best is trial 40 with value: 5.466886047657341.\u001b[0m\n",
      "\u001b[32m[I 2021-04-26 15:27:51,806]\u001b[0m Trial 131 finished with value: 5.47617282120841 and parameters: {'lambda1': 0.09202699170886754, 'lambda2': 0.40873902590205485, 'lambda3': 0.8886885608848588}. Best is trial 40 with value: 5.466886047657341.\u001b[0m\n",
      "\u001b[32m[I 2021-04-26 15:28:13,948]\u001b[0m Trial 132 finished with value: 5.507831541048042 and parameters: {'lambda1': 0.04210928148703584, 'lambda2': 0.38959701433060967, 'lambda3': 0.839034882155593}. Best is trial 40 with value: 5.466886047657341.\u001b[0m\n",
      "\u001b[32m[I 2021-04-26 15:28:37,896]\u001b[0m Trial 133 finished with value: 5.469583672996217 and parameters: {'lambda1': 0.09135714423507026, 'lambda2': 0.32587614569839884, 'lambda3': 0.8747769587846838}. Best is trial 40 with value: 5.466886047657341.\u001b[0m\n",
      "\u001b[32m[I 2021-04-26 15:29:01,653]\u001b[0m Trial 134 finished with value: 5.468219437834367 and parameters: {'lambda1': 0.07966311092269412, 'lambda2': 0.3038610260821692, 'lambda3': 0.9895197282809943}. Best is trial 40 with value: 5.466886047657341.\u001b[0m\n",
      "\u001b[32m[I 2021-04-26 15:29:26,151]\u001b[0m Trial 135 finished with value: 5.485161338176769 and parameters: {'lambda1': 0.11339369289947696, 'lambda2': 0.2926925131323673, 'lambda3': 0.9758625643057349}. Best is trial 40 with value: 5.466886047657341.\u001b[0m\n",
      "\u001b[32m[I 2021-04-26 15:29:49,277]\u001b[0m Trial 136 finished with value: 5.476608854336767 and parameters: {'lambda1': 0.06031080366329948, 'lambda2': 0.2637703424399177, 'lambda3': 1.0025463514950532}. Best is trial 40 with value: 5.466886047657341.\u001b[0m\n",
      "\u001b[32m[I 2021-04-26 15:30:14,440]\u001b[0m Trial 137 finished with value: 5.7686998586650775 and parameters: {'lambda1': 0.13571656206510951, 'lambda2': 0.747242235345316, 'lambda3': 1.3695190981878367}. Best is trial 40 with value: 5.466886047657341.\u001b[0m\n",
      "\u001b[32m[I 2021-04-26 15:30:40,008]\u001b[0m Trial 138 finished with value: 5.823648544954611 and parameters: {'lambda1': 0.5251967293233483, 'lambda2': 0.3689237071975598, 'lambda3': 0.707791942017294}. Best is trial 40 with value: 5.466886047657341.\u001b[0m\n",
      "\u001b[32m[I 2021-04-26 15:31:06,517]\u001b[0m Trial 139 finished with value: 5.506336281206449 and parameters: {'lambda1': 0.03455870754769299, 'lambda2': 0.6789157486916862, 'lambda3': 0.7555374108340941}. Best is trial 40 with value: 5.466886047657341.\u001b[0m\n",
      "\u001b[32m[I 2021-04-26 15:31:31,732]\u001b[0m Trial 140 finished with value: 6.708701746541199 and parameters: {'lambda1': 0.00020065498330655573, 'lambda2': 0.23539525004755635, 'lambda3': 1.6744928513117778}. Best is trial 40 with value: 5.466886047657341.\u001b[0m\n",
      "\u001b[32m[I 2021-04-26 15:31:56,845]\u001b[0m Trial 141 finished with value: 5.4694709207796395 and parameters: {'lambda1': 0.0843674837447575, 'lambda2': 0.33970046986503527, 'lambda3': 0.9287516508381629}. Best is trial 40 with value: 5.466886047657341.\u001b[0m\n",
      "\u001b[32m[I 2021-04-26 15:32:21,735]\u001b[0m Trial 142 finished with value: 5.474700465450587 and parameters: {'lambda1': 0.11221553089081389, 'lambda2': 0.31326588207637296, 'lambda3': 0.8095726815526261}. Best is trial 40 with value: 5.466886047657341.\u001b[0m\n",
      "\u001b[32m[I 2021-04-26 15:32:45,419]\u001b[0m Trial 143 finished with value: 5.470296434313482 and parameters: {'lambda1': 0.07666769441712742, 'lambda2': 0.277518089109613, 'lambda3': 0.8817817218658057}. Best is trial 40 with value: 5.466886047657341.\u001b[0m\n",
      "\u001b[32m[I 2021-04-26 15:33:08,421]\u001b[0m Trial 144 finished with value: 5.486074782333935 and parameters: {'lambda1': 0.058876878577898153, 'lambda2': 0.25148981267652515, 'lambda3': 0.9399671460329876}. Best is trial 40 with value: 5.466886047657341.\u001b[0m\n",
      "\u001b[32m[I 2021-04-26 15:33:32,499]\u001b[0m Trial 145 finished with value: 5.727726418316389 and parameters: {'lambda1': 0.19012692594102817, 'lambda2': 0.7182675648198359, 'lambda3': 1.0798169704433027}. Best is trial 40 with value: 5.466886047657341.\u001b[0m\n",
      "\u001b[32m[I 2021-04-26 15:33:55,810]\u001b[0m Trial 146 finished with value: 5.523138228697823 and parameters: {'lambda1': 0.09252509729140415, 'lambda2': 0.30821358124462567, 'lambda3': 1.4140765798010602}. Best is trial 40 with value: 5.466886047657341.\u001b[0m\n",
      "\u001b[32m[I 2021-04-26 15:34:19,165]\u001b[0m Trial 147 finished with value: 5.486903589065234 and parameters: {'lambda1': 0.1626463428381183, 'lambda2': 0.17690009399754966, 'lambda3': 0.845638689653932}. Best is trial 40 with value: 5.466886047657341.\u001b[0m\n",
      "\u001b[32m[I 2021-04-26 15:34:42,922]\u001b[0m Trial 148 finished with value: 5.683081362311675 and parameters: {'lambda1': 0.020250921537146152, 'lambda2': 0.3501300147944687, 'lambda3': 0.8217171308064942}. Best is trial 40 with value: 5.466886047657341.\u001b[0m\n",
      "\u001b[32m[I 2021-04-26 15:35:06,062]\u001b[0m Trial 149 finished with value: 5.494537550876857 and parameters: {'lambda1': 0.04792817622872609, 'lambda2': 0.32856061896538785, 'lambda3': 0.9032026982039598}. Best is trial 40 with value: 5.466886047657341.\u001b[0m\n",
      "\u001b[32m[I 2021-04-26 15:35:28,331]\u001b[0m Trial 150 finished with value: 5.469437778612135 and parameters: {'lambda1': 0.10448654164306491, 'lambda2': 0.2846424796772351, 'lambda3': 0.7598720390079995}. Best is trial 40 with value: 5.466886047657341.\u001b[0m\n",
      "\u001b[32m[I 2021-04-26 15:35:51,657]\u001b[0m Trial 151 finished with value: 5.478104420510978 and parameters: {'lambda1': 0.07729320372242947, 'lambda2': 0.21135665533652298, 'lambda3': 0.8707065988446412}. Best is trial 40 with value: 5.466886047657341.\u001b[0m\n",
      "\u001b[32m[I 2021-04-26 15:36:15,824]\u001b[0m Trial 152 finished with value: 5.468112887998955 and parameters: {'lambda1': 0.07860924225682005, 'lambda2': 0.27088224164750674, 'lambda3': 0.9609803263651381}. Best is trial 40 with value: 5.466886047657341.\u001b[0m\n",
      "\u001b[32m[I 2021-04-26 15:36:41,202]\u001b[0m Trial 153 finished with value: 5.493997295138059 and parameters: {'lambda1': 0.1295483484234295, 'lambda2': 0.2721222758379203, 'lambda3': 0.9721938862569065}. Best is trial 40 with value: 5.466886047657341.\u001b[0m\n",
      "\u001b[32m[I 2021-04-26 15:37:05,143]\u001b[0m Trial 154 finished with value: 5.486748536570899 and parameters: {'lambda1': 0.05645844045235689, 'lambda2': 0.2339198603805241, 'lambda3': 1.0160068845243573}. Best is trial 40 with value: 5.466886047657341.\u001b[0m\n",
      "\u001b[32m[I 2021-04-26 15:37:28,561]\u001b[0m Trial 155 finished with value: 5.472598694696687 and parameters: {'lambda1': 0.0869163243315032, 'lambda2': 0.37568798119461383, 'lambda3': 0.923008418450271}. Best is trial 40 with value: 5.466886047657341.\u001b[0m\n",
      "\u001b[32m[I 2021-04-26 15:37:52,781]\u001b[0m Trial 156 finished with value: 5.5538930650282134 and parameters: {'lambda1': 0.039063242338615, 'lambda2': 0.3048102474267726, 'lambda3': 0.7885367754537039}. Best is trial 40 with value: 5.466886047657341.\u001b[0m\n",
      "\u001b[32m[I 2021-04-26 15:38:18,170]\u001b[0m Trial 157 finished with value: 5.571958113033303 and parameters: {'lambda1': 0.11230122511242485, 'lambda2': 0.781360963003505, 'lambda3': 0.9521609861517238}. Best is trial 40 with value: 5.466886047657341.\u001b[0m\n",
      "\u001b[32m[I 2021-04-26 15:38:44,382]\u001b[0m Trial 158 finished with value: 5.468245008074451 and parameters: {'lambda1': 0.06930750921427627, 'lambda2': 0.25193979074629813, 'lambda3': 1.2246130437302445}. Best is trial 40 with value: 5.466886047657341.\u001b[0m\n",
      "\u001b[32m[I 2021-04-26 15:39:08,715]\u001b[0m Trial 159 finished with value: 5.550679210670148 and parameters: {'lambda1': 0.06893127825714604, 'lambda2': 0.6603668192785583, 'lambda3': 1.244635570267726}. Best is trial 40 with value: 5.466886047657341.\u001b[0m\n",
      "\u001b[32m[I 2021-04-26 15:39:31,511]\u001b[0m Trial 160 finished with value: 5.70600444437191 and parameters: {'lambda1': 0.016537316153560057, 'lambda2': 0.24537671073564937, 'lambda3': 1.1230161549766053}. Best is trial 40 with value: 5.466886047657341.\u001b[0m\n",
      "\u001b[32m[I 2021-04-26 15:39:54,242]\u001b[0m Trial 161 finished with value: 5.490438322694851 and parameters: {'lambda1': 0.1017824774641238, 'lambda2': 0.26459438736926844, 'lambda3': 1.1965202784190971}. Best is trial 40 with value: 5.466886047657341.\u001b[0m\n",
      "\u001b[32m[I 2021-04-26 15:40:16,576]\u001b[0m Trial 162 finished with value: 5.468960111383932 and parameters: {'lambda1': 0.07450748741823418, 'lambda2': 0.2163864312929005, 'lambda3': 1.2895358508085397}. Best is trial 40 with value: 5.466886047657341.\u001b[0m\n",
      "\u001b[32m[I 2021-04-26 15:40:36,983]\u001b[0m Trial 163 finished with value: 5.477314065306412 and parameters: {'lambda1': 0.05360542913545879, 'lambda2': 0.19293993119010105, 'lambda3': 1.345398764010495}. Best is trial 40 with value: 5.466886047657341.\u001b[0m\n",
      "\u001b[32m[I 2021-04-26 15:40:59,239]\u001b[0m Trial 164 finished with value: 5.468379390619139 and parameters: {'lambda1': 0.07557210974434486, 'lambda2': 0.22678151659215864, 'lambda3': 1.2115976999142293}. Best is trial 40 with value: 5.466886047657341.\u001b[0m\n",
      "\u001b[32m[I 2021-04-26 15:41:24,388]\u001b[0m Trial 165 finished with value: 5.524947775355595 and parameters: {'lambda1': 0.03428272376336117, 'lambda2': 0.2136478029843118, 'lambda3': 1.2827072725891049}. Best is trial 40 with value: 5.466886047657341.\u001b[0m\n",
      "\u001b[32m[I 2021-04-26 15:41:49,870]\u001b[0m Trial 166 finished with value: 5.500618730239654 and parameters: {'lambda1': 0.14650057121506732, 'lambda2': 0.16432078518414817, 'lambda3': 1.2291473734043161}. Best is trial 40 with value: 5.466886047657341.\u001b[0m\n",
      "\u001b[32m[I 2021-04-26 15:42:15,432]\u001b[0m Trial 167 finished with value: 5.499936306422468 and parameters: {'lambda1': 0.1246164546748906, 'lambda2': 0.22628634844030507, 'lambda3': 1.1848746822847622}. Best is trial 40 with value: 5.466886047657341.\u001b[0m\n",
      "\u001b[32m[I 2021-04-26 15:42:38,402]\u001b[0m Trial 168 finished with value: 5.4684591481144365 and parameters: {'lambda1': 0.07765521368397846, 'lambda2': 0.19512569882964548, 'lambda3': 1.272009756289532}. Best is trial 40 with value: 5.466886047657341.\u001b[0m\n",
      "\u001b[32m[I 2021-04-26 15:43:00,779]\u001b[0m Trial 169 finished with value: 5.496645617686575 and parameters: {'lambda1': 0.04734085679466228, 'lambda2': 0.1884403060123573, 'lambda3': 1.2574573021222806}. Best is trial 40 with value: 5.466886047657341.\u001b[0m\n",
      "\u001b[32m[I 2021-04-26 15:43:22,919]\u001b[0m Trial 170 finished with value: 6.375973747129856 and parameters: {'lambda1': 0.001661632503215292, 'lambda2': 0.28538035488488567, 'lambda3': 1.1514909211718274}. Best is trial 40 with value: 5.466886047657341.\u001b[0m\n",
      "\u001b[32m[I 2021-04-26 15:43:45,546]\u001b[0m Trial 171 finished with value: 5.4800439636076055 and parameters: {'lambda1': 0.08167771751701312, 'lambda2': 0.25214185530355177, 'lambda3': 1.3258125053187402}. Best is trial 40 with value: 5.466886047657341.\u001b[0m\n",
      "\u001b[32m[I 2021-04-26 15:44:09,991]\u001b[0m Trial 172 finished with value: 5.468486980981624 and parameters: {'lambda1': 0.07279009472631925, 'lambda2': 0.2036339499542662, 'lambda3': 1.2157108414660143}. Best is trial 40 with value: 5.466886047657341.\u001b[0m\n",
      "\u001b[32m[I 2021-04-26 15:44:32,938]\u001b[0m Trial 173 finished with value: 5.470413423709325 and parameters: {'lambda1': 0.10640703378881898, 'lambda2': 0.14438035131556112, 'lambda3': 1.2009102551285882}. Best is trial 40 with value: 5.466886047657341.\u001b[0m\n",
      "\u001b[32m[I 2021-04-26 15:44:56,208]\u001b[0m Trial 174 finished with value: 5.473740680327579 and parameters: {'lambda1': 0.06272705498994653, 'lambda2': 0.19756928822625555, 'lambda3': 1.215729337083524}. Best is trial 40 with value: 5.466886047657341.\u001b[0m\n",
      "\u001b[32m[I 2021-04-26 15:45:18,537]\u001b[0m Trial 175 finished with value: 5.588440748343982 and parameters: {'lambda1': 0.029295896145410602, 'lambda2': 0.17249693986386627, 'lambda3': 1.263804558256785}. Best is trial 40 with value: 5.466886047657341.\u001b[0m\n",
      "\u001b[32m[I 2021-04-26 15:45:40,786]\u001b[0m Trial 176 finished with value: 5.478725132852849 and parameters: {'lambda1': 0.09275935966170219, 'lambda2': 0.23653567331587935, 'lambda3': 1.2283741033630617}. Best is trial 40 with value: 5.466886047657341.\u001b[0m\n",
      "\u001b[32m[I 2021-04-26 15:46:03,621]\u001b[0m Trial 177 finished with value: 5.534122933018968 and parameters: {'lambda1': 0.12680459597637403, 'lambda2': 0.26416491351526306, 'lambda3': 1.3058067656763304}. Best is trial 40 with value: 5.466886047657341.\u001b[0m\n",
      "\u001b[32m[I 2021-04-26 15:46:28,113]\u001b[0m Trial 178 finished with value: 5.481370450820956 and parameters: {'lambda1': 0.0678580310637896, 'lambda2': 0.19964232486683586, 'lambda3': 0.9915302498734138}. Best is trial 40 with value: 5.466886047657341.\u001b[0m\n",
      "\u001b[32m[I 2021-04-26 15:46:55,092]\u001b[0m Trial 179 finished with value: 5.477520788803974 and parameters: {'lambda1': 0.046485937387712735, 'lambda2': 0.28628077613611297, 'lambda3': 1.1723144284314018}. Best is trial 40 with value: 5.466886047657341.\u001b[0m\n",
      "\u001b[32m[I 2021-04-26 15:47:21,532]\u001b[0m Trial 180 finished with value: 5.538719015350738 and parameters: {'lambda1': 0.09890747487758475, 'lambda2': 0.2506914905642874, 'lambda3': 1.6209051044483904}. Best is trial 40 with value: 5.466886047657341.\u001b[0m\n",
      "\u001b[32m[I 2021-04-26 15:47:48,702]\u001b[0m Trial 181 finished with value: 5.47149375158103 and parameters: {'lambda1': 0.08017894520583586, 'lambda2': 0.22330988093565735, 'lambda3': 1.2819459780692528}. Best is trial 40 with value: 5.466886047657341.\u001b[0m\n",
      "\u001b[32m[I 2021-04-26 15:48:12,456]\u001b[0m Trial 182 finished with value: 5.468176854286552 and parameters: {'lambda1': 0.0716773244725864, 'lambda2': 0.209966575243941, 'lambda3': 1.2549726888481503}. Best is trial 40 with value: 5.466886047657341.\u001b[0m\n",
      "\u001b[32m[I 2021-04-26 15:48:36,995]\u001b[0m Trial 183 finished with value: 5.470512499161282 and parameters: {'lambda1': 0.05929332160259264, 'lambda2': 0.18052794422477092, 'lambda3': 1.4732547617540368}. Best is trial 40 with value: 5.466886047657341.\u001b[0m\n",
      "\u001b[32m[I 2021-04-26 15:48:59,374]\u001b[0m Trial 184 finished with value: 5.472165343600934 and parameters: {'lambda1': 0.11307783625728246, 'lambda2': 0.15065647341268618, 'lambda3': 1.1606243775656104}. Best is trial 40 with value: 5.466886047657341.\u001b[0m\n",
      "\u001b[32m[I 2021-04-26 15:49:21,768]\u001b[0m Trial 185 finished with value: 5.565536140794307 and parameters: {'lambda1': 0.027029056012128738, 'lambda2': 0.23568194636840994, 'lambda3': 1.2207527996265566}. Best is trial 40 with value: 5.466886047657341.\u001b[0m\n",
      "\u001b[32m[I 2021-04-26 15:49:43,799]\u001b[0m Trial 186 finished with value: 5.489715285282971 and parameters: {'lambda1': 0.08567833414374074, 'lambda2': 0.3024553727004176, 'lambda3': 1.2570689945037887}. Best is trial 40 with value: 5.466886047657341.\u001b[0m\n",
      "\u001b[32m[I 2021-04-26 15:50:07,244]\u001b[0m Trial 187 finished with value: 5.575015929332029 and parameters: {'lambda1': 0.046151514210419395, 'lambda2': 0.10833355174119924, 'lambda3': 1.0958221109566395}. Best is trial 40 with value: 5.466886047657341.\u001b[0m\n",
      "\u001b[32m[I 2021-04-26 15:50:28,923]\u001b[0m Trial 188 finished with value: 5.5024450774718545 and parameters: {'lambda1': 0.09920532776636393, 'lambda2': 0.2682798630650654, 'lambda3': 1.316111472716785}. Best is trial 40 with value: 5.466886047657341.\u001b[0m\n",
      "\u001b[32m[I 2021-04-26 15:50:52,016]\u001b[0m Trial 189 finished with value: 5.4957112857315975 and parameters: {'lambda1': 0.0658920436569462, 'lambda2': 0.2098266806222338, 'lambda3': 0.8344017557883796}. Best is trial 40 with value: 5.466886047657341.\u001b[0m\n",
      "\u001b[32m[I 2021-04-26 15:51:14,707]\u001b[0m Trial 190 finished with value: 5.576219516965226 and parameters: {'lambda1': 0.12996752429483605, 'lambda2': 0.2543770396093519, 'lambda3': 1.5439395312632}. Best is trial 40 with value: 5.466886047657341.\u001b[0m\n",
      "\u001b[32m[I 2021-04-26 15:51:36,446]\u001b[0m Trial 191 finished with value: 5.468072021165994 and parameters: {'lambda1': 0.0744179266453536, 'lambda2': 0.21771067243213887, 'lambda3': 1.2018210127807047}. Best is trial 40 with value: 5.466886047657341.\u001b[0m\n",
      "\u001b[32m[I 2021-04-26 15:51:57,347]\u001b[0m Trial 192 finished with value: 5.46819360535189 and parameters: {'lambda1': 0.07527825277428316, 'lambda2': 0.22383853284087568, 'lambda3': 1.205651640772526}. Best is trial 40 with value: 5.466886047657341.\u001b[0m\n",
      "\u001b[32m[I 2021-04-26 15:52:18,847]\u001b[0m Trial 193 finished with value: 5.468509871026632 and parameters: {'lambda1': 0.08230433480783331, 'lambda2': 0.20417126432339178, 'lambda3': 1.189192814863952}. Best is trial 40 with value: 5.466886047657341.\u001b[0m\n",
      "\u001b[32m[I 2021-04-26 15:52:40,794]\u001b[0m Trial 194 finished with value: 5.469406657753308 and parameters: {'lambda1': 0.07355415421100814, 'lambda2': 0.189140304861509, 'lambda3': 1.2074766676293167}. Best is trial 40 with value: 5.466886047657341.\u001b[0m\n",
      "\u001b[32m[I 2021-04-26 15:53:02,461]\u001b[0m Trial 195 finished with value: 5.471454413050671 and parameters: {'lambda1': 0.08732046587350258, 'lambda2': 0.2286089504327175, 'lambda3': 1.176447115895547}. Best is trial 40 with value: 5.466886047657341.\u001b[0m\n",
      "\u001b[32m[I 2021-04-26 15:53:25,445]\u001b[0m Trial 196 finished with value: 5.492144538104395 and parameters: {'lambda1': 0.06061240278042781, 'lambda2': 0.16385916384687046, 'lambda3': 1.1217667499625816}. Best is trial 40 with value: 5.466886047657341.\u001b[0m\n",
      "\u001b[32m[I 2021-04-26 15:53:48,156]\u001b[0m Trial 197 finished with value: 5.488753629652417 and parameters: {'lambda1': 0.11348156237604837, 'lambda2': 0.20663265712869514, 'lambda3': 1.2390197511143168}. Best is trial 40 with value: 5.466886047657341.\u001b[0m\n",
      "\u001b[32m[I 2021-04-26 15:54:10,089]\u001b[0m Trial 198 finished with value: 5.741049254889118 and parameters: {'lambda1': 0.016709167445700376, 'lambda2': 0.1850030402208589, 'lambda3': 1.1938629351511256}. Best is trial 40 with value: 5.466886047657341.\u001b[0m\n",
      "\u001b[32m[I 2021-04-26 15:54:31,019]\u001b[0m Trial 199 finished with value: 5.564066862062282 and parameters: {'lambda1': 0.08389877512838531, 'lambda2': 0.5614348497148177, 'lambda3': 1.2647820980812639}. Best is trial 40 with value: 5.466886047657341.\u001b[0m\n",
      "\u001b[32m[I 2021-04-26 15:54:53,886]\u001b[0m Trial 200 finished with value: 5.579236721215103 and parameters: {'lambda1': 0.04036740986726797, 'lambda2': 0.12557957652691948, 'lambda3': 1.1555870642328954}. Best is trial 40 with value: 5.466886047657341.\u001b[0m\n",
      "\u001b[32m[I 2021-04-26 15:55:15,466]\u001b[0m Trial 201 finished with value: 5.480640372731693 and parameters: {'lambda1': 0.10052632506918988, 'lambda2': 0.2187497522481652, 'lambda3': 1.2270117229390938}. Best is trial 40 with value: 5.466886047657341.\u001b[0m\n",
      "\u001b[32m[I 2021-04-26 15:55:41,425]\u001b[0m Trial 202 finished with value: 5.471221703517615 and parameters: {'lambda1': 0.07618020814138375, 'lambda2': 0.24798201383413584, 'lambda3': 1.2526459591769814}. Best is trial 40 with value: 5.466886047657341.\u001b[0m\n",
      "\u001b[32m[I 2021-04-26 15:56:08,452]\u001b[0m Trial 203 finished with value: 5.479034984693196 and parameters: {'lambda1': 0.1103118825453176, 'lambda2': 0.23415262438996085, 'lambda3': 1.055497107120906}. Best is trial 40 with value: 5.466886047657341.\u001b[0m\n",
      "\u001b[32m[I 2021-04-26 15:56:33,714]\u001b[0m Trial 204 finished with value: 5.471275691342305 and parameters: {'lambda1': 0.06660453947478469, 'lambda2': 0.200792058557072, 'lambda3': 1.1983197678870015}. Best is trial 40 with value: 5.466886047657341.\u001b[0m\n",
      "\u001b[32m[I 2021-04-26 15:56:59,332]\u001b[0m Trial 205 finished with value: 5.477052239793559 and parameters: {'lambda1': 0.1385402623505767, 'lambda2': 0.17375997601411536, 'lambda3': 0.9035946452322288}. Best is trial 40 with value: 5.466886047657341.\u001b[0m\n",
      "\u001b[32m[I 2021-04-26 15:57:25,160]\u001b[0m Trial 206 finished with value: 5.621653738857967 and parameters: {'lambda1': 0.10013836336190259, 'lambda2': 0.6134958132667568, 'lambda3': 1.2835231393711863}. Best is trial 40 with value: 5.466886047657341.\u001b[0m\n",
      "\u001b[32m[I 2021-04-26 15:57:48,292]\u001b[0m Trial 207 finished with value: 5.4803461887927 and parameters: {'lambda1': 0.05704790428675706, 'lambda2': 0.21809288729973642, 'lambda3': 1.1291525585075026}. Best is trial 40 with value: 5.466886047657341.\u001b[0m\n",
      "\u001b[32m[I 2021-04-26 15:58:11,688]\u001b[0m Trial 208 finished with value: 5.469570185988976 and parameters: {'lambda1': 0.08421033538190673, 'lambda2': 0.2685017695734035, 'lambda3': 0.8465413260695754}. Best is trial 40 with value: 5.466886047657341.\u001b[0m\n",
      "\u001b[32m[I 2021-04-26 15:58:35,783]\u001b[0m Trial 209 finished with value: 5.4992349108656935 and parameters: {'lambda1': 0.039470820443998286, 'lambda2': 0.2395986917753423, 'lambda3': 1.2369829983366993}. Best is trial 40 with value: 5.466886047657341.\u001b[0m\n",
      "\u001b[32m[I 2021-04-26 15:58:59,167]\u001b[0m Trial 210 finished with value: 5.4999916701352225 and parameters: {'lambda1': 0.12338333647946875, 'lambda2': 0.19775843830674097, 'lambda3': 1.2974888130950413}. Best is trial 40 with value: 5.466886047657341.\u001b[0m\n",
      "\u001b[32m[I 2021-04-26 15:59:26,033]\u001b[0m Trial 211 finished with value: 5.533055303563231 and parameters: {'lambda1': 0.06528305518653148, 'lambda2': 0.29360015761665537, 'lambda3': 1.8091419648545983}. Best is trial 40 with value: 5.466886047657341.\u001b[0m\n",
      "\u001b[32m[I 2021-04-26 15:59:50,391]\u001b[0m Trial 212 finished with value: 5.475854057742247 and parameters: {'lambda1': 0.04856076672573298, 'lambda2': 0.279095175641211, 'lambda3': 1.174239199427435}. Best is trial 40 with value: 5.466886047657341.\u001b[0m\n",
      "\u001b[32m[I 2021-04-26 16:00:11,302]\u001b[0m Trial 213 finished with value: 5.895068949455477 and parameters: {'lambda1': 0.6010832229926406, 'lambda2': 0.3157274566579173, 'lambda3': 0.8189453070118862}. Best is trial 40 with value: 5.466886047657341.\u001b[0m\n",
      "\u001b[32m[I 2021-04-26 16:00:32,991]\u001b[0m Trial 214 finished with value: 5.518698096184266 and parameters: {'lambda1': 0.09082050755546386, 'lambda2': 0.6756126258944841, 'lambda3': 0.9526814278761688}. Best is trial 40 with value: 5.466886047657341.\u001b[0m\n",
      "\u001b[32m[I 2021-04-26 16:00:52,876]\u001b[0m Trial 215 finished with value: 5.479608098589204 and parameters: {'lambda1': 0.07610444477235975, 'lambda2': 0.6508624732557958, 'lambda3': 0.8598145381462022}. Best is trial 40 with value: 5.466886047657341.\u001b[0m\n",
      "\u001b[32m[I 2021-04-26 16:01:14,829]\u001b[0m Trial 216 finished with value: 5.571582129556109 and parameters: {'lambda1': 0.02127533172130587, 'lambda2': 0.25673197565406614, 'lambda3': 1.3553625151859343}. Best is trial 40 with value: 5.466886047657341.\u001b[0m\n",
      "\u001b[32m[I 2021-04-26 16:01:40,666]\u001b[0m Trial 217 finished with value: 5.791991451210087 and parameters: {'lambda1': 0.41424909333447824, 'lambda2': 0.22777135246282015, 'lambda3': 1.2042710865558302}. Best is trial 40 with value: 5.466886047657341.\u001b[0m\n",
      "\u001b[32m[I 2021-04-26 16:02:03,475]\u001b[0m Trial 218 finished with value: 5.499226800879538 and parameters: {'lambda1': 0.046573408258803295, 'lambda2': 0.329017569670212, 'lambda3': 0.8928828087303564}. Best is trial 40 with value: 5.466886047657341.\u001b[0m\n",
      "\u001b[32m[I 2021-04-26 16:02:26,488]\u001b[0m Trial 219 finished with value: 5.4689041079828 and parameters: {'lambda1': 0.09855006771542374, 'lambda2': 0.28758498215134215, 'lambda3': 0.7842728218719734}. Best is trial 40 with value: 5.466886047657341.\u001b[0m\n",
      "\u001b[32m[I 2021-04-26 16:02:50,201]\u001b[0m Trial 220 finished with value: 5.502944903614972 and parameters: {'lambda1': 0.0574357253950975, 'lambda2': 0.20269116398412168, 'lambda3': 0.9336401338912043}. Best is trial 40 with value: 5.466886047657341.\u001b[0m\n",
      "\u001b[32m[I 2021-04-26 16:03:14,773]\u001b[0m Trial 221 finished with value: 5.469508268020547 and parameters: {'lambda1': 0.09971958346209986, 'lambda2': 0.29718488175538604, 'lambda3': 0.8162100255177398}. Best is trial 40 with value: 5.466886047657341.\u001b[0m\n",
      "\u001b[32m[I 2021-04-26 16:03:38,071]\u001b[0m Trial 222 finished with value: 5.471570408813556 and parameters: {'lambda1': 0.08295267378936572, 'lambda2': 0.2794250068261946, 'lambda3': 0.7857584710809485}. Best is trial 40 with value: 5.466886047657341.\u001b[0m\n",
      "\u001b[32m[I 2021-04-26 16:04:00,595]\u001b[0m Trial 223 finished with value: 5.507294590865106 and parameters: {'lambda1': 0.11400936102875561, 'lambda2': 0.26076079550836373, 'lambda3': 1.2396411294033074}. Best is trial 40 with value: 5.466886047657341.\u001b[0m\n",
      "\u001b[32m[I 2021-04-26 16:04:23,719]\u001b[0m Trial 224 finished with value: 5.47486658009916 and parameters: {'lambda1': 0.07167107050334193, 'lambda2': 0.30697929990588896, 'lambda3': 0.8021272076441495}. Best is trial 40 with value: 5.466886047657341.\u001b[0m\n",
      "\u001b[32m[I 2021-04-26 16:04:50,190]\u001b[0m Trial 225 finished with value: 5.468936145413737 and parameters: {'lambda1': 0.09972267036065921, 'lambda2': 0.23477973885000594, 'lambda3': 0.859957405560642}. Best is trial 40 with value: 5.466886047657341.\u001b[0m\n",
      "\u001b[32m[I 2021-04-26 16:05:14,144]\u001b[0m Trial 226 finished with value: 5.4887473017608075 and parameters: {'lambda1': 0.04103006682087842, 'lambda2': 0.2889876066298659, 'lambda3': 1.1558694225518673}. Best is trial 40 with value: 5.466886047657341.\u001b[0m\n",
      "\u001b[32m[I 2021-04-26 16:05:36,471]\u001b[0m Trial 227 finished with value: 5.472693244167021 and parameters: {'lambda1': 0.07838351464170966, 'lambda2': 0.34145897263125913, 'lambda3': 0.7239842896734817}. Best is trial 40 with value: 5.466886047657341.\u001b[0m\n",
      "\u001b[32m[I 2021-04-26 16:05:59,656]\u001b[0m Trial 228 finished with value: 5.508813123899506 and parameters: {'lambda1': 0.1206490677295188, 'lambda2': 0.2530179491910509, 'lambda3': 1.2156086091104708}. Best is trial 40 with value: 5.466886047657341.\u001b[0m\n",
      "\u001b[32m[I 2021-04-26 16:06:27,628]\u001b[0m Trial 229 finished with value: 5.485126433942684 and parameters: {'lambda1': 0.06321438339876453, 'lambda2': 0.20883828110497904, 'lambda3': 0.990347746763764}. Best is trial 40 with value: 5.466886047657341.\u001b[0m\n",
      "\u001b[32m[I 2021-04-26 16:06:58,449]\u001b[0m Trial 230 finished with value: 5.520319596287006 and parameters: {'lambda1': 0.029695609236993048, 'lambda2': 0.6908924261001624, 'lambda3': 0.7792337970284541}. Best is trial 40 with value: 5.466886047657341.\u001b[0m\n",
      "\u001b[32m[I 2021-04-26 16:07:31,257]\u001b[0m Trial 231 finished with value: 5.4698796663944815 and parameters: {'lambda1': 0.09247817564955733, 'lambda2': 0.22819448414675852, 'lambda3': 0.8441877129891673}. Best is trial 40 with value: 5.466886047657341.\u001b[0m\n",
      "\u001b[32m[I 2021-04-26 16:08:01,462]\u001b[0m Trial 232 finished with value: 5.469403163996463 and parameters: {'lambda1': 0.10286197777228992, 'lambda2': 0.2428706786980675, 'lambda3': 0.8655508227087203}. Best is trial 40 with value: 5.466886047657341.\u001b[0m\n",
      "\u001b[32m[I 2021-04-26 16:08:25,507]\u001b[0m Trial 233 finished with value: 5.470146650427971 and parameters: {'lambda1': 0.09793420039625618, 'lambda2': 0.18971994949730617, 'lambda3': 0.8843547830139247}. Best is trial 40 with value: 5.466886047657341.\u001b[0m\n",
      "\u001b[32m[I 2021-04-26 16:08:47,167]\u001b[0m Trial 234 finished with value: 5.494285609721998 and parameters: {'lambda1': 0.1495651859019555, 'lambda2': 0.27241020176810754, 'lambda3': 0.8227677351961202}. Best is trial 40 with value: 5.466886047657341.\u001b[0m\n",
      "\u001b[32m[I 2021-04-26 16:09:07,310]\u001b[0m Trial 235 finished with value: 5.492978673587281 and parameters: {'lambda1': 0.0599040461824324, 'lambda2': 0.22837705349060577, 'lambda3': 0.9104033845661341}. Best is trial 40 with value: 5.466886047657341.\u001b[0m\n",
      "\u001b[32m[I 2021-04-26 16:09:26,986]\u001b[0m Trial 236 finished with value: 5.4784671243031395 and parameters: {'lambda1': 0.08511746143844663, 'lambda2': 0.17719488210272466, 'lambda3': 0.8599869382966485}. Best is trial 40 with value: 5.466886047657341.\u001b[0m\n",
      "\u001b[32m[I 2021-04-26 16:09:47,968]\u001b[0m Trial 237 finished with value: 5.500789214880445 and parameters: {'lambda1': 0.12068544580151964, 'lambda2': 0.21417718925803608, 'lambda3': 1.268924240623598}. Best is trial 40 with value: 5.466886047657341.\u001b[0m\n",
      "\u001b[32m[I 2021-04-26 16:10:09,615]\u001b[0m Trial 238 finished with value: 5.469192110585905 and parameters: {'lambda1': 0.07528513965297971, 'lambda2': 0.15600953858701566, 'lambda3': 1.392280184042081}. Best is trial 40 with value: 5.466886047657341.\u001b[0m\n",
      "\u001b[32m[I 2021-04-26 16:10:33,133]\u001b[0m Trial 239 finished with value: 5.567527563762108 and parameters: {'lambda1': 0.10260010498739763, 'lambda2': 0.7150301756794515, 'lambda3': 1.029005959522907}. Best is trial 40 with value: 5.466886047657341.\u001b[0m\n",
      "\u001b[32m[I 2021-04-26 16:10:55,457]\u001b[0m Trial 240 finished with value: 5.4682729384264634 and parameters: {'lambda1': 0.05124532272067667, 'lambda2': 0.3197595427166683, 'lambda3': 1.197778633763382}. Best is trial 40 with value: 5.466886047657341.\u001b[0m\n",
      "\u001b[32m[I 2021-04-26 16:11:21,592]\u001b[0m Trial 241 finished with value: 5.467747975004404 and parameters: {'lambda1': 0.05596140619912531, 'lambda2': 0.3054288163914722, 'lambda3': 1.1852485643428883}. Best is trial 40 with value: 5.466886047657341.\u001b[0m\n",
      "\u001b[32m[I 2021-04-26 16:11:44,158]\u001b[0m Trial 242 finished with value: 5.4684690397938205 and parameters: {'lambda1': 0.05147357339090055, 'lambda2': 0.32741059075655304, 'lambda3': 1.1666470341926318}. Best is trial 40 with value: 5.466886047657341.\u001b[0m\n",
      "\u001b[32m[I 2021-04-26 16:12:08,778]\u001b[0m Trial 243 finished with value: 5.472267872088314 and parameters: {'lambda1': 0.04544019861873974, 'lambda2': 0.3189896527347726, 'lambda3': 1.1974367019865124}. Best is trial 40 with value: 5.466886047657341.\u001b[0m\n",
      "\u001b[32m[I 2021-04-26 16:12:32,567]\u001b[0m Trial 244 finished with value: 5.519403206099773 and parameters: {'lambda1': 0.02703262126844596, 'lambda2': 0.3517757756027463, 'lambda3': 1.1689986405974857}. Best is trial 40 with value: 5.466886047657341.\u001b[0m\n",
      "\u001b[32m[I 2021-04-26 16:12:54,815]\u001b[0m Trial 245 finished with value: 5.4680297793851205 and parameters: {'lambda1': 0.051287824566825665, 'lambda2': 0.3317083547887876, 'lambda3': 1.1801132512869372}. Best is trial 40 with value: 5.466886047657341.\u001b[0m\n",
      "\u001b[32m[I 2021-04-26 16:13:16,453]\u001b[0m Trial 246 finished with value: 5.470532927616449 and parameters: {'lambda1': 0.06170022174489395, 'lambda2': 0.3587069588949685, 'lambda3': 1.1831679443257785}. Best is trial 40 with value: 5.466886047657341.\u001b[0m\n",
      "\u001b[32m[I 2021-04-26 16:13:39,309]\u001b[0m Trial 247 finished with value: 5.468021606084911 and parameters: {'lambda1': 0.052075490663072474, 'lambda2': 0.3121179940749239, 'lambda3': 1.2170688895575605}. Best is trial 40 with value: 5.466886047657341.\u001b[0m\n",
      "\u001b[32m[I 2021-04-26 16:14:01,607]\u001b[0m Trial 248 finished with value: 5.467684997462969 and parameters: {'lambda1': 0.05388343846876337, 'lambda2': 0.3390803580409206, 'lambda3': 1.2256504998541353}. Best is trial 40 with value: 5.466886047657341.\u001b[0m\n",
      "\u001b[32m[I 2021-04-26 16:14:26,050]\u001b[0m Trial 249 finished with value: 5.955082047505888 and parameters: {'lambda1': 0.005187519670763696, 'lambda2': 0.33573238748350903, 'lambda3': 1.2288545103683737}. Best is trial 40 with value: 5.466886047657341.\u001b[0m\n",
      "\u001b[32m[I 2021-04-26 16:14:48,960]\u001b[0m Trial 250 finished with value: 5.511054364561599 and parameters: {'lambda1': 0.03155072145804641, 'lambda2': 0.32602979427340867, 'lambda3': 1.140005362565374}. Best is trial 40 with value: 5.466886047657341.\u001b[0m\n",
      "\u001b[32m[I 2021-04-26 16:15:13,254]\u001b[0m Trial 251 finished with value: 5.467674830893818 and parameters: {'lambda1': 0.052158438589158265, 'lambda2': 0.3653511079338869, 'lambda3': 1.210371390705617}. Best is trial 40 with value: 5.466886047657341.\u001b[0m\n",
      "\u001b[32m[I 2021-04-26 16:15:38,297]\u001b[0m Trial 252 finished with value: 5.467535044253314 and parameters: {'lambda1': 0.04986587564871167, 'lambda2': 0.37944426672023696, 'lambda3': 1.2121494577331118}. Best is trial 40 with value: 5.466886047657341.\u001b[0m\n",
      "\u001b[32m[I 2021-04-26 16:16:02,397]\u001b[0m Trial 253 finished with value: 5.5369412247683165 and parameters: {'lambda1': 0.02171034898048818, 'lambda2': 0.35493512092802537, 'lambda3': 1.2503148958364698}. Best is trial 40 with value: 5.466886047657341.\u001b[0m\n",
      "\u001b[32m[I 2021-04-26 16:16:25,110]\u001b[0m Trial 254 finished with value: 5.467968126727934 and parameters: {'lambda1': 0.04912006286828787, 'lambda2': 0.3965830735276638, 'lambda3': 1.2200208209705226}. Best is trial 40 with value: 5.466886047657341.\u001b[0m\n",
      "\u001b[32m[I 2021-04-26 16:16:51,286]\u001b[0m Trial 255 finished with value: 5.467387917833476 and parameters: {'lambda1': 0.04728010949975797, 'lambda2': 0.3770892060330996, 'lambda3': 1.2263649239631482}. Best is trial 40 with value: 5.466886047657341.\u001b[0m\n",
      "\u001b[32m[I 2021-04-26 16:17:14,702]\u001b[0m Trial 256 finished with value: 5.467585140589612 and parameters: {'lambda1': 0.0450600066689557, 'lambda2': 0.38445078470220967, 'lambda3': 1.2618548827748328}. Best is trial 40 with value: 5.466886047657341.\u001b[0m\n",
      "\u001b[32m[I 2021-04-26 16:17:39,279]\u001b[0m Trial 257 finished with value: 5.839262411603683 and parameters: {'lambda1': 0.006257335593153668, 'lambda2': 0.3848429353995419, 'lambda3': 1.2614057583373837}. Best is trial 40 with value: 5.466886047657341.\u001b[0m\n",
      "\u001b[32m[I 2021-04-26 16:18:04,590]\u001b[0m Trial 258 finished with value: 5.475295178125145 and parameters: {'lambda1': 0.03440037674240484, 'lambda2': 0.3950628079403465, 'lambda3': 1.2282871221376124}. Best is trial 40 with value: 5.466886047657341.\u001b[0m\n",
      "\u001b[32m[I 2021-04-26 16:18:27,706]\u001b[0m Trial 259 finished with value: 5.617226778217706 and parameters: {'lambda1': 0.011888657435099294, 'lambda2': 0.4133048547516818, 'lambda3': 1.3056853487226308}. Best is trial 40 with value: 5.466886047657341.\u001b[0m\n",
      "\u001b[32m[I 2021-04-26 16:18:49,628]\u001b[0m Trial 260 finished with value: 5.467567628780372 and parameters: {'lambda1': 0.04520557631785306, 'lambda2': 0.3753348610562206, 'lambda3': 1.2643232061783716}. Best is trial 40 with value: 5.466886047657341.\u001b[0m\n",
      "\u001b[32m[I 2021-04-26 16:19:10,722]\u001b[0m Trial 261 finished with value: 5.469768921300896 and parameters: {'lambda1': 0.04185168995901062, 'lambda2': 0.37189324678099084, 'lambda3': 1.2104487138788231}. Best is trial 40 with value: 5.466886047657341.\u001b[0m\n",
      "\u001b[32m[I 2021-04-26 16:19:32,065]\u001b[0m Trial 262 finished with value: 5.564402645212306 and parameters: {'lambda1': 0.01726373094666376, 'lambda2': 0.40043519579454173, 'lambda3': 1.2309144543080763}. Best is trial 40 with value: 5.466886047657341.\u001b[0m\n",
      "\u001b[32m[I 2021-04-26 16:19:57,118]\u001b[0m Trial 263 finished with value: 5.470295348258224 and parameters: {'lambda1': 0.04879932864384075, 'lambda2': 0.39245408857847836, 'lambda3': 1.2904263830501492}. Best is trial 40 with value: 5.466886047657341.\u001b[0m\n",
      "\u001b[32m[I 2021-04-26 16:20:24,364]\u001b[0m Trial 264 finished with value: 5.485479357417048 and parameters: {'lambda1': 0.031031567027634245, 'lambda2': 0.3687401033097887, 'lambda3': 1.2495624637530531}. Best is trial 40 with value: 5.466886047657341.\u001b[0m\n",
      "\u001b[32m[I 2021-04-26 16:20:47,334]\u001b[0m Trial 265 finished with value: 5.468140264532117 and parameters: {'lambda1': 0.054549989072323765, 'lambda2': 0.37247151143413076, 'lambda3': 1.1904102512250128}. Best is trial 40 with value: 5.466886047657341.\u001b[0m\n",
      "\u001b[32m[I 2021-04-26 16:21:13,180]\u001b[0m Trial 266 finished with value: 6.7599601463417285 and parameters: {'lambda1': 0.0001447220676841221, 'lambda2': 0.42764924291315837, 'lambda3': 1.1890751633802878}. Best is trial 40 with value: 5.466886047657341.\u001b[0m\n",
      "\u001b[32m[I 2021-04-26 16:21:41,146]\u001b[0m Trial 267 finished with value: 5.468552116849301 and parameters: {'lambda1': 0.05691208204518336, 'lambda2': 0.35263714172679045, 'lambda3': 1.2040718322424828}. Best is trial 40 with value: 5.466886047657341.\u001b[0m\n",
      "\u001b[32m[I 2021-04-26 16:22:05,867]\u001b[0m Trial 268 finished with value: 5.473915960156575 and parameters: {'lambda1': 0.040536913093597075, 'lambda2': 0.3754059690761469, 'lambda3': 1.1533242651378157}. Best is trial 40 with value: 5.466886047657341.\u001b[0m\n",
      "\u001b[32m[I 2021-04-26 16:22:30,003]\u001b[0m Trial 269 finished with value: 5.467093604909246 and parameters: {'lambda1': 0.0522333959195796, 'lambda2': 0.3841225379694979, 'lambda3': 1.1214714137897541}. Best is trial 40 with value: 5.466886047657341.\u001b[0m\n",
      "\u001b[32m[I 2021-04-26 16:22:51,431]\u001b[0m Trial 270 finished with value: 5.529454358274746 and parameters: {'lambda1': 0.021875479319607292, 'lambda2': 0.4113290204088774, 'lambda3': 1.1808000432811723}. Best is trial 40 with value: 5.466886047657341.\u001b[0m\n",
      "\u001b[32m[I 2021-04-26 16:23:15,564]\u001b[0m Trial 271 finished with value: 5.467153294003799 and parameters: {'lambda1': 0.05422141591398919, 'lambda2': 0.38409358701877594, 'lambda3': 1.128698149363856}. Best is trial 40 with value: 5.466886047657341.\u001b[0m\n",
      "\u001b[32m[I 2021-04-26 16:23:36,783]\u001b[0m Trial 272 finished with value: 5.468010627760215 and parameters: {'lambda1': 0.052111910925302145, 'lambda2': 0.3683407663366213, 'lambda3': 1.0914970671929194}. Best is trial 40 with value: 5.466886047657341.\u001b[0m\n",
      "\u001b[32m[I 2021-04-26 16:23:58,118]\u001b[0m Trial 273 finished with value: 6.143729912257013 and parameters: {'lambda1': 0.002970969584588583, 'lambda2': 0.3836828601437922, 'lambda3': 1.130043548244627}. Best is trial 40 with value: 5.466886047657341.\u001b[0m\n",
      "\u001b[32m[I 2021-04-26 16:24:18,730]\u001b[0m Trial 274 finished with value: 5.499354342631651 and parameters: {'lambda1': 0.029718344989251404, 'lambda2': 0.38115898866017844, 'lambda3': 1.1583932096896892}. Best is trial 40 with value: 5.466886047657341.\u001b[0m\n",
      "\u001b[32m[I 2021-04-26 16:24:40,796]\u001b[0m Trial 275 finished with value: 5.467113812801744 and parameters: {'lambda1': 0.05755413068990242, 'lambda2': 0.3634175138089313, 'lambda3': 1.1001721238615025}. Best is trial 40 with value: 5.466886047657341.\u001b[0m\n",
      "\u001b[32m[I 2021-04-26 16:25:02,740]\u001b[0m Trial 276 finished with value: 5.469030463398856 and parameters: {'lambda1': 0.05069733525570044, 'lambda2': 0.36582613064562347, 'lambda3': 1.0850895175842201}. Best is trial 40 with value: 5.466886047657341.\u001b[0m\n",
      "\u001b[32m[I 2021-04-26 16:25:26,421]\u001b[0m Trial 277 finished with value: 5.492472896008202 and parameters: {'lambda1': 0.03334476055527682, 'lambda2': 0.3927812110099544, 'lambda3': 1.0993020440807653}. Best is trial 40 with value: 5.466886047657341.\u001b[0m\n",
      "\u001b[32m[I 2021-04-26 16:25:55,627]\u001b[0m Trial 278 finished with value: 5.46843762435078 and parameters: {'lambda1': 0.05550041301786805, 'lambda2': 0.347863004540143, 'lambda3': 1.0628820341507388}. Best is trial 40 with value: 5.466886047657341.\u001b[0m\n",
      "\u001b[32m[I 2021-04-26 16:26:24,152]\u001b[0m Trial 279 finished with value: 5.560165470590133 and parameters: {'lambda1': 0.020228846105322926, 'lambda2': 0.41509152650146913, 'lambda3': 1.1101162274309824}. Best is trial 40 with value: 5.466886047657341.\u001b[0m\n",
      "\u001b[32m[I 2021-04-26 16:26:50,632]\u001b[0m Trial 280 finished with value: 5.467173906242767 and parameters: {'lambda1': 0.05696260359863258, 'lambda2': 0.3609429985722909, 'lambda3': 1.120167959531061}. Best is trial 40 with value: 5.466886047657341.\u001b[0m\n",
      "\u001b[32m[I 2021-04-26 16:27:20,976]\u001b[0m Trial 281 finished with value: 5.473484534149254 and parameters: {'lambda1': 0.04384159941642201, 'lambda2': 0.3635857718599708, 'lambda3': 1.118519796014632}. Best is trial 40 with value: 5.466886047657341.\u001b[0m\n",
      "\u001b[32m[I 2021-04-26 16:27:48,532]\u001b[0m Trial 282 finished with value: 5.973497715301458 and parameters: {'lambda1': 0.005763788541508073, 'lambda2': 0.3420266139892474, 'lambda3': 1.0935900087988446}. Best is trial 40 with value: 5.466886047657341.\u001b[0m\n",
      "\u001b[32m[I 2021-04-26 16:28:13,186]\u001b[0m Trial 283 finished with value: 5.468082686767379 and parameters: {'lambda1': 0.059533036696227594, 'lambda2': 0.367460217629354, 'lambda3': 1.1335915764193392}. Best is trial 40 with value: 5.466886047657341.\u001b[0m\n",
      "\u001b[32m[I 2021-04-26 16:28:35,040]\u001b[0m Trial 284 finished with value: 6.6244699717614495 and parameters: {'lambda1': 0.00043989422298055386, 'lambda2': 0.3699519002918704, 'lambda3': 1.1431772854529836}. Best is trial 40 with value: 5.466886047657341.\u001b[0m\n",
      "\u001b[32m[I 2021-04-26 16:28:56,786]\u001b[0m Trial 285 finished with value: 5.4697369204784785 and parameters: {'lambda1': 0.059418317176176946, 'lambda2': 0.40472924409325917, 'lambda3': 1.1270279447898746}. Best is trial 40 with value: 5.466886047657341.\u001b[0m\n",
      "\u001b[32m[I 2021-04-26 16:29:17,669]\u001b[0m Trial 286 finished with value: 5.57500237805909 and parameters: {'lambda1': 0.02059911023389596, 'lambda2': 0.35259215567671187, 'lambda3': 1.1415163319248156}. Best is trial 40 with value: 5.466886047657341.\u001b[0m\n",
      "\u001b[32m[I 2021-04-26 16:29:38,635]\u001b[0m Trial 287 finished with value: 5.470423827049836 and parameters: {'lambda1': 0.04117221500059745, 'lambda2': 0.43317701795652597, 'lambda3': 1.1074810954638594}. Best is trial 40 with value: 5.466886047657341.\u001b[0m\n",
      "\u001b[32m[I 2021-04-26 16:30:00,771]\u001b[0m Trial 288 finished with value: 5.469427542491654 and parameters: {'lambda1': 0.058461087150823564, 'lambda2': 0.37780743624259416, 'lambda3': 1.1696049772435269}. Best is trial 40 with value: 5.466886047657341.\u001b[0m\n",
      "\u001b[32m[I 2021-04-26 16:30:22,517]\u001b[0m Trial 289 finished with value: 5.508178855215518 and parameters: {'lambda1': 0.03335198915066376, 'lambda2': 0.34207762381425766, 'lambda3': 1.0820883794154879}. Best is trial 40 with value: 5.466886047657341.\u001b[0m\n",
      "\u001b[32m[I 2021-04-26 16:30:46,615]\u001b[0m Trial 290 finished with value: 5.467418017823754 and parameters: {'lambda1': 0.06310406197281826, 'lambda2': 0.36503205117527443, 'lambda3': 1.0622932091410016}. Best is trial 40 with value: 5.466886047657341.\u001b[0m\n",
      "\u001b[32m[I 2021-04-26 16:31:10,111]\u001b[0m Trial 291 finished with value: 5.467057176340444 and parameters: {'lambda1': 0.05747930117793635, 'lambda2': 0.3836368968473907, 'lambda3': 1.079824071924645}. Best is trial 40 with value: 5.466886047657341.\u001b[0m\n",
      "\u001b[32m[I 2021-04-26 16:31:33,353]\u001b[0m Trial 292 finished with value: 5.466964864257848 and parameters: {'lambda1': 0.05574293440656267, 'lambda2': 0.3940206009080949, 'lambda3': 1.0669773885829605}. Best is trial 40 with value: 5.466886047657341.\u001b[0m\n",
      "\u001b[32m[I 2021-04-26 16:31:57,349]\u001b[0m Trial 293 finished with value: 5.592356016506247 and parameters: {'lambda1': 0.019847861386229813, 'lambda2': 0.39647448690678916, 'lambda3': 1.0407644625689445}. Best is trial 40 with value: 5.466886047657341.\u001b[0m\n",
      "\u001b[32m[I 2021-04-26 16:32:19,367]\u001b[0m Trial 294 finished with value: 5.472835433073852 and parameters: {'lambda1': 0.04395411241649913, 'lambda2': 0.3818472224586461, 'lambda3': 1.0957007120391073}. Best is trial 40 with value: 5.466886047657341.\u001b[0m\n",
      "\u001b[32m[I 2021-04-26 16:32:41,477]\u001b[0m Trial 295 finished with value: 5.467357546150158 and parameters: {'lambda1': 0.05027531138201298, 'lambda2': 0.4193851722947057, 'lambda3': 1.0636852538159887}. Best is trial 40 with value: 5.466886047657341.\u001b[0m\n",
      "\u001b[32m[I 2021-04-26 16:33:02,834]\u001b[0m Trial 296 finished with value: 6.749931311407918 and parameters: {'lambda1': 0.00019025611637578377, 'lambda2': 0.4423531766391058, 'lambda3': 1.056230339946145}. Best is trial 40 with value: 5.466886047657341.\u001b[0m\n",
      "\u001b[32m[I 2021-04-26 16:33:25,207]\u001b[0m Trial 297 finished with value: 5.523773032428464 and parameters: {'lambda1': 0.026518737025565245, 'lambda2': 0.4148378358224214, 'lambda3': 1.062971026400264}. Best is trial 40 with value: 5.466886047657341.\u001b[0m\n",
      "\u001b[32m[I 2021-04-26 16:33:47,941]\u001b[0m Trial 298 finished with value: 6.0462282787386625 and parameters: {'lambda1': 0.6900755533887398, 'lambda2': 0.46416586895261236, 'lambda3': 1.0668364771479864}. Best is trial 40 with value: 5.466886047657341.\u001b[0m\n",
      "\u001b[32m[I 2021-04-26 16:34:11,047]\u001b[0m Trial 299 finished with value: 5.467076469016206 and parameters: {'lambda1': 0.059390391016523575, 'lambda2': 0.4016936781846966, 'lambda3': 1.0416145916539412}. Best is trial 40 with value: 5.466886047657341.\u001b[0m\n"
     ]
    }
   ],
   "source": [
    "study = optuna.create_study(direction='minimize')\n",
    "study.optimize(objective, n_trials=300, timeout=14400)"
   ]
  },
  {
   "cell_type": "code",
   "execution_count": 14,
   "metadata": {},
   "outputs": [
    {
     "data": {
      "text/plain": [
       "{'lambda1': 0.049159220117571435,\n",
       " 'lambda2': 0.6612600699192859,\n",
       " 'lambda3': 0.8670388019897984}"
      ]
     },
     "execution_count": 14,
     "metadata": {},
     "output_type": "execute_result"
    }
   ],
   "source": [
    "study.best_params"
   ]
  },
  {
   "cell_type": "code",
   "execution_count": 15,
   "metadata": {},
   "outputs": [
    {
     "data": {
      "text/plain": [
       "5.466886047657341"
      ]
     },
     "execution_count": 15,
     "metadata": {},
     "output_type": "execute_result"
    }
   ],
   "source": [
    "study.best_value"
   ]
  },
  {
   "cell_type": "code",
   "execution_count": 16,
   "metadata": {},
   "outputs": [],
   "source": [
    "# save the corrected oof predictions\n",
    "inputs = zip(pred_inputs, delta_inputs)\n",
    "with Parallel(n_jobs=6) as parallel:\n",
    "    delayed_correct = delayed(correct_path)\n",
    "    corrected = parallel(\n",
    "        delayed_correct(wp, delta, **study.best_params)\n",
    "        for wp,delta in inputs\n",
    "    )\n",
    "corrected = pd.concat(corrected, ignore_index=True)"
   ]
  },
  {
   "cell_type": "code",
   "execution_count": 17,
   "metadata": {},
   "outputs": [
    {
     "data": {
      "text/plain": [
       "5.466886047657341"
      ]
     },
     "execution_count": 17,
     "metadata": {},
     "output_type": "execute_result"
    }
   ],
   "source": [
    "mean_position_error(labels, corrected)"
   ]
  },
  {
   "cell_type": "code",
   "execution_count": 18,
   "metadata": {},
   "outputs": [],
   "source": [
    "corrected.to_csv(f\"{input_path}/oof_preds_stg.csv\")"
   ]
  },
  {
   "cell_type": "markdown",
   "metadata": {
    "id": "hr363NMKBoJY"
   },
   "source": [
    "***"
   ]
  }
 ],
 "metadata": {
  "accelerator": "TPU",
  "colab": {
   "collapsed_sections": [],
   "machine_shape": "hm",
   "name": "iln-cm-tuning.ipynb",
   "provenance": []
  },
  "kernelspec": {
   "display_name": "Python 3",
   "language": "python",
   "name": "python3"
  },
  "language_info": {
   "codemirror_mode": {
    "name": "ipython",
    "version": 3
   },
   "file_extension": ".py",
   "mimetype": "text/x-python",
   "name": "python",
   "nbconvert_exporter": "python",
   "pygments_lexer": "ipython3",
   "version": "3.8.8"
  }
 },
 "nbformat": 4,
 "nbformat_minor": 4
}
